{
  "nbformat": 4,
  "nbformat_minor": 0,
  "metadata": {
    "colab": {
      "name": "WUM_img.ipynb",
      "provenance": [],
      "collapsed_sections": [],
      "toc_visible": true,
      "include_colab_link": true
    },
    "kernelspec": {
      "name": "python3",
      "display_name": "Python 3"
    },
    "accelerator": "GPU"
  },
  "cells": [
    {
      "cell_type": "markdown",
      "metadata": {
        "id": "view-in-github",
        "colab_type": "text"
      },
      "source": [
        "<a href=\"https://colab.research.google.com/github/gapself/pjatk/blob/main/WUM_obrazy.ipynb\" target=\"_parent\"><img src=\"https://colab.research.google.com/assets/colab-badge.svg\" alt=\"Open In Colab\"/></a>"
      ]
    },
    {
      "cell_type": "markdown",
      "metadata": {
        "id": "IImW6xGnwobW"
      },
      "source": [
        "# Praca domowa - obraz\n"
      ]
    },
    {
      "cell_type": "markdown",
      "source": [
        "# Nowa sekcja"
      ],
      "metadata": {
        "id": "pxZD-OIjbVTo"
      }
    },
    {
      "cell_type": "markdown",
      "metadata": {
        "id": "Eh7IOzAiR_00"
      },
      "source": [
        "Najpierw upewnijmy się, że pracujemy na GPU. \n",
        "\n",
        "* Włącz GPU (Runtime / Change runtime type)"
      ]
    },
    {
      "cell_type": "markdown",
      "metadata": {
        "id": "3qW-R-Zn3y5b"
      },
      "source": [
        "## MNIST\n",
        "\n"
      ]
    },
    {
      "cell_type": "markdown",
      "source": [
        "### Wczytanie i wizualizacja"
      ],
      "metadata": {
        "id": "725Tr9dOfTmr"
      }
    },
    {
      "cell_type": "markdown",
      "source": [
        "* Wczytaj dane mnist do zmiennych X_train, y_train, X_test, y_test.\n",
        "https://keras.io/datasets/"
      ],
      "metadata": {
        "id": "GlcBIlyQfPIM"
      }
    },
    {
      "cell_type": "code",
      "metadata": {
        "id": "j9NGgReMXoyK"
      },
      "source": [
        ""
      ],
      "execution_count": null,
      "outputs": []
    },
    {
      "cell_type": "markdown",
      "source": [
        "Teraz sprawdź i napisz:\n",
        "* ile mamy instancji treningowych:\n",
        "* ile mamy instancji testowych:\n",
        "* jakie są wymiary w pixelach jednego obrazka:\n",
        "* ile kanałów ma jeden obrazek:\n",
        "* ile bajtów zajmuje jeden piksel:\n",
        "* jaka jest minimalna i maksymalna wartość piksela:\n",
        "\n"
      ],
      "metadata": {
        "id": "Qtam0UK3HM4t"
      }
    },
    {
      "cell_type": "code",
      "source": [
        ""
      ],
      "metadata": {
        "id": "H6HW57bUKHEu"
      },
      "execution_count": null,
      "outputs": []
    },
    {
      "cell_type": "markdown",
      "metadata": {
        "id": "yZpZmpJpbr87"
      },
      "source": [
        "Świetnie, teraz: \n",
        "* Wyrysuj pierwsze 12 elementów zbioru treningowego.\n",
        "* Wypisz lub narysuj etykiety tych 12 elementów. \n",
        "\n",
        "[Tutaj są różne color mapy.](  \n",
        "https://matplotlib.org/examples/color/colormaps_reference.html), których możesz użyć w funkcji imshow.  "
      ]
    },
    {
      "cell_type": "code",
      "metadata": {
        "id": "nIh_CbLNcRLZ"
      },
      "source": [
        ""
      ],
      "execution_count": null,
      "outputs": []
    },
    {
      "cell_type": "markdown",
      "source": [
        "* Teraz narysuj swój numer studenta używając cyfr zbioru mnist. Jeśli Twój indeks to np. s12345, wyrysuj 5 obrazków z cyframi '1', '2', '3', '4' i '5' obok siebie. "
      ],
      "metadata": {
        "id": "Uu-4YcjdLt5g"
      }
    },
    {
      "cell_type": "code",
      "source": [
        ""
      ],
      "metadata": {
        "id": "nirtYlFgMgEY"
      },
      "execution_count": null,
      "outputs": []
    },
    {
      "cell_type": "markdown",
      "metadata": {
        "id": "0lOBeLJYcAGN"
      },
      "source": [
        "### Klasyfikacja CNN'em"
      ]
    },
    {
      "cell_type": "markdown",
      "metadata": {
        "id": "nlW4Jyg_A85O"
      },
      "source": [
        "####Przygotowanie danych"
      ]
    },
    {
      "cell_type": "markdown",
      "metadata": {
        "id": "s6hmMA0Tobxz"
      },
      "source": [
        "Przygotujmy nasze dane treningowe:\n",
        "* Przerób X_train i X_test tak, żeby wartości wszystkich pixeli były zawarte w przedziale <0,1>\n",
        "* Zmień typ naszych pixeli na 'float32'\n",
        "\n",
        "*Może się przydać metoda astype.*"
      ]
    },
    {
      "cell_type": "code",
      "metadata": {
        "id": "sVwm01xOoOBo"
      },
      "source": [
        ""
      ],
      "execution_count": null,
      "outputs": []
    },
    {
      "cell_type": "markdown",
      "metadata": {
        "id": "HQJvnE8NeDgT"
      },
      "source": [
        "Przygotowaliśmy dane treningowe, teraz jeszcze etykiety.  W tej chwili jest to wektor liczb - dla każdej instancji mamy jedną liczbę. Nasza sieć będzie miała na wyjściu 10 wartości (wynik dla każdej klasy), więc musimy przerobić nasze liczby do postaci one-hot. Jeśli klasy trzech instancji to np. [0, 3, 5], w postaci one-hot będziemy mieć na przykład coś takiego:  \n",
        "[1000000000]  \n",
        "[0001000000]  \n",
        "[0000010000]\n",
        "\n",
        "Możesz do tego użyć funkcji [to_categorical](https://keras.io/api/utils/python_utils/).\n",
        "\n",
        "* Przekonwertuj etykiety do postaci one-hot i wpisz wyniki do zmiennych Y_train i Y_test. \n",
        "* Wypisz 10 pierwszych elementów Y_train oraz y_train. \n",
        "* Napisz, jak w nowej postaci będą zapisane etykiety cyfr: 1, 2 i 4. \n",
        "* Wypisz kolejne cyfry swojego numeru indeksu używając powyższego zapisu. "
      ]
    },
    {
      "cell_type": "code",
      "metadata": {
        "id": "xQUGyHL2cLBp"
      },
      "source": [
        ""
      ],
      "execution_count": null,
      "outputs": []
    },
    {
      "cell_type": "markdown",
      "metadata": {
        "id": "x4s1Inr0BTaY"
      },
      "source": [
        "Pierwsze warstwy naszej sieci będą typu Conv2D. Przyjmują one dane instancji w postaci wielowymiarowych tablic. Nie spłaszczamy zatem danych do postaci wektora - jak musielibyśmy zrobić w przypatku SVM lub MLP. Zrobi to dopiero potem warstwa Flatten naszej sieci.  \n",
        "\n",
        "Przekazujemy sieci instancje w postaci szerokość x wysokość x liczba_kanałów (format 'channels_last', w przypdku formatu 'channels_first' tablica miałaby wymiary liczba_kanałów x szerokość x wysokość).\n",
        "\n",
        "* upewnij się, że działamy w trybie channels_last (keras.backend.image_data_format())\n",
        "* sprawdź jeszcze raz shape danych treningowych i testowych\n",
        "* jeśli brakuje nam ostatniego wymiaru, dodajmy go\n",
        "\n",
        "*np.expand_dims(X_train, -1) powinien nam dodać brakujący wymiar na końcu; opcjonalnie można użyć kodu z ćwiczeń*\n",
        "\n",
        " "
      ]
    },
    {
      "cell_type": "code",
      "source": [
        ""
      ],
      "metadata": {
        "id": "YKvRxllrQIFx"
      },
      "execution_count": null,
      "outputs": []
    },
    {
      "cell_type": "markdown",
      "metadata": {
        "id": "C_wFFlj0gNpP"
      },
      "source": [
        "#### Przygotowanie sieci\n",
        "\n",
        "Prawdopodobnie przydadzą nam się poniższe importy. \n",
        "```python\n",
        "from keras.models import Sequential\n",
        "from keras.layers import Dense, Flatten\n",
        "from keras.layers.convolutional import Conv2D, MaxPooling2D\n",
        "```"
      ]
    },
    {
      "cell_type": "code",
      "source": [
        ""
      ],
      "metadata": {
        "id": "JLL64i0Ditf3"
      },
      "execution_count": null,
      "outputs": []
    },
    {
      "cell_type": "markdown",
      "source": [
        "* Zbuduj sieć z takimi warstwami:\n",
        " * Na wejściu [Conv2D](https://keras.io/api/layers/convolution_layers/convolution2d/): 16 filtrów, kernel 3x3, padding 'same', activation [relu](https://cs-cheatsheet.readthedocs.io/en/latest/_images/activation_functions.png)\n",
        " * [MaxPooling2D](https://keras.io/api/layers/pooling_layers/max_pooling2d/): pool_size 2x2\n",
        " * Conv2D: 32 filtry, kernel 3x3, padding 'same', activation relu\n",
        " * MaxPooling2D: pool_size 2x2\n",
        " * [Flatten](https://keras.io/api/layers/reshaping_layers/flatten/) (spłaszczamy dane do 1-wymiarowego wektora)\n",
        " * Na wyjściu [Dense](https://keras.io/api/layers/core_layers/dense/), units tyle, co klas, [aktywacja softmax](https://qph.fs.quoracdn.net/main-qimg-fda2f008df90ed5d7b6aff89b881e1ac)\n",
        "\n",
        "Pierwsza warstwa będzie oczekiwać podania kształtu danych (input_shape). Czyli szerokość x wysokość x liczba kanałów. "
      ],
      "metadata": {
        "id": "b2rmxjLDVvoZ"
      }
    },
    {
      "cell_type": "code",
      "source": [
        ""
      ],
      "metadata": {
        "id": "dbQRBxQRVu1e"
      },
      "execution_count": null,
      "outputs": []
    },
    {
      "cell_type": "markdown",
      "source": [
        "* Sprawdź, jak wygląda Twoja sieć  \n",
        "Przyda się metoda model.summary i ewentualnie funkcja keras.utils.vis_utils.plot_model"
      ],
      "metadata": {
        "id": "Wgy6vzB_smoT"
      }
    },
    {
      "cell_type": "code",
      "source": [
        ""
      ],
      "metadata": {
        "id": "YMar0OmRtHfk"
      },
      "execution_count": null,
      "outputs": []
    },
    {
      "cell_type": "markdown",
      "source": [
        "* Spróbuj usunąć argument padding i napisz, co się zmieniło. \n",
        "* Przywróć padding. "
      ],
      "metadata": {
        "id": "R8jgVpESuO2U"
      }
    },
    {
      "cell_type": "markdown",
      "source": [
        "Odpowiedz na poniższe pytania: \n",
        "* Czy warstwa Conv2D się uczy w trakcie treningu?: \n",
        "* Czy warstwa MaxPooling2D się uczy w trakcie treningu?:\n",
        "* Dlaczego przed warstwą / warstwami Dense umieszczamy warstwę Flatten?:\n",
        "* Ile będziemy mieć kanałów / map aktywacji po przepuszczeniu obrazka przez pierwszą warstwę Conv2D naszej sieci?:\n"
      ],
      "metadata": {
        "id": "WQtBGHl-FYKj"
      }
    },
    {
      "cell_type": "markdown",
      "metadata": {
        "id": "m4w8gGsElbVG"
      },
      "source": [
        "Teraz:\n",
        "* Uruchom metodę compile: loss 'categorical_crossentropy', optimizer 'adam'. Argument metrics przyjmuje tablicę stringów, możemy tam np. śledzić 'accuracy'. "
      ]
    },
    {
      "cell_type": "code",
      "metadata": {
        "id": "3ki1a29Zl65r"
      },
      "source": [
        ""
      ],
      "execution_count": null,
      "outputs": []
    },
    {
      "cell_type": "markdown",
      "metadata": {
        "id": "7DEM-xKbmFNO"
      },
      "source": [
        "#### Trening\n",
        "* Wytrenuj sieć. 100 epok, batch_size 256."
      ]
    },
    {
      "cell_type": "code",
      "metadata": {
        "id": "m1DvkEW2JOA5"
      },
      "source": [
        ""
      ],
      "execution_count": null,
      "outputs": []
    },
    {
      "cell_type": "markdown",
      "metadata": {
        "id": "fgxalzmim4Hl"
      },
      "source": [
        "#### Ewaluacja\n",
        "* Zrób ewaluację naszego modelu na zbiorze treningowym i testowym (metoda evaluate). \n",
        "* Podaj wyniki dla obu zbiorów: \n",
        "* Czy wyniki się różnią? Dlaczego? "
      ]
    },
    {
      "cell_type": "code",
      "metadata": {
        "id": "HDCHLqc4m4qX"
      },
      "source": [
        ""
      ],
      "execution_count": null,
      "outputs": []
    },
    {
      "cell_type": "markdown",
      "source": [
        "## FASHION MNIST \n",
        "Teraz powtórzymy eksperyment na innym, ale bardzo podobnym zbiorze danych. "
      ],
      "metadata": {
        "id": "KpYN73AvzHP-"
      }
    },
    {
      "cell_type": "markdown",
      "source": [
        "### Wczytanie i przygotowanie danych\n",
        "* Wczytaj zbiór fashion_mnist analogicznie do mnist'a\n",
        "* Przygotuj dane treningowe/testowe oraz etykiety analogicznie do mnista'a"
      ],
      "metadata": {
        "id": "ARZBHpQzzScV"
      }
    },
    {
      "cell_type": "code",
      "source": [
        ""
      ],
      "metadata": {
        "id": "rGXwp8ISzXUX"
      },
      "execution_count": null,
      "outputs": []
    },
    {
      "cell_type": "markdown",
      "metadata": {
        "id": "dUYwh9zjrp6-"
      },
      "source": [
        "* Wyświetl 12 pierwszych instancji treningowych"
      ]
    },
    {
      "cell_type": "code",
      "metadata": {
        "id": "dvck7YSXpUbk"
      },
      "source": [
        ""
      ],
      "execution_count": null,
      "outputs": []
    },
    {
      "cell_type": "markdown",
      "metadata": {
        "id": "3psthgTBsqq5"
      },
      "source": [
        "* Przygotuj dane i etykiety do treningu (tak samo jak w mnist)"
      ]
    },
    {
      "cell_type": "code",
      "metadata": {
        "id": "PRCzkluipzN9"
      },
      "source": [
        ""
      ],
      "execution_count": null,
      "outputs": []
    },
    {
      "cell_type": "markdown",
      "source": [
        "### Przygotowanie sieci i trening"
      ],
      "metadata": {
        "id": "iLeo5SeS9IcG"
      }
    },
    {
      "cell_type": "markdown",
      "source": [
        "* Stwórz identyczną sieć jak przy mnist i przeprowadź trening. "
      ],
      "metadata": {
        "id": "Rk9UYbxy7HS4"
      }
    },
    {
      "cell_type": "code",
      "source": [
        ""
      ],
      "metadata": {
        "id": "NiaOEpty8cmq"
      },
      "execution_count": null,
      "outputs": []
    },
    {
      "cell_type": "markdown",
      "source": [
        "### Ewaluacja\n",
        "* Zrób ewaluację naszego modelu na zbiorze treningowym i testowym (metoda evaluate).\n",
        "* Podaj wyniki dla obu zbiorów:"
      ],
      "metadata": {
        "id": "8cb5C4zQ80dF"
      }
    },
    {
      "cell_type": "code",
      "source": [
        ""
      ],
      "metadata": {
        "id": "JRHj84dz9mmh"
      },
      "execution_count": null,
      "outputs": []
    },
    {
      "cell_type": "markdown",
      "source": [
        "### Early stopping\n",
        "* Dodajmy do treningu zbiór walidacyjny - możesz do tego użyć argumentu 'validation_split' metody [fit](https://keras.io/api/models/model_training_apis/). Zróbmy 10%. \n",
        "* Dodaj [early stopping](https://keras.io/api/callbacks/early_stopping/), patience 5. \n",
        "* Przeprowadź dwa treningi - najpierw monitorując w early stopping 'loss' a potem 'val_loss'. Jaka jest różnica? \n",
        "\n",
        "Jeśli early stopping nie miał okazji zadziałać, zwiększ liczbę epok. "
      ],
      "metadata": {
        "id": "Btt8b3Ve9rew"
      }
    },
    {
      "cell_type": "code",
      "source": [
        ""
      ],
      "metadata": {
        "id": "bNFBJcEe9tCC"
      },
      "execution_count": null,
      "outputs": []
    },
    {
      "cell_type": "markdown",
      "source": [
        "### Poprawa wyniku\n",
        "* Spróbuj stworzyć 3 sieci, które uzyskają lepszy wynik na zbiorze fashion_mnist. Możesz zmodyfikować naszą prostą sieć lub zaprojektować zupełnie nową. \n",
        "* Poeksperymentuj z modyfikacjami warstw Conv2D (np. zmiana liczby filtrów), dodawaniem warstw Conv2D i Dense. Możesz też dodać Dropout. \n",
        "* Dla każdej z tych sieci przeprowadź ewaluację i wypisz wyniki. "
      ],
      "metadata": {
        "id": "EZr1nupSBcYP"
      }
    },
    {
      "cell_type": "code",
      "source": [
        ""
      ],
      "metadata": {
        "id": "xkUVjs5FBfSo"
      },
      "execution_count": null,
      "outputs": []
    },
    {
      "cell_type": "markdown",
      "source": [
        "To wszystko. Dziękuję! "
      ],
      "metadata": {
        "id": "PdTBNmC4JBWv"
      }
    }
  ]
}