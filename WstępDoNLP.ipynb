{
  "nbformat": 4,
  "nbformat_minor": 0,
  "metadata": {
    "colab": {
      "name": "WstępDoNLP.ipynb",
      "provenance": [],
      "collapsed_sections": []
    },
    "kernelspec": {
      "name": "python3",
      "display_name": "Python 3"
    },
    "language_info": {
      "name": "python"
    }
  },
  "cells": [
    {
      "cell_type": "markdown",
      "source": [
        "# Wprowadzenie do Uczenia Maszynowego\n",
        "\n",
        "## Wstęp do Przetwarzania Języka Naturalnego\n",
        "\n",
        "Na tym ćwiczeniu omawiane są podstawy NLP na przykładzie kilku prostych narzędzi i metod modelowania.\n",
        "\n",
        "Na początku omówimy podstawowe metody analizy tekstu. Do tego zadania użyjemy biblioteki [spacy](https://spacy.io/). Nie jest ona jedynym narzędziem do tego celu, ale jest uznana za jedną z bardziej wydajnych. Inne przykłady to [NLTK](https://www.nltk.org/) (starsza i uważana za mniej nowoczesną) albo [AllenNLP](https://allenai.org/allennlp).\n",
        "\n",
        "\n",
        "Najpierw zainstalujemy bardziej aktualną wersję spacy niż ta, która jest standardowo dostępna w Google Colab:"
      ],
      "metadata": {
        "id": "AZPA6CkesG3I"
      }
    },
    {
      "cell_type": "code",
      "source": [
        "!pip install -U spacy"
      ],
      "metadata": {
        "id": "h4WSSVkTtlsw",
        "colab": {
          "base_uri": "https://localhost:8080/"
        },
        "outputId": "213b4cb1-e720-456f-e571-4cff879b56f3"
      },
      "execution_count": 15,
      "outputs": [
        {
          "output_type": "stream",
          "name": "stdout",
          "text": [
            "Looking in indexes: https://pypi.org/simple, https://us-python.pkg.dev/colab-wheels/public/simple/\n",
            "Requirement already satisfied: spacy in /usr/local/lib/python3.7/dist-packages (3.3.1)\n",
            "Requirement already satisfied: typer<0.5.0,>=0.3.0 in /usr/local/lib/python3.7/dist-packages (from spacy) (0.4.1)\n",
            "Requirement already satisfied: packaging>=20.0 in /usr/local/lib/python3.7/dist-packages (from spacy) (21.3)\n",
            "Requirement already satisfied: pydantic!=1.8,!=1.8.1,<1.9.0,>=1.7.4 in /usr/local/lib/python3.7/dist-packages (from spacy) (1.8.2)\n",
            "Requirement already satisfied: murmurhash<1.1.0,>=0.28.0 in /usr/local/lib/python3.7/dist-packages (from spacy) (1.0.7)\n",
            "Requirement already satisfied: requests<3.0.0,>=2.13.0 in /usr/local/lib/python3.7/dist-packages (from spacy) (2.23.0)\n",
            "Requirement already satisfied: tqdm<5.0.0,>=4.38.0 in /usr/local/lib/python3.7/dist-packages (from spacy) (4.64.0)\n",
            "Requirement already satisfied: wasabi<1.1.0,>=0.9.1 in /usr/local/lib/python3.7/dist-packages (from spacy) (0.9.1)\n",
            "Requirement already satisfied: pathy>=0.3.5 in /usr/local/lib/python3.7/dist-packages (from spacy) (0.6.1)\n",
            "Requirement already satisfied: typing-extensions<4.2.0,>=3.7.4 in /usr/local/lib/python3.7/dist-packages (from spacy) (4.1.1)\n",
            "Requirement already satisfied: spacy-legacy<3.1.0,>=3.0.9 in /usr/local/lib/python3.7/dist-packages (from spacy) (3.0.9)\n",
            "Requirement already satisfied: preshed<3.1.0,>=3.0.2 in /usr/local/lib/python3.7/dist-packages (from spacy) (3.0.6)\n",
            "Requirement already satisfied: catalogue<2.1.0,>=2.0.6 in /usr/local/lib/python3.7/dist-packages (from spacy) (2.0.7)\n",
            "Requirement already satisfied: numpy>=1.15.0 in /usr/local/lib/python3.7/dist-packages (from spacy) (1.21.6)\n",
            "Requirement already satisfied: srsly<3.0.0,>=2.4.3 in /usr/local/lib/python3.7/dist-packages (from spacy) (2.4.3)\n",
            "Requirement already satisfied: cymem<2.1.0,>=2.0.2 in /usr/local/lib/python3.7/dist-packages (from spacy) (2.0.6)\n",
            "Requirement already satisfied: langcodes<4.0.0,>=3.2.0 in /usr/local/lib/python3.7/dist-packages (from spacy) (3.3.0)\n",
            "Requirement already satisfied: spacy-loggers<2.0.0,>=1.0.0 in /usr/local/lib/python3.7/dist-packages (from spacy) (1.0.2)\n",
            "Requirement already satisfied: jinja2 in /usr/local/lib/python3.7/dist-packages (from spacy) (2.11.3)\n",
            "Requirement already satisfied: setuptools in /usr/local/lib/python3.7/dist-packages (from spacy) (57.4.0)\n",
            "Requirement already satisfied: blis<0.8.0,>=0.4.0 in /usr/local/lib/python3.7/dist-packages (from spacy) (0.7.7)\n",
            "Requirement already satisfied: thinc<8.1.0,>=8.0.14 in /usr/local/lib/python3.7/dist-packages (from spacy) (8.0.17)\n",
            "Requirement already satisfied: zipp>=0.5 in /usr/local/lib/python3.7/dist-packages (from catalogue<2.1.0,>=2.0.6->spacy) (3.8.0)\n",
            "Requirement already satisfied: pyparsing!=3.0.5,>=2.0.2 in /usr/local/lib/python3.7/dist-packages (from packaging>=20.0->spacy) (3.0.9)\n",
            "Requirement already satisfied: smart-open<6.0.0,>=5.0.0 in /usr/local/lib/python3.7/dist-packages (from pathy>=0.3.5->spacy) (5.2.1)\n",
            "Requirement already satisfied: idna<3,>=2.5 in /usr/local/lib/python3.7/dist-packages (from requests<3.0.0,>=2.13.0->spacy) (2.10)\n",
            "Requirement already satisfied: chardet<4,>=3.0.2 in /usr/local/lib/python3.7/dist-packages (from requests<3.0.0,>=2.13.0->spacy) (3.0.4)\n",
            "Requirement already satisfied: urllib3!=1.25.0,!=1.25.1,<1.26,>=1.21.1 in /usr/local/lib/python3.7/dist-packages (from requests<3.0.0,>=2.13.0->spacy) (1.24.3)\n",
            "Requirement already satisfied: certifi>=2017.4.17 in /usr/local/lib/python3.7/dist-packages (from requests<3.0.0,>=2.13.0->spacy) (2022.6.15)\n",
            "Requirement already satisfied: click<9.0.0,>=7.1.1 in /usr/local/lib/python3.7/dist-packages (from typer<0.5.0,>=0.3.0->spacy) (7.1.2)\n",
            "Requirement already satisfied: MarkupSafe>=0.23 in /usr/local/lib/python3.7/dist-packages (from jinja2->spacy) (2.0.1)\n"
          ]
        }
      ]
    },
    {
      "cell_type": "markdown",
      "source": [
        "Potem zainstalujemy model o nazwie `pl_core_news_lg` poleceniem z dokumentacji. Lista modeli jest dostępna [tutaj](https://spacy.io/usage/models):"
      ],
      "metadata": {
        "id": "iSIpx5uGSIYV"
      }
    },
    {
      "cell_type": "code",
      "source": [
        "!python -m spacy download pl_core_news_lg"
      ],
      "metadata": {
        "id": "09ZEBHRNtCse",
        "colab": {
          "base_uri": "https://localhost:8080/"
        },
        "outputId": "2bfe8a2c-b147-4489-c03e-22127d68a349"
      },
      "execution_count": 16,
      "outputs": [
        {
          "output_type": "stream",
          "name": "stdout",
          "text": [
            "Looking in indexes: https://pypi.org/simple, https://us-python.pkg.dev/colab-wheels/public/simple/\n",
            "Collecting pl-core-news-lg==3.3.0\n",
            "  Downloading https://github.com/explosion/spacy-models/releases/download/pl_core_news_lg-3.3.0/pl_core_news_lg-3.3.0-py3-none-any.whl (573.6 MB)\n",
            "\u001b[K     |████████████████████████████████| 573.6 MB 3.8 kB/s \n",
            "\u001b[?25hRequirement already satisfied: spacy<3.4.0,>=3.3.0.dev0 in /usr/local/lib/python3.7/dist-packages (from pl-core-news-lg==3.3.0) (3.3.1)\n",
            "Requirement already satisfied: preshed<3.1.0,>=3.0.2 in /usr/local/lib/python3.7/dist-packages (from spacy<3.4.0,>=3.3.0.dev0->pl-core-news-lg==3.3.0) (3.0.6)\n",
            "Requirement already satisfied: blis<0.8.0,>=0.4.0 in /usr/local/lib/python3.7/dist-packages (from spacy<3.4.0,>=3.3.0.dev0->pl-core-news-lg==3.3.0) (0.7.7)\n",
            "Requirement already satisfied: setuptools in /usr/local/lib/python3.7/dist-packages (from spacy<3.4.0,>=3.3.0.dev0->pl-core-news-lg==3.3.0) (57.4.0)\n",
            "Requirement already satisfied: cymem<2.1.0,>=2.0.2 in /usr/local/lib/python3.7/dist-packages (from spacy<3.4.0,>=3.3.0.dev0->pl-core-news-lg==3.3.0) (2.0.6)\n",
            "Requirement already satisfied: tqdm<5.0.0,>=4.38.0 in /usr/local/lib/python3.7/dist-packages (from spacy<3.4.0,>=3.3.0.dev0->pl-core-news-lg==3.3.0) (4.64.0)\n",
            "Requirement already satisfied: wasabi<1.1.0,>=0.9.1 in /usr/local/lib/python3.7/dist-packages (from spacy<3.4.0,>=3.3.0.dev0->pl-core-news-lg==3.3.0) (0.9.1)\n",
            "Requirement already satisfied: langcodes<4.0.0,>=3.2.0 in /usr/local/lib/python3.7/dist-packages (from spacy<3.4.0,>=3.3.0.dev0->pl-core-news-lg==3.3.0) (3.3.0)\n",
            "Requirement already satisfied: typer<0.5.0,>=0.3.0 in /usr/local/lib/python3.7/dist-packages (from spacy<3.4.0,>=3.3.0.dev0->pl-core-news-lg==3.3.0) (0.4.1)\n",
            "Requirement already satisfied: spacy-loggers<2.0.0,>=1.0.0 in /usr/local/lib/python3.7/dist-packages (from spacy<3.4.0,>=3.3.0.dev0->pl-core-news-lg==3.3.0) (1.0.2)\n",
            "Requirement already satisfied: murmurhash<1.1.0,>=0.28.0 in /usr/local/lib/python3.7/dist-packages (from spacy<3.4.0,>=3.3.0.dev0->pl-core-news-lg==3.3.0) (1.0.7)\n",
            "Requirement already satisfied: typing-extensions<4.2.0,>=3.7.4 in /usr/local/lib/python3.7/dist-packages (from spacy<3.4.0,>=3.3.0.dev0->pl-core-news-lg==3.3.0) (4.1.1)\n",
            "Requirement already satisfied: catalogue<2.1.0,>=2.0.6 in /usr/local/lib/python3.7/dist-packages (from spacy<3.4.0,>=3.3.0.dev0->pl-core-news-lg==3.3.0) (2.0.7)\n",
            "Requirement already satisfied: numpy>=1.15.0 in /usr/local/lib/python3.7/dist-packages (from spacy<3.4.0,>=3.3.0.dev0->pl-core-news-lg==3.3.0) (1.21.6)\n",
            "Requirement already satisfied: packaging>=20.0 in /usr/local/lib/python3.7/dist-packages (from spacy<3.4.0,>=3.3.0.dev0->pl-core-news-lg==3.3.0) (21.3)\n",
            "Requirement already satisfied: spacy-legacy<3.1.0,>=3.0.9 in /usr/local/lib/python3.7/dist-packages (from spacy<3.4.0,>=3.3.0.dev0->pl-core-news-lg==3.3.0) (3.0.9)\n",
            "Requirement already satisfied: thinc<8.1.0,>=8.0.14 in /usr/local/lib/python3.7/dist-packages (from spacy<3.4.0,>=3.3.0.dev0->pl-core-news-lg==3.3.0) (8.0.17)\n",
            "Requirement already satisfied: jinja2 in /usr/local/lib/python3.7/dist-packages (from spacy<3.4.0,>=3.3.0.dev0->pl-core-news-lg==3.3.0) (2.11.3)\n",
            "Requirement already satisfied: srsly<3.0.0,>=2.4.3 in /usr/local/lib/python3.7/dist-packages (from spacy<3.4.0,>=3.3.0.dev0->pl-core-news-lg==3.3.0) (2.4.3)\n",
            "Requirement already satisfied: pathy>=0.3.5 in /usr/local/lib/python3.7/dist-packages (from spacy<3.4.0,>=3.3.0.dev0->pl-core-news-lg==3.3.0) (0.6.1)\n",
            "Requirement already satisfied: pydantic!=1.8,!=1.8.1,<1.9.0,>=1.7.4 in /usr/local/lib/python3.7/dist-packages (from spacy<3.4.0,>=3.3.0.dev0->pl-core-news-lg==3.3.0) (1.8.2)\n",
            "Requirement already satisfied: requests<3.0.0,>=2.13.0 in /usr/local/lib/python3.7/dist-packages (from spacy<3.4.0,>=3.3.0.dev0->pl-core-news-lg==3.3.0) (2.23.0)\n",
            "Requirement already satisfied: zipp>=0.5 in /usr/local/lib/python3.7/dist-packages (from catalogue<2.1.0,>=2.0.6->spacy<3.4.0,>=3.3.0.dev0->pl-core-news-lg==3.3.0) (3.8.0)\n",
            "Requirement already satisfied: pyparsing!=3.0.5,>=2.0.2 in /usr/local/lib/python3.7/dist-packages (from packaging>=20.0->spacy<3.4.0,>=3.3.0.dev0->pl-core-news-lg==3.3.0) (3.0.9)\n",
            "Requirement already satisfied: smart-open<6.0.0,>=5.0.0 in /usr/local/lib/python3.7/dist-packages (from pathy>=0.3.5->spacy<3.4.0,>=3.3.0.dev0->pl-core-news-lg==3.3.0) (5.2.1)\n",
            "Requirement already satisfied: idna<3,>=2.5 in /usr/local/lib/python3.7/dist-packages (from requests<3.0.0,>=2.13.0->spacy<3.4.0,>=3.3.0.dev0->pl-core-news-lg==3.3.0) (2.10)\n",
            "Requirement already satisfied: urllib3!=1.25.0,!=1.25.1,<1.26,>=1.21.1 in /usr/local/lib/python3.7/dist-packages (from requests<3.0.0,>=2.13.0->spacy<3.4.0,>=3.3.0.dev0->pl-core-news-lg==3.3.0) (1.24.3)\n",
            "Requirement already satisfied: chardet<4,>=3.0.2 in /usr/local/lib/python3.7/dist-packages (from requests<3.0.0,>=2.13.0->spacy<3.4.0,>=3.3.0.dev0->pl-core-news-lg==3.3.0) (3.0.4)\n",
            "Requirement already satisfied: certifi>=2017.4.17 in /usr/local/lib/python3.7/dist-packages (from requests<3.0.0,>=2.13.0->spacy<3.4.0,>=3.3.0.dev0->pl-core-news-lg==3.3.0) (2022.6.15)\n",
            "Requirement already satisfied: click<9.0.0,>=7.1.1 in /usr/local/lib/python3.7/dist-packages (from typer<0.5.0,>=0.3.0->spacy<3.4.0,>=3.3.0.dev0->pl-core-news-lg==3.3.0) (7.1.2)\n",
            "Requirement already satisfied: MarkupSafe>=0.23 in /usr/local/lib/python3.7/dist-packages (from jinja2->spacy<3.4.0,>=3.3.0.dev0->pl-core-news-lg==3.3.0) (2.0.1)\n",
            "\u001b[38;5;2m✔ Download and installation successful\u001b[0m\n",
            "You can now load the package via spacy.load('pl_core_news_lg')\n"
          ]
        }
      ]
    },
    {
      "cell_type": "markdown",
      "source": [
        "Teraz można zaimportować bibliotekę `spacy` i użyć metodę `load` żeby wczytać wyżej zainstalowany model. Metoda ta zwraca objekt który będziemy używać do analizy tekstu:"
      ],
      "metadata": {
        "id": "kVeSCbmoScJx"
      }
    },
    {
      "cell_type": "code",
      "source": [
        "import spacy\n",
        "nlp_model = spacy.load('pl_core_news_lg')"
      ],
      "metadata": {
        "id": "8YL-DInnsImS"
      },
      "execution_count": 17,
      "outputs": []
    },
    {
      "cell_type": "markdown",
      "source": [
        "Tu wkleiłem kawałek transkrypcji z posiedzenia sejmowego ze stycznia 2022:"
      ],
      "metadata": {
        "id": "qjRPtuz_S8vF"
      }
    },
    {
      "cell_type": "code",
      "source": [
        "text_sample='Szanowny Panie Marszałku! Wysoka Izbo! Ustawa zapowiadana jako naprawa, chciałoby się rzec, głęboka korekta Nowego Ładu podatkowego poza rekompensatą strat, jeśli chodzi o zakłady pracy chronionej i zakłady aktywności zawodowej, to w gruncie rzeczy jakaś farsa. Tak naprawdę to jest zalegalizowanie rozporządzenia ministra finansów z 7 stycznia 2022 r., rozporządzenia wydanego z przekroczeniem delegacji ustawowych i naruszeniem konstytucji. Próbujecie uporządkować kawałek, ułameczek problemów, które w tym bublu prawnym, jakim jest Nowy Ład, wygenerowaliście. Po tygodniu obowiązywania ustawy okazało się, że ci, którzy mieli zyskiwać, tracą już dzisiaj, ich wypłaty są niższe, a miały być przecież wyższe. Do tego nikt nie wie, jaki zapłaci podatek. To już norma, jeśli chodzi o wasze działania - mniej znaczy więcej, jak u Orwella. To, co proponujecie, to jest zwykłe mydlenie oczu. W sprawie zaliczek: technicznie rzecz ujmując, płatnik będzie obliczał wysokość zaliczki według zasad z 2022 r., następnie według zasad z 2021 r. Jeśli będzie różnica taka, że zaliczka według zasad z 2022 r. będzie wyższa niż ta z 2021 r., to nie będzie pobierać tej różnicy, a definitywne rozliczenie nastąpi dopiero w zeznaniu rocznym. Taki mechanizm jest sposobem odroczenia płatności wyższej niż w 2021 r. zaliczki na podatek, ale nie jest zwolnieniem podatnika z obowiązku stosowania przepisów z 2022 r. W praktyce dla niektórych podatników może to oznaczać konieczność dopłaty podatku w grudniu 2022 r. albo w rozliczeniu rocznym. Podkreślam, te zmiany nie prowadzą do obniżenia podatków, a jedynie są modyfikacją obowiązków płatników i pracodawców, zleceniodawców i organów rentowych w zakresie poboru zaliczki na podatek dochodowy od osób fizycznych. To jest kolejne obciążenie administracyjne dla płatników, czyli polskich przedsiębiorców i ich księgowych. Projekt jest napisany na kolanie - mówiłem to w ramach pierwszego czytania - i to już jest jakaś tradycja. Czas wreszcie przejść z deklaracji do czynów. Ciągle, tak jak prezydent, mówicie, że się uczycie. A nie sztuka się uczyć, trzeba się nauczyć i wyciągać lekcje i wnioski z dotychczasowych działań. Biuro Legislacyjne po raz kolejny złożyło zastrzeżenie, że nie było w stanie przeanalizować zapisów ustawy, w praktyce - że nie ma pewności co do poprawności jej zapisów. Mało tego, w ustawie są zapisy, które są nie do zaakceptowania i nie do przyjęcia. To jest opinia Biura Legislacyjnego Sejmu. Ale wy oczywiście wszystko możecie przegłosować, dowiedliście tego wczoraj na posiedzeniu komisji. To, że narażacie podatników i płatników na nieprzewidywalne dziś konsekwencje, nie ma dla was w gruncie rzeczy znaczenia. Musi być tak, jak chcecie, i tyle. Wczoraj na posiedzeniu komisji finansów dowiedliście, że nie rozumiecie rzeczywistych skutków Nowego Ładu. Nie dociera do was np. to, że tak naprawdę zlikwidowaliście kwotę wolną. Ona była niska do tej pory, ale była. A dzisiaj kwota wolna wynosi zero, bo dochody do 30 tys. zł są opodatkowane stawką 9%, dochody między 30 a 120 tys. zł - stawką 26%, a dochody ponad 120 tys. zł - stawką 41%. Nie zapominajcie, że podatnicy jeszcze muszą zapłacić ZUS - 19,52%. Jakiś łoś was opętał, takie mam wrażenie. Nie dociera do was, że w Polsce przestało się już, praktycznie rzecz biorąc, opłacać pracować. Do tego te rozwiązania prowadzą. Nie ma rozwiązań, które zapowiadaliście, jeśli chodzi o korektę Nowego Ładu. Nie ma w dalszym ciągu ulgi dla klasy średniej, dla zleceniobiorców, dla świadczeń emerytalnych, rentowych. Nie ma żadnej propozycji co do rozliczania rodziców samotnie wychowujących dzieci, a taką deklarację też słyszeliśmy. Nie ma rekompensaty dla organizacji pozarządowych. Nie ma propozycji, o której mówił też premier: złotówka za złotówkę. I nie odnosicie się w ogóle do konsekwencji Nowego Ładu (Dzwonek) w działalności gospodarczej, a one są tu dramatyczne, dramatyczne. Czas albo dokonać głębokiej korekty, a najlepiej posłuchać tego, co mówiliśmy od samego początku i tę część dotyczącą przedsiębiorców po prostu zawiesić. Dziękuję bardzo. '"
      ],
      "metadata": {
        "id": "duKG2uoEsvII"
      },
      "execution_count": 18,
      "outputs": []
    },
    {
      "cell_type": "markdown",
      "source": [
        "## Składnia tekstu\n",
        "\n",
        "Teraz można użyć objektu wyżej żeby zanalizować tekst podając go jako arguemnt wywołania objektu zwróconego przez metodę `load` wyżej:"
      ],
      "metadata": {
        "id": "OqStflDQTLZP"
      }
    },
    {
      "cell_type": "code",
      "source": [
        "doc = nlp_model(text_sample)"
      ],
      "metadata": {
        "id": "5SenvbNguW-k"
      },
      "execution_count": 19,
      "outputs": []
    },
    {
      "cell_type": "markdown",
      "source": [
        "W wyniku otrzymamy objekt reprezentujący cały dokument. Dokumetacja jest dostępna [tutaj](https://spacy.io/api/doc).\n",
        "\n",
        "Zacznijmy od sprawdzenia jak sobie biblioteka poradziła z podziałem tekstu na zdania. Przeiteruj wszystkie elementy `sents` dokumentu i wypisz metodą print:"
      ],
      "metadata": {
        "id": "nkkWN090U4se"
      }
    },
    {
      "cell_type": "code",
      "source": [
        "for sent in doc.sents:\n",
        "  print(sent)"
      ],
      "metadata": {
        "id": "3HgLZzx3uXja",
        "colab": {
          "base_uri": "https://localhost:8080/"
        },
        "outputId": "b02bf0d4-0633-4dcd-9ea0-86546ea12f3a"
      },
      "execution_count": 20,
      "outputs": [
        {
          "output_type": "stream",
          "name": "stdout",
          "text": [
            "Szanowny Panie Marszałku!\n",
            "Wysoka Izbo!\n",
            "Ustawa zapowiadana jako naprawa, chciałoby się rzec, głęboka korekta Nowego Ładu podatkowego poza rekompensatą strat, jeśli chodzi o zakłady pracy chronionej i zakłady aktywności zawodowej, to w gruncie rzeczy jakaś farsa.\n",
            "Tak naprawdę to jest zalegalizowanie rozporządzenia ministra finansów z 7 stycznia 2022 r., rozporządzenia wydanego z przekroczeniem delegacji ustawowych i naruszeniem konstytucji.\n",
            "Próbujecie uporządkować kawałek, ułameczek problemów, które w tym bublu prawnym, jakim jest Nowy Ład, wygenerowaliście.\n",
            "Po tygodniu obowiązywania ustawy okazało się, że ci, którzy mieli zyskiwać, tracą już dzisiaj, ich wypłaty są niższe, a miały być przecież wyższe.\n",
            "Do tego nikt nie wie, jaki zapłaci podatek.\n",
            "To już norma, jeśli chodzi o wasze działania - mniej znaczy więcej, jak u Orwella.\n",
            "To, co proponujecie, to jest zwykłe mydlenie oczu.\n",
            "W sprawie zaliczek: technicznie rzecz ujmując, płatnik będzie obliczał wysokość zaliczki według zasad z 2022 r., następnie według zasad z 2021 r.\n",
            "Jeśli będzie różnica taka, że zaliczka według zasad z 2022 r. będzie wyższa niż ta z 2021 r., to nie będzie pobierać tej różnicy, a definitywne rozliczenie nastąpi dopiero w zeznaniu rocznym.\n",
            "Taki mechanizm jest sposobem odroczenia płatności wyższej niż w 2021 r.\n",
            "zaliczki na podatek, ale nie jest zwolnieniem podatnika z obowiązku stosowania przepisów z 2022 r.\n",
            "W praktyce dla niektórych podatników może to oznaczać konieczność dopłaty podatku w grudniu 2022 r. albo w rozliczeniu rocznym.\n",
            "Podkreślam, te zmiany nie prowadzą do obniżenia podatków, a jedynie są modyfikacją obowiązków płatników i pracodawców, zleceniodawców i organów rentowych w zakresie poboru zaliczki na podatek dochodowy od osób fizycznych.\n",
            "To jest kolejne obciążenie administracyjne dla płatników, czyli polskich przedsiębiorców i ich księgowych.\n",
            "Projekt jest napisany na kolanie - mówiłem to w ramach pierwszego czytania - i to już jest jakaś tradycja.\n",
            "Czas wreszcie przejść z deklaracji do czynów.\n",
            "Ciągle, tak jak prezydent, mówicie, że się uczycie.\n",
            "A nie sztuka się uczyć, trzeba się nauczyć i wyciągać lekcje i wnioski z dotychczasowych działań.\n",
            "Biuro Legislacyjne po raz kolejny złożyło zastrzeżenie, że nie było w stanie przeanalizować zapisów ustawy, w praktyce - że nie ma pewności co do poprawności jej zapisów.\n",
            "Mało tego, w ustawie są zapisy, które są nie do zaakceptowania i nie do przyjęcia.\n",
            "To jest opinia Biura Legislacyjnego Sejmu.\n",
            "Ale wy oczywiście wszystko możecie przegłosować, dowiedliście tego wczoraj na posiedzeniu komisji.\n",
            "To, że narażacie podatników i płatników na nieprzewidywalne dziś konsekwencje, nie ma dla was w gruncie rzeczy znaczenia.\n",
            "Musi być tak, jak chcecie, i tyle.\n",
            "Wczoraj na posiedzeniu komisji finansów dowiedliście, że nie rozumiecie rzeczywistych skutków Nowego Ładu.\n",
            "Nie dociera do was np. to, że tak naprawdę zlikwidowaliście kwotę wolną.\n",
            "Ona była niska do tej pory, ale była.\n",
            "A dzisiaj kwota wolna wynosi zero, bo dochody do 30 tys. zł są opodatkowane stawką 9%, dochody między 30 a 120 tys. zł - stawką 26%, a dochody ponad 120 tys. zł - stawką 41%.\n",
            "Nie zapominajcie, że podatnicy jeszcze muszą zapłacić ZUS - 19,52%.\n",
            "Jakiś łoś was opętał, takie mam wrażenie.\n",
            "Nie dociera do was, że w Polsce przestało się już, praktycznie rzecz biorąc, opłacać pracować.\n",
            "Do tego te rozwiązania prowadzą.\n",
            "Nie ma rozwiązań, które zapowiadaliście, jeśli chodzi o korektę Nowego Ładu.\n",
            "Nie ma w dalszym ciągu ulgi dla klasy średniej, dla zleceniobiorców, dla świadczeń emerytalnych, rentowych.\n",
            "Nie ma żadnej propozycji co do rozliczania rodziców samotnie wychowujących dzieci, a taką deklarację też słyszeliśmy.\n",
            "Nie ma rekompensaty dla organizacji pozarządowych.\n",
            "Nie ma propozycji, o której mówił też premier: złotówka za złotówkę.\n",
            "I nie odnosicie się w ogóle do konsekwencji Nowego Ładu (Dzwonek) w działalności gospodarczej, a one są tu dramatyczne, dramatyczne.\n",
            "Czas albo dokonać głębokiej korekty, a najlepiej posłuchać tego, co mówiliśmy od samego początku i tę część dotyczącą przedsiębiorców po prostu zawiesić.\n",
            "Dziękuję bardzo.\n"
          ]
        }
      ]
    },
    {
      "cell_type": "markdown",
      "source": [
        "Kolejne zadania będą bardziej czytelne jeśli je uruchomimy na pojedynczym zdaniu zamiast całego tekstu. Zamień `sents` na listę i zapisz dowolny element tej listy w osobnej zmiennej `sent`.\n",
        "\n",
        "Potem przeiteruj kolejne elementy tego zdania żeby odczytać poszczególne tokeny. Dokumentacja tokenu jest [tutaj](https://spacy.io/api/token). \n",
        "\n",
        "Dla każdego tokenu wypisz:\n",
        "* `text`\n",
        "* `tag_` - tekstowa postać tagu POS\n",
        "* `pos_` - bardziej ogólny opis POS\n",
        "* `dep_` - opis parsowania zależnościowego\n",
        "* `lemma_` - lemat wyrazu\n",
        "* `morp_` - szczegółowy opis morfologii wyrazu"
      ],
      "metadata": {
        "id": "rQ9Y7RNpVczL"
      }
    },
    {
      "cell_type": "code",
      "source": [
        "sentences = [sent for sent in doc.sents]\n",
        "sent = sentences[14]\n",
        "print(sent)"
      ],
      "metadata": {
        "id": "Xyd2u5Vmubuc",
        "colab": {
          "base_uri": "https://localhost:8080/"
        },
        "outputId": "829eb0c8-6b63-48e1-d5d3-8d51d7be3400"
      },
      "execution_count": 21,
      "outputs": [
        {
          "output_type": "stream",
          "name": "stdout",
          "text": [
            "Podkreślam, te zmiany nie prowadzą do obniżenia podatków, a jedynie są modyfikacją obowiązków płatników i pracodawców, zleceniodawców i organów rentowych w zakresie poboru zaliczki na podatek dochodowy od osób fizycznych.\n"
          ]
        }
      ]
    },
    {
      "cell_type": "code",
      "source": [
        "def show_tokens(text):\n",
        "  print('{:^15}| {:^8}| {:^8}| {:^17}| {:^15}| {:^15}'.format('text','tag_','pos_','dep_','lemma_','morph'))\n",
        "  print('-------------------------------------------------------------------------------------------------------------------------------------------')\n",
        "  for token in text:\n",
        "      print(f'{token.text:{15}}| {token.tag_:{8}}| {token.pos_:{8}}| {token.dep_:{17}}| {token.lemma_:{15}}| {token.morph}')"
      ],
      "metadata": {
        "id": "gpbMq-TwurKj"
      },
      "execution_count": 22,
      "outputs": []
    },
    {
      "cell_type": "code",
      "source": [
        "show_tokens(sent)"
      ],
      "metadata": {
        "colab": {
          "base_uri": "https://localhost:8080/"
        },
        "id": "CI8IzMrhmp4O",
        "outputId": "023dbc3f-9171-4e86-8530-c9f257de628f"
      },
      "execution_count": 23,
      "outputs": [
        {
          "output_type": "stream",
          "name": "stdout",
          "text": [
            "     text      |   tag_  |   pos_  |       dep_       |     lemma_     |      morph     \n",
            "-------------------------------------------------------------------------------------------------------------------------------------------\n",
            "Podkreślam     | SUBST   | VERB    | parataxis:insert | podkreślać     | Aspect=Imp|Mood=Ind|Number=Sing|Person=1|Tense=Pres|VerbForm=Fin|Voice=Act\n",
            ",              | INTERP  | PUNCT   | punct            | ,              | PunctType=Comm\n",
            "te             | ADJ     | DET     | det              | ten            | Case=Acc|Gender=Fem|Number=Plur|PronType=Dem\n",
            "zmiany         | SUBST   | NOUN    | obj              | zmiana         | Case=Nom|Gender=Fem|Number=Plur\n",
            "nie            | QUB     | PART    | advmod:neg       | nie            | Polarity=Neg\n",
            "prowadzą       | FIN     | VERB    | ROOT             | prowadzić      | Aspect=Imp|Mood=Ind|Number=Plur|Person=3|Tense=Pres|VerbForm=Fin|Voice=Act\n",
            "do             | PREP    | ADP     | case             | do             | AdpType=Prep\n",
            "obniżenia      | GER     | NOUN    | obl              | obniżeć        | Aspect=Perf|Case=Gen|Gender=Neut|Number=Sing|Polarity=Pos|VerbForm=Vnoun\n",
            "podatków       | SUBST   | NOUN    | obj              | podatek        | Animacy=Inan|Case=Gen|Gender=Masc|Number=Plur\n",
            ",              | INTERP  | PUNCT   | punct            | ,              | PunctType=Comm\n",
            "a              | CONJ    | CCONJ   | cc               | a              | \n",
            "jedynie        | QUB     | PART    | advmod:emph      | jedynie        | \n",
            "są             | FIN     | AUX     | cop              | być            | Aspect=Imp|Mood=Ind|Number=Plur|Person=3|Tense=Pres|VerbForm=Fin|Voice=Act\n",
            "modyfikacją    | SUBST   | NOUN    | conj             | modyfikacja    | Case=Ins|Gender=Fem|Number=Sing\n",
            "obowiązków     | SUBST   | NOUN    | nmod:arg         | obowiązek      | Animacy=Inan|Case=Gen|Gender=Masc|Number=Plur\n",
            "płatników      | SUBST   | NOUN    | nmod             | płatnik        | Animacy=Hum|Case=Gen|Gender=Masc|Number=Plur\n",
            "i              | CONJ    | CCONJ   | cc               | i              | \n",
            "pracodawców    | SUBST   | NOUN    | conj             | pracodawca     | Animacy=Hum|Case=Gen|Gender=Masc|Number=Plur\n",
            ",              | INTERP  | PUNCT   | punct            | ,              | PunctType=Comm\n",
            "zleceniodawców | SUBST   | NOUN    | conj             | zleceniodawca  | Animacy=Hum|Case=Gen|Gender=Masc|Number=Plur\n",
            "i              | CONJ    | CCONJ   | cc               | i              | \n",
            "organów        | SUBST   | NOUN    | conj             | organ          | Animacy=Inan|Case=Gen|Gender=Masc|Number=Plur\n",
            "rentowych      | ADJ     | ADJ     | amod             | rentowy        | Animacy=Inan|Case=Gen|Degree=Pos|Gender=Masc|Number=Plur\n",
            "w              | PREP    | ADP     | case             | w              | AdpType=Prep|Variant=Short\n",
            "zakresie       | SUBST   | NOUN    | fixed            | zakres         | Animacy=Inan|Case=Loc|Gender=Masc|Number=Sing\n",
            "poboru         | SUBST   | NOUN    | nmod             | pobór          | Animacy=Inan|Case=Gen|Gender=Masc|Number=Sing\n",
            "zaliczki       | SUBST   | NOUN    | nmod:arg         | zaliczka       | Case=Gen|Gender=Fem|Number=Sing\n",
            "na             | PREP    | ADP     | case             | na             | AdpType=Prep\n",
            "podatek        | SUBST   | NOUN    | nmod:arg         | podatek        | Animacy=Inan|Case=Acc|Gender=Masc|Number=Sing\n",
            "dochodowy      | ADJ     | ADJ     | amod             | dochodowy      | Animacy=Inan|Case=Acc|Degree=Pos|Gender=Masc|Number=Sing\n",
            "od             | PREP    | ADP     | case             | od             | AdpType=Prep|Variant=Short\n",
            "osób           | SUBST   | NOUN    | nmod             | osoba          | Case=Gen|Gender=Fem|Number=Plur\n",
            "fizycznych     | ADJ     | ADJ     | amod             | fizyczny       | Case=Gen|Degree=Pos|Gender=Fem|Number=Plur\n",
            ".              | INTERP  | PUNCT   | punct            | .              | PunctType=Peri\n"
          ]
        }
      ]
    },
    {
      "cell_type": "code",
      "source": [
        "from spacy import displacy\n",
        "displacy.render(sent, style=\"dep\", jupyter=True)"
      ],
      "metadata": {
        "colab": {
          "base_uri": "https://localhost:8080/",
          "height": 703
        },
        "id": "skCpoho6my5H",
        "outputId": "0c25a9bd-5388-4ea2-bdd7-fd48532309df"
      },
      "execution_count": 24,
      "outputs": [
        {
          "output_type": "display_data",
          "data": {
            "text/plain": [
              "<IPython.core.display.HTML object>"
            ],
            "text/html": [
              "<span class=\"tex2jax_ignore\"><svg xmlns=\"http://www.w3.org/2000/svg\" xmlns:xlink=\"http://www.w3.org/1999/xlink\" xml:lang=\"pl\" id=\"221116820b2840a798524c5c62f16f9d-0\" class=\"displacy\" width=\"5300\" height=\"662.0\" direction=\"ltr\" style=\"max-width: none; height: 662.0px; color: #000000; background: #ffffff; font-family: Arial; direction: ltr\">\n",
              "<text class=\"displacy-token\" fill=\"currentColor\" text-anchor=\"middle\" y=\"572.0\">\n",
              "    <tspan class=\"displacy-word\" fill=\"currentColor\" x=\"50\">Podkreślam,</tspan>\n",
              "    <tspan class=\"displacy-tag\" dy=\"2em\" fill=\"currentColor\" x=\"50\">VERB</tspan>\n",
              "</text>\n",
              "\n",
              "<text class=\"displacy-token\" fill=\"currentColor\" text-anchor=\"middle\" y=\"572.0\">\n",
              "    <tspan class=\"displacy-word\" fill=\"currentColor\" x=\"225\">te</tspan>\n",
              "    <tspan class=\"displacy-tag\" dy=\"2em\" fill=\"currentColor\" x=\"225\">DET</tspan>\n",
              "</text>\n",
              "\n",
              "<text class=\"displacy-token\" fill=\"currentColor\" text-anchor=\"middle\" y=\"572.0\">\n",
              "    <tspan class=\"displacy-word\" fill=\"currentColor\" x=\"400\">zmiany</tspan>\n",
              "    <tspan class=\"displacy-tag\" dy=\"2em\" fill=\"currentColor\" x=\"400\">NOUN</tspan>\n",
              "</text>\n",
              "\n",
              "<text class=\"displacy-token\" fill=\"currentColor\" text-anchor=\"middle\" y=\"572.0\">\n",
              "    <tspan class=\"displacy-word\" fill=\"currentColor\" x=\"575\">nie</tspan>\n",
              "    <tspan class=\"displacy-tag\" dy=\"2em\" fill=\"currentColor\" x=\"575\">PART</tspan>\n",
              "</text>\n",
              "\n",
              "<text class=\"displacy-token\" fill=\"currentColor\" text-anchor=\"middle\" y=\"572.0\">\n",
              "    <tspan class=\"displacy-word\" fill=\"currentColor\" x=\"750\">prowadzą</tspan>\n",
              "    <tspan class=\"displacy-tag\" dy=\"2em\" fill=\"currentColor\" x=\"750\">VERB</tspan>\n",
              "</text>\n",
              "\n",
              "<text class=\"displacy-token\" fill=\"currentColor\" text-anchor=\"middle\" y=\"572.0\">\n",
              "    <tspan class=\"displacy-word\" fill=\"currentColor\" x=\"925\">do</tspan>\n",
              "    <tspan class=\"displacy-tag\" dy=\"2em\" fill=\"currentColor\" x=\"925\">ADP</tspan>\n",
              "</text>\n",
              "\n",
              "<text class=\"displacy-token\" fill=\"currentColor\" text-anchor=\"middle\" y=\"572.0\">\n",
              "    <tspan class=\"displacy-word\" fill=\"currentColor\" x=\"1100\">obniżenia</tspan>\n",
              "    <tspan class=\"displacy-tag\" dy=\"2em\" fill=\"currentColor\" x=\"1100\">NOUN</tspan>\n",
              "</text>\n",
              "\n",
              "<text class=\"displacy-token\" fill=\"currentColor\" text-anchor=\"middle\" y=\"572.0\">\n",
              "    <tspan class=\"displacy-word\" fill=\"currentColor\" x=\"1275\">podatków,</tspan>\n",
              "    <tspan class=\"displacy-tag\" dy=\"2em\" fill=\"currentColor\" x=\"1275\">NOUN</tspan>\n",
              "</text>\n",
              "\n",
              "<text class=\"displacy-token\" fill=\"currentColor\" text-anchor=\"middle\" y=\"572.0\">\n",
              "    <tspan class=\"displacy-word\" fill=\"currentColor\" x=\"1450\">a</tspan>\n",
              "    <tspan class=\"displacy-tag\" dy=\"2em\" fill=\"currentColor\" x=\"1450\">CCONJ</tspan>\n",
              "</text>\n",
              "\n",
              "<text class=\"displacy-token\" fill=\"currentColor\" text-anchor=\"middle\" y=\"572.0\">\n",
              "    <tspan class=\"displacy-word\" fill=\"currentColor\" x=\"1625\">jedynie</tspan>\n",
              "    <tspan class=\"displacy-tag\" dy=\"2em\" fill=\"currentColor\" x=\"1625\">PART</tspan>\n",
              "</text>\n",
              "\n",
              "<text class=\"displacy-token\" fill=\"currentColor\" text-anchor=\"middle\" y=\"572.0\">\n",
              "    <tspan class=\"displacy-word\" fill=\"currentColor\" x=\"1800\">są</tspan>\n",
              "    <tspan class=\"displacy-tag\" dy=\"2em\" fill=\"currentColor\" x=\"1800\">AUX</tspan>\n",
              "</text>\n",
              "\n",
              "<text class=\"displacy-token\" fill=\"currentColor\" text-anchor=\"middle\" y=\"572.0\">\n",
              "    <tspan class=\"displacy-word\" fill=\"currentColor\" x=\"1975\">modyfikacją</tspan>\n",
              "    <tspan class=\"displacy-tag\" dy=\"2em\" fill=\"currentColor\" x=\"1975\">NOUN</tspan>\n",
              "</text>\n",
              "\n",
              "<text class=\"displacy-token\" fill=\"currentColor\" text-anchor=\"middle\" y=\"572.0\">\n",
              "    <tspan class=\"displacy-word\" fill=\"currentColor\" x=\"2150\">obowiązków</tspan>\n",
              "    <tspan class=\"displacy-tag\" dy=\"2em\" fill=\"currentColor\" x=\"2150\">NOUN</tspan>\n",
              "</text>\n",
              "\n",
              "<text class=\"displacy-token\" fill=\"currentColor\" text-anchor=\"middle\" y=\"572.0\">\n",
              "    <tspan class=\"displacy-word\" fill=\"currentColor\" x=\"2325\">płatników</tspan>\n",
              "    <tspan class=\"displacy-tag\" dy=\"2em\" fill=\"currentColor\" x=\"2325\">NOUN</tspan>\n",
              "</text>\n",
              "\n",
              "<text class=\"displacy-token\" fill=\"currentColor\" text-anchor=\"middle\" y=\"572.0\">\n",
              "    <tspan class=\"displacy-word\" fill=\"currentColor\" x=\"2500\">i</tspan>\n",
              "    <tspan class=\"displacy-tag\" dy=\"2em\" fill=\"currentColor\" x=\"2500\">CCONJ</tspan>\n",
              "</text>\n",
              "\n",
              "<text class=\"displacy-token\" fill=\"currentColor\" text-anchor=\"middle\" y=\"572.0\">\n",
              "    <tspan class=\"displacy-word\" fill=\"currentColor\" x=\"2675\">pracodawców,</tspan>\n",
              "    <tspan class=\"displacy-tag\" dy=\"2em\" fill=\"currentColor\" x=\"2675\">NOUN</tspan>\n",
              "</text>\n",
              "\n",
              "<text class=\"displacy-token\" fill=\"currentColor\" text-anchor=\"middle\" y=\"572.0\">\n",
              "    <tspan class=\"displacy-word\" fill=\"currentColor\" x=\"2850\">zleceniodawców</tspan>\n",
              "    <tspan class=\"displacy-tag\" dy=\"2em\" fill=\"currentColor\" x=\"2850\">NOUN</tspan>\n",
              "</text>\n",
              "\n",
              "<text class=\"displacy-token\" fill=\"currentColor\" text-anchor=\"middle\" y=\"572.0\">\n",
              "    <tspan class=\"displacy-word\" fill=\"currentColor\" x=\"3025\">i</tspan>\n",
              "    <tspan class=\"displacy-tag\" dy=\"2em\" fill=\"currentColor\" x=\"3025\">CCONJ</tspan>\n",
              "</text>\n",
              "\n",
              "<text class=\"displacy-token\" fill=\"currentColor\" text-anchor=\"middle\" y=\"572.0\">\n",
              "    <tspan class=\"displacy-word\" fill=\"currentColor\" x=\"3200\">organów</tspan>\n",
              "    <tspan class=\"displacy-tag\" dy=\"2em\" fill=\"currentColor\" x=\"3200\">NOUN</tspan>\n",
              "</text>\n",
              "\n",
              "<text class=\"displacy-token\" fill=\"currentColor\" text-anchor=\"middle\" y=\"572.0\">\n",
              "    <tspan class=\"displacy-word\" fill=\"currentColor\" x=\"3375\">rentowych</tspan>\n",
              "    <tspan class=\"displacy-tag\" dy=\"2em\" fill=\"currentColor\" x=\"3375\">ADJ</tspan>\n",
              "</text>\n",
              "\n",
              "<text class=\"displacy-token\" fill=\"currentColor\" text-anchor=\"middle\" y=\"572.0\">\n",
              "    <tspan class=\"displacy-word\" fill=\"currentColor\" x=\"3550\">w</tspan>\n",
              "    <tspan class=\"displacy-tag\" dy=\"2em\" fill=\"currentColor\" x=\"3550\">ADP</tspan>\n",
              "</text>\n",
              "\n",
              "<text class=\"displacy-token\" fill=\"currentColor\" text-anchor=\"middle\" y=\"572.0\">\n",
              "    <tspan class=\"displacy-word\" fill=\"currentColor\" x=\"3725\">zakresie</tspan>\n",
              "    <tspan class=\"displacy-tag\" dy=\"2em\" fill=\"currentColor\" x=\"3725\">NOUN</tspan>\n",
              "</text>\n",
              "\n",
              "<text class=\"displacy-token\" fill=\"currentColor\" text-anchor=\"middle\" y=\"572.0\">\n",
              "    <tspan class=\"displacy-word\" fill=\"currentColor\" x=\"3900\">poboru</tspan>\n",
              "    <tspan class=\"displacy-tag\" dy=\"2em\" fill=\"currentColor\" x=\"3900\">NOUN</tspan>\n",
              "</text>\n",
              "\n",
              "<text class=\"displacy-token\" fill=\"currentColor\" text-anchor=\"middle\" y=\"572.0\">\n",
              "    <tspan class=\"displacy-word\" fill=\"currentColor\" x=\"4075\">zaliczki</tspan>\n",
              "    <tspan class=\"displacy-tag\" dy=\"2em\" fill=\"currentColor\" x=\"4075\">NOUN</tspan>\n",
              "</text>\n",
              "\n",
              "<text class=\"displacy-token\" fill=\"currentColor\" text-anchor=\"middle\" y=\"572.0\">\n",
              "    <tspan class=\"displacy-word\" fill=\"currentColor\" x=\"4250\">na</tspan>\n",
              "    <tspan class=\"displacy-tag\" dy=\"2em\" fill=\"currentColor\" x=\"4250\">ADP</tspan>\n",
              "</text>\n",
              "\n",
              "<text class=\"displacy-token\" fill=\"currentColor\" text-anchor=\"middle\" y=\"572.0\">\n",
              "    <tspan class=\"displacy-word\" fill=\"currentColor\" x=\"4425\">podatek</tspan>\n",
              "    <tspan class=\"displacy-tag\" dy=\"2em\" fill=\"currentColor\" x=\"4425\">NOUN</tspan>\n",
              "</text>\n",
              "\n",
              "<text class=\"displacy-token\" fill=\"currentColor\" text-anchor=\"middle\" y=\"572.0\">\n",
              "    <tspan class=\"displacy-word\" fill=\"currentColor\" x=\"4600\">dochodowy</tspan>\n",
              "    <tspan class=\"displacy-tag\" dy=\"2em\" fill=\"currentColor\" x=\"4600\">ADJ</tspan>\n",
              "</text>\n",
              "\n",
              "<text class=\"displacy-token\" fill=\"currentColor\" text-anchor=\"middle\" y=\"572.0\">\n",
              "    <tspan class=\"displacy-word\" fill=\"currentColor\" x=\"4775\">od</tspan>\n",
              "    <tspan class=\"displacy-tag\" dy=\"2em\" fill=\"currentColor\" x=\"4775\">ADP</tspan>\n",
              "</text>\n",
              "\n",
              "<text class=\"displacy-token\" fill=\"currentColor\" text-anchor=\"middle\" y=\"572.0\">\n",
              "    <tspan class=\"displacy-word\" fill=\"currentColor\" x=\"4950\">osób</tspan>\n",
              "    <tspan class=\"displacy-tag\" dy=\"2em\" fill=\"currentColor\" x=\"4950\">NOUN</tspan>\n",
              "</text>\n",
              "\n",
              "<text class=\"displacy-token\" fill=\"currentColor\" text-anchor=\"middle\" y=\"572.0\">\n",
              "    <tspan class=\"displacy-word\" fill=\"currentColor\" x=\"5125\">fizycznych.</tspan>\n",
              "    <tspan class=\"displacy-tag\" dy=\"2em\" fill=\"currentColor\" x=\"5125\">ADJ</tspan>\n",
              "</text>\n",
              "\n",
              "<g class=\"displacy-arrow\">\n",
              "    <path class=\"displacy-arc\" id=\"arrow-221116820b2840a798524c5c62f16f9d-0-0\" stroke-width=\"2px\" d=\"M70,527.0 C70,264.5 735.0,264.5 735.0,527.0\" fill=\"none\" stroke=\"currentColor\"/>\n",
              "    <text dy=\"1.25em\" style=\"font-size: 0.8em; letter-spacing: 1px\">\n",
              "        <textPath xlink:href=\"#arrow-221116820b2840a798524c5c62f16f9d-0-0\" class=\"displacy-label\" startOffset=\"50%\" side=\"left\" fill=\"currentColor\" text-anchor=\"middle\">parataxis:insert</textPath>\n",
              "    </text>\n",
              "    <path class=\"displacy-arrowhead\" d=\"M70,529.0 L62,517.0 78,517.0\" fill=\"currentColor\"/>\n",
              "</g>\n",
              "\n",
              "<g class=\"displacy-arrow\">\n",
              "    <path class=\"displacy-arc\" id=\"arrow-221116820b2840a798524c5c62f16f9d-0-1\" stroke-width=\"2px\" d=\"M245,527.0 C245,439.5 375.0,439.5 375.0,527.0\" fill=\"none\" stroke=\"currentColor\"/>\n",
              "    <text dy=\"1.25em\" style=\"font-size: 0.8em; letter-spacing: 1px\">\n",
              "        <textPath xlink:href=\"#arrow-221116820b2840a798524c5c62f16f9d-0-1\" class=\"displacy-label\" startOffset=\"50%\" side=\"left\" fill=\"currentColor\" text-anchor=\"middle\">det</textPath>\n",
              "    </text>\n",
              "    <path class=\"displacy-arrowhead\" d=\"M245,529.0 L237,517.0 253,517.0\" fill=\"currentColor\"/>\n",
              "</g>\n",
              "\n",
              "<g class=\"displacy-arrow\">\n",
              "    <path class=\"displacy-arc\" id=\"arrow-221116820b2840a798524c5c62f16f9d-0-2\" stroke-width=\"2px\" d=\"M420,527.0 C420,352.0 730.0,352.0 730.0,527.0\" fill=\"none\" stroke=\"currentColor\"/>\n",
              "    <text dy=\"1.25em\" style=\"font-size: 0.8em; letter-spacing: 1px\">\n",
              "        <textPath xlink:href=\"#arrow-221116820b2840a798524c5c62f16f9d-0-2\" class=\"displacy-label\" startOffset=\"50%\" side=\"left\" fill=\"currentColor\" text-anchor=\"middle\">obj</textPath>\n",
              "    </text>\n",
              "    <path class=\"displacy-arrowhead\" d=\"M420,529.0 L412,517.0 428,517.0\" fill=\"currentColor\"/>\n",
              "</g>\n",
              "\n",
              "<g class=\"displacy-arrow\">\n",
              "    <path class=\"displacy-arc\" id=\"arrow-221116820b2840a798524c5c62f16f9d-0-3\" stroke-width=\"2px\" d=\"M595,527.0 C595,439.5 725.0,439.5 725.0,527.0\" fill=\"none\" stroke=\"currentColor\"/>\n",
              "    <text dy=\"1.25em\" style=\"font-size: 0.8em; letter-spacing: 1px\">\n",
              "        <textPath xlink:href=\"#arrow-221116820b2840a798524c5c62f16f9d-0-3\" class=\"displacy-label\" startOffset=\"50%\" side=\"left\" fill=\"currentColor\" text-anchor=\"middle\">advmod:neg</textPath>\n",
              "    </text>\n",
              "    <path class=\"displacy-arrowhead\" d=\"M595,529.0 L587,517.0 603,517.0\" fill=\"currentColor\"/>\n",
              "</g>\n",
              "\n",
              "<g class=\"displacy-arrow\">\n",
              "    <path class=\"displacy-arc\" id=\"arrow-221116820b2840a798524c5c62f16f9d-0-4\" stroke-width=\"2px\" d=\"M945,527.0 C945,439.5 1075.0,439.5 1075.0,527.0\" fill=\"none\" stroke=\"currentColor\"/>\n",
              "    <text dy=\"1.25em\" style=\"font-size: 0.8em; letter-spacing: 1px\">\n",
              "        <textPath xlink:href=\"#arrow-221116820b2840a798524c5c62f16f9d-0-4\" class=\"displacy-label\" startOffset=\"50%\" side=\"left\" fill=\"currentColor\" text-anchor=\"middle\">case</textPath>\n",
              "    </text>\n",
              "    <path class=\"displacy-arrowhead\" d=\"M945,529.0 L937,517.0 953,517.0\" fill=\"currentColor\"/>\n",
              "</g>\n",
              "\n",
              "<g class=\"displacy-arrow\">\n",
              "    <path class=\"displacy-arc\" id=\"arrow-221116820b2840a798524c5c62f16f9d-0-5\" stroke-width=\"2px\" d=\"M770,527.0 C770,352.0 1080.0,352.0 1080.0,527.0\" fill=\"none\" stroke=\"currentColor\"/>\n",
              "    <text dy=\"1.25em\" style=\"font-size: 0.8em; letter-spacing: 1px\">\n",
              "        <textPath xlink:href=\"#arrow-221116820b2840a798524c5c62f16f9d-0-5\" class=\"displacy-label\" startOffset=\"50%\" side=\"left\" fill=\"currentColor\" text-anchor=\"middle\">obl</textPath>\n",
              "    </text>\n",
              "    <path class=\"displacy-arrowhead\" d=\"M1080.0,529.0 L1088.0,517.0 1072.0,517.0\" fill=\"currentColor\"/>\n",
              "</g>\n",
              "\n",
              "<g class=\"displacy-arrow\">\n",
              "    <path class=\"displacy-arc\" id=\"arrow-221116820b2840a798524c5c62f16f9d-0-6\" stroke-width=\"2px\" d=\"M1120,527.0 C1120,439.5 1250.0,439.5 1250.0,527.0\" fill=\"none\" stroke=\"currentColor\"/>\n",
              "    <text dy=\"1.25em\" style=\"font-size: 0.8em; letter-spacing: 1px\">\n",
              "        <textPath xlink:href=\"#arrow-221116820b2840a798524c5c62f16f9d-0-6\" class=\"displacy-label\" startOffset=\"50%\" side=\"left\" fill=\"currentColor\" text-anchor=\"middle\">obj</textPath>\n",
              "    </text>\n",
              "    <path class=\"displacy-arrowhead\" d=\"M1250.0,529.0 L1258.0,517.0 1242.0,517.0\" fill=\"currentColor\"/>\n",
              "</g>\n",
              "\n",
              "<g class=\"displacy-arrow\">\n",
              "    <path class=\"displacy-arc\" id=\"arrow-221116820b2840a798524c5c62f16f9d-0-7\" stroke-width=\"2px\" d=\"M1470,527.0 C1470,264.5 1960.0,264.5 1960.0,527.0\" fill=\"none\" stroke=\"currentColor\"/>\n",
              "    <text dy=\"1.25em\" style=\"font-size: 0.8em; letter-spacing: 1px\">\n",
              "        <textPath xlink:href=\"#arrow-221116820b2840a798524c5c62f16f9d-0-7\" class=\"displacy-label\" startOffset=\"50%\" side=\"left\" fill=\"currentColor\" text-anchor=\"middle\">cc</textPath>\n",
              "    </text>\n",
              "    <path class=\"displacy-arrowhead\" d=\"M1470,529.0 L1462,517.0 1478,517.0\" fill=\"currentColor\"/>\n",
              "</g>\n",
              "\n",
              "<g class=\"displacy-arrow\">\n",
              "    <path class=\"displacy-arc\" id=\"arrow-221116820b2840a798524c5c62f16f9d-0-8\" stroke-width=\"2px\" d=\"M1645,527.0 C1645,352.0 1955.0,352.0 1955.0,527.0\" fill=\"none\" stroke=\"currentColor\"/>\n",
              "    <text dy=\"1.25em\" style=\"font-size: 0.8em; letter-spacing: 1px\">\n",
              "        <textPath xlink:href=\"#arrow-221116820b2840a798524c5c62f16f9d-0-8\" class=\"displacy-label\" startOffset=\"50%\" side=\"left\" fill=\"currentColor\" text-anchor=\"middle\">advmod:emph</textPath>\n",
              "    </text>\n",
              "    <path class=\"displacy-arrowhead\" d=\"M1645,529.0 L1637,517.0 1653,517.0\" fill=\"currentColor\"/>\n",
              "</g>\n",
              "\n",
              "<g class=\"displacy-arrow\">\n",
              "    <path class=\"displacy-arc\" id=\"arrow-221116820b2840a798524c5c62f16f9d-0-9\" stroke-width=\"2px\" d=\"M1820,527.0 C1820,439.5 1950.0,439.5 1950.0,527.0\" fill=\"none\" stroke=\"currentColor\"/>\n",
              "    <text dy=\"1.25em\" style=\"font-size: 0.8em; letter-spacing: 1px\">\n",
              "        <textPath xlink:href=\"#arrow-221116820b2840a798524c5c62f16f9d-0-9\" class=\"displacy-label\" startOffset=\"50%\" side=\"left\" fill=\"currentColor\" text-anchor=\"middle\">cop</textPath>\n",
              "    </text>\n",
              "    <path class=\"displacy-arrowhead\" d=\"M1820,529.0 L1812,517.0 1828,517.0\" fill=\"currentColor\"/>\n",
              "</g>\n",
              "\n",
              "<g class=\"displacy-arrow\">\n",
              "    <path class=\"displacy-arc\" id=\"arrow-221116820b2840a798524c5c62f16f9d-0-10\" stroke-width=\"2px\" d=\"M770,527.0 C770,177.0 1965.0,177.0 1965.0,527.0\" fill=\"none\" stroke=\"currentColor\"/>\n",
              "    <text dy=\"1.25em\" style=\"font-size: 0.8em; letter-spacing: 1px\">\n",
              "        <textPath xlink:href=\"#arrow-221116820b2840a798524c5c62f16f9d-0-10\" class=\"displacy-label\" startOffset=\"50%\" side=\"left\" fill=\"currentColor\" text-anchor=\"middle\">conj</textPath>\n",
              "    </text>\n",
              "    <path class=\"displacy-arrowhead\" d=\"M1965.0,529.0 L1973.0,517.0 1957.0,517.0\" fill=\"currentColor\"/>\n",
              "</g>\n",
              "\n",
              "<g class=\"displacy-arrow\">\n",
              "    <path class=\"displacy-arc\" id=\"arrow-221116820b2840a798524c5c62f16f9d-0-11\" stroke-width=\"2px\" d=\"M1995,527.0 C1995,439.5 2125.0,439.5 2125.0,527.0\" fill=\"none\" stroke=\"currentColor\"/>\n",
              "    <text dy=\"1.25em\" style=\"font-size: 0.8em; letter-spacing: 1px\">\n",
              "        <textPath xlink:href=\"#arrow-221116820b2840a798524c5c62f16f9d-0-11\" class=\"displacy-label\" startOffset=\"50%\" side=\"left\" fill=\"currentColor\" text-anchor=\"middle\">nmod:arg</textPath>\n",
              "    </text>\n",
              "    <path class=\"displacy-arrowhead\" d=\"M2125.0,529.0 L2133.0,517.0 2117.0,517.0\" fill=\"currentColor\"/>\n",
              "</g>\n",
              "\n",
              "<g class=\"displacy-arrow\">\n",
              "    <path class=\"displacy-arc\" id=\"arrow-221116820b2840a798524c5c62f16f9d-0-12\" stroke-width=\"2px\" d=\"M2170,527.0 C2170,439.5 2300.0,439.5 2300.0,527.0\" fill=\"none\" stroke=\"currentColor\"/>\n",
              "    <text dy=\"1.25em\" style=\"font-size: 0.8em; letter-spacing: 1px\">\n",
              "        <textPath xlink:href=\"#arrow-221116820b2840a798524c5c62f16f9d-0-12\" class=\"displacy-label\" startOffset=\"50%\" side=\"left\" fill=\"currentColor\" text-anchor=\"middle\">nmod</textPath>\n",
              "    </text>\n",
              "    <path class=\"displacy-arrowhead\" d=\"M2300.0,529.0 L2308.0,517.0 2292.0,517.0\" fill=\"currentColor\"/>\n",
              "</g>\n",
              "\n",
              "<g class=\"displacy-arrow\">\n",
              "    <path class=\"displacy-arc\" id=\"arrow-221116820b2840a798524c5c62f16f9d-0-13\" stroke-width=\"2px\" d=\"M2520,527.0 C2520,439.5 2650.0,439.5 2650.0,527.0\" fill=\"none\" stroke=\"currentColor\"/>\n",
              "    <text dy=\"1.25em\" style=\"font-size: 0.8em; letter-spacing: 1px\">\n",
              "        <textPath xlink:href=\"#arrow-221116820b2840a798524c5c62f16f9d-0-13\" class=\"displacy-label\" startOffset=\"50%\" side=\"left\" fill=\"currentColor\" text-anchor=\"middle\">cc</textPath>\n",
              "    </text>\n",
              "    <path class=\"displacy-arrowhead\" d=\"M2520,529.0 L2512,517.0 2528,517.0\" fill=\"currentColor\"/>\n",
              "</g>\n",
              "\n",
              "<g class=\"displacy-arrow\">\n",
              "    <path class=\"displacy-arc\" id=\"arrow-221116820b2840a798524c5c62f16f9d-0-14\" stroke-width=\"2px\" d=\"M2345,527.0 C2345,352.0 2655.0,352.0 2655.0,527.0\" fill=\"none\" stroke=\"currentColor\"/>\n",
              "    <text dy=\"1.25em\" style=\"font-size: 0.8em; letter-spacing: 1px\">\n",
              "        <textPath xlink:href=\"#arrow-221116820b2840a798524c5c62f16f9d-0-14\" class=\"displacy-label\" startOffset=\"50%\" side=\"left\" fill=\"currentColor\" text-anchor=\"middle\">conj</textPath>\n",
              "    </text>\n",
              "    <path class=\"displacy-arrowhead\" d=\"M2655.0,529.0 L2663.0,517.0 2647.0,517.0\" fill=\"currentColor\"/>\n",
              "</g>\n",
              "\n",
              "<g class=\"displacy-arrow\">\n",
              "    <path class=\"displacy-arc\" id=\"arrow-221116820b2840a798524c5c62f16f9d-0-15\" stroke-width=\"2px\" d=\"M2345,527.0 C2345,264.5 2835.0,264.5 2835.0,527.0\" fill=\"none\" stroke=\"currentColor\"/>\n",
              "    <text dy=\"1.25em\" style=\"font-size: 0.8em; letter-spacing: 1px\">\n",
              "        <textPath xlink:href=\"#arrow-221116820b2840a798524c5c62f16f9d-0-15\" class=\"displacy-label\" startOffset=\"50%\" side=\"left\" fill=\"currentColor\" text-anchor=\"middle\">conj</textPath>\n",
              "    </text>\n",
              "    <path class=\"displacy-arrowhead\" d=\"M2835.0,529.0 L2843.0,517.0 2827.0,517.0\" fill=\"currentColor\"/>\n",
              "</g>\n",
              "\n",
              "<g class=\"displacy-arrow\">\n",
              "    <path class=\"displacy-arc\" id=\"arrow-221116820b2840a798524c5c62f16f9d-0-16\" stroke-width=\"2px\" d=\"M3045,527.0 C3045,439.5 3175.0,439.5 3175.0,527.0\" fill=\"none\" stroke=\"currentColor\"/>\n",
              "    <text dy=\"1.25em\" style=\"font-size: 0.8em; letter-spacing: 1px\">\n",
              "        <textPath xlink:href=\"#arrow-221116820b2840a798524c5c62f16f9d-0-16\" class=\"displacy-label\" startOffset=\"50%\" side=\"left\" fill=\"currentColor\" text-anchor=\"middle\">cc</textPath>\n",
              "    </text>\n",
              "    <path class=\"displacy-arrowhead\" d=\"M3045,529.0 L3037,517.0 3053,517.0\" fill=\"currentColor\"/>\n",
              "</g>\n",
              "\n",
              "<g class=\"displacy-arrow\">\n",
              "    <path class=\"displacy-arc\" id=\"arrow-221116820b2840a798524c5c62f16f9d-0-17\" stroke-width=\"2px\" d=\"M2345,527.0 C2345,177.0 3190.0,177.0 3190.0,527.0\" fill=\"none\" stroke=\"currentColor\"/>\n",
              "    <text dy=\"1.25em\" style=\"font-size: 0.8em; letter-spacing: 1px\">\n",
              "        <textPath xlink:href=\"#arrow-221116820b2840a798524c5c62f16f9d-0-17\" class=\"displacy-label\" startOffset=\"50%\" side=\"left\" fill=\"currentColor\" text-anchor=\"middle\">conj</textPath>\n",
              "    </text>\n",
              "    <path class=\"displacy-arrowhead\" d=\"M3190.0,529.0 L3198.0,517.0 3182.0,517.0\" fill=\"currentColor\"/>\n",
              "</g>\n",
              "\n",
              "<g class=\"displacy-arrow\">\n",
              "    <path class=\"displacy-arc\" id=\"arrow-221116820b2840a798524c5c62f16f9d-0-18\" stroke-width=\"2px\" d=\"M3220,527.0 C3220,439.5 3350.0,439.5 3350.0,527.0\" fill=\"none\" stroke=\"currentColor\"/>\n",
              "    <text dy=\"1.25em\" style=\"font-size: 0.8em; letter-spacing: 1px\">\n",
              "        <textPath xlink:href=\"#arrow-221116820b2840a798524c5c62f16f9d-0-18\" class=\"displacy-label\" startOffset=\"50%\" side=\"left\" fill=\"currentColor\" text-anchor=\"middle\">amod</textPath>\n",
              "    </text>\n",
              "    <path class=\"displacy-arrowhead\" d=\"M3350.0,529.0 L3358.0,517.0 3342.0,517.0\" fill=\"currentColor\"/>\n",
              "</g>\n",
              "\n",
              "<g class=\"displacy-arrow\">\n",
              "    <path class=\"displacy-arc\" id=\"arrow-221116820b2840a798524c5c62f16f9d-0-19\" stroke-width=\"2px\" d=\"M3570,527.0 C3570,352.0 3880.0,352.0 3880.0,527.0\" fill=\"none\" stroke=\"currentColor\"/>\n",
              "    <text dy=\"1.25em\" style=\"font-size: 0.8em; letter-spacing: 1px\">\n",
              "        <textPath xlink:href=\"#arrow-221116820b2840a798524c5c62f16f9d-0-19\" class=\"displacy-label\" startOffset=\"50%\" side=\"left\" fill=\"currentColor\" text-anchor=\"middle\">case</textPath>\n",
              "    </text>\n",
              "    <path class=\"displacy-arrowhead\" d=\"M3570,529.0 L3562,517.0 3578,517.0\" fill=\"currentColor\"/>\n",
              "</g>\n",
              "\n",
              "<g class=\"displacy-arrow\">\n",
              "    <path class=\"displacy-arc\" id=\"arrow-221116820b2840a798524c5c62f16f9d-0-20\" stroke-width=\"2px\" d=\"M3570,527.0 C3570,439.5 3700.0,439.5 3700.0,527.0\" fill=\"none\" stroke=\"currentColor\"/>\n",
              "    <text dy=\"1.25em\" style=\"font-size: 0.8em; letter-spacing: 1px\">\n",
              "        <textPath xlink:href=\"#arrow-221116820b2840a798524c5c62f16f9d-0-20\" class=\"displacy-label\" startOffset=\"50%\" side=\"left\" fill=\"currentColor\" text-anchor=\"middle\">fixed</textPath>\n",
              "    </text>\n",
              "    <path class=\"displacy-arrowhead\" d=\"M3700.0,529.0 L3708.0,517.0 3692.0,517.0\" fill=\"currentColor\"/>\n",
              "</g>\n",
              "\n",
              "<g class=\"displacy-arrow\">\n",
              "    <path class=\"displacy-arc\" id=\"arrow-221116820b2840a798524c5c62f16f9d-0-21\" stroke-width=\"2px\" d=\"M2170,527.0 C2170,89.5 3895.0,89.5 3895.0,527.0\" fill=\"none\" stroke=\"currentColor\"/>\n",
              "    <text dy=\"1.25em\" style=\"font-size: 0.8em; letter-spacing: 1px\">\n",
              "        <textPath xlink:href=\"#arrow-221116820b2840a798524c5c62f16f9d-0-21\" class=\"displacy-label\" startOffset=\"50%\" side=\"left\" fill=\"currentColor\" text-anchor=\"middle\">nmod</textPath>\n",
              "    </text>\n",
              "    <path class=\"displacy-arrowhead\" d=\"M3895.0,529.0 L3903.0,517.0 3887.0,517.0\" fill=\"currentColor\"/>\n",
              "</g>\n",
              "\n",
              "<g class=\"displacy-arrow\">\n",
              "    <path class=\"displacy-arc\" id=\"arrow-221116820b2840a798524c5c62f16f9d-0-22\" stroke-width=\"2px\" d=\"M3920,527.0 C3920,439.5 4050.0,439.5 4050.0,527.0\" fill=\"none\" stroke=\"currentColor\"/>\n",
              "    <text dy=\"1.25em\" style=\"font-size: 0.8em; letter-spacing: 1px\">\n",
              "        <textPath xlink:href=\"#arrow-221116820b2840a798524c5c62f16f9d-0-22\" class=\"displacy-label\" startOffset=\"50%\" side=\"left\" fill=\"currentColor\" text-anchor=\"middle\">nmod:arg</textPath>\n",
              "    </text>\n",
              "    <path class=\"displacy-arrowhead\" d=\"M4050.0,529.0 L4058.0,517.0 4042.0,517.0\" fill=\"currentColor\"/>\n",
              "</g>\n",
              "\n",
              "<g class=\"displacy-arrow\">\n",
              "    <path class=\"displacy-arc\" id=\"arrow-221116820b2840a798524c5c62f16f9d-0-23\" stroke-width=\"2px\" d=\"M4270,527.0 C4270,439.5 4400.0,439.5 4400.0,527.0\" fill=\"none\" stroke=\"currentColor\"/>\n",
              "    <text dy=\"1.25em\" style=\"font-size: 0.8em; letter-spacing: 1px\">\n",
              "        <textPath xlink:href=\"#arrow-221116820b2840a798524c5c62f16f9d-0-23\" class=\"displacy-label\" startOffset=\"50%\" side=\"left\" fill=\"currentColor\" text-anchor=\"middle\">case</textPath>\n",
              "    </text>\n",
              "    <path class=\"displacy-arrowhead\" d=\"M4270,529.0 L4262,517.0 4278,517.0\" fill=\"currentColor\"/>\n",
              "</g>\n",
              "\n",
              "<g class=\"displacy-arrow\">\n",
              "    <path class=\"displacy-arc\" id=\"arrow-221116820b2840a798524c5c62f16f9d-0-24\" stroke-width=\"2px\" d=\"M3920,527.0 C3920,352.0 4405.0,352.0 4405.0,527.0\" fill=\"none\" stroke=\"currentColor\"/>\n",
              "    <text dy=\"1.25em\" style=\"font-size: 0.8em; letter-spacing: 1px\">\n",
              "        <textPath xlink:href=\"#arrow-221116820b2840a798524c5c62f16f9d-0-24\" class=\"displacy-label\" startOffset=\"50%\" side=\"left\" fill=\"currentColor\" text-anchor=\"middle\">nmod:arg</textPath>\n",
              "    </text>\n",
              "    <path class=\"displacy-arrowhead\" d=\"M4405.0,529.0 L4413.0,517.0 4397.0,517.0\" fill=\"currentColor\"/>\n",
              "</g>\n",
              "\n",
              "<g class=\"displacy-arrow\">\n",
              "    <path class=\"displacy-arc\" id=\"arrow-221116820b2840a798524c5c62f16f9d-0-25\" stroke-width=\"2px\" d=\"M4445,527.0 C4445,439.5 4575.0,439.5 4575.0,527.0\" fill=\"none\" stroke=\"currentColor\"/>\n",
              "    <text dy=\"1.25em\" style=\"font-size: 0.8em; letter-spacing: 1px\">\n",
              "        <textPath xlink:href=\"#arrow-221116820b2840a798524c5c62f16f9d-0-25\" class=\"displacy-label\" startOffset=\"50%\" side=\"left\" fill=\"currentColor\" text-anchor=\"middle\">amod</textPath>\n",
              "    </text>\n",
              "    <path class=\"displacy-arrowhead\" d=\"M4575.0,529.0 L4583.0,517.0 4567.0,517.0\" fill=\"currentColor\"/>\n",
              "</g>\n",
              "\n",
              "<g class=\"displacy-arrow\">\n",
              "    <path class=\"displacy-arc\" id=\"arrow-221116820b2840a798524c5c62f16f9d-0-26\" stroke-width=\"2px\" d=\"M4795,527.0 C4795,439.5 4925.0,439.5 4925.0,527.0\" fill=\"none\" stroke=\"currentColor\"/>\n",
              "    <text dy=\"1.25em\" style=\"font-size: 0.8em; letter-spacing: 1px\">\n",
              "        <textPath xlink:href=\"#arrow-221116820b2840a798524c5c62f16f9d-0-26\" class=\"displacy-label\" startOffset=\"50%\" side=\"left\" fill=\"currentColor\" text-anchor=\"middle\">case</textPath>\n",
              "    </text>\n",
              "    <path class=\"displacy-arrowhead\" d=\"M4795,529.0 L4787,517.0 4803,517.0\" fill=\"currentColor\"/>\n",
              "</g>\n",
              "\n",
              "<g class=\"displacy-arrow\">\n",
              "    <path class=\"displacy-arc\" id=\"arrow-221116820b2840a798524c5c62f16f9d-0-27\" stroke-width=\"2px\" d=\"M2170,527.0 C2170,2.0 4950.0,2.0 4950.0,527.0\" fill=\"none\" stroke=\"currentColor\"/>\n",
              "    <text dy=\"1.25em\" style=\"font-size: 0.8em; letter-spacing: 1px\">\n",
              "        <textPath xlink:href=\"#arrow-221116820b2840a798524c5c62f16f9d-0-27\" class=\"displacy-label\" startOffset=\"50%\" side=\"left\" fill=\"currentColor\" text-anchor=\"middle\">nmod</textPath>\n",
              "    </text>\n",
              "    <path class=\"displacy-arrowhead\" d=\"M4950.0,529.0 L4958.0,517.0 4942.0,517.0\" fill=\"currentColor\"/>\n",
              "</g>\n",
              "\n",
              "<g class=\"displacy-arrow\">\n",
              "    <path class=\"displacy-arc\" id=\"arrow-221116820b2840a798524c5c62f16f9d-0-28\" stroke-width=\"2px\" d=\"M4970,527.0 C4970,439.5 5100.0,439.5 5100.0,527.0\" fill=\"none\" stroke=\"currentColor\"/>\n",
              "    <text dy=\"1.25em\" style=\"font-size: 0.8em; letter-spacing: 1px\">\n",
              "        <textPath xlink:href=\"#arrow-221116820b2840a798524c5c62f16f9d-0-28\" class=\"displacy-label\" startOffset=\"50%\" side=\"left\" fill=\"currentColor\" text-anchor=\"middle\">amod</textPath>\n",
              "    </text>\n",
              "    <path class=\"displacy-arrowhead\" d=\"M5100.0,529.0 L5108.0,517.0 5092.0,517.0\" fill=\"currentColor\"/>\n",
              "</g>\n",
              "</svg></span>"
            ]
          },
          "metadata": {}
        }
      ]
    },
    {
      "cell_type": "markdown",
      "source": [
        "Parsowanie zależnościowe opisuje związki między wyrazami w zdaniu. Żeby obejrzeć graf zależności można użyć załączonej biblioteki `displacy`. Zaimportuj moduł `displacy` z biblioteki `spacy` i użyj jego funkcji `render` żeby narysować obraz.\n",
        "\n",
        "Pierwszy arguemnt metody `render` jest objekt jaki chcemy narysować - w naszym przypadku jest to powyższe zdanie. Argument `style` ustawiamy na rodzaj wykresu jaki chcemy narysować - w naszym wypadku ma to być `'dep'`. Dodatkowo musimy ustawić argument `jupyter` na `True` żeby się wykres wyświetlił w środowisku notebookowym:"
      ],
      "metadata": {
        "id": "Vp2kduvNWljU"
      }
    },
    {
      "cell_type": "markdown",
      "source": [
        "## NER\n",
        "\n",
        "Kolejnym ciekawym aspektem analizy jest rozpoznawanie encji - tzw. Named Entity Recognition. Dla całego przeiteruj atrybut `ents` i wypisz odpowiedznio `text` oraz `label_`:"
      ],
      "metadata": {
        "id": "J7Y4ELx5XvRo"
      }
    },
    {
      "cell_type": "code",
      "source": [
        "def show_ents(doc):\n",
        "  if doc.ents:\n",
        "    print('{:^30}| {:^8}'.format('text','label_'))\n",
        "    print('-----------------------------------------------')\n",
        "    for ent in doc.ents:\n",
        "      print(f'{ent.text:{30}}| {ent.label_}')\n",
        "  else:\n",
        "    print('No named entities found.')"
      ],
      "metadata": {
        "id": "WVU-ZlY2wWvh"
      },
      "execution_count": 25,
      "outputs": []
    },
    {
      "cell_type": "code",
      "source": [
        "show_ents(sent)"
      ],
      "metadata": {
        "colab": {
          "base_uri": "https://localhost:8080/"
        },
        "id": "VoVWRdE5nGbr",
        "outputId": "7b277dac-672e-4ad2-e3c4-9fe1aa3077c6"
      },
      "execution_count": 26,
      "outputs": [
        {
          "output_type": "stream",
          "name": "stdout",
          "text": [
            "No named entities found.\n"
          ]
        }
      ]
    },
    {
      "cell_type": "code",
      "source": [
        "show_ents(doc)"
      ],
      "metadata": {
        "colab": {
          "base_uri": "https://localhost:8080/"
        },
        "id": "iM9w_vSpnKvU",
        "outputId": "162e0bb3-c503-4cfd-a631-a89a783abb81"
      },
      "execution_count": 27,
      "outputs": [
        {
          "output_type": "stream",
          "name": "stdout",
          "text": [
            "             text             |  label_ \n",
            "-----------------------------------------------\n",
            "Wysoka Izbo                   | orgName\n",
            "7 stycznia 2022 r.            | date\n",
            "Orwella                       | persName\n",
            "2022 r.                       | date\n",
            "2021 r.                       | date\n",
            "2022 r.                       | date\n",
            "2021 r.                       | date\n",
            "2021 r.                       | date\n",
            "2022 r.                       | date\n",
            "grudniu 2022 r.               | date\n",
            "polskich                      | placeName\n",
            "Biuro Legislacyjne            | orgName\n",
            "Biura Legislacyjnego Sejmu    | orgName\n",
            "komisji finansów dowiedliście | orgName\n",
            "ZUS                           | orgName\n",
            "Polsce                        | placeName\n"
          ]
        }
      ]
    },
    {
      "cell_type": "markdown",
      "source": [
        "Displacy też wspiera podświetlanie NER. Dla powyższego zdania (tego samego którego użyliśmy do wykresu parsowania zależnościowego) narysuj wykres o stylu `'ent'`. Jeśli w twoim zdaniu nie ma żadnych nazw, to wybierz jakieś inne zdanie:"
      ],
      "metadata": {
        "id": "ocnYgZzMYLtc"
      }
    },
    {
      "cell_type": "code",
      "source": [
        "sent2 = sentences[3]\n",
        "displacy.render(sent2, style='ent', jupyter=True)\n",
        "\n",
        "colors = {'DATE': 'linear-gradient(90deg, #aa9cfc, #fc9ce7)'}\n",
        "options = {'ents': ['DATE'], 'colors':colors}\n",
        "displacy.render(sent2, style='ent', jupyter=True, options=options)"
      ],
      "metadata": {
        "id": "H-dRzKQHxawS",
        "colab": {
          "base_uri": "https://localhost:8080/",
          "height": 87
        },
        "outputId": "4a9f0688-c792-405e-b537-70db5d16588f"
      },
      "execution_count": 28,
      "outputs": [
        {
          "output_type": "display_data",
          "data": {
            "text/plain": [
              "<IPython.core.display.HTML object>"
            ],
            "text/html": [
              "<span class=\"tex2jax_ignore\"><div class=\"entities\" style=\"line-height: 2.5; direction: ltr\">Tak naprawdę to jest zalegalizowanie rozporządzenia ministra finansów z \n",
              "<mark class=\"entity\" style=\"background: #bfe1d9; padding: 0.45em 0.6em; margin: 0 0.25em; line-height: 1; border-radius: 0.35em;\">\n",
              "    7 stycznia 2022 r.\n",
              "    <span style=\"font-size: 0.8em; font-weight: bold; line-height: 1; border-radius: 0.35em; vertical-align: middle; margin-left: 0.5rem\">date</span>\n",
              "</mark>\n",
              ", rozporządzenia wydanego z przekroczeniem delegacji ustawowych i naruszeniem konstytucji. </div></span>"
            ]
          },
          "metadata": {}
        },
        {
          "output_type": "display_data",
          "data": {
            "text/plain": [
              "<IPython.core.display.HTML object>"
            ],
            "text/html": [
              "<span class=\"tex2jax_ignore\"><div class=\"entities\" style=\"line-height: 2.5; direction: ltr\">Tak naprawdę to jest zalegalizowanie rozporządzenia ministra finansów z \n",
              "<mark class=\"entity\" style=\"background: linear-gradient(90deg, #aa9cfc, #fc9ce7); padding: 0.45em 0.6em; margin: 0 0.25em; line-height: 1; border-radius: 0.35em;\">\n",
              "    7 stycznia 2022 r.\n",
              "    <span style=\"font-size: 0.8em; font-weight: bold; line-height: 1; border-radius: 0.35em; vertical-align: middle; margin-left: 0.5rem\">date</span>\n",
              "</mark>\n",
              ", rozporządzenia wydanego z przekroczeniem delegacji ustawowych i naruszeniem konstytucji. </div></span>"
            ]
          },
          "metadata": {}
        }
      ]
    },
    {
      "cell_type": "markdown",
      "source": [
        "## word2vec\n",
        "\n",
        "Kolejną ciekawą cechą to są wektory rzeczywiste opisujące poszczególne wyrazy.\n",
        "\n",
        "Wypis następujące cechy dla poszczególnych tokenów wybranego zdania:\n",
        "* `has_vector`\n",
        "* `is_oov`\n",
        "* `vector_norm`"
      ],
      "metadata": {
        "id": "4yAdHZJPjxUY"
      }
    },
    {
      "cell_type": "code",
      "source": [
        ""
      ],
      "metadata": {
        "id": "CkJbnTNkyFZb"
      },
      "execution_count": 28,
      "outputs": []
    },
    {
      "cell_type": "markdown",
      "source": [
        "No i oczywiście jest sam `vector`, ale jest on trochę długi żeby go wypisywać metodą `print` dla każdego wyrazu. Zamiast tego narysujemy wykres z położeniami wektorów w przestzeni.\n",
        "\n",
        "Najpierw przepisz wszystkie wektory dla całego tekstu w słowniku mapującym tekstu wyrazu na jego wektor:"
      ],
      "metadata": {
        "id": "svWszDcIkMk9"
      }
    },
    {
      "cell_type": "code",
      "source": [
        ""
      ],
      "metadata": {
        "id": "VR55E2B-CQkh"
      },
      "execution_count": 28,
      "outputs": []
    },
    {
      "cell_type": "markdown",
      "source": [
        "Niestety nie możemy rysować wszystkie 300 wynmiarów wektora, więc zastosujemy popularną metodę do rzutowania wszystkich wymiarów do 2. Zaimportuj model `TSNE` z modułu `sklearn.manifold` i skonstruuj jego objekt podając w metodzie inicującej argument `n_components` równy 2. Potem zastosuj metodę `fit_transform` nowego objektu na wszystkich wektorach (na `values()` słownika wyżej) i zrób nowy słownik z nowo uzyskanymi wekotrami 2-wymiarowymi:"
      ],
      "metadata": {
        "id": "gli-fRIGkpi4"
      }
    },
    {
      "cell_type": "code",
      "source": [
        ""
      ],
      "metadata": {
        "id": "5196XVVFCbAO"
      },
      "execution_count": 28,
      "outputs": []
    },
    {
      "cell_type": "markdown",
      "source": [
        "Żeby zacząć rysować w środowisku notebookowym wystarczy uruchomić polecenie magiczne `%pylab inline`. Zaimportuje to automatycznie numpy, matplotlib i ustawi odpowiednio rysowanie wykresów:"
      ],
      "metadata": {
        "id": "AWXYksFVlzqx"
      }
    },
    {
      "cell_type": "code",
      "source": [
        ""
      ],
      "metadata": {
        "id": "RQrTXNV6DwIO"
      },
      "execution_count": 28,
      "outputs": []
    },
    {
      "cell_type": "markdown",
      "source": [
        "Teraz stwórz nowy wykres poleceniem `figure` i ustaw w nim atrybut `figsize` na parę `(15,15)`. W następnej linii uruchom metodę `scatter` i podaj w niej kolejno pierwszą i drugą kolumnę wszystkich wektorów z tablicy wektorów 2D jaką stworzyliśmy wyżej:"
      ],
      "metadata": {
        "id": "wyWNhfMxmMHs"
      }
    },
    {
      "cell_type": "code",
      "source": [
        ""
      ],
      "metadata": {
        "id": "BK_pdCXnDNbg"
      },
      "execution_count": 28,
      "outputs": []
    },
    {
      "cell_type": "markdown",
      "source": [
        "Możesz dodatkowo użyć metody `gca()` żeby pobrać objekt `Axes` który udostępnia metodę `text`. Metoda ta bierze 3 argumenty: x, y i string. Możesz użyć tej metody żeby wpisać odpowiednie wyrazy w odpowiednich miejscach na wykresie iterując po kolei słownik wektorów 2D.\n",
        "\n",
        "Ponieważ wykres jest z duży i nie widać wszystkich wyrazów razem, można użyć metod `xlim` i `ylim` żeby ograniczyć zakres tego co się wyświetla na ekranie. Niestety metody te nie mają wpływu na metodę `text`, więc w jej przypadku musisz samemu dokonać filtracji poleceniem `if`:"
      ],
      "metadata": {
        "id": "lZo_0KNPm0Il"
      }
    },
    {
      "cell_type": "code",
      "source": [
        ""
      ],
      "metadata": {
        "id": "DiKu2S4TESfX"
      },
      "execution_count": 28,
      "outputs": []
    },
    {
      "cell_type": "markdown",
      "source": [
        "### Praca domowa 1\n",
        "\n",
        "Narysuj wykres TSNE reprezentacji wektorowej jakiegoś dłuższego tekstu - powieści, artykułu zbioru poezji, ..."
      ],
      "metadata": {
        "id": "PbpdPnPEnv3I"
      }
    },
    {
      "cell_type": "code",
      "source": [
        "tekst = \"Żył sobie niegdyś bardzo złośliwy czarodziej. Całą jego przyjemnością było dokuczać ludziom, czynić źle, ze wszystkiego się wyśmiewać i każdą rzecz przedstawiać z najgorszej strony. Wymyślił wreszcie i zrobił takie sztuczne zwierciadło, iż wszystkie rzeczy piękne i dobre wyglądały w nim szkaradnie, a nawet śmiesznie, ponieważ były wykrzywione, zamazane, niewyraźne — za to złe rzeczy widać w nim było doskonale. Tym sposobem cały świat w tym zwierciadle był brzydki i zły, a nic na nim nie było pięknego. Czarodziej klaskał w dłonie i śmiał się ze swego figla, a źli jego uczniowie porwali zwierciadło i biegali z nim wszędzie, podstawiając je ludziom znienacka przed oczy i cieszyli się, i śmiali, kiedy przerażony człowiek zasłaniał oczy ręką; a potem nieraz sam nie wiedział, który świat jest prawdziwy: czy ten, który ogląda co dzień, czy tamten, który ujrzał w zaklętym zwierciadle? I tacy ludzie byli bardzo nieszczęśliwi, a było ich coraz więcej. Cieszył się zły czarodziej, ale to mu nie wystarczało. Uczniowie jego postanowili zanieść zwierciadło aż do nieba. Niechże i aniołowie spojrzą w nie choć raz jeden. To byłaby uciecha! A może i sam Pan Bóg. I zaczęli lecieć do góry. Bardzo im było trudno, a jeszcze z tak ciężkim zwierciadłem — zaledwie mogli utrzymać je w rękach… O, daleko do nieba! Aż im pot okrył czoła, a ręce drżeć zaczęły. Wtem, trrrach! I ciężkie lustro z takiej wysokości brzdęk aż na ziemię! Naturalnie w mgnieniu oka rozprysnęło się na miliony, miliony drobnych szczątków, na nieskończoną ilość czarodziejskiego pyłku, który rozleciał się na wszystkie strony. Ale to właśnie było najgorsze nieszczęście! Zamiast jednego lustra, były ich teraz miliony; rozproszyły się wszędzie, a w każdym najmniejszym kawałeczku, choćby drobnym jak ziarnko piasku, widać było świat cały szkaradny, śmieszny, wykrzywiony. Jeżeli taki proszek wpadł komu do oka, to człowiek ten wszystko już widział zmienione i nie mógł dostrzec koło siebie nic dobrego, nic pięknego! Za to najgorsze rzeczy widział jasno i wyraźnie, więc wszystko złem było dla niego. Gorzej jeszcze, jeżeli okruszyna lustra wpadła komu do serca. Nieszczęśliwy tracił uczucie: serce jego stawało się kawałkiem lodu, nikogo kochać nie mógł, wszyscy byli dla niego obcy, obojętni. Z większych kawałków porobiono szyby, z innych szkła do okularów, a mnóstwo jeszcze krążyło w powietrzu — wiatr je roznosił wciąż dalej i dalej, i naturalnie coraz więcej ludzi stawało się nieszczęśliwymi kalekami. A niegodziwych pyłków ciągle jeszcze pełno i zobaczymy, co z tego wynikło.\"\n",
        "\n",
        "docG = nlp(tekst)"
      ],
      "metadata": {
        "colab": {
          "base_uri": "https://localhost:8080/",
          "height": 305
        },
        "id": "BKJTF1TBqOQp",
        "outputId": "c7cc23cf-1c4c-4154-d6a9-3cae3adcb862"
      },
      "execution_count": 31,
      "outputs": [
        {
          "output_type": "error",
          "ename": "NameError",
          "evalue": "ignored",
          "traceback": [
            "\u001b[0;31m---------------------------------------------------------------------------\u001b[0m",
            "\u001b[0;31mNameError\u001b[0m                                 Traceback (most recent call last)",
            "\u001b[0;32m<ipython-input-31-23467870c50e>\u001b[0m in \u001b[0;36m<module>\u001b[0;34m()\u001b[0m\n\u001b[1;32m      1\u001b[0m \u001b[0mtekst\u001b[0m \u001b[0;34m=\u001b[0m \u001b[0;34m\"Żył sobie niegdyś bardzo złośliwy czarodziej. Całą jego przyjemnością było dokuczać ludziom, czynić źle, ze wszystkiego się wyśmiewać i każdą rzecz przedstawiać z najgorszej strony. Wymyślił wreszcie i zrobił takie sztuczne zwierciadło, iż wszystkie rzeczy piękne i dobre wyglądały w nim szkaradnie, a nawet śmiesznie, ponieważ były wykrzywione, zamazane, niewyraźne — za to złe rzeczy widać w nim było doskonale. Tym sposobem cały świat w tym zwierciadle był brzydki i zły, a nic na nim nie było pięknego. Czarodziej klaskał w dłonie i śmiał się ze swego figla, a źli jego uczniowie porwali zwierciadło i biegali z nim wszędzie, podstawiając je ludziom znienacka przed oczy i cieszyli się, i śmiali, kiedy przerażony człowiek zasłaniał oczy ręką; a potem nieraz sam nie wiedział, który świat jest prawdziwy: czy ten, który ogląda co dzień, czy tamten, który ujrzał w zaklętym zwierciadle? I tacy ludzie byli bardzo nieszczęśliwi, a było ich coraz więcej. Cieszył się zły czarodziej, ale to mu nie wystarczało. Uczniowie jego postanowili zanieść zwierciadło aż do nieba. Niechże i aniołowie spojrzą w nie choć raz jeden. To byłaby uciecha! A może i sam Pan Bóg. I zaczęli lecieć do góry. Bardzo im było trudno, a jeszcze z tak ciężkim zwierciadłem — zaledwie mogli utrzymać je w rękach… O, daleko do nieba! Aż im pot okrył czoła, a ręce drżeć zaczęły. Wtem, trrrach! I ciężkie lustro z takiej wysokości brzdęk aż na ziemię! Naturalnie w mgnien...\n\u001b[1;32m      2\u001b[0m \u001b[0;34m\u001b[0m\u001b[0m\n\u001b[0;32m----> 3\u001b[0;31m \u001b[0mdocG\u001b[0m \u001b[0;34m=\u001b[0m \u001b[0mnlp\u001b[0m\u001b[0;34m(\u001b[0m\u001b[0mtekst\u001b[0m\u001b[0;34m)\u001b[0m\u001b[0;34m\u001b[0m\u001b[0;34m\u001b[0m\u001b[0m\n\u001b[0m",
            "\u001b[0;31mNameError\u001b[0m: name 'nlp' is not defined"
          ]
        }
      ]
    },
    {
      "cell_type": "code",
      "source": [
        "sentencesG = [sent for sent in docG.sents]\n",
        "sent111 = sentencesG[111]\n",
        "print(sent111)\n",
        "\n",
        "token_vect_dictG = {}\n",
        "for sent in sentencesG:\n",
        "  for token in sent:\n",
        "    if token not in token_vect_dictG.keys():\n",
        "      token_vect_dictG[token.text]=token.vector\n",
        "\n",
        "len(token_vect_dictG['rumaki'])\n",
        "\n",
        "print('Liczba kluczy w słowniku: ', len(token_vect_dictG.keys()))\n",
        "\n",
        "GX = [value for value in token_vect_dictG.values()]\n",
        "Gy = [key for key in token_vect_dictG.keys()]\n",
        "\n",
        "tsneG = TSNE(n_components=2)\n",
        "GX_embedded = tsneG.fit_transform(GX)\n",
        "\n",
        "new_dictG = {}\n",
        "for i in range(len(Gy)):\n",
        "  new_dictG[Gy[i]] = GX_embedded[i]\n",
        "\n",
        "len(new_dictG) \n",
        "\n",
        "plt.figure(figsize=(15,15))\n",
        "sns.set_style('darkgrid')\n",
        "plt.scatter(np.hsplit(GX_embedded,2)[0], np.hsplit(GX_embedded,2)[1])"
      ],
      "metadata": {
        "id": "RYBiGIp9sNez"
      },
      "execution_count": null,
      "outputs": []
    },
    {
      "cell_type": "markdown",
      "source": [
        "## Dalsze rozważania na temat word2vec\n",
        "\n",
        "Model word2vec opisany wyżej może być użyty do rozwiązywania wielu zadań takich jak klasyfikacja, clustering, czy liczenie podobieństwa. Jest tez ciekawe zastosowanie polegające na wyszukiwaniu (generowaniu?) wyrazów. Do tego celu nie możemy jednak użyć biblioteki spacy. Ściągnijmy najpierw model word2vec wytrenowany na polskich tekstach z tego adresu:\n",
        "\n",
        "https://github.com/sdadas/polish-nlp-resources/releases/download/v1.0/word2vec.zip\n",
        "\n",
        "Ściągnij i rozpakuj powyższy plik:"
      ],
      "metadata": {
        "id": "LpfhJRNN5eUM"
      }
    },
    {
      "cell_type": "code",
      "source": [
        ""
      ],
      "metadata": {
        "id": "AGkkkxxI2gZ-"
      },
      "execution_count": 28,
      "outputs": []
    },
    {
      "cell_type": "markdown",
      "source": [
        "Zaimportuj klasę `KeyedVectors` z biblioteki `gensim.models` i użyj metody `load` żeby wczytać plik `*.bin` rozpakowany wyżej:"
      ],
      "metadata": {
        "id": "56cMBatfzGKx"
      }
    },
    {
      "cell_type": "code",
      "source": [
        ""
      ],
      "metadata": {
        "id": "kZnmCbH84BKz"
      },
      "execution_count": 28,
      "outputs": []
    },
    {
      "cell_type": "markdown",
      "source": [
        "Wczytany model umożliwia wyszukanie wyrazów podobnych do podanego metodą `similar_by_word`. Użyj tej metody do wyszukania wyrazu `tata`:"
      ],
      "metadata": {
        "id": "R6xk-Wn4zXLf"
      }
    },
    {
      "cell_type": "code",
      "source": [
        ""
      ],
      "metadata": {
        "id": "xijkEdZ74GI2"
      },
      "execution_count": 28,
      "outputs": []
    },
    {
      "cell_type": "markdown",
      "source": [
        "Model word2vec jest często używany do przedstawiania operacji arytmetycznych jakie można wykonywać na tych wektorach. Na przykład, odejmując \"mężczyzna\" od \"tata\" i dodając do wyniku \"kobieta\" powinniśmy otrzymać \"mama\".\n",
        "\n",
        "Do tego można użyć metody `most_similar` podając w argumencie `positive` listę `['kobieta','tata']` a w argumencie `negative` listę `['mężczyzna']`:"
      ],
      "metadata": {
        "id": "RO6IOJA7zpMF"
      }
    },
    {
      "cell_type": "code",
      "source": [
        ""
      ],
      "metadata": {
        "id": "jaTfMuHC4Y10"
      },
      "execution_count": 28,
      "outputs": []
    },
    {
      "cell_type": "markdown",
      "source": [
        "### Praca domowa 2\n",
        "\n",
        "Wymyśl więcej przykłądów jak ten powyżej. Niektóre (większość) średnio działają (zależy to od rozmiaru i jakości modelu), ale niektóre mogą być ciekawe."
      ],
      "metadata": {
        "id": "kXFvkt4Q0U7W"
      }
    },
    {
      "cell_type": "markdown",
      "source": [
        "## Modelowanie języka\n",
        "\n",
        "W tym zadaniu wytrenujemy prosty statystyczny model języka i sprawdzimy jego budowę i możliwości zastosowania.\n",
        "\n",
        "Do budowania modelu użyjemy pakietu SRILM. Jak zwykle, nie jest on jedynym narzędziem do tego zastosowania, ale jest jednym z najstarszych i najbardziej cytowanych:"
      ],
      "metadata": {
        "id": "xIit4mro5Z-2"
      }
    },
    {
      "cell_type": "code",
      "source": [
        "!wget -N http://users.pja.edu.pl/~danijel/zum/srilm-bin.tar.xz\n",
        "!tar xf srilm-bin.tar.xz bin/i686-m64/ngram bin/i686-m64/ngram-count\n",
        "%mv bin/i686-m64/* /usr/local/bin"
      ],
      "metadata": {
        "id": "f3KjnLJMMjrI",
        "colab": {
          "base_uri": "https://localhost:8080/"
        },
        "outputId": "f911e4db-1bd1-4e4f-e2cd-edfcc0ba0fd6"
      },
      "execution_count": 29,
      "outputs": [
        {
          "output_type": "stream",
          "name": "stdout",
          "text": [
            "--2022-07-01 21:24:56--  http://users.pja.edu.pl/~danijel/zum/srilm-bin.tar.xz\n",
            "Resolving users.pja.edu.pl (users.pja.edu.pl)... 91.230.222.21, 2001:67c:23f4::ab00\n",
            "Connecting to users.pja.edu.pl (users.pja.edu.pl)|91.230.222.21|:80... connected.\n",
            "HTTP request sent, awaiting response... 200 OK\n",
            "Length: 37056672 (35M) [application/x-xz]\n",
            "Saving to: ‘srilm-bin.tar.xz’\n",
            "\n",
            "srilm-bin.tar.xz    100%[===================>]  35.34M  23.8MB/s    in 1.5s    \n",
            "\n",
            "2022-07-01 21:24:58 (23.8 MB/s) - ‘srilm-bin.tar.xz’ saved [37056672/37056672]\n",
            "\n"
          ]
        }
      ]
    },
    {
      "cell_type": "markdown",
      "source": [
        "Modele języka trenujemy na tzw. korpusach tekstów. Taki korpus to po prostu lista poprawnych zdań w wybranym języku - jedno zdanie na linię. Zróbmy taki miniaturowy przykładowy korpus zawierający 3 zdania:\n",
        "```\n",
        "ala ma kota\n",
        "ala ma psa\n",
        "jan ma kota\n",
        "```\n",
        "\n",
        "Zapisz te zdania do pliku `test.txt`:"
      ],
      "metadata": {
        "id": "wqh1VoQwNIfN"
      }
    },
    {
      "cell_type": "code",
      "source": [
        ""
      ],
      "metadata": {
        "id": "RZshA-40M3iy"
      },
      "execution_count": 29,
      "outputs": []
    },
    {
      "cell_type": "markdown",
      "source": [
        "Do utworzenia modelu języka użyjemy programu `ngram-count`. Program ten ma mnóstwo opcji, które można obejrzeć uruchamiając go z opcją `-help`. Nas będą interesować następujące ustawienia:\n",
        "\n",
        " * `-text test.txt` - tym ustawimy plik źródłowy z korpusem\n",
        " * `-order 3` - tym ustawimy to, że chcemy mieć model 3-gramowy\n",
        " * `-wbdiscount` - użyjemy metodę wygładzania Witten-Bell\n",
        " * `-lm out.arpa` - wynik zapiszemy do pliku `out.arpa`"
      ],
      "metadata": {
        "id": "S9Q8ymv1NpQc"
      }
    },
    {
      "cell_type": "code",
      "source": [
        ""
      ],
      "metadata": {
        "id": "ZwQzOQUoNKrE"
      },
      "execution_count": 29,
      "outputs": []
    },
    {
      "cell_type": "markdown",
      "source": [
        "Wypiszmy zawartość pliku `out.arpa`:"
      ],
      "metadata": {
        "id": "FX7fra7JNuSM"
      }
    },
    {
      "cell_type": "code",
      "source": [
        ""
      ],
      "metadata": {
        "id": "JFtmOzfONrh9"
      },
      "execution_count": 29,
      "outputs": []
    },
    {
      "cell_type": "markdown",
      "source": [
        "Format tego pliku jest dosyć prosty i czytelny. Składa się z nagłówka zaczynającego od tokenu `/data/` i zawierającego liczność poszczególnych n-gramów. Potem mamy kolejne sekcje, każda zawierająca listę poszczególnych n-gramów.\n",
        "\n",
        "Każdy n-gram jest opisany dwoma lub trzema polami oddzielonymi znakami `\\t`:\n",
        "* prawdopodobieństwo danego n-gramu w skali logarytmicznej\n",
        "* opis samego n-gramu (tokeny/słowa oddzielone spacją)\n",
        "* opcjonalnie tzw. \"*back-off weight*\" też w skali log\n",
        "\n",
        "Back-off jest metodą do określenia prawdopodobieństwa n-gramów wyższego stopnia użwyając n-gramów niższego. Z tego powodu, najwyższe n-gramy (w naszym przypadku 3-gramy) nie mają policzonych wag back-off. Algorytm liczenia prawdopodonieństwa n-gramu jest następujący:\n",
        "\n",
        "* jeśli na liście jest dokładnie ten n-gram którego szukamy, bierzemy jego prawdopodobieństwo\n",
        "* jeśli go nie ma liście, bierzemy prawdopodobieństwo według wzoru:\n",
        "\n",
        "\\begin{equation}\n",
        "P( word_N | word_{N-1}, word_{N-2}, ...., word_1 ) = \\\\\n",
        "P( word_N | word_{N-1}, word_{N-2}, ...., word_2 ) \\cdot \\text{backoff-weight}(  word_{N-1} | word_{N-2}, ...., word_1 )\n",
        "\\end{equation}\n",
        "\n",
        "* jeśli brakuje prawdopodobieństwa n-gramu mniejszego stopnia, wtedy rekurencyjnie stosujemy ten sam wzór aż do unigramów (które wszystkie powinny być zdefiniowane)\n",
        "* jeśli brakuje wagi back-off, zakładmy wartość 1 (czyli 0 w skali logarytmicznej)\n",
        "\n",
        "Na przykład, prawdopodobieństwo n-gramu \"*ala ma*\" jest następujące:\n",
        "\n",
        "\\begin{equation}\n",
        "P(ma|ala) = 10^{-0.1760913} = 0.6666666038148176\n",
        "\\end{equation}\n",
        "\n",
        "A prawdopodobieństwo n-gramu \"*jan ma psa*\":\n",
        "\n",
        "\n",
        "\\begin{equation}\n",
        "P(psa|jan,ma) = P(psa|ma)*bwt(ma|jan)=10^{(-0.69897+0)}=0.20000000199681048\n",
        "\\end{equation}\n",
        "\n",
        "Użyjmy prostej biblioteki `arpa` żeby potwierdzić powyższe obliczenia. Dokumentacja do biblioteki jest [tutaj](https://pypi.org/project/arpa/). Bibliotekę trzeba najpierw zainstalować:"
      ],
      "metadata": {
        "id": "RpCUk9sZNxpO"
      }
    },
    {
      "cell_type": "code",
      "source": [
        "!pip install arpa"
      ],
      "metadata": {
        "id": "R3-HO-sZN3Zy",
        "colab": {
          "base_uri": "https://localhost:8080/"
        },
        "outputId": "d390d22f-26b6-4850-ee30-dd1cf98ad83a"
      },
      "execution_count": 30,
      "outputs": [
        {
          "output_type": "stream",
          "name": "stdout",
          "text": [
            "Looking in indexes: https://pypi.org/simple, https://us-python.pkg.dev/colab-wheels/public/simple/\n",
            "Collecting arpa\n",
            "  Downloading arpa-0.1.0b4-py3-none-any.whl (9.6 kB)\n",
            "Installing collected packages: arpa\n",
            "Successfully installed arpa-0.1.0b4\n"
          ]
        }
      ]
    },
    {
      "cell_type": "markdown",
      "source": [
        "Teaz zaimportuj całą bibliotekę `arpa` i użyj metody `loadf` żeby wczytać wyżej stworzony plik `out.arpa`. Metoda ta zwraca listę modeli, a nas oczywiście interesuje pierwszy (i jedyny) model.\n",
        "\n",
        "Po wczytaniu modelu można użyć wiele różnych metod. Nas interesuje metoda `p` która wylicza prawdopodobieństwo n-gramu. Dla powyższych przykładów, w pierwszym przypadku należy podać jako argument `'ala ma'` a w drugim `'jan ma psa'`:"
      ],
      "metadata": {
        "id": "uBtkWReD2gkQ"
      }
    },
    {
      "cell_type": "code",
      "source": [
        ""
      ],
      "metadata": {
        "id": "xqVGMboFNwUD"
      },
      "execution_count": 30,
      "outputs": []
    },
    {
      "cell_type": "markdown",
      "source": [
        "Jeśli wszystko poszło dobrze, wartości powinny być takie same jak wyżej. Dla zainteresowanych modelami ARPA polecam poczytać (niedługi i nieskomplikowany) kod źródłowy tej biblioteki.\n",
        "\n",
        "Jedną z podstatowych miar jakości modelu języka to tzw. *perplexity*. Liczymy go stotując wytrenowany model języka na niezależnym zbiorze testowym. Zróbmy przykładowy zbiór zawierający jedno zdanie `ala ma osę` i zapiszmy w pliku `eval.txt`:"
      ],
      "metadata": {
        "id": "BE4gxDESOBrW"
      }
    },
    {
      "cell_type": "code",
      "source": [
        ""
      ],
      "metadata": {
        "id": "Z41_PVSwOB9I"
      },
      "execution_count": 30,
      "outputs": []
    },
    {
      "cell_type": "markdown",
      "source": [
        "Do wyliczenia perplexity użyjemy programu `ngram` i użyjemy w nim opcję `-lm out.arpa` do wczytania pliku z modelem oraz `-ppl eval.txt` żeby policzyć perplexity na wybranym pliku:"
      ],
      "metadata": {
        "id": "Pk8JFNfHODdF"
      }
    },
    {
      "cell_type": "code",
      "source": [
        ""
      ],
      "metadata": {
        "id": "dlzsjRXSOGNe"
      },
      "execution_count": 30,
      "outputs": []
    },
    {
      "cell_type": "markdown",
      "source": [
        "Wyniki zawierają ilość zdań, słów i wyrazów spoza słownika (OOV - out-of-vocabulary). Zawiera też wyliczony logprob całego korpusu oraz perplexity wyczlione uwzględniając i nieuwzlgędniając sztucznie dodane tokeny `<s>` oraz `</s>`. Im mniejsza wartość PPL, tym model lepiej opisuje testowy zbiór tekstów.\n",
        "\n",
        "Program `ngram` ma mnóstwo zastosowań, głównie związanych z edycją i manipulacją wytrenowanego modelu języka. Ma też opcję `-gen <N>` do wygenerowania losowych zdań z konkretnego modelu języka:"
      ],
      "metadata": {
        "id": "_Gxq0gD1OKB8"
      }
    },
    {
      "cell_type": "code",
      "source": [
        ""
      ],
      "metadata": {
        "id": "DiVLgUmIOHxn"
      },
      "execution_count": 30,
      "outputs": []
    },
    {
      "cell_type": "markdown",
      "source": [
        "### Praca domowa 3\n",
        "\n",
        "Zrób model języka z większego tekstu, np ściągniętego stąd:\n",
        "\n",
        "http://users.pja.edu.pl/~danijel/zum/sejm-text.xz\n",
        "\n",
        "Sprawdź perplexity na przykładowym tekście i wygeneruj jakiś losowy tekst."
      ],
      "metadata": {
        "id": "xB3mquMb3jnv"
      }
    },
    {
      "cell_type": "code",
      "source": [
        ""
      ],
      "metadata": {
        "id": "lMPohLSsOfmO"
      },
      "execution_count": 30,
      "outputs": []
    }
  ]
}