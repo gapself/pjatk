{
  "nbformat": 4,
  "nbformat_minor": 0,
  "metadata": {
    "colab": {
      "name": "s23917-projekt-2-ZUM.ipynb",
      "provenance": [],
      "collapsed_sections": [],
      "include_colab_link": true
    },
    "kernelspec": {
      "name": "python3",
      "display_name": "Python 3"
    },
    "language_info": {
      "name": "python"
    },
    "accelerator": "GPU"
  },
  "cells": [
    {
      "cell_type": "markdown",
      "metadata": {
        "id": "view-in-github",
        "colab_type": "text"
      },
      "source": [
        "<a href=\"https://colab.research.google.com/github/gapself/pjatk/blob/main/s23917_projekt_2_ZUM.ipynb\" target=\"_parent\"><img src=\"https://colab.research.google.com/assets/colab-badge.svg\" alt=\"Open In Colab\"/></a>"
      ]
    },
    {
      "cell_type": "markdown",
      "source": [
        "# **NLP - ZUM - 23917**"
      ],
      "metadata": {
        "id": "DnfIUHKcblUo"
      }
    },
    {
      "cell_type": "code",
      "source": [
        "!python -m pip install spacy==2.3.2 -q"
      ],
      "metadata": {
        "id": "XB-xw5sTxr3w",
        "outputId": "3a19a234-34d2-4666-bd43-2642263a6b01",
        "colab": {
          "base_uri": "https://localhost:8080/"
        }
      },
      "execution_count": null,
      "outputs": [
        {
          "output_type": "stream",
          "name": "stdout",
          "text": [
            "\u001b[K     |████████████████████████████████| 9.9 MB 1.2 MB/s \n",
            "\u001b[K     |████████████████████████████████| 2.1 MB 36.2 MB/s \n",
            "\u001b[?25h"
          ]
        }
      ]
    },
    {
      "cell_type": "code",
      "source": [
        "!python -m spacy download pl_core_news_md"
      ],
      "metadata": {
        "id": "kLDvdtqVxuI7",
        "colab": {
          "base_uri": "https://localhost:8080/"
        },
        "outputId": "8f50f373-204f-4c25-8131-b280a66d8de5"
      },
      "execution_count": null,
      "outputs": [
        {
          "output_type": "stream",
          "name": "stdout",
          "text": [
            "Collecting pl_core_news_md==2.3.0\n",
            "  Downloading https://github.com/explosion/spacy-models/releases/download/pl_core_news_md-2.3.0/pl_core_news_md-2.3.0.tar.gz (79.9 MB)\n",
            "\u001b[K     |████████████████████████████████| 79.9 MB 1.4 MB/s \n",
            "\u001b[?25hRequirement already satisfied: spacy<2.4.0,>=2.3.0 in /usr/local/lib/python3.7/dist-packages (from pl_core_news_md==2.3.0) (2.3.2)\n",
            "Requirement already satisfied: srsly<1.1.0,>=1.0.2 in /usr/local/lib/python3.7/dist-packages (from spacy<2.4.0,>=2.3.0->pl_core_news_md==2.3.0) (1.0.5)\n",
            "Requirement already satisfied: numpy>=1.15.0 in /usr/local/lib/python3.7/dist-packages (from spacy<2.4.0,>=2.3.0->pl_core_news_md==2.3.0) (1.19.5)\n",
            "Requirement already satisfied: blis<0.5.0,>=0.4.0 in /usr/local/lib/python3.7/dist-packages (from spacy<2.4.0,>=2.3.0->pl_core_news_md==2.3.0) (0.4.1)\n",
            "Requirement already satisfied: murmurhash<1.1.0,>=0.28.0 in /usr/local/lib/python3.7/dist-packages (from spacy<2.4.0,>=2.3.0->pl_core_news_md==2.3.0) (1.0.6)\n",
            "Requirement already satisfied: preshed<3.1.0,>=3.0.2 in /usr/local/lib/python3.7/dist-packages (from spacy<2.4.0,>=2.3.0->pl_core_news_md==2.3.0) (3.0.6)\n",
            "Requirement already satisfied: cymem<2.1.0,>=2.0.2 in /usr/local/lib/python3.7/dist-packages (from spacy<2.4.0,>=2.3.0->pl_core_news_md==2.3.0) (2.0.6)\n",
            "Requirement already satisfied: plac<1.2.0,>=0.9.6 in /usr/local/lib/python3.7/dist-packages (from spacy<2.4.0,>=2.3.0->pl_core_news_md==2.3.0) (1.1.3)\n",
            "Requirement already satisfied: thinc==7.4.1 in /usr/local/lib/python3.7/dist-packages (from spacy<2.4.0,>=2.3.0->pl_core_news_md==2.3.0) (7.4.1)\n",
            "Requirement already satisfied: tqdm<5.0.0,>=4.38.0 in /usr/local/lib/python3.7/dist-packages (from spacy<2.4.0,>=2.3.0->pl_core_news_md==2.3.0) (4.62.3)\n",
            "Requirement already satisfied: catalogue<1.1.0,>=0.0.7 in /usr/local/lib/python3.7/dist-packages (from spacy<2.4.0,>=2.3.0->pl_core_news_md==2.3.0) (1.0.0)\n",
            "Requirement already satisfied: setuptools in /usr/local/lib/python3.7/dist-packages (from spacy<2.4.0,>=2.3.0->pl_core_news_md==2.3.0) (57.4.0)\n",
            "Requirement already satisfied: requests<3.0.0,>=2.13.0 in /usr/local/lib/python3.7/dist-packages (from spacy<2.4.0,>=2.3.0->pl_core_news_md==2.3.0) (2.23.0)\n",
            "Requirement already satisfied: wasabi<1.1.0,>=0.4.0 in /usr/local/lib/python3.7/dist-packages (from spacy<2.4.0,>=2.3.0->pl_core_news_md==2.3.0) (0.9.0)\n",
            "Requirement already satisfied: importlib-metadata>=0.20 in /usr/local/lib/python3.7/dist-packages (from catalogue<1.1.0,>=0.0.7->spacy<2.4.0,>=2.3.0->pl_core_news_md==2.3.0) (4.10.1)\n",
            "Requirement already satisfied: typing-extensions>=3.6.4 in /usr/local/lib/python3.7/dist-packages (from importlib-metadata>=0.20->catalogue<1.1.0,>=0.0.7->spacy<2.4.0,>=2.3.0->pl_core_news_md==2.3.0) (3.10.0.2)\n",
            "Requirement already satisfied: zipp>=0.5 in /usr/local/lib/python3.7/dist-packages (from importlib-metadata>=0.20->catalogue<1.1.0,>=0.0.7->spacy<2.4.0,>=2.3.0->pl_core_news_md==2.3.0) (3.7.0)\n",
            "Requirement already satisfied: chardet<4,>=3.0.2 in /usr/local/lib/python3.7/dist-packages (from requests<3.0.0,>=2.13.0->spacy<2.4.0,>=2.3.0->pl_core_news_md==2.3.0) (3.0.4)\n",
            "Requirement already satisfied: urllib3!=1.25.0,!=1.25.1,<1.26,>=1.21.1 in /usr/local/lib/python3.7/dist-packages (from requests<3.0.0,>=2.13.0->spacy<2.4.0,>=2.3.0->pl_core_news_md==2.3.0) (1.24.3)\n",
            "Requirement already satisfied: certifi>=2017.4.17 in /usr/local/lib/python3.7/dist-packages (from requests<3.0.0,>=2.13.0->spacy<2.4.0,>=2.3.0->pl_core_news_md==2.3.0) (2021.10.8)\n",
            "Requirement already satisfied: idna<3,>=2.5 in /usr/local/lib/python3.7/dist-packages (from requests<3.0.0,>=2.13.0->spacy<2.4.0,>=2.3.0->pl_core_news_md==2.3.0) (2.10)\n",
            "Building wheels for collected packages: pl-core-news-md\n",
            "  Building wheel for pl-core-news-md (setup.py) ... \u001b[?25l\u001b[?25hdone\n",
            "  Created wheel for pl-core-news-md: filename=pl_core_news_md-2.3.0-py3-none-any.whl size=79999060 sha256=1ba57a0e69be063b73f233535cdbb4135a1711ed15a92174d36d66648fe54c9a\n",
            "  Stored in directory: /tmp/pip-ephem-wheel-cache-durrd00y/wheels/69/69/49/eff1a839d507c3ad2da48a01d1d34dd3deae72d78776b4b5b1\n",
            "Successfully built pl-core-news-md\n",
            "Installing collected packages: pl-core-news-md\n",
            "Successfully installed pl-core-news-md-2.3.0\n",
            "\u001b[38;5;2m✔ Download and installation successful\u001b[0m\n",
            "You can now load the model via spacy.load('pl_core_news_md')\n"
          ]
        }
      ]
    },
    {
      "cell_type": "markdown",
      "source": [
        "### ❗❗ Uruchamiam znowu środowisko wykonawcze! ❗❗\n",
        "\n"
      ],
      "metadata": {
        "id": "4wzMoiy-cPh-"
      }
    },
    {
      "cell_type": "markdown",
      "source": [
        "##Sprawdzam połączenie z tweepy"
      ],
      "metadata": {
        "id": "yOOiEyI0eSq_"
      }
    },
    {
      "cell_type": "code",
      "source": [
        "!pip install tweepy\n",
        "import tweepy"
      ],
      "metadata": {
        "id": "uvdOnFidjBhq",
        "outputId": "92b0696c-10f4-4ab0-a833-bad54243b201",
        "colab": {
          "base_uri": "https://localhost:8080/"
        }
      },
      "execution_count": null,
      "outputs": [
        {
          "output_type": "stream",
          "name": "stdout",
          "text": [
            "Requirement already satisfied: tweepy in /usr/local/lib/python3.7/dist-packages (3.10.0)\n",
            "Requirement already satisfied: six>=1.10.0 in /usr/local/lib/python3.7/dist-packages (from tweepy) (1.15.0)\n",
            "Requirement already satisfied: requests[socks]>=2.11.1 in /usr/local/lib/python3.7/dist-packages (from tweepy) (2.23.0)\n",
            "Requirement already satisfied: requests-oauthlib>=0.7.0 in /usr/local/lib/python3.7/dist-packages (from tweepy) (1.3.0)\n",
            "Requirement already satisfied: oauthlib>=3.0.0 in /usr/local/lib/python3.7/dist-packages (from requests-oauthlib>=0.7.0->tweepy) (3.1.1)\n",
            "Requirement already satisfied: chardet<4,>=3.0.2 in /usr/local/lib/python3.7/dist-packages (from requests[socks]>=2.11.1->tweepy) (3.0.4)\n",
            "Requirement already satisfied: certifi>=2017.4.17 in /usr/local/lib/python3.7/dist-packages (from requests[socks]>=2.11.1->tweepy) (2021.10.8)\n",
            "Requirement already satisfied: urllib3!=1.25.0,!=1.25.1,<1.26,>=1.21.1 in /usr/local/lib/python3.7/dist-packages (from requests[socks]>=2.11.1->tweepy) (1.24.3)\n",
            "Requirement already satisfied: idna<3,>=2.5 in /usr/local/lib/python3.7/dist-packages (from requests[socks]>=2.11.1->tweepy) (2.10)\n",
            "Requirement already satisfied: PySocks!=1.5.7,>=1.5.6 in /usr/local/lib/python3.7/dist-packages (from requests[socks]>=2.11.1->tweepy) (1.7.1)\n"
          ]
        }
      ]
    },
    {
      "cell_type": "code",
      "source": [
        "import spacy\n",
        "# import potrzebnych bibliotek\n",
        "import pandas as pd\n",
        "import numpy as np\n",
        "import matplotlib.pyplot as plt\n",
        "import seaborn as sns\n",
        "import re\n",
        "import string\n",
        "\n",
        "#nltk\n",
        "import nltk\n",
        "from nltk.stem import WordNetLemmatizer\n",
        "from nltk.corpus import stopwords\n",
        "nltk.download('stopwords')\n",
        "nltk.download('wordnet')\n",
        "nltk.download(\"punkt\")\n",
        "\n",
        "# system\n",
        "import os\n",
        "import shutil\n",
        "\n",
        "# tf\n",
        "import tensorflow as tf\n",
        "\n",
        "#gensim\n",
        "from gensim.models.phrases import Phrases, Phraser\n",
        "from gensim.models import Word2Vec\n",
        "\n",
        "#wordcloud \n",
        "from wordcloud import WordCloud \n",
        "\n",
        "#filter warnings\n",
        "import warnings\n",
        "warnings.filterwarnings('ignore')\n",
        "\n",
        "\n",
        "# model\n",
        "import tensorflow as tf\n",
        "import keras\n",
        "from sklearn.model_selection import train_test_split\n",
        "\n",
        "# preprocessing\n",
        "import gensim\n",
        "from gensim.utils import simple_preprocess\n",
        "\n",
        "# ewaluacja\n",
        "from sklearn.metrics import confusion_matrix\n",
        "from sklearn.metrics import classification_report\n",
        "from sklearn.multiclass import OneVsRestClassifier\n",
        "from sklearn.linear_model import LogisticRegression\n",
        "from sklearn.metrics import roc_curve, auc\n",
        "\n",
        "# sklearn - modele do ML\n",
        "from sklearn.svm import LinearSVC\n",
        "from sklearn.naive_bayes import BernoulliNB\n",
        "from sklearn.feature_extraction.text import TfidfVectorizer\n",
        "from sklearn.metrics import confusion_matrix, classification_report"
      ],
      "metadata": {
        "id": "WmuiQUpye6Je",
        "colab": {
          "base_uri": "https://localhost:8080/"
        },
        "outputId": "fccfa32e-e477-4956-ce74-806972c210cb"
      },
      "execution_count": null,
      "outputs": [
        {
          "output_type": "stream",
          "name": "stdout",
          "text": [
            "[nltk_data] Downloading package stopwords to /root/nltk_data...\n",
            "[nltk_data]   Package stopwords is already up-to-date!\n",
            "[nltk_data] Downloading package wordnet to /root/nltk_data...\n",
            "[nltk_data]   Package wordnet is already up-to-date!\n",
            "[nltk_data] Downloading package punkt to /root/nltk_data...\n",
            "[nltk_data]   Package punkt is already up-to-date!\n"
          ]
        }
      ]
    },
    {
      "cell_type": "code",
      "source": [
        "from google.colab import drive\n",
        "drive.mount('./drive')"
      ],
      "metadata": {
        "colab": {
          "base_uri": "https://localhost:8080/"
        },
        "id": "7pAvq0Zw4dZJ",
        "outputId": "b7251bc8-631e-4ff7-c965-78e4e64641ba"
      },
      "execution_count": null,
      "outputs": [
        {
          "output_type": "stream",
          "name": "stdout",
          "text": [
            "Mounted at ./drive\n"
          ]
        }
      ]
    },
    {
      "cell_type": "code",
      "source": [
        "%run ./drive/MyDrive/ZUM/my_keys.ipynb"
      ],
      "metadata": {
        "id": "Dq4tSPgxgoiN"
      },
      "execution_count": null,
      "outputs": []
    },
    {
      "cell_type": "markdown",
      "source": [
        "## Authentication for Twitter API"
      ],
      "metadata": {
        "id": "YSV9faIrKU6e"
      }
    },
    {
      "cell_type": "code",
      "execution_count": null,
      "metadata": {
        "id": "sWh152BjeQ8r"
      },
      "outputs": [],
      "source": [
        "auth = tweepy.OAuthHandler(consumer_key, consumer_secret)\n",
        "auth.set_access_token(access_token, access_token_secret)\n",
        "api = tweepy.API(auth)"
      ]
    },
    {
      "cell_type": "markdown",
      "source": [
        "## Ściąganie tweetów po ID"
      ],
      "metadata": {
        "id": "fbt9eh5BSZxj"
      }
    },
    {
      "cell_type": "code",
      "source": [
        "covid_id_tweets = pd.read_csv(\"/content/drive/MyDrive/ZUM/pl_covid_tweets_clean.txt\", sep=\"\\t\", header=None)"
      ],
      "metadata": {
        "id": "PqFDqCLZ5-N_"
      },
      "execution_count": null,
      "outputs": []
    },
    {
      "cell_type": "code",
      "source": [
        "print(covid_id_tweets)"
      ],
      "metadata": {
        "colab": {
          "base_uri": "https://localhost:8080/"
        },
        "id": "l3gJuG2U7GHi",
        "outputId": "563e0fdb-9a74-4f04-e482-d13948860ce9"
      },
      "execution_count": null,
      "outputs": [
        {
          "output_type": "stream",
          "name": "stdout",
          "text": [
            "                          0           1         2     3              4\n",
            "0                  tweet_id        date      time  lang  country_place\n",
            "1       1219370546116407297  2020-01-20  21:26:07    pl            NaN\n",
            "2       1220355028961103872  2020-01-23  14:38:06    pl            NaN\n",
            "3       1221099475982323712  2020-01-25  15:56:16    pl            NaN\n",
            "4       1221232003393167360  2020-01-26  00:42:53    pl            NaN\n",
            "...                     ...         ...       ...   ...            ...\n",
            "583801  1414043803485409285  2021-07-11  02:08:09    pl            NaN\n",
            "583802  1414043861954015232  2021-07-11  02:08:23    pl            NaN\n",
            "583803  1414049377589645315  2021-07-11  02:30:18    pl            NaN\n",
            "583804  1414064422453137411  2021-07-11  03:30:05    pl            NaN\n",
            "583805  1414064490786734081  2021-07-11  03:30:21    pl            NaN\n",
            "\n",
            "[583806 rows x 5 columns]\n"
          ]
        }
      ]
    },
    {
      "cell_type": "code",
      "source": [
        "covid_id_tweets.shape"
      ],
      "metadata": {
        "colab": {
          "base_uri": "https://localhost:8080/"
        },
        "id": "xmF_i9M5qBo-",
        "outputId": "95d7a7e0-0889-4956-df01-778eadf45d61"
      },
      "execution_count": null,
      "outputs": [
        {
          "output_type": "execute_result",
          "data": {
            "text/plain": [
              "(583806, 5)"
            ]
          },
          "metadata": {},
          "execution_count": 184
        }
      ]
    },
    {
      "cell_type": "code",
      "source": [
        "covid_id_tweets_list = covid_id_tweets[0][1:].tolist()"
      ],
      "metadata": {
        "id": "ztgCsE1aqUPe"
      },
      "execution_count": null,
      "outputs": []
    },
    {
      "cell_type": "code",
      "source": [
        "print(covid_id_tweets_list[0])"
      ],
      "metadata": {
        "colab": {
          "base_uri": "https://localhost:8080/"
        },
        "id": "hdBqUrrKq0EN",
        "outputId": "7fcabb62-d14c-4f87-8e45-60eccdb31a1b"
      },
      "execution_count": null,
      "outputs": [
        {
          "output_type": "stream",
          "name": "stdout",
          "text": [
            "1219370546116407297\n"
          ]
        }
      ]
    },
    {
      "cell_type": "code",
      "source": [
        "import time\n",
        "list_100 = list()\n",
        "for i in range(0,len(covid_id_tweets_list), 100):\n",
        "  list_100.append(covid_id_tweets_list[i:i+100])\n",
        "print(len(list_100))\n",
        "\n",
        "from tqdm import tqdm\n",
        "tweets_list =[]\n",
        "for portion in tqdm(list_100):\n",
        "  while True:\n",
        "    try:\n",
        "      r = api.statuses_lookup(portion)\n",
        "      break\n",
        "    except:\n",
        "      time.sleep(1) \n",
        "  for tweet in r:\n",
        "    tweets_list.append(tweet.text)"
      ],
      "metadata": {
        "colab": {
          "base_uri": "https://localhost:8080/"
        },
        "id": "TzN1vYntogT-",
        "outputId": "b545fe9b-dd99-4008-9982-faef422da171"
      },
      "execution_count": null,
      "outputs": [
        {
          "output_type": "stream",
          "name": "stdout",
          "text": [
            "5839\n"
          ]
        },
        {
          "output_type": "stream",
          "name": "stderr",
          "text": [
            "100%|██████████| 5839/5839 [1:33:26<00:00,  1.04it/s]\n"
          ]
        }
      ]
    },
    {
      "cell_type": "code",
      "source": [
        "print(len(tweets_list))"
      ],
      "metadata": {
        "id": "gKXv34roFkEr"
      },
      "execution_count": null,
      "outputs": []
    },
    {
      "cell_type": "code",
      "source": [
        "print(tweets_list[0])"
      ],
      "metadata": {
        "colab": {
          "base_uri": "https://localhost:8080/"
        },
        "id": "NDW9JFGkIqqK",
        "outputId": "00d5b4ef-6cef-4f11-f9df-2739e65d66bc"
      },
      "execution_count": null,
      "outputs": [
        {
          "output_type": "stream",
          "name": "stdout",
          "text": [
            "Kiedy #coronavirus dotrze do Polski, napotka opór znakomicie zorganizowanego publicznego systemu ochrony zdrowia.\n",
            "A jeśli nie napotka?\n"
          ]
        }
      ]
    },
    {
      "cell_type": "code",
      "source": [
        "df = pd.DataFrame(tweets_list, columns=['tweets'])\n",
        "df.to_csv('./drive/MyDrive/ZUM/id_tweets2.csv')"
      ],
      "metadata": {
        "id": "Y1he38GuJrfW"
      },
      "execution_count": null,
      "outputs": []
    },
    {
      "cell_type": "code",
      "source": [
        "df = pd.read_csv('./drive/MyDrive/ZUM/id_tweets2.csv', delimiter=',')"
      ],
      "metadata": {
        "id": "CwUYdHdiMXzb"
      },
      "execution_count": null,
      "outputs": []
    },
    {
      "cell_type": "markdown",
      "source": [
        "## Przeglądam co jest w moim zbiorze tweetsów"
      ],
      "metadata": {
        "id": "gOfNkH-8P16F"
      }
    },
    {
      "cell_type": "code",
      "source": [
        "print(df.head())"
      ],
      "metadata": {
        "colab": {
          "base_uri": "https://localhost:8080/"
        },
        "id": "IIGQ4qKsa6lr",
        "outputId": "5b0a4a8e-78d1-49c8-fe01-a93e19ded481"
      },
      "execution_count": null,
      "outputs": [
        {
          "output_type": "stream",
          "name": "stdout",
          "text": [
            "                                              tweets\n",
            "0  Kiedy #coronavirus dotrze do Polski, napotka o...\n",
            "1  Kolejni Polacy chcą wrócić z Wuhan https://t.c...\n",
            "2  A tymczasem w Wuhan odcięto od reszty świata o...\n",
            "3  @PatrykWachowiec @KancelariaSejmu nie zdziwię ...\n",
            "4  .@MSZ_RP: 19 Polaków chce wrócić z Wuhan, w am...\n"
          ]
        }
      ]
    },
    {
      "cell_type": "code",
      "source": [
        "df.shape"
      ],
      "metadata": {
        "colab": {
          "base_uri": "https://localhost:8080/"
        },
        "id": "CXTZWdnuGIHE",
        "outputId": "0477299f-66b6-4bc3-e09d-f8bee19d06c4"
      },
      "execution_count": null,
      "outputs": [
        {
          "output_type": "execute_result",
          "data": {
            "text/plain": [
              "(598847, 1)"
            ]
          },
          "metadata": {},
          "execution_count": 12
        }
      ]
    },
    {
      "cell_type": "code",
      "source": [
        "df.info()"
      ],
      "metadata": {
        "colab": {
          "base_uri": "https://localhost:8080/"
        },
        "id": "2Y8Il2fYGopR",
        "outputId": "cfe59351-e252-4af7-96d1-fbca43be0251"
      },
      "execution_count": null,
      "outputs": [
        {
          "output_type": "stream",
          "name": "stdout",
          "text": [
            "<class 'pandas.core.frame.DataFrame'>\n",
            "RangeIndex: 598847 entries, 0 to 598846\n",
            "Data columns (total 1 columns):\n",
            " #   Column  Non-Null Count   Dtype \n",
            "---  ------  --------------   ----- \n",
            " 0   tweets  598847 non-null  object\n",
            "dtypes: object(1)\n",
            "memory usage: 4.6+ MB\n"
          ]
        }
      ]
    },
    {
      "cell_type": "markdown",
      "source": [
        "## Pre-processing danych"
      ],
      "metadata": {
        "id": "unFzRrtLN0ss"
      }
    },
    {
      "cell_type": "markdown",
      "source": [
        "### Usuwam ze zbioru stopwords, żeby odszumić dane (= niepotrzebne informacje)\n"
      ],
      "metadata": {
        "id": "2QqoQglnPnTk"
      }
    },
    {
      "cell_type": "code",
      "source": [
        "nlp = spacy.load('pl_core_news_md')\n",
        "lemma = WordNetLemmatizer()\n",
        "nltk.download('wordnet')\n",
        "stopwordlist = nlp.Defaults.stop_words"
      ],
      "metadata": {
        "id": "B8qc5Q_YKGhX",
        "colab": {
          "base_uri": "https://localhost:8080/"
        },
        "outputId": "331bbafe-aa84-43cc-f35f-7e83bdb4c1c2"
      },
      "execution_count": null,
      "outputs": [
        {
          "output_type": "stream",
          "name": "stdout",
          "text": [
            "[nltk_data] Downloading package wordnet to /root/nltk_data...\n",
            "[nltk_data]   Package wordnet is already up-to-date!\n"
          ]
        }
      ]
    },
    {
      "cell_type": "code",
      "source": [
        "print(stopwordlist)"
      ],
      "metadata": {
        "colab": {
          "base_uri": "https://localhost:8080/"
        },
        "id": "zpdyV6DkRpsI",
        "outputId": "31c8cf7a-ef63-4199-fd71-81dea6a2fc46"
      },
      "execution_count": null,
      "outputs": [
        {
          "output_type": "stream",
          "name": "stdout",
          "text": [
            "{'jedna', 'tylko', 'aj', 'acz', 'xiii', 'będzie', 'a', 'wszystkim', 'razie', 'kims', 'dwaj', 'ten', 'jesli', 'rowniez', 'one', 'jakos', 'tu', 'mozliwe', 'ze', 'iż', 'podczas', 'była', 'aczkolwiek', 'chce', 'zadna', 'ktorego', 'cos', 'moim', 'twoj', 'gdziekolwiek', 'cala', 'ona', 'ta', 'aby', 'według', 'będą', 'został', 'jestem', 'cała', 'byc', 'których', 'vii', 'poza', 'pod', 'tych', 'jej', 'bez', 'poniewaz', 'czy', 'iz', 'znow', 'wiele', 'skąd', 'moi', 'wami', 'wasz', 'przede', 'którego', 'nich', 'nimi', 'się', 'czemu', 'bylo', 'jakkolwiek', 'jako', 'zadne', 'wlasnie', 'tam', 'wie', 'duzo', 'gdy', 'ich', 'sobie', 'kazdy', 'jakichs', 'zaden', 'jest', 'ono', 'mną', 'dużo', 'gdyż', 'jego', 'miał', 'ci', 'jeden', 'daleko', 'dlatego', 'również', 'totez', 'dobrze', 'jakaś', 'dokąd', 'jezeli', 'już', 'przecież', 'nam', 'mogą', 'jeszcze', 'dwa', 'ciebie', 'moja', 'jakby', 'my', 'przy', 'cały', 'jak', 'gdyby', 'xv', 'jemu', 'ktore', 'lub', 'viii', 'az', 'moze', 'trzeba', 'o', 'coraz', 'raz', 'dzisiaj', 'nami', 'ponad', 'między', 'było', 'pana', 'u', 'byla', 'innych', 'jaki', 'temu', 'mnie', 'miedzy', 'sobą', 'nia', 'mój', 'bedzie', 'przedtem', 'żeby', 'około', 'bynajmniej', 'jednakże', 'takich', 'będę', 'i', 'wam', 'czasami', 'tzw', 'xi', 'ktos', 'inna', 'totobą', 'ktokolwiek', 'cię', 'moj', 'oraz', 'alez', 'żadne', 'albo', 'tę', 'vi', 'dwoje', 'ma', 'jakiś', 'ktorzy', 'nawet', 'z', 'wśród', 'dlaczego', 'was', 'są', 'dla', 'niej', 'tobie', 'ponieważ', 'mimo', 'roku', 'xii', 'kimś', 'nim', 'twoje', 'czyli', 'nasze', 'jednym', 'naszego', 'mam', 'byly', 'pani', 'tak', 'zaś', 'tutaj', 'nic', 'gdzieś', 'bardziej', 'pomimo', 'nigdy', 'żadna', 'ktora', 'dziś', 'przeciez', 'no', 'po', 'dzis', 'w', 'oni', 'taki', 'beda', 'jakas', 'właśnie', 'niz', 'jakiż', 'twoja', 'dwie', 'wszyscy', 'mi', 'inny', 'xiv', 'mamy', 'ix', 'zawsze', 'co', 'swoje', 'kilku', 'je', 'iv', 'przez', 'powinien', 'naszych', 'może', 'moga', 'ku', 'jakis', 'cali', 'musi', 'tej', 'czasem', 'więc', 'na', 'niemu', 'więcej', 'bardzo', 'godz', 'ktorej', 'cie', 'wszystko', 'niech', 'nas', 'być', 'pan', 'dosc', 'nad', 'zapewne', 'powinna', 'nasi', 'wy', 'te', 'wszystkie', 'mało', 'mozna', 'to', 'wielu', 'ktoś', 'bede', 'który', 'wasza', 'przed', 'wasi', 'by', 'obok', 'dość', 'bo', 'twój', 'ktory', 'każdy', 'takze', 'jednak', 'za', 'coś', 'żaden', 'natychmiast', 'jedno', 'taka', 'takie', 'teraz', 'która', 'toteż', 'choć', 'nasza', 'moje', 'prawie', 'ile', 'jakie', 'aż', 'wasze', 'lecz', 'ok', 'twym', 'gdzie', 'powinno', 'jednakze', 'oto', 'im', 'niego', 'ją', 'go', 'gdyz', 'do', 'natomiast', 'tel', 'wszystkich', 'ktorym', 'niż', 'mają', 'sam', 'którym', 'której', 'kto', 'dokad', 'byli', 'toba', 'skad', 'tobą', 'caly', 'mna', 'owszem', 'można', 'twoi', 'nasz', 'ty', 'kiedy', 'ja', 'jakiz', 'jakoś', 'powinni', 'nią', 'ależ', 'jeśli', 'sposob', 'on', 'nie', 'tego', 'wtedy', 'we', 'był', 'jakichś', 'gdzies', 'sie', 'żadnych', 'znowu', 'ani', 'zostal', 'inne', 'ach', 'jeżeli', 'znów', 'byl', 'twoim', 'kilka', 'były', 'też', 'kierunku', 'którzy', 'soba', 'juz', 'że', 'cokolwiek', 'sama', 'bym', 'sposób', 'często', 'bowiem', 'ale', 'które', 'tym', 'ktorych', 'jedynie', 'zadnych', 'od', 'zeby', 'mu', 'także', 'tys', 'możliwe'}\n"
          ]
        }
      ]
    },
    {
      "cell_type": "code",
      "source": [
        "np.sum(df.isnull().any(axis=1)) # sprawdź czy nie ma brakujących wartości"
      ],
      "metadata": {
        "colab": {
          "base_uri": "https://localhost:8080/"
        },
        "id": "eqe_tImvgX9X",
        "outputId": "85538c26-5530-40d3-d732-d3205bca2058"
      },
      "execution_count": null,
      "outputs": [
        {
          "output_type": "execute_result",
          "data": {
            "text/plain": [
              "0"
            ]
          },
          "metadata": {},
          "execution_count": 18
        }
      ]
    },
    {
      "cell_type": "code",
      "source": [
        "emoji_pattern = re.compile(\"[\"\n",
        "        u\"\\U0001F600-\\U0001F64F\"  # emoticons\n",
        "        u\"\\U0001F300-\\U0001F5FF\"  # symbols & pictographs\n",
        "        u\"\\U0001F680-\\U0001F6FF\"  # transport & map symbols\n",
        "        u\"\\U0001F1E0-\\U0001F1FF\"  # flags (iOS)\n",
        "                           \"]+\", flags=re.UNICODE)"
      ],
      "metadata": {
        "id": "Q1PKCvs5tSx-"
      },
      "execution_count": null,
      "outputs": []
    },
    {
      "cell_type": "code",
      "source": [
        "def clean_text(text):\n",
        "  text = text.lower()\n",
        "  text = re.sub('https?:\\/\\/[a-zA-Z0-9@:%._\\/+~#=?&;-]*', ' ', text)\n",
        "  text = re.sub('\\$[a-zA-Z0-9]*', ' ', text)\n",
        "  text = re.sub('\\@[a-zA-Z0-9]*', ' ', text)\n",
        "  text = re.sub('[^a-zA-Z\\']', ' ', text)\n",
        "  text = re.sub('\\t', '', text)\n",
        "  text = re.sub('\\S*@\\S*\\s?', ' ',text)\n",
        "  text = emoji_pattern.sub(r'', text)\n",
        "  text = ' '.join( [w for w in text.split() if len(w)>1] )\n",
        "  text = ' '.join([lemma.lemmatize(x) for x in nltk.wordpunct_tokenize(text) if x not in stopwordlist])\n",
        "  text = [lemma.lemmatize(x,nltk.corpus.reader.wordnet.VERB) for x in nltk.wordpunct_tokenize(text) if x not in stopwordlist]\n",
        "  return text "
      ],
      "metadata": {
        "id": "aVQx3fpehK6l"
      },
      "execution_count": null,
      "outputs": []
    },
    {
      "cell_type": "code",
      "source": [
        "df['clean_text'] = df['tweets'].apply(clean_text)\n",
        "df.dropna(subset = [\"clean_text\"], inplace=True)\n",
        "df['cleaned_text'] = df['clean_text'].apply(lambda x:' '.join(x))"
      ],
      "metadata": {
        "id": "QMG2tTwfrwJS"
      },
      "execution_count": null,
      "outputs": []
    },
    {
      "cell_type": "code",
      "source": [
        "df.head()"
      ],
      "metadata": {
        "colab": {
          "base_uri": "https://localhost:8080/",
          "height": 282
        },
        "id": "38C5diXr3fMe",
        "outputId": "05e7e216-14be-4fb3-e9a6-b02075839c0d"
      },
      "execution_count": null,
      "outputs": [
        {
          "output_type": "execute_result",
          "data": {
            "text/html": [
              "\n",
              "  <div id=\"df-d71c29fd-727d-4135-8f9e-067055446e76\">\n",
              "    <div class=\"colab-df-container\">\n",
              "      <div>\n",
              "<style scoped>\n",
              "    .dataframe tbody tr th:only-of-type {\n",
              "        vertical-align: middle;\n",
              "    }\n",
              "\n",
              "    .dataframe tbody tr th {\n",
              "        vertical-align: top;\n",
              "    }\n",
              "\n",
              "    .dataframe thead th {\n",
              "        text-align: right;\n",
              "    }\n",
              "</style>\n",
              "<table border=\"1\" class=\"dataframe\">\n",
              "  <thead>\n",
              "    <tr style=\"text-align: right;\">\n",
              "      <th></th>\n",
              "      <th>tweets</th>\n",
              "      <th>clean_text</th>\n",
              "      <th>cleaned_text</th>\n",
              "    </tr>\n",
              "  </thead>\n",
              "  <tbody>\n",
              "    <tr>\n",
              "      <th>0</th>\n",
              "      <td>Kiedy #coronavirus dotrze do Polski, napotka o...</td>\n",
              "      <td>[coronavirus, dotrze, polski, napotka, op, zna...</td>\n",
              "      <td>coronavirus dotrze polski napotka op znakomici...</td>\n",
              "    </tr>\n",
              "    <tr>\n",
              "      <th>1</th>\n",
              "      <td>Kolejni Polacy chcą wrócić z Wuhan https://t.c...</td>\n",
              "      <td>[kolejni, polacy, chc, wr, wuhan]</td>\n",
              "      <td>kolejni polacy chc wr wuhan</td>\n",
              "    </tr>\n",
              "    <tr>\n",
              "      <th>2</th>\n",
              "      <td>A tymczasem w Wuhan odcięto od reszty świata o...</td>\n",
              "      <td>[tymczasem, wuhan, odci, reszty, wiata, obszar...</td>\n",
              "      <td>tymczasem wuhan odci reszty wiata obszar por w...</td>\n",
              "    </tr>\n",
              "    <tr>\n",
              "      <th>3</th>\n",
              "      <td>@PatrykWachowiec @KancelariaSejmu nie zdziwię ...</td>\n",
              "      <td>[zdziwi, si, powiedz, listy, pojecha, chin, wu...</td>\n",
              "      <td>zdziwi si powiedz listy pojecha chin wuhan odw...</td>\n",
              "    </tr>\n",
              "    <tr>\n",
              "      <th>4</th>\n",
              "      <td>.@MSZ_RP: 19 Polaków chce wrócić z Wuhan, w am...</td>\n",
              "      <td>[rp, polak, wr, wuhan, ambasadzie, rp, pekinie...</td>\n",
              "      <td>rp polak wr wuhan ambasadzie rp pekinie powo a...</td>\n",
              "    </tr>\n",
              "  </tbody>\n",
              "</table>\n",
              "</div>\n",
              "      <button class=\"colab-df-convert\" onclick=\"convertToInteractive('df-d71c29fd-727d-4135-8f9e-067055446e76')\"\n",
              "              title=\"Convert this dataframe to an interactive table.\"\n",
              "              style=\"display:none;\">\n",
              "        \n",
              "  <svg xmlns=\"http://www.w3.org/2000/svg\" height=\"24px\"viewBox=\"0 0 24 24\"\n",
              "       width=\"24px\">\n",
              "    <path d=\"M0 0h24v24H0V0z\" fill=\"none\"/>\n",
              "    <path d=\"M18.56 5.44l.94 2.06.94-2.06 2.06-.94-2.06-.94-.94-2.06-.94 2.06-2.06.94zm-11 1L8.5 8.5l.94-2.06 2.06-.94-2.06-.94L8.5 2.5l-.94 2.06-2.06.94zm10 10l.94 2.06.94-2.06 2.06-.94-2.06-.94-.94-2.06-.94 2.06-2.06.94z\"/><path d=\"M17.41 7.96l-1.37-1.37c-.4-.4-.92-.59-1.43-.59-.52 0-1.04.2-1.43.59L10.3 9.45l-7.72 7.72c-.78.78-.78 2.05 0 2.83L4 21.41c.39.39.9.59 1.41.59.51 0 1.02-.2 1.41-.59l7.78-7.78 2.81-2.81c.8-.78.8-2.07 0-2.86zM5.41 20L4 18.59l7.72-7.72 1.47 1.35L5.41 20z\"/>\n",
              "  </svg>\n",
              "      </button>\n",
              "      \n",
              "  <style>\n",
              "    .colab-df-container {\n",
              "      display:flex;\n",
              "      flex-wrap:wrap;\n",
              "      gap: 12px;\n",
              "    }\n",
              "\n",
              "    .colab-df-convert {\n",
              "      background-color: #E8F0FE;\n",
              "      border: none;\n",
              "      border-radius: 50%;\n",
              "      cursor: pointer;\n",
              "      display: none;\n",
              "      fill: #1967D2;\n",
              "      height: 32px;\n",
              "      padding: 0 0 0 0;\n",
              "      width: 32px;\n",
              "    }\n",
              "\n",
              "    .colab-df-convert:hover {\n",
              "      background-color: #E2EBFA;\n",
              "      box-shadow: 0px 1px 2px rgba(60, 64, 67, 0.3), 0px 1px 3px 1px rgba(60, 64, 67, 0.15);\n",
              "      fill: #174EA6;\n",
              "    }\n",
              "\n",
              "    [theme=dark] .colab-df-convert {\n",
              "      background-color: #3B4455;\n",
              "      fill: #D2E3FC;\n",
              "    }\n",
              "\n",
              "    [theme=dark] .colab-df-convert:hover {\n",
              "      background-color: #434B5C;\n",
              "      box-shadow: 0px 1px 3px 1px rgba(0, 0, 0, 0.15);\n",
              "      filter: drop-shadow(0px 1px 2px rgba(0, 0, 0, 0.3));\n",
              "      fill: #FFFFFF;\n",
              "    }\n",
              "  </style>\n",
              "\n",
              "      <script>\n",
              "        const buttonEl =\n",
              "          document.querySelector('#df-d71c29fd-727d-4135-8f9e-067055446e76 button.colab-df-convert');\n",
              "        buttonEl.style.display =\n",
              "          google.colab.kernel.accessAllowed ? 'block' : 'none';\n",
              "\n",
              "        async function convertToInteractive(key) {\n",
              "          const element = document.querySelector('#df-d71c29fd-727d-4135-8f9e-067055446e76');\n",
              "          const dataTable =\n",
              "            await google.colab.kernel.invokeFunction('convertToInteractive',\n",
              "                                                     [key], {});\n",
              "          if (!dataTable) return;\n",
              "\n",
              "          const docLinkHtml = 'Like what you see? Visit the ' +\n",
              "            '<a target=\"_blank\" href=https://colab.research.google.com/notebooks/data_table.ipynb>data table notebook</a>'\n",
              "            + ' to learn more about interactive tables.';\n",
              "          element.innerHTML = '';\n",
              "          dataTable['output_type'] = 'display_data';\n",
              "          await google.colab.output.renderOutput(dataTable, element);\n",
              "          const docLink = document.createElement('div');\n",
              "          docLink.innerHTML = docLinkHtml;\n",
              "          element.appendChild(docLink);\n",
              "        }\n",
              "      </script>\n",
              "    </div>\n",
              "  </div>\n",
              "  "
            ],
            "text/plain": [
              "                                              tweets  ...                                       cleaned_text\n",
              "0  Kiedy #coronavirus dotrze do Polski, napotka o...  ...  coronavirus dotrze polski napotka op znakomici...\n",
              "1  Kolejni Polacy chcą wrócić z Wuhan https://t.c...  ...                        kolejni polacy chc wr wuhan\n",
              "2  A tymczasem w Wuhan odcięto od reszty świata o...  ...  tymczasem wuhan odci reszty wiata obszar por w...\n",
              "3  @PatrykWachowiec @KancelariaSejmu nie zdziwię ...  ...  zdziwi si powiedz listy pojecha chin wuhan odw...\n",
              "4  .@MSZ_RP: 19 Polaków chce wrócić z Wuhan, w am...  ...  rp polak wr wuhan ambasadzie rp pekinie powo a...\n",
              "\n",
              "[5 rows x 3 columns]"
            ]
          },
          "metadata": {},
          "execution_count": 22
        }
      ]
    },
    {
      "cell_type": "markdown",
      "source": [
        "##Labelling"
      ],
      "metadata": {
        "id": "T8tGCOYUwTqf"
      }
    },
    {
      "cell_type": "code",
      "source": [
        "sent = [row for row in df['clean_text']]\n",
        "\n",
        "phrases = Phrases(sent, min_count=1, progress_per=50000)\n",
        "bigram = Phraser(phrases)\n",
        "sentences = bigram[sent]\n",
        "sentences[1]"
      ],
      "metadata": {
        "colab": {
          "base_uri": "https://localhost:8080/"
        },
        "id": "YeaIDItCwbs7",
        "outputId": "770adaf4-53d5-4d5d-d646-e806d057c9ff"
      },
      "execution_count": null,
      "outputs": [
        {
          "output_type": "execute_result",
          "data": {
            "text/plain": [
              "['kolejni_polacy', 'chc', 'wr', 'wuhan']"
            ]
          },
          "metadata": {},
          "execution_count": 23
        }
      ]
    },
    {
      "cell_type": "markdown",
      "source": [
        "### Tworzę word embeddings do wektorowej reprezentacji słów o podobnym znaczeniu // LUB korzystamy z gotowego rozwiązania dla języka polskiego (pretrained)"
      ],
      "metadata": {
        "id": "9SV96YrmQeUt"
      }
    },
    {
      "cell_type": "code",
      "source": [
        "import multiprocessing\n",
        "# training the model on clean and tokenized tweets\n",
        "#min_count - parametr, który wyrzuca słowa które mają częstość występowania mniejszą niż tu 4 razy\n",
        "#window - max odległość między słowami- czyli 1 słowo na pierwszym miejscu w zdaniu, a drugie na 10 - nie bedziemy tego analizować\n",
        "# nie mogę wpisać vector_size=300 (feature vector = cechy upakowane do wektora)\n",
        "# sample - słowa bardzo czesto wystepujace maja byc wyrzucane\n",
        "# alpha - wskazuje na predkosc uczenia (szukanie minimum) - wysokie alpha moze przeoczyc faktyczne minimum funkcji; min 0.007, to tylko tę wartość min przyjmie\n",
        "# negative - odfiltruje słowa takie słowa, które są szumem danych \n",
        "# workers - w zaleznosci od maszyny, na której pracujemy\n",
        "model_w2v = Word2Vec(min_count=4,window=5,sample=1e-5,min_alpha=0.0007,negative=20,seed=42, workers=multiprocessing.cpu_count()-1)\n",
        "model_w2v.build_vocab(sentences,progress_per=50000) #przygotowuję słownik, przetworzy je, odfiltruje unikalne i wykona obliczenia\n",
        "#posiadając słownik możemy wytrenować model\n",
        "model_w2v.train(sentences, total_examples=model_w2v.corpus_count, epochs=30,report_delay=1)\n"
      ],
      "metadata": {
        "id": "JmQEGm40cyLx",
        "colab": {
          "base_uri": "https://localhost:8080/"
        },
        "outputId": "a8f6de90-41c4-48cd-af78-764e4370ecfb"
      },
      "execution_count": null,
      "outputs": [
        {
          "output_type": "execute_result",
          "data": {
            "text/plain": [
              "(91788873, 188958360)"
            ]
          },
          "metadata": {},
          "execution_count": 23
        }
      ]
    },
    {
      "cell_type": "code",
      "source": [
        "model_w2v.save(\"/content/drive/MyDrive/ZUM/project-2/word2vec.model\")"
      ],
      "metadata": {
        "id": "r0PJdNNPwdEV"
      },
      "execution_count": null,
      "outputs": []
    },
    {
      "cell_type": "code",
      "source": [
        "word_vectors = Word2Vec.load(\"/content/drive/MyDrive/ZUM/project-2/word2vec.model\").wv"
      ],
      "metadata": {
        "id": "fvSvkGHJ4qQi"
      },
      "execution_count": null,
      "outputs": []
    },
    {
      "cell_type": "code",
      "source": [
        "#sprawdzanie podobieństwa słów do słowa covid wystepujacego in the corpus\n",
        "word_vectors.wv.most_similar(positive=[\"choroba\"])"
      ],
      "metadata": {
        "id": "a9t-O05P7tLg",
        "colab": {
          "base_uri": "https://localhost:8080/"
        },
        "outputId": "42e49b3d-5851-4ef9-a1ef-ae97094cac27"
      },
      "execution_count": null,
      "outputs": [
        {
          "output_type": "execute_result",
          "data": {
            "text/plain": [
              "[('podst_pna', 0.8115239143371582),\n",
              " ('sepsa', 0.7930644750595093),\n",
              " ('prowadzi_mierci', 0.7883316278457642),\n",
              " ('powik_aniem', 0.7881203293800354),\n",
              " ('agodna', 0.7877861261367798),\n",
              " ('jednostka_chorobowa', 0.7694621086120605),\n",
              " ('chorob', 0.7601760029792786),\n",
              " ('niekiedy', 0.7572752237319946),\n",
              " ('infekcja_wirusowa', 0.7557179927825928),\n",
              " ('przewlek', 0.7537287473678589)]"
            ]
          },
          "metadata": {},
          "execution_count": 26
        }
      ]
    },
    {
      "cell_type": "markdown",
      "source": [
        "### Wykorzystujemy K-MEANS do stworzenia **clustrów** i ustawiamy k=2 lub k=3 w zależności od ilości oczekiwanych klas końcowych"
      ],
      "metadata": {
        "id": "aQ7ssUOsQjCL"
      }
    },
    {
      "cell_type": "code",
      "source": [
        "!pip3 install KMeans"
      ],
      "metadata": {
        "colab": {
          "base_uri": "https://localhost:8080/"
        },
        "id": "rAHrmmFmERCe",
        "outputId": "6dfc96d8-c700-4dd5-9298-0df75b9309a1"
      },
      "execution_count": null,
      "outputs": [
        {
          "output_type": "stream",
          "name": "stdout",
          "text": [
            "Collecting KMeans\n",
            "  Downloading kmeans-1.0.2.tar.gz (5.9 kB)\n",
            "Building wheels for collected packages: KMeans\n",
            "  Building wheel for KMeans (setup.py) ... \u001b[?25l\u001b[?25hdone\n",
            "  Created wheel for KMeans: filename=kmeans-1.0.2-cp37-cp37m-linux_x86_64.whl size=11793 sha256=3fabb39a0b5eb92a4b3b4cd41e987c2018c43957a84ce8475aafa39b62ccc6bd\n",
            "  Stored in directory: /root/.cache/pip/wheels/4a/26/51/688c6987fdc6a10c6186c3817f2ef7c92c50c078a900525c0e\n",
            "Successfully built KMeans\n",
            "Installing collected packages: KMeans\n",
            "Successfully installed KMeans-1.0.2\n"
          ]
        }
      ]
    },
    {
      "cell_type": "code",
      "source": [
        "from sklearn.cluster import KMeans"
      ],
      "metadata": {
        "id": "xJTxwmKo0R8s"
      },
      "execution_count": null,
      "outputs": []
    },
    {
      "cell_type": "code",
      "source": [
        "model = KMeans(n_clusters=2, max_iter=1000, random_state=42, n_init=50).fit(X=word_vectors.vectors.astype('double'))"
      ],
      "metadata": {
        "id": "WZ7uHHqh4tf5"
      },
      "execution_count": null,
      "outputs": []
    },
    {
      "cell_type": "code",
      "source": [
        "word_vectors.similar_by_vector(model.cluster_centers_[1], topn=200, restrict_vocab=None)"
      ],
      "metadata": {
        "id": "EaRMZvbD43gO",
        "colab": {
          "base_uri": "https://localhost:8080/"
        },
        "outputId": "5ebe8de9-bb1c-4efa-b76f-dad14f5908d6"
      },
      "execution_count": null,
      "outputs": [
        {
          "output_type": "execute_result",
          "data": {
            "text/plain": [
              "[('mobilny_szpital', 0.9664036631584167),\n",
              " ('wyeliminowa_awnik', 0.9609624147415161),\n",
              " ('mabion_drugie', 0.9605984091758728),\n",
              " ('zlecenie_novavax', 0.9577211141586304),\n",
              " ('uniwersalnym_leku', 0.9577078819274902),\n",
              " ('webull', 0.9563882946968079),\n",
              " ('zatwierdzenie_tabletki', 0.9548590183258057),\n",
              " ('wuhan_niewygodne', 0.952748715877533),\n",
              " ('cohn', 0.9523610472679138),\n",
              " ('alergiami_wyniki', 0.9495275020599365),\n",
              " ('fi_lm', 0.9490718841552734),\n",
              " ('update_kstk', 0.9483215808868408),\n",
              " ('zaszczepionych_ogniskiem', 0.9479529857635498),\n",
              " ('francji_funkcjonuje', 0.9479222297668457),\n",
              " ('byoblu_psicosi', 0.9470920562744141),\n",
              " ('farmaceutyczny_gigant', 0.9470880627632141),\n",
              " ('podobne_hospitalizowanych', 0.9466578960418701),\n",
              " ('mepolitics', 0.946422815322876),\n",
              " ('acalno_firm', 0.9462066888809204),\n",
              " ('czech_virologist', 0.9458131194114685),\n",
              " ('fantasy_football', 0.9457231760025024),\n",
              " ('sygnalistk_ann', 0.9455615878105164),\n",
              " ('chciala_potrafie', 0.94524747133255),\n",
              " ('niemcy_impreza', 0.9447662830352783),\n",
              " ('ehemmm', 0.944737434387207),\n",
              " ('pytania_rozmowa', 0.943731427192688),\n",
              " ('novacyt_ncyt', 0.9437222480773926),\n",
              " ('awolowo', 0.9437198638916016),\n",
              " ('lek_depresj', 0.9436613321304321),\n",
              " ('fantasypodcaos', 0.943558931350708),\n",
              " ('pochu', 0.9432402849197388),\n",
              " ('or_iowa', 0.9432341456413269),\n",
              " ('icymi_trumplied', 0.9431212544441223),\n",
              " ('wrangell', 0.9429997205734253),\n",
              " ('immunity_epidemy', 0.9429495334625244),\n",
              " ('gniezno_poland', 0.9429119825363159),\n",
              " ('zasca_zasca', 0.9426532983779907),\n",
              " ('fakire_korona', 0.942578136920929),\n",
              " ('corona_hotspot', 0.942150354385376),\n",
              " ('ivy_rindo', 0.9419059753417969),\n",
              " ('story_segun', 0.941562294960022),\n",
              " ('aplikacja_rozpoznaj', 0.9411463737487793),\n",
              " ('fancy_gadam', 0.9406148195266724),\n",
              " ('policy_tracker', 0.9403690695762634),\n",
              " ('coronavirus_tgbyoblu', 0.9401789903640747),\n",
              " ('rawe', 0.9400835037231445),\n",
              " ('nak_stress', 0.9398043155670166),\n",
              " ('zapobiega_pogorszeniu', 0.9394316673278809),\n",
              " ('palaszczuk_antic', 0.9394104480743408),\n",
              " ('tengo_mieo', 0.9394099712371826),\n",
              " ('uefa_mafia', 0.9392113089561462),\n",
              " ('ogo_coro', 0.9389702677726746),\n",
              " ('wierzy_chocbym', 0.9381768703460693),\n",
              " ('zengine', 0.9380840063095093),\n",
              " ('panutanku', 0.9379128217697144),\n",
              " ('trump_trumpvirusdeathtoll', 0.9376285076141357),\n",
              " ('tapeworm', 0.9374628067016602),\n",
              " ('usem_pff', 0.9372493028640747),\n",
              " ('ouchpotato_coronavirus', 0.9372006058692932),\n",
              " ('bezpieczne_dziecka', 0.9369858503341675),\n",
              " ('icymi_bcpoli', 0.9367042779922485),\n",
              " ('dzy_wielkimi', 0.9366757273674011),\n",
              " ('medicareforall', 0.936224639415741),\n",
              " ('stworzy_bomb', 0.9361712336540222),\n",
              " ('eksperci_katar', 0.9361165165901184),\n",
              " ('porozumienie_dot', 0.9360417127609253),\n",
              " ('la_uefa', 0.9358618259429932),\n",
              " ('such_idiocy', 0.9356517791748047),\n",
              " ('rodek_ludob', 0.9355584383010864),\n",
              " ('jczy_dow', 0.9355286359786987),\n",
              " ('ernie', 0.935512363910675),\n",
              " ('jesuuuuuu', 0.9355034232139587),\n",
              " ('badanie_mleko', 0.9354593753814697),\n",
              " ('namiesza_relacjach', 0.9353135824203491),\n",
              " ('rysunek_wykonany', 0.9351789355278015),\n",
              " ('polsek_tegowanu', 0.9351354241371155),\n",
              " ('virtualromance', 0.9350360631942749),\n",
              " ('umufasha_bakingiwe', 0.9350311160087585),\n",
              " ('freerealitywinnernow', 0.9349108934402466),\n",
              " ('dajeee', 0.9348669052124023),\n",
              " ('mocarstwami_zrobi', 0.9347026348114014),\n",
              " ('takle_mamo', 0.9346700310707092),\n",
              " ('lnych_zakup', 0.9345424175262451),\n",
              " ('perezida_museveni', 0.9345045685768127),\n",
              " ('bcpoli', 0.934487521648407),\n",
              " ('makunyiwe_once', 0.9344672560691833),\n",
              " ('twakoowa', 0.9344319701194763),\n",
              " ('napisze_napisze', 0.9341731071472168),\n",
              " ('kw_mio', 0.9340001344680786),\n",
              " ('ops_yustisi', 0.9338219165802002),\n",
              " ('peak_dystopia', 0.9337900876998901),\n",
              " ('barmy_army', 0.9337377548217773),\n",
              " ('kaszlu_testowana', 0.9337059259414673),\n",
              " ('przeszczepach_mechanicznie', 0.9335550665855408),\n",
              " ('kubii', 0.9334466457366943),\n",
              " ('bieniu_grypie', 0.9333899021148682),\n",
              " ('warga', 0.9333662986755371),\n",
              " ('trump_aka', 0.9333431124687195),\n",
              " ('novacyt', 0.9333301186561584),\n",
              " ('ogo_nla', 0.9332818984985352),\n",
              " ('klaster_gowa', 0.9331462383270264),\n",
              " ('merck_wyst', 0.9329003691673279),\n",
              " ('hmm_chleb', 0.9328964948654175),\n",
              " ('plitidepsyny_leczeniu', 0.9328786730766296),\n",
              " ('beef', 0.9328518509864807),\n",
              " ('coronavirus_cheek', 0.9324948191642761),\n",
              " ('dzeng_dzeng', 0.9323974251747131),\n",
              " ('popopo', 0.9322620630264282),\n",
              " ('zachodniopomorskim_urz', 0.9322076439857483),\n",
              " ('nigeria_scam', 0.932121753692627),\n",
              " ('zona_roja', 0.9321129322052002),\n",
              " ('chronologie', 0.9320837259292603),\n",
              " ('meca', 0.9320504665374756),\n",
              " ('oki_spopielono', 0.9319389462471008),\n",
              " ('czech_hunter', 0.9319015741348267),\n",
              " ('paleotak', 0.9316819310188293),\n",
              " ('dro_piwowarskie', 0.9314344525337219),\n",
              " ('flawda', 0.931406557559967),\n",
              " ('awume_wena', 0.9313547611236572),\n",
              " ('epidemiologist_cheyenne', 0.9313177466392517),\n",
              " ('pi_autoryzacj', 0.9313100576400757),\n",
              " ('tia_zap', 0.931100606918335),\n",
              " ('lezgow', 0.9309259057044983),\n",
              " ('fauci_trust', 0.9308125972747803),\n",
              " ('bb_tokam', 0.9307905435562134),\n",
              " ('coronavirus_kimchi', 0.9304344654083252),\n",
              " ('corona_pakistani', 0.9304294586181641),\n",
              " ('tragic_irony', 0.9302524924278259),\n",
              " ('mborile_shem', 0.930145800113678),\n",
              " ('starski', 0.9299572110176086),\n",
              " ('sezon_finali', 0.9298622608184814),\n",
              " ('litwa_wykryto', 0.92979896068573),\n",
              " ('hee_madoda', 0.9296602010726929),\n",
              " ('straight_from', 0.9296372532844543),\n",
              " ('european_market', 0.9295515418052673),\n",
              " ('zaszczepiono_miliona', 0.9294723272323608),\n",
              " ('nasdaq_nyse', 0.9293311238288879),\n",
              " ('wiwi', 0.9292888045310974),\n",
              " ('kwatakwata_june', 0.9292402267456055),\n",
              " ('niacin', 0.9290006160736084),\n",
              " ('ojut', 0.9289287328720093),\n",
              " ('kichanie_zwykle', 0.9288859963417053),\n",
              " ('yauwa', 0.9287382364273071),\n",
              " ('konfederacja_komentuje', 0.9286595582962036),\n",
              " ('polqc', 0.9285930395126343),\n",
              " ('leczenia_dializowane', 0.9285584092140198),\n",
              " ('le_gorafi', 0.9284914135932922),\n",
              " ('tachoddd', 0.9284168481826782),\n",
              " ('sir_joh', 0.9282457828521729),\n",
              " ('osoby_zabite', 0.9281613826751709),\n",
              " ('osoby_zdiagnozowaniu', 0.9279203414916992),\n",
              " ('dakiwe', 0.9278972744941711),\n",
              " ('obostrzenia_regionalne', 0.9278435707092285),\n",
              " ('spew_coronavirus', 0.9276477694511414),\n",
              " ('ncswic', 0.9276061654090881),\n",
              " ('jesuuuuu', 0.927585244178772),\n",
              " ('corona_story', 0.9274420738220215),\n",
              " ('kodwa_jesu', 0.9273927807807922),\n",
              " ('nieruchomo_warszawa', 0.9273519515991211),\n",
              " ('potangina', 0.9273079037666321),\n",
              " ('uwoah', 0.9270501136779785),\n",
              " ('owani_walk', 0.9269905090332031),\n",
              " ('lol_okie', 0.9268107414245605),\n",
              " ('obanikoro', 0.9267452955245972),\n",
              " ('wlhy', 0.9267332553863525),\n",
              " ('dlin_dlon', 0.9266504049301147),\n",
              " ('convalescentplasma_fda', 0.9266311526298523),\n",
              " ('glub_glub', 0.9265848994255066),\n",
              " ('grimy', 0.9264017939567566),\n",
              " ('merck_zwr', 0.9263781309127808),\n",
              " ('aoty', 0.9262572526931763),\n",
              " ('lotbvirtualromance_aldenxlotb', 0.9260601997375488),\n",
              " ('buya_jesu', 0.9260249137878418),\n",
              " ('long_icymi', 0.9260138869285583),\n",
              " ('raportzaka_dzkiewcentrum', 0.9258671402931213),\n",
              " ('naruto_share', 0.9258646965026855),\n",
              " ('koordynuj_cy', 0.9258644580841064),\n",
              " ('zapraszam_gabinetu', 0.9258356094360352),\n",
              " ('towarzysz_przezi', 0.9257712364196777),\n",
              " ('iki_pie', 0.9254816770553589),\n",
              " ('ine_yanga', 0.9254488348960876),\n",
              " ('ejem_ejem', 0.9254202842712402),\n",
              " ('proc_vat', 0.9253612756729126),\n",
              " ('usszczecin_przedstawiamy', 0.9252345561981201),\n",
              " ('pandemia_sindemia', 0.9251866936683655),\n",
              " ('ministerstw_dot', 0.9250949621200562),\n",
              " ('wojsku_obni', 0.925071120262146),\n",
              " ('tomasz_terlikowski', 0.9250661134719849),\n",
              " ('byoblu_il', 0.9250238537788391),\n",
              " ('wtorkowy_bilans', 0.9250167012214661),\n",
              " ('nidakiwe', 0.9248919486999512),\n",
              " ('epijobs', 0.924761950969696),\n",
              " ('okokobioko', 0.9245723485946655),\n",
              " ('infografik_status', 0.9245485663414001),\n",
              " ('policy_matter', 0.9245358109474182),\n",
              " ('tyniec_powodu', 0.9245237708091736),\n",
              " ('ejem_coronavirus', 0.9245213270187378),\n",
              " ('dystrybucyjn_test', 0.9244563579559326),\n",
              " ('wirusolog_niezaszczepieni', 0.9244515299797058),\n",
              " ('nowotworu_trakcie', 0.924246609210968)]"
            ]
          },
          "metadata": {},
          "execution_count": 31
        }
      ]
    },
    {
      "cell_type": "code",
      "source": [
        "positive_cluster_center = model.cluster_centers_[1]\n",
        "negative_cluster_center = model.cluster_centers_[0]"
      ],
      "metadata": {
        "id": "95RTxHoe44Df"
      },
      "execution_count": null,
      "outputs": []
    },
    {
      "cell_type": "code",
      "source": [
        "words = pd.DataFrame(word_vectors.index2entity)\n",
        "words.columns = ['words']\n",
        "words['vectors'] = words.words.apply(lambda x: word_vectors[f'{x}'])\n",
        "words['cluster'] = words.vectors.apply(lambda x: model.predict([np.array(x)]))\n",
        "words.cluster = words.cluster.apply(lambda x: x[0])"
      ],
      "metadata": {
        "id": "_bE-0F7XWpPI"
      },
      "execution_count": null,
      "outputs": []
    },
    {
      "cell_type": "code",
      "source": [
        "words['cluster_value'] = [1 if i==1 else 0 if i==0 else -1 for i in words.cluster]\n",
        "words['closeness_score'] = words.apply(lambda x: 1/(model.transform([x.vectors]).min()), axis=1)"
      ],
      "metadata": {
        "id": "crVOFK9K6Teq"
      },
      "execution_count": null,
      "outputs": []
    },
    {
      "cell_type": "code",
      "source": [
        "words[words[\"cluster_value\"]==1].sort_values(\"closeness_score\")"
      ],
      "metadata": {
        "id": "ymDErh0JWs05",
        "colab": {
          "base_uri": "https://localhost:8080/",
          "height": 419
        },
        "outputId": "e83c2327-1551-49ea-ebc5-ef4f21c7cd02"
      },
      "execution_count": null,
      "outputs": [
        {
          "output_type": "execute_result",
          "data": {
            "text/html": [
              "\n",
              "  <div id=\"df-822d6d66-f178-4f15-bd90-f82261a1fb97\">\n",
              "    <div class=\"colab-df-container\">\n",
              "      <div>\n",
              "<style scoped>\n",
              "    .dataframe tbody tr th:only-of-type {\n",
              "        vertical-align: middle;\n",
              "    }\n",
              "\n",
              "    .dataframe tbody tr th {\n",
              "        vertical-align: top;\n",
              "    }\n",
              "\n",
              "    .dataframe thead th {\n",
              "        text-align: right;\n",
              "    }\n",
              "</style>\n",
              "<table border=\"1\" class=\"dataframe\">\n",
              "  <thead>\n",
              "    <tr style=\"text-align: right;\">\n",
              "      <th></th>\n",
              "      <th>words</th>\n",
              "      <th>vectors</th>\n",
              "      <th>cluster</th>\n",
              "      <th>cluster_value</th>\n",
              "      <th>closeness_score</th>\n",
              "    </tr>\n",
              "  </thead>\n",
              "  <tbody>\n",
              "    <tr>\n",
              "      <th>5072</th>\n",
              "      <td>stanu_wyj</td>\n",
              "      <td>[2.786296, -1.9610577, -0.6616033, -0.18898596...</td>\n",
              "      <td>1</td>\n",
              "      <td>1</td>\n",
              "      <td>0.048269</td>\n",
              "    </tr>\n",
              "    <tr>\n",
              "      <th>5030</th>\n",
              "      <td>ecznego</td>\n",
              "      <td>[-0.43311185, 0.68154794, 0.5160927, 2.3240938...</td>\n",
              "      <td>1</td>\n",
              "      <td>1</td>\n",
              "      <td>0.048276</td>\n",
              "    </tr>\n",
              "    <tr>\n",
              "      <th>2855</th>\n",
              "      <td>eczno_ciowych</td>\n",
              "      <td>[-2.6242924, 1.390611, 0.9463997, -4.6773605, ...</td>\n",
              "      <td>1</td>\n",
              "      <td>1</td>\n",
              "      <td>0.048341</td>\n",
              "    </tr>\n",
              "    <tr>\n",
              "      <th>3990</th>\n",
              "      <td>owej</td>\n",
              "      <td>[-0.94088334, -1.4191493, -0.15127154, -3.3435...</td>\n",
              "      <td>1</td>\n",
              "      <td>1</td>\n",
              "      <td>0.049802</td>\n",
              "    </tr>\n",
              "    <tr>\n",
              "      <th>3282</th>\n",
              "      <td>mediach_spo</td>\n",
              "      <td>[-2.6145508, 1.5097315, -0.29008517, -3.246131...</td>\n",
              "      <td>1</td>\n",
              "      <td>1</td>\n",
              "      <td>0.050797</td>\n",
              "    </tr>\n",
              "    <tr>\n",
              "      <th>...</th>\n",
              "      <td>...</td>\n",
              "      <td>...</td>\n",
              "      <td>...</td>\n",
              "      <td>...</td>\n",
              "      <td>...</td>\n",
              "    </tr>\n",
              "    <tr>\n",
              "      <th>109560</th>\n",
              "      <td>uniwersalnym_leku</td>\n",
              "      <td>[-0.01760569, -0.14012197, -0.10611296, 0.2968...</td>\n",
              "      <td>1</td>\n",
              "      <td>1</td>\n",
              "      <td>1.609499</td>\n",
              "    </tr>\n",
              "    <tr>\n",
              "      <th>136671</th>\n",
              "      <td>mabion_drugie</td>\n",
              "      <td>[0.065951675, -0.15199773, -0.12377714, 0.1949...</td>\n",
              "      <td>1</td>\n",
              "      <td>1</td>\n",
              "      <td>1.636114</td>\n",
              "    </tr>\n",
              "    <tr>\n",
              "      <th>136672</th>\n",
              "      <td>zlecenie_novavax</td>\n",
              "      <td>[0.06863681, -0.1707214, -0.1250074, 0.2276171...</td>\n",
              "      <td>1</td>\n",
              "      <td>1</td>\n",
              "      <td>1.655749</td>\n",
              "    </tr>\n",
              "    <tr>\n",
              "      <th>135987</th>\n",
              "      <td>wyeliminowa_awnik</td>\n",
              "      <td>[0.01812936, -0.17673475, -0.18835428, 0.22915...</td>\n",
              "      <td>1</td>\n",
              "      <td>1</td>\n",
              "      <td>1.680712</td>\n",
              "    </tr>\n",
              "    <tr>\n",
              "      <th>106319</th>\n",
              "      <td>mobilny_szpital</td>\n",
              "      <td>[0.0975343, -0.13090022, -0.2258344, 0.1745634...</td>\n",
              "      <td>1</td>\n",
              "      <td>1</td>\n",
              "      <td>1.761994</td>\n",
              "    </tr>\n",
              "  </tbody>\n",
              "</table>\n",
              "<p>65640 rows × 5 columns</p>\n",
              "</div>\n",
              "      <button class=\"colab-df-convert\" onclick=\"convertToInteractive('df-822d6d66-f178-4f15-bd90-f82261a1fb97')\"\n",
              "              title=\"Convert this dataframe to an interactive table.\"\n",
              "              style=\"display:none;\">\n",
              "        \n",
              "  <svg xmlns=\"http://www.w3.org/2000/svg\" height=\"24px\"viewBox=\"0 0 24 24\"\n",
              "       width=\"24px\">\n",
              "    <path d=\"M0 0h24v24H0V0z\" fill=\"none\"/>\n",
              "    <path d=\"M18.56 5.44l.94 2.06.94-2.06 2.06-.94-2.06-.94-.94-2.06-.94 2.06-2.06.94zm-11 1L8.5 8.5l.94-2.06 2.06-.94-2.06-.94L8.5 2.5l-.94 2.06-2.06.94zm10 10l.94 2.06.94-2.06 2.06-.94-2.06-.94-.94-2.06-.94 2.06-2.06.94z\"/><path d=\"M17.41 7.96l-1.37-1.37c-.4-.4-.92-.59-1.43-.59-.52 0-1.04.2-1.43.59L10.3 9.45l-7.72 7.72c-.78.78-.78 2.05 0 2.83L4 21.41c.39.39.9.59 1.41.59.51 0 1.02-.2 1.41-.59l7.78-7.78 2.81-2.81c.8-.78.8-2.07 0-2.86zM5.41 20L4 18.59l7.72-7.72 1.47 1.35L5.41 20z\"/>\n",
              "  </svg>\n",
              "      </button>\n",
              "      \n",
              "  <style>\n",
              "    .colab-df-container {\n",
              "      display:flex;\n",
              "      flex-wrap:wrap;\n",
              "      gap: 12px;\n",
              "    }\n",
              "\n",
              "    .colab-df-convert {\n",
              "      background-color: #E8F0FE;\n",
              "      border: none;\n",
              "      border-radius: 50%;\n",
              "      cursor: pointer;\n",
              "      display: none;\n",
              "      fill: #1967D2;\n",
              "      height: 32px;\n",
              "      padding: 0 0 0 0;\n",
              "      width: 32px;\n",
              "    }\n",
              "\n",
              "    .colab-df-convert:hover {\n",
              "      background-color: #E2EBFA;\n",
              "      box-shadow: 0px 1px 2px rgba(60, 64, 67, 0.3), 0px 1px 3px 1px rgba(60, 64, 67, 0.15);\n",
              "      fill: #174EA6;\n",
              "    }\n",
              "\n",
              "    [theme=dark] .colab-df-convert {\n",
              "      background-color: #3B4455;\n",
              "      fill: #D2E3FC;\n",
              "    }\n",
              "\n",
              "    [theme=dark] .colab-df-convert:hover {\n",
              "      background-color: #434B5C;\n",
              "      box-shadow: 0px 1px 3px 1px rgba(0, 0, 0, 0.15);\n",
              "      filter: drop-shadow(0px 1px 2px rgba(0, 0, 0, 0.3));\n",
              "      fill: #FFFFFF;\n",
              "    }\n",
              "  </style>\n",
              "\n",
              "      <script>\n",
              "        const buttonEl =\n",
              "          document.querySelector('#df-822d6d66-f178-4f15-bd90-f82261a1fb97 button.colab-df-convert');\n",
              "        buttonEl.style.display =\n",
              "          google.colab.kernel.accessAllowed ? 'block' : 'none';\n",
              "\n",
              "        async function convertToInteractive(key) {\n",
              "          const element = document.querySelector('#df-822d6d66-f178-4f15-bd90-f82261a1fb97');\n",
              "          const dataTable =\n",
              "            await google.colab.kernel.invokeFunction('convertToInteractive',\n",
              "                                                     [key], {});\n",
              "          if (!dataTable) return;\n",
              "\n",
              "          const docLinkHtml = 'Like what you see? Visit the ' +\n",
              "            '<a target=\"_blank\" href=https://colab.research.google.com/notebooks/data_table.ipynb>data table notebook</a>'\n",
              "            + ' to learn more about interactive tables.';\n",
              "          element.innerHTML = '';\n",
              "          dataTable['output_type'] = 'display_data';\n",
              "          await google.colab.output.renderOutput(dataTable, element);\n",
              "          const docLink = document.createElement('div');\n",
              "          docLink.innerHTML = docLinkHtml;\n",
              "          element.appendChild(docLink);\n",
              "        }\n",
              "      </script>\n",
              "    </div>\n",
              "  </div>\n",
              "  "
            ],
            "text/plain": [
              "                    words  ... closeness_score\n",
              "5072            stanu_wyj  ...        0.048269\n",
              "5030              ecznego  ...        0.048276\n",
              "2855        eczno_ciowych  ...        0.048341\n",
              "3990                 owej  ...        0.049802\n",
              "3282          mediach_spo  ...        0.050797\n",
              "...                   ...  ...             ...\n",
              "109560  uniwersalnym_leku  ...        1.609499\n",
              "136671      mabion_drugie  ...        1.636114\n",
              "136672   zlecenie_novavax  ...        1.655749\n",
              "135987  wyeliminowa_awnik  ...        1.680712\n",
              "106319    mobilny_szpital  ...        1.761994\n",
              "\n",
              "[65640 rows x 5 columns]"
            ]
          },
          "metadata": {},
          "execution_count": 36
        }
      ]
    },
    {
      "cell_type": "code",
      "source": [
        "words[words[\"cluster_value\"]==0].sort_values(\"closeness_score\")"
      ],
      "metadata": {
        "id": "rfDCpotU7T4K",
        "colab": {
          "base_uri": "https://localhost:8080/",
          "height": 419
        },
        "outputId": "93f7aa7a-f7f6-4327-8817-32eb95cc5817"
      },
      "execution_count": null,
      "outputs": [
        {
          "output_type": "execute_result",
          "data": {
            "text/html": [
              "\n",
              "  <div id=\"df-4ae910e7-cd88-4efe-887a-1c2756d96005\">\n",
              "    <div class=\"colab-df-container\">\n",
              "      <div>\n",
              "<style scoped>\n",
              "    .dataframe tbody tr th:only-of-type {\n",
              "        vertical-align: middle;\n",
              "    }\n",
              "\n",
              "    .dataframe tbody tr th {\n",
              "        vertical-align: top;\n",
              "    }\n",
              "\n",
              "    .dataframe thead th {\n",
              "        text-align: right;\n",
              "    }\n",
              "</style>\n",
              "<table border=\"1\" class=\"dataframe\">\n",
              "  <thead>\n",
              "    <tr style=\"text-align: right;\">\n",
              "      <th></th>\n",
              "      <th>words</th>\n",
              "      <th>vectors</th>\n",
              "      <th>cluster</th>\n",
              "      <th>cluster_value</th>\n",
              "      <th>closeness_score</th>\n",
              "    </tr>\n",
              "  </thead>\n",
              "  <tbody>\n",
              "    <tr>\n",
              "      <th>4597</th>\n",
              "      <td>lekarze_piel</td>\n",
              "      <td>[0.08311772, 0.57942873, -5.114555, 3.099685, ...</td>\n",
              "      <td>0</td>\n",
              "      <td>0</td>\n",
              "      <td>0.048254</td>\n",
              "    </tr>\n",
              "    <tr>\n",
              "      <th>4633</th>\n",
              "      <td>dystans_spo</td>\n",
              "      <td>[-0.46372628, -3.9472358, -1.4888384, 1.430733...</td>\n",
              "      <td>0</td>\n",
              "      <td>0</td>\n",
              "      <td>0.048755</td>\n",
              "    </tr>\n",
              "    <tr>\n",
              "      <th>3727</th>\n",
              "      <td>kszo</td>\n",
              "      <td>[0.036236137, 0.8422798, -0.1718455, 0.6491493...</td>\n",
              "      <td>0</td>\n",
              "      <td>0</td>\n",
              "      <td>0.049059</td>\n",
              "    </tr>\n",
              "    <tr>\n",
              "      <th>4089</th>\n",
              "      <td>dek</td>\n",
              "      <td>[1.8052704, -1.5195645, -0.26483908, -0.114606...</td>\n",
              "      <td>0</td>\n",
              "      <td>0</td>\n",
              "      <td>0.052312</td>\n",
              "    </tr>\n",
              "    <tr>\n",
              "      <th>2480</th>\n",
              "      <td>lekarzy_piel</td>\n",
              "      <td>[2.2884233, 0.7390344, -5.0057263, 0.37161604,...</td>\n",
              "      <td>0</td>\n",
              "      <td>0</td>\n",
              "      <td>0.053037</td>\n",
              "    </tr>\n",
              "    <tr>\n",
              "      <th>...</th>\n",
              "      <td>...</td>\n",
              "      <td>...</td>\n",
              "      <td>...</td>\n",
              "      <td>...</td>\n",
              "      <td>...</td>\n",
              "    </tr>\n",
              "    <tr>\n",
              "      <th>93965</th>\n",
              "      <td>opowiesz</td>\n",
              "      <td>[-0.26107708, -0.047782354, -0.041745786, 0.48...</td>\n",
              "      <td>0</td>\n",
              "      <td>0</td>\n",
              "      <td>1.668054</td>\n",
              "    </tr>\n",
              "    <tr>\n",
              "      <th>131636</th>\n",
              "      <td>zero_wstydu</td>\n",
              "      <td>[-0.11006503, -0.13391894, -0.041626554, 0.443...</td>\n",
              "      <td>0</td>\n",
              "      <td>0</td>\n",
              "      <td>1.709658</td>\n",
              "    </tr>\n",
              "    <tr>\n",
              "      <th>130859</th>\n",
              "      <td>bolszewikiem</td>\n",
              "      <td>[-0.16627593, -0.08047718, 0.005871109, 0.3620...</td>\n",
              "      <td>0</td>\n",
              "      <td>0</td>\n",
              "      <td>1.712849</td>\n",
              "    </tr>\n",
              "    <tr>\n",
              "      <th>101844</th>\n",
              "      <td>covidoidiotyzmy</td>\n",
              "      <td>[-0.10226695, -0.030579621, -0.0059912275, 0.3...</td>\n",
              "      <td>0</td>\n",
              "      <td>0</td>\n",
              "      <td>1.738031</td>\n",
              "    </tr>\n",
              "    <tr>\n",
              "      <th>133360</th>\n",
              "      <td>szkoda_liny</td>\n",
              "      <td>[-0.12628315, -0.065900564, 0.060132477, 0.458...</td>\n",
              "      <td>0</td>\n",
              "      <td>0</td>\n",
              "      <td>1.750204</td>\n",
              "    </tr>\n",
              "  </tbody>\n",
              "</table>\n",
              "<p>72167 rows × 5 columns</p>\n",
              "</div>\n",
              "      <button class=\"colab-df-convert\" onclick=\"convertToInteractive('df-4ae910e7-cd88-4efe-887a-1c2756d96005')\"\n",
              "              title=\"Convert this dataframe to an interactive table.\"\n",
              "              style=\"display:none;\">\n",
              "        \n",
              "  <svg xmlns=\"http://www.w3.org/2000/svg\" height=\"24px\"viewBox=\"0 0 24 24\"\n",
              "       width=\"24px\">\n",
              "    <path d=\"M0 0h24v24H0V0z\" fill=\"none\"/>\n",
              "    <path d=\"M18.56 5.44l.94 2.06.94-2.06 2.06-.94-2.06-.94-.94-2.06-.94 2.06-2.06.94zm-11 1L8.5 8.5l.94-2.06 2.06-.94-2.06-.94L8.5 2.5l-.94 2.06-2.06.94zm10 10l.94 2.06.94-2.06 2.06-.94-2.06-.94-.94-2.06-.94 2.06-2.06.94z\"/><path d=\"M17.41 7.96l-1.37-1.37c-.4-.4-.92-.59-1.43-.59-.52 0-1.04.2-1.43.59L10.3 9.45l-7.72 7.72c-.78.78-.78 2.05 0 2.83L4 21.41c.39.39.9.59 1.41.59.51 0 1.02-.2 1.41-.59l7.78-7.78 2.81-2.81c.8-.78.8-2.07 0-2.86zM5.41 20L4 18.59l7.72-7.72 1.47 1.35L5.41 20z\"/>\n",
              "  </svg>\n",
              "      </button>\n",
              "      \n",
              "  <style>\n",
              "    .colab-df-container {\n",
              "      display:flex;\n",
              "      flex-wrap:wrap;\n",
              "      gap: 12px;\n",
              "    }\n",
              "\n",
              "    .colab-df-convert {\n",
              "      background-color: #E8F0FE;\n",
              "      border: none;\n",
              "      border-radius: 50%;\n",
              "      cursor: pointer;\n",
              "      display: none;\n",
              "      fill: #1967D2;\n",
              "      height: 32px;\n",
              "      padding: 0 0 0 0;\n",
              "      width: 32px;\n",
              "    }\n",
              "\n",
              "    .colab-df-convert:hover {\n",
              "      background-color: #E2EBFA;\n",
              "      box-shadow: 0px 1px 2px rgba(60, 64, 67, 0.3), 0px 1px 3px 1px rgba(60, 64, 67, 0.15);\n",
              "      fill: #174EA6;\n",
              "    }\n",
              "\n",
              "    [theme=dark] .colab-df-convert {\n",
              "      background-color: #3B4455;\n",
              "      fill: #D2E3FC;\n",
              "    }\n",
              "\n",
              "    [theme=dark] .colab-df-convert:hover {\n",
              "      background-color: #434B5C;\n",
              "      box-shadow: 0px 1px 3px 1px rgba(0, 0, 0, 0.15);\n",
              "      filter: drop-shadow(0px 1px 2px rgba(0, 0, 0, 0.3));\n",
              "      fill: #FFFFFF;\n",
              "    }\n",
              "  </style>\n",
              "\n",
              "      <script>\n",
              "        const buttonEl =\n",
              "          document.querySelector('#df-4ae910e7-cd88-4efe-887a-1c2756d96005 button.colab-df-convert');\n",
              "        buttonEl.style.display =\n",
              "          google.colab.kernel.accessAllowed ? 'block' : 'none';\n",
              "\n",
              "        async function convertToInteractive(key) {\n",
              "          const element = document.querySelector('#df-4ae910e7-cd88-4efe-887a-1c2756d96005');\n",
              "          const dataTable =\n",
              "            await google.colab.kernel.invokeFunction('convertToInteractive',\n",
              "                                                     [key], {});\n",
              "          if (!dataTable) return;\n",
              "\n",
              "          const docLinkHtml = 'Like what you see? Visit the ' +\n",
              "            '<a target=\"_blank\" href=https://colab.research.google.com/notebooks/data_table.ipynb>data table notebook</a>'\n",
              "            + ' to learn more about interactive tables.';\n",
              "          element.innerHTML = '';\n",
              "          dataTable['output_type'] = 'display_data';\n",
              "          await google.colab.output.renderOutput(dataTable, element);\n",
              "          const docLink = document.createElement('div');\n",
              "          docLink.innerHTML = docLinkHtml;\n",
              "          element.appendChild(docLink);\n",
              "        }\n",
              "      </script>\n",
              "    </div>\n",
              "  </div>\n",
              "  "
            ],
            "text/plain": [
              "                  words  ... closeness_score\n",
              "4597       lekarze_piel  ...        0.048254\n",
              "4633        dystans_spo  ...        0.048755\n",
              "3727               kszo  ...        0.049059\n",
              "4089                dek  ...        0.052312\n",
              "2480       lekarzy_piel  ...        0.053037\n",
              "...                 ...  ...             ...\n",
              "93965          opowiesz  ...        1.668054\n",
              "131636      zero_wstydu  ...        1.709658\n",
              "130859     bolszewikiem  ...        1.712849\n",
              "101844  covidoidiotyzmy  ...        1.738031\n",
              "133360      szkoda_liny  ...        1.750204\n",
              "\n",
              "[72167 rows x 5 columns]"
            ]
          },
          "metadata": {},
          "execution_count": 37
        }
      ]
    },
    {
      "cell_type": "code",
      "source": [
        "positive = ['dobry','pozytywny','świetny','sensowny','porządny','udany','korzystny','optymistyczny']\n",
        "negative= ['smutny','zły','absurdalny','beznadziejny','wkurzony','agresywny', 'idiotyczny' 'durny']\n",
        "for i in positive:\n",
        "    words.loc[words[\"words\"]==i,\"cluster_value\"] = 1\n",
        "    \n",
        "for i in negative:\n",
        "    words.loc[words[\"words\"]==i,\"cluster_value\"] = 0"
      ],
      "metadata": {
        "id": "Hq6PjZVq8F2t"
      },
      "execution_count": null,
      "outputs": []
    },
    {
      "cell_type": "code",
      "source": [
        "words[words[\"words\"]==\"beznadziejny\"]"
      ],
      "metadata": {
        "id": "D3C9Wecv_mHP",
        "colab": {
          "base_uri": "https://localhost:8080/",
          "height": 80
        },
        "outputId": "c1bb02ce-0809-466f-fa32-b1ff9b77df96"
      },
      "execution_count": null,
      "outputs": [
        {
          "output_type": "execute_result",
          "data": {
            "text/html": [
              "\n",
              "  <div id=\"df-19c70578-5919-43d7-887a-509f70cc8c9b\">\n",
              "    <div class=\"colab-df-container\">\n",
              "      <div>\n",
              "<style scoped>\n",
              "    .dataframe tbody tr th:only-of-type {\n",
              "        vertical-align: middle;\n",
              "    }\n",
              "\n",
              "    .dataframe tbody tr th {\n",
              "        vertical-align: top;\n",
              "    }\n",
              "\n",
              "    .dataframe thead th {\n",
              "        text-align: right;\n",
              "    }\n",
              "</style>\n",
              "<table border=\"1\" class=\"dataframe\">\n",
              "  <thead>\n",
              "    <tr style=\"text-align: right;\">\n",
              "      <th></th>\n",
              "      <th>words</th>\n",
              "      <th>vectors</th>\n",
              "      <th>cluster</th>\n",
              "      <th>cluster_value</th>\n",
              "      <th>closeness_score</th>\n",
              "    </tr>\n",
              "  </thead>\n",
              "  <tbody>\n",
              "    <tr>\n",
              "      <th>34451</th>\n",
              "      <td>beznadziejny</td>\n",
              "      <td>[-0.4336898, 0.074451916, 0.089137726, 0.70559...</td>\n",
              "      <td>0</td>\n",
              "      <td>0</td>\n",
              "      <td>0.50658</td>\n",
              "    </tr>\n",
              "  </tbody>\n",
              "</table>\n",
              "</div>\n",
              "      <button class=\"colab-df-convert\" onclick=\"convertToInteractive('df-19c70578-5919-43d7-887a-509f70cc8c9b')\"\n",
              "              title=\"Convert this dataframe to an interactive table.\"\n",
              "              style=\"display:none;\">\n",
              "        \n",
              "  <svg xmlns=\"http://www.w3.org/2000/svg\" height=\"24px\"viewBox=\"0 0 24 24\"\n",
              "       width=\"24px\">\n",
              "    <path d=\"M0 0h24v24H0V0z\" fill=\"none\"/>\n",
              "    <path d=\"M18.56 5.44l.94 2.06.94-2.06 2.06-.94-2.06-.94-.94-2.06-.94 2.06-2.06.94zm-11 1L8.5 8.5l.94-2.06 2.06-.94-2.06-.94L8.5 2.5l-.94 2.06-2.06.94zm10 10l.94 2.06.94-2.06 2.06-.94-2.06-.94-.94-2.06-.94 2.06-2.06.94z\"/><path d=\"M17.41 7.96l-1.37-1.37c-.4-.4-.92-.59-1.43-.59-.52 0-1.04.2-1.43.59L10.3 9.45l-7.72 7.72c-.78.78-.78 2.05 0 2.83L4 21.41c.39.39.9.59 1.41.59.51 0 1.02-.2 1.41-.59l7.78-7.78 2.81-2.81c.8-.78.8-2.07 0-2.86zM5.41 20L4 18.59l7.72-7.72 1.47 1.35L5.41 20z\"/>\n",
              "  </svg>\n",
              "      </button>\n",
              "      \n",
              "  <style>\n",
              "    .colab-df-container {\n",
              "      display:flex;\n",
              "      flex-wrap:wrap;\n",
              "      gap: 12px;\n",
              "    }\n",
              "\n",
              "    .colab-df-convert {\n",
              "      background-color: #E8F0FE;\n",
              "      border: none;\n",
              "      border-radius: 50%;\n",
              "      cursor: pointer;\n",
              "      display: none;\n",
              "      fill: #1967D2;\n",
              "      height: 32px;\n",
              "      padding: 0 0 0 0;\n",
              "      width: 32px;\n",
              "    }\n",
              "\n",
              "    .colab-df-convert:hover {\n",
              "      background-color: #E2EBFA;\n",
              "      box-shadow: 0px 1px 2px rgba(60, 64, 67, 0.3), 0px 1px 3px 1px rgba(60, 64, 67, 0.15);\n",
              "      fill: #174EA6;\n",
              "    }\n",
              "\n",
              "    [theme=dark] .colab-df-convert {\n",
              "      background-color: #3B4455;\n",
              "      fill: #D2E3FC;\n",
              "    }\n",
              "\n",
              "    [theme=dark] .colab-df-convert:hover {\n",
              "      background-color: #434B5C;\n",
              "      box-shadow: 0px 1px 3px 1px rgba(0, 0, 0, 0.15);\n",
              "      filter: drop-shadow(0px 1px 2px rgba(0, 0, 0, 0.3));\n",
              "      fill: #FFFFFF;\n",
              "    }\n",
              "  </style>\n",
              "\n",
              "      <script>\n",
              "        const buttonEl =\n",
              "          document.querySelector('#df-19c70578-5919-43d7-887a-509f70cc8c9b button.colab-df-convert');\n",
              "        buttonEl.style.display =\n",
              "          google.colab.kernel.accessAllowed ? 'block' : 'none';\n",
              "\n",
              "        async function convertToInteractive(key) {\n",
              "          const element = document.querySelector('#df-19c70578-5919-43d7-887a-509f70cc8c9b');\n",
              "          const dataTable =\n",
              "            await google.colab.kernel.invokeFunction('convertToInteractive',\n",
              "                                                     [key], {});\n",
              "          if (!dataTable) return;\n",
              "\n",
              "          const docLinkHtml = 'Like what you see? Visit the ' +\n",
              "            '<a target=\"_blank\" href=https://colab.research.google.com/notebooks/data_table.ipynb>data table notebook</a>'\n",
              "            + ' to learn more about interactive tables.';\n",
              "          element.innerHTML = '';\n",
              "          dataTable['output_type'] = 'display_data';\n",
              "          await google.colab.output.renderOutput(dataTable, element);\n",
              "          const docLink = document.createElement('div');\n",
              "          docLink.innerHTML = docLinkHtml;\n",
              "          element.appendChild(docLink);\n",
              "        }\n",
              "      </script>\n",
              "    </div>\n",
              "  </div>\n",
              "  "
            ],
            "text/plain": [
              "              words  ... closeness_score\n",
              "34451  beznadziejny  ...         0.50658\n",
              "\n",
              "[1 rows x 5 columns]"
            ]
          },
          "metadata": {},
          "execution_count": 39
        }
      ]
    },
    {
      "cell_type": "code",
      "source": [
        "words[words[\"words\"]==\"pozytywny\"]"
      ],
      "metadata": {
        "id": "zrmIHoK-_pip",
        "colab": {
          "base_uri": "https://localhost:8080/",
          "height": 80
        },
        "outputId": "e5cec652-0113-4b66-809f-e0719f46f675"
      },
      "execution_count": null,
      "outputs": [
        {
          "output_type": "execute_result",
          "data": {
            "text/html": [
              "\n",
              "  <div id=\"df-89fffc4a-f82c-4eac-a66f-4a2c99535027\">\n",
              "    <div class=\"colab-df-container\">\n",
              "      <div>\n",
              "<style scoped>\n",
              "    .dataframe tbody tr th:only-of-type {\n",
              "        vertical-align: middle;\n",
              "    }\n",
              "\n",
              "    .dataframe tbody tr th {\n",
              "        vertical-align: top;\n",
              "    }\n",
              "\n",
              "    .dataframe thead th {\n",
              "        text-align: right;\n",
              "    }\n",
              "</style>\n",
              "<table border=\"1\" class=\"dataframe\">\n",
              "  <thead>\n",
              "    <tr style=\"text-align: right;\">\n",
              "      <th></th>\n",
              "      <th>words</th>\n",
              "      <th>vectors</th>\n",
              "      <th>cluster</th>\n",
              "      <th>cluster_value</th>\n",
              "      <th>closeness_score</th>\n",
              "    </tr>\n",
              "  </thead>\n",
              "  <tbody>\n",
              "    <tr>\n",
              "      <th>1102</th>\n",
              "      <td>pozytywny</td>\n",
              "      <td>[-1.3113049, 0.9025441, -0.111210994, 0.696913...</td>\n",
              "      <td>0</td>\n",
              "      <td>1</td>\n",
              "      <td>0.099893</td>\n",
              "    </tr>\n",
              "  </tbody>\n",
              "</table>\n",
              "</div>\n",
              "      <button class=\"colab-df-convert\" onclick=\"convertToInteractive('df-89fffc4a-f82c-4eac-a66f-4a2c99535027')\"\n",
              "              title=\"Convert this dataframe to an interactive table.\"\n",
              "              style=\"display:none;\">\n",
              "        \n",
              "  <svg xmlns=\"http://www.w3.org/2000/svg\" height=\"24px\"viewBox=\"0 0 24 24\"\n",
              "       width=\"24px\">\n",
              "    <path d=\"M0 0h24v24H0V0z\" fill=\"none\"/>\n",
              "    <path d=\"M18.56 5.44l.94 2.06.94-2.06 2.06-.94-2.06-.94-.94-2.06-.94 2.06-2.06.94zm-11 1L8.5 8.5l.94-2.06 2.06-.94-2.06-.94L8.5 2.5l-.94 2.06-2.06.94zm10 10l.94 2.06.94-2.06 2.06-.94-2.06-.94-.94-2.06-.94 2.06-2.06.94z\"/><path d=\"M17.41 7.96l-1.37-1.37c-.4-.4-.92-.59-1.43-.59-.52 0-1.04.2-1.43.59L10.3 9.45l-7.72 7.72c-.78.78-.78 2.05 0 2.83L4 21.41c.39.39.9.59 1.41.59.51 0 1.02-.2 1.41-.59l7.78-7.78 2.81-2.81c.8-.78.8-2.07 0-2.86zM5.41 20L4 18.59l7.72-7.72 1.47 1.35L5.41 20z\"/>\n",
              "  </svg>\n",
              "      </button>\n",
              "      \n",
              "  <style>\n",
              "    .colab-df-container {\n",
              "      display:flex;\n",
              "      flex-wrap:wrap;\n",
              "      gap: 12px;\n",
              "    }\n",
              "\n",
              "    .colab-df-convert {\n",
              "      background-color: #E8F0FE;\n",
              "      border: none;\n",
              "      border-radius: 50%;\n",
              "      cursor: pointer;\n",
              "      display: none;\n",
              "      fill: #1967D2;\n",
              "      height: 32px;\n",
              "      padding: 0 0 0 0;\n",
              "      width: 32px;\n",
              "    }\n",
              "\n",
              "    .colab-df-convert:hover {\n",
              "      background-color: #E2EBFA;\n",
              "      box-shadow: 0px 1px 2px rgba(60, 64, 67, 0.3), 0px 1px 3px 1px rgba(60, 64, 67, 0.15);\n",
              "      fill: #174EA6;\n",
              "    }\n",
              "\n",
              "    [theme=dark] .colab-df-convert {\n",
              "      background-color: #3B4455;\n",
              "      fill: #D2E3FC;\n",
              "    }\n",
              "\n",
              "    [theme=dark] .colab-df-convert:hover {\n",
              "      background-color: #434B5C;\n",
              "      box-shadow: 0px 1px 3px 1px rgba(0, 0, 0, 0.15);\n",
              "      filter: drop-shadow(0px 1px 2px rgba(0, 0, 0, 0.3));\n",
              "      fill: #FFFFFF;\n",
              "    }\n",
              "  </style>\n",
              "\n",
              "      <script>\n",
              "        const buttonEl =\n",
              "          document.querySelector('#df-89fffc4a-f82c-4eac-a66f-4a2c99535027 button.colab-df-convert');\n",
              "        buttonEl.style.display =\n",
              "          google.colab.kernel.accessAllowed ? 'block' : 'none';\n",
              "\n",
              "        async function convertToInteractive(key) {\n",
              "          const element = document.querySelector('#df-89fffc4a-f82c-4eac-a66f-4a2c99535027');\n",
              "          const dataTable =\n",
              "            await google.colab.kernel.invokeFunction('convertToInteractive',\n",
              "                                                     [key], {});\n",
              "          if (!dataTable) return;\n",
              "\n",
              "          const docLinkHtml = 'Like what you see? Visit the ' +\n",
              "            '<a target=\"_blank\" href=https://colab.research.google.com/notebooks/data_table.ipynb>data table notebook</a>'\n",
              "            + ' to learn more about interactive tables.';\n",
              "          element.innerHTML = '';\n",
              "          dataTable['output_type'] = 'display_data';\n",
              "          await google.colab.output.renderOutput(dataTable, element);\n",
              "          const docLink = document.createElement('div');\n",
              "          docLink.innerHTML = docLinkHtml;\n",
              "          element.appendChild(docLink);\n",
              "        }\n",
              "      </script>\n",
              "    </div>\n",
              "  </div>\n",
              "  "
            ],
            "text/plain": [
              "          words  ... closeness_score\n",
              "1102  pozytywny  ...        0.099893\n",
              "\n",
              "[1 rows x 5 columns]"
            ]
          },
          "metadata": {},
          "execution_count": 40
        }
      ]
    },
    {
      "cell_type": "code",
      "source": [
        "emotion = {0: \"negative\",\n",
        "           1: \"positive\"}\n",
        "\n",
        "words[\"sentiments\"] = words[\"cluster_value\"].map(emotion)\n",
        "\n",
        "fig = plt.gcf()\n",
        "fig.set_size_inches(7,7)\n",
        "colors = [\"cyan\",\"pink\",\"yellow\"]\n",
        "df_pie=words[\"sentiments\"].value_counts().reset_index()\n",
        "plt.pie(df_pie[\"sentiments\"], labels = df_pie[\"index\"], radius=2, colors=colors, autopct=\"%1.1f%%\")\n",
        "plt.axis('equal')\n",
        "plt.title(\"Dystrybucja sentymentów \", fontsize=20)\n",
        "plt.show()\n",
        "df_pie"
      ],
      "metadata": {
        "id": "Vl4ILuBd_xoN",
        "colab": {
          "base_uri": "https://localhost:8080/",
          "height": 535
        },
        "outputId": "21a46138-3b66-4032-fb7b-3c27da5e1d6a"
      },
      "execution_count": null,
      "outputs": [
        {
          "output_type": "display_data",
          "data": {
            "image/png": "[encoded data removed]",
            "text/plain": [
              "<Figure size 504x504 with 1 Axes>"
            ]
          },
          "metadata": {}
        },
        {
          "output_type": "execute_result",
          "data": {
            "text/html": [
              "\n",
              "  <div id=\"df-49dbc78e-aeba-4a4b-8b19-387ecfe1d93c\">\n",
              "    <div class=\"colab-df-container\">\n",
              "      <div>\n",
              "<style scoped>\n",
              "    .dataframe tbody tr th:only-of-type {\n",
              "        vertical-align: middle;\n",
              "    }\n",
              "\n",
              "    .dataframe tbody tr th {\n",
              "        vertical-align: top;\n",
              "    }\n",
              "\n",
              "    .dataframe thead th {\n",
              "        text-align: right;\n",
              "    }\n",
              "</style>\n",
              "<table border=\"1\" class=\"dataframe\">\n",
              "  <thead>\n",
              "    <tr style=\"text-align: right;\">\n",
              "      <th></th>\n",
              "      <th>index</th>\n",
              "      <th>sentiments</th>\n",
              "    </tr>\n",
              "  </thead>\n",
              "  <tbody>\n",
              "    <tr>\n",
              "      <th>0</th>\n",
              "      <td>negative</td>\n",
              "      <td>72163</td>\n",
              "    </tr>\n",
              "    <tr>\n",
              "      <th>1</th>\n",
              "      <td>positive</td>\n",
              "      <td>65644</td>\n",
              "    </tr>\n",
              "  </tbody>\n",
              "</table>\n",
              "</div>\n",
              "      <button class=\"colab-df-convert\" onclick=\"convertToInteractive('df-49dbc78e-aeba-4a4b-8b19-387ecfe1d93c')\"\n",
              "              title=\"Convert this dataframe to an interactive table.\"\n",
              "              style=\"display:none;\">\n",
              "        \n",
              "  <svg xmlns=\"http://www.w3.org/2000/svg\" height=\"24px\"viewBox=\"0 0 24 24\"\n",
              "       width=\"24px\">\n",
              "    <path d=\"M0 0h24v24H0V0z\" fill=\"none\"/>\n",
              "    <path d=\"M18.56 5.44l.94 2.06.94-2.06 2.06-.94-2.06-.94-.94-2.06-.94 2.06-2.06.94zm-11 1L8.5 8.5l.94-2.06 2.06-.94-2.06-.94L8.5 2.5l-.94 2.06-2.06.94zm10 10l.94 2.06.94-2.06 2.06-.94-2.06-.94-.94-2.06-.94 2.06-2.06.94z\"/><path d=\"M17.41 7.96l-1.37-1.37c-.4-.4-.92-.59-1.43-.59-.52 0-1.04.2-1.43.59L10.3 9.45l-7.72 7.72c-.78.78-.78 2.05 0 2.83L4 21.41c.39.39.9.59 1.41.59.51 0 1.02-.2 1.41-.59l7.78-7.78 2.81-2.81c.8-.78.8-2.07 0-2.86zM5.41 20L4 18.59l7.72-7.72 1.47 1.35L5.41 20z\"/>\n",
              "  </svg>\n",
              "      </button>\n",
              "      \n",
              "  <style>\n",
              "    .colab-df-container {\n",
              "      display:flex;\n",
              "      flex-wrap:wrap;\n",
              "      gap: 12px;\n",
              "    }\n",
              "\n",
              "    .colab-df-convert {\n",
              "      background-color: #E8F0FE;\n",
              "      border: none;\n",
              "      border-radius: 50%;\n",
              "      cursor: pointer;\n",
              "      display: none;\n",
              "      fill: #1967D2;\n",
              "      height: 32px;\n",
              "      padding: 0 0 0 0;\n",
              "      width: 32px;\n",
              "    }\n",
              "\n",
              "    .colab-df-convert:hover {\n",
              "      background-color: #E2EBFA;\n",
              "      box-shadow: 0px 1px 2px rgba(60, 64, 67, 0.3), 0px 1px 3px 1px rgba(60, 64, 67, 0.15);\n",
              "      fill: #174EA6;\n",
              "    }\n",
              "\n",
              "    [theme=dark] .colab-df-convert {\n",
              "      background-color: #3B4455;\n",
              "      fill: #D2E3FC;\n",
              "    }\n",
              "\n",
              "    [theme=dark] .colab-df-convert:hover {\n",
              "      background-color: #434B5C;\n",
              "      box-shadow: 0px 1px 3px 1px rgba(0, 0, 0, 0.15);\n",
              "      filter: drop-shadow(0px 1px 2px rgba(0, 0, 0, 0.3));\n",
              "      fill: #FFFFFF;\n",
              "    }\n",
              "  </style>\n",
              "\n",
              "      <script>\n",
              "        const buttonEl =\n",
              "          document.querySelector('#df-49dbc78e-aeba-4a4b-8b19-387ecfe1d93c button.colab-df-convert');\n",
              "        buttonEl.style.display =\n",
              "          google.colab.kernel.accessAllowed ? 'block' : 'none';\n",
              "\n",
              "        async function convertToInteractive(key) {\n",
              "          const element = document.querySelector('#df-49dbc78e-aeba-4a4b-8b19-387ecfe1d93c');\n",
              "          const dataTable =\n",
              "            await google.colab.kernel.invokeFunction('convertToInteractive',\n",
              "                                                     [key], {});\n",
              "          if (!dataTable) return;\n",
              "\n",
              "          const docLinkHtml = 'Like what you see? Visit the ' +\n",
              "            '<a target=\"_blank\" href=https://colab.research.google.com/notebooks/data_table.ipynb>data table notebook</a>'\n",
              "            + ' to learn more about interactive tables.';\n",
              "          element.innerHTML = '';\n",
              "          dataTable['output_type'] = 'display_data';\n",
              "          await google.colab.output.renderOutput(dataTable, element);\n",
              "          const docLink = document.createElement('div');\n",
              "          docLink.innerHTML = docLinkHtml;\n",
              "          element.appendChild(docLink);\n",
              "        }\n",
              "      </script>\n",
              "    </div>\n",
              "  </div>\n",
              "  "
            ],
            "text/plain": [
              "      index  sentiments\n",
              "0  negative       72163\n",
              "1  positive       65644"
            ]
          },
          "metadata": {},
          "execution_count": 41
        }
      ]
    },
    {
      "cell_type": "code",
      "source": [
        "from math import nan\n",
        "def get_sentiments(x, sent_dict):\n",
        "    total = 0\n",
        "    count = 0\n",
        "    test = x[\"clean_text\"]\n",
        "    for t in test:\n",
        "        if words_dict.get(t):\n",
        "            total += int(sent_dict.get(t))\n",
        "        count+=1 \n",
        "    if count == 0:\n",
        "     avg = 0 \n",
        "    else:\n",
        "      avg = total/count\n",
        "\n",
        "    #print(avg)\n",
        "    sentiment = 0 if avg < 0.5 else 1\n",
        "    return sentiment"
      ],
      "metadata": {
        "id": "glq2zEQmAD6C"
      },
      "execution_count": null,
      "outputs": []
    },
    {
      "cell_type": "code",
      "source": [
        "words_dict = dict(zip(words.words, words.cluster_value))"
      ],
      "metadata": {
        "id": "DGg-_U94AEgy"
      },
      "execution_count": null,
      "outputs": []
    },
    {
      "cell_type": "code",
      "source": [
        "df[\"sentiment\"] = df.apply(get_sentiments, args=(words_dict,), axis=1)"
      ],
      "metadata": {
        "id": "OqZ5rk1NAGcX"
      },
      "execution_count": null,
      "outputs": []
    },
    {
      "cell_type": "code",
      "source": [
        "df[\"sentiment\"].value_counts()"
      ],
      "metadata": {
        "id": "yQn3G7FVAI8j",
        "colab": {
          "base_uri": "https://localhost:8080/"
        },
        "outputId": "3ba5b85c-6b4c-4d3a-d05b-69f92eed8806"
      },
      "execution_count": null,
      "outputs": [
        {
          "output_type": "execute_result",
          "data": {
            "text/plain": [
              "0    396734\n",
              "1    202113\n",
              "Name: sentiment, dtype: int64"
            ]
          },
          "metadata": {},
          "execution_count": 53
        }
      ]
    },
    {
      "cell_type": "code",
      "source": [
        "emotion = {0: \"negative\",\n",
        "           1: \"positive\"}\n",
        "\n",
        "df[\"sentiments_val\"] = df[\"sentiment\"].map(emotion)\n",
        "df_pie = df[\"sentiments_val\"].value_counts().reset_index()\n",
        "fig = plt.gcf()\n",
        "fig.set_size_inches(7,7)\n",
        "colors = [\"yellow\",\"cyan\",\"pink\"]\n",
        "plt.pie(df_pie[\"sentiments_val\"],labels= df_pie[\"index\"],radius=2,autopct=\"%1.1f%%\", colors=colors)\n",
        "plt.axis('equal')\n",
        "plt.title(\"Dystrybucja sentymentu w recenzjach \", fontsize=20)\n",
        "#plt.savefig(\"images/Sentiment_Distribution.png\")\n",
        "plt.show()\n",
        "df_pie"
      ],
      "metadata": {
        "id": "2VnJfCQnANLK",
        "colab": {
          "base_uri": "https://localhost:8080/",
          "height": 526
        },
        "outputId": "3bc3b69c-e1e0-4563-c7a7-418c470b137c"
      },
      "execution_count": null,
      "outputs": [
        {
          "output_type": "display_data",
          "data": {
            "image/png": "[encoded data removed]",
            "text/plain": [
              "<Figure size 504x504 with 1 Axes>"
            ]
          },
          "metadata": {}
        },
        {
          "output_type": "execute_result",
          "data": {
            "text/html": [
              "\n",
              "  <div id=\"df-baa39c81-9550-4fdf-ae29-59c85f61fe4b\">\n",
              "    <div class=\"colab-df-container\">\n",
              "      <div>\n",
              "<style scoped>\n",
              "    .dataframe tbody tr th:only-of-type {\n",
              "        vertical-align: middle;\n",
              "    }\n",
              "\n",
              "    .dataframe tbody tr th {\n",
              "        vertical-align: top;\n",
              "    }\n",
              "\n",
              "    .dataframe thead th {\n",
              "        text-align: right;\n",
              "    }\n",
              "</style>\n",
              "<table border=\"1\" class=\"dataframe\">\n",
              "  <thead>\n",
              "    <tr style=\"text-align: right;\">\n",
              "      <th></th>\n",
              "      <th>index</th>\n",
              "      <th>sentiments_val</th>\n",
              "    </tr>\n",
              "  </thead>\n",
              "  <tbody>\n",
              "    <tr>\n",
              "      <th>0</th>\n",
              "      <td>negative</td>\n",
              "      <td>396734</td>\n",
              "    </tr>\n",
              "    <tr>\n",
              "      <th>1</th>\n",
              "      <td>positive</td>\n",
              "      <td>202113</td>\n",
              "    </tr>\n",
              "  </tbody>\n",
              "</table>\n",
              "</div>\n",
              "      <button class=\"colab-df-convert\" onclick=\"convertToInteractive('df-baa39c81-9550-4fdf-ae29-59c85f61fe4b')\"\n",
              "              title=\"Convert this dataframe to an interactive table.\"\n",
              "              style=\"display:none;\">\n",
              "        \n",
              "  <svg xmlns=\"http://www.w3.org/2000/svg\" height=\"24px\"viewBox=\"0 0 24 24\"\n",
              "       width=\"24px\">\n",
              "    <path d=\"M0 0h24v24H0V0z\" fill=\"none\"/>\n",
              "    <path d=\"M18.56 5.44l.94 2.06.94-2.06 2.06-.94-2.06-.94-.94-2.06-.94 2.06-2.06.94zm-11 1L8.5 8.5l.94-2.06 2.06-.94-2.06-.94L8.5 2.5l-.94 2.06-2.06.94zm10 10l.94 2.06.94-2.06 2.06-.94-2.06-.94-.94-2.06-.94 2.06-2.06.94z\"/><path d=\"M17.41 7.96l-1.37-1.37c-.4-.4-.92-.59-1.43-.59-.52 0-1.04.2-1.43.59L10.3 9.45l-7.72 7.72c-.78.78-.78 2.05 0 2.83L4 21.41c.39.39.9.59 1.41.59.51 0 1.02-.2 1.41-.59l7.78-7.78 2.81-2.81c.8-.78.8-2.07 0-2.86zM5.41 20L4 18.59l7.72-7.72 1.47 1.35L5.41 20z\"/>\n",
              "  </svg>\n",
              "      </button>\n",
              "      \n",
              "  <style>\n",
              "    .colab-df-container {\n",
              "      display:flex;\n",
              "      flex-wrap:wrap;\n",
              "      gap: 12px;\n",
              "    }\n",
              "\n",
              "    .colab-df-convert {\n",
              "      background-color: #E8F0FE;\n",
              "      border: none;\n",
              "      border-radius: 50%;\n",
              "      cursor: pointer;\n",
              "      display: none;\n",
              "      fill: #1967D2;\n",
              "      height: 32px;\n",
              "      padding: 0 0 0 0;\n",
              "      width: 32px;\n",
              "    }\n",
              "\n",
              "    .colab-df-convert:hover {\n",
              "      background-color: #E2EBFA;\n",
              "      box-shadow: 0px 1px 2px rgba(60, 64, 67, 0.3), 0px 1px 3px 1px rgba(60, 64, 67, 0.15);\n",
              "      fill: #174EA6;\n",
              "    }\n",
              "\n",
              "    [theme=dark] .colab-df-convert {\n",
              "      background-color: #3B4455;\n",
              "      fill: #D2E3FC;\n",
              "    }\n",
              "\n",
              "    [theme=dark] .colab-df-convert:hover {\n",
              "      background-color: #434B5C;\n",
              "      box-shadow: 0px 1px 3px 1px rgba(0, 0, 0, 0.15);\n",
              "      filter: drop-shadow(0px 1px 2px rgba(0, 0, 0, 0.3));\n",
              "      fill: #FFFFFF;\n",
              "    }\n",
              "  </style>\n",
              "\n",
              "      <script>\n",
              "        const buttonEl =\n",
              "          document.querySelector('#df-baa39c81-9550-4fdf-ae29-59c85f61fe4b button.colab-df-convert');\n",
              "        buttonEl.style.display =\n",
              "          google.colab.kernel.accessAllowed ? 'block' : 'none';\n",
              "\n",
              "        async function convertToInteractive(key) {\n",
              "          const element = document.querySelector('#df-baa39c81-9550-4fdf-ae29-59c85f61fe4b');\n",
              "          const dataTable =\n",
              "            await google.colab.kernel.invokeFunction('convertToInteractive',\n",
              "                                                     [key], {});\n",
              "          if (!dataTable) return;\n",
              "\n",
              "          const docLinkHtml = 'Like what you see? Visit the ' +\n",
              "            '<a target=\"_blank\" href=https://colab.research.google.com/notebooks/data_table.ipynb>data table notebook</a>'\n",
              "            + ' to learn more about interactive tables.';\n",
              "          element.innerHTML = '';\n",
              "          dataTable['output_type'] = 'display_data';\n",
              "          await google.colab.output.renderOutput(dataTable, element);\n",
              "          const docLink = document.createElement('div');\n",
              "          docLink.innerHTML = docLinkHtml;\n",
              "          element.appendChild(docLink);\n",
              "        }\n",
              "      </script>\n",
              "    </div>\n",
              "  </div>\n",
              "  "
            ],
            "text/plain": [
              "      index  sentiments_val\n",
              "0  negative          396734\n",
              "1  positive          202113"
            ]
          },
          "metadata": {},
          "execution_count": 54
        }
      ]
    },
    {
      "cell_type": "markdown",
      "source": [
        "# 2 KROK - Wybieramy 3 modele ML, na których trenujemy dane i pokazujemy wyniki wykorzystując confusion matrix i roc curve.\n"
      ],
      "metadata": {
        "id": "Wg-sLpKBcMFr"
      }
    },
    {
      "cell_type": "code",
      "source": [
        "df[:2]"
      ],
      "metadata": {
        "colab": {
          "base_uri": "https://localhost:8080/",
          "height": 189
        },
        "id": "9wktg8ygImB1",
        "outputId": "7f6d401c-f0d9-405a-dbf4-56b686d50714"
      },
      "execution_count": null,
      "outputs": [
        {
          "output_type": "execute_result",
          "data": {
            "text/html": [
              "\n",
              "  <div id=\"df-ed09bba9-c17e-4e63-8055-3b62f2c1a3b8\">\n",
              "    <div class=\"colab-df-container\">\n",
              "      <div>\n",
              "<style scoped>\n",
              "    .dataframe tbody tr th:only-of-type {\n",
              "        vertical-align: middle;\n",
              "    }\n",
              "\n",
              "    .dataframe tbody tr th {\n",
              "        vertical-align: top;\n",
              "    }\n",
              "\n",
              "    .dataframe thead th {\n",
              "        text-align: right;\n",
              "    }\n",
              "</style>\n",
              "<table border=\"1\" class=\"dataframe\">\n",
              "  <thead>\n",
              "    <tr style=\"text-align: right;\">\n",
              "      <th></th>\n",
              "      <th>tweets</th>\n",
              "      <th>clean_text</th>\n",
              "      <th>cleaned_text</th>\n",
              "      <th>sentiment</th>\n",
              "      <th>sentiments_val</th>\n",
              "    </tr>\n",
              "  </thead>\n",
              "  <tbody>\n",
              "    <tr>\n",
              "      <th>0</th>\n",
              "      <td>Kiedy #coronavirus dotrze do Polski, napotka o...</td>\n",
              "      <td>[coronavirus, dotrze, polski, napotka, op, zna...</td>\n",
              "      <td>coronavirus dotrze polski napotka op znakomici...</td>\n",
              "      <td>1</td>\n",
              "      <td>positive</td>\n",
              "    </tr>\n",
              "    <tr>\n",
              "      <th>1</th>\n",
              "      <td>Kolejni Polacy chcą wrócić z Wuhan https://t.c...</td>\n",
              "      <td>[kolejni, polacy, chc, wr, wuhan]</td>\n",
              "      <td>kolejni polacy chc wr wuhan</td>\n",
              "      <td>0</td>\n",
              "      <td>negative</td>\n",
              "    </tr>\n",
              "  </tbody>\n",
              "</table>\n",
              "</div>\n",
              "      <button class=\"colab-df-convert\" onclick=\"convertToInteractive('df-ed09bba9-c17e-4e63-8055-3b62f2c1a3b8')\"\n",
              "              title=\"Convert this dataframe to an interactive table.\"\n",
              "              style=\"display:none;\">\n",
              "        \n",
              "  <svg xmlns=\"http://www.w3.org/2000/svg\" height=\"24px\"viewBox=\"0 0 24 24\"\n",
              "       width=\"24px\">\n",
              "    <path d=\"M0 0h24v24H0V0z\" fill=\"none\"/>\n",
              "    <path d=\"M18.56 5.44l.94 2.06.94-2.06 2.06-.94-2.06-.94-.94-2.06-.94 2.06-2.06.94zm-11 1L8.5 8.5l.94-2.06 2.06-.94-2.06-.94L8.5 2.5l-.94 2.06-2.06.94zm10 10l.94 2.06.94-2.06 2.06-.94-2.06-.94-.94-2.06-.94 2.06-2.06.94z\"/><path d=\"M17.41 7.96l-1.37-1.37c-.4-.4-.92-.59-1.43-.59-.52 0-1.04.2-1.43.59L10.3 9.45l-7.72 7.72c-.78.78-.78 2.05 0 2.83L4 21.41c.39.39.9.59 1.41.59.51 0 1.02-.2 1.41-.59l7.78-7.78 2.81-2.81c.8-.78.8-2.07 0-2.86zM5.41 20L4 18.59l7.72-7.72 1.47 1.35L5.41 20z\"/>\n",
              "  </svg>\n",
              "      </button>\n",
              "      \n",
              "  <style>\n",
              "    .colab-df-container {\n",
              "      display:flex;\n",
              "      flex-wrap:wrap;\n",
              "      gap: 12px;\n",
              "    }\n",
              "\n",
              "    .colab-df-convert {\n",
              "      background-color: #E8F0FE;\n",
              "      border: none;\n",
              "      border-radius: 50%;\n",
              "      cursor: pointer;\n",
              "      display: none;\n",
              "      fill: #1967D2;\n",
              "      height: 32px;\n",
              "      padding: 0 0 0 0;\n",
              "      width: 32px;\n",
              "    }\n",
              "\n",
              "    .colab-df-convert:hover {\n",
              "      background-color: #E2EBFA;\n",
              "      box-shadow: 0px 1px 2px rgba(60, 64, 67, 0.3), 0px 1px 3px 1px rgba(60, 64, 67, 0.15);\n",
              "      fill: #174EA6;\n",
              "    }\n",
              "\n",
              "    [theme=dark] .colab-df-convert {\n",
              "      background-color: #3B4455;\n",
              "      fill: #D2E3FC;\n",
              "    }\n",
              "\n",
              "    [theme=dark] .colab-df-convert:hover {\n",
              "      background-color: #434B5C;\n",
              "      box-shadow: 0px 1px 3px 1px rgba(0, 0, 0, 0.15);\n",
              "      filter: drop-shadow(0px 1px 2px rgba(0, 0, 0, 0.3));\n",
              "      fill: #FFFFFF;\n",
              "    }\n",
              "  </style>\n",
              "\n",
              "      <script>\n",
              "        const buttonEl =\n",
              "          document.querySelector('#df-ed09bba9-c17e-4e63-8055-3b62f2c1a3b8 button.colab-df-convert');\n",
              "        buttonEl.style.display =\n",
              "          google.colab.kernel.accessAllowed ? 'block' : 'none';\n",
              "\n",
              "        async function convertToInteractive(key) {\n",
              "          const element = document.querySelector('#df-ed09bba9-c17e-4e63-8055-3b62f2c1a3b8');\n",
              "          const dataTable =\n",
              "            await google.colab.kernel.invokeFunction('convertToInteractive',\n",
              "                                                     [key], {});\n",
              "          if (!dataTable) return;\n",
              "\n",
              "          const docLinkHtml = 'Like what you see? Visit the ' +\n",
              "            '<a target=\"_blank\" href=https://colab.research.google.com/notebooks/data_table.ipynb>data table notebook</a>'\n",
              "            + ' to learn more about interactive tables.';\n",
              "          element.innerHTML = '';\n",
              "          dataTable['output_type'] = 'display_data';\n",
              "          await google.colab.output.renderOutput(dataTable, element);\n",
              "          const docLink = document.createElement('div');\n",
              "          docLink.innerHTML = docLinkHtml;\n",
              "          element.appendChild(docLink);\n",
              "        }\n",
              "      </script>\n",
              "    </div>\n",
              "  </div>\n",
              "  "
            ],
            "text/plain": [
              "                                              tweets  ... sentiments_val\n",
              "0  Kiedy #coronavirus dotrze do Polski, napotka o...  ...       positive\n",
              "1  Kolejni Polacy chcą wrócić z Wuhan https://t.c...  ...       negative\n",
              "\n",
              "[2 rows x 5 columns]"
            ]
          },
          "metadata": {},
          "execution_count": 108
        }
      ]
    },
    {
      "cell_type": "code",
      "source": [
        "X=df.cleaned_text\n",
        "Y=df.sentiment"
      ],
      "metadata": {
        "id": "WPbtdd1SI4no"
      },
      "execution_count": null,
      "outputs": []
    },
    {
      "cell_type": "code",
      "source": [
        "#podział na zbiór treningowy i testowy\n",
        "from sklearn.model_selection import train_test_split\n",
        "X_train, X_test, y_train, y_test = train_test_split(X,y,test_size = 0.05, random_state =42) # żeby zachować losowość i umożliwić odtworzenie tych samych ustawień, definiujemy random state"
      ],
      "metadata": {
        "id": "1t9NHjIDI17N"
      },
      "execution_count": null,
      "outputs": []
    },
    {
      "cell_type": "code",
      "source": [
        "vectorizer = TfidfVectorizer(ngram_range=(1,2), max_features=500000)\n",
        "vectorizer.fit(X_train)\n",
        "print('No. of feature_words: ', len(vectorizer.get_feature_names()))"
      ],
      "metadata": {
        "colab": {
          "base_uri": "https://localhost:8080/"
        },
        "id": "LD-jUqtRJufv",
        "outputId": "353e785c-a32d-4c27-95c2-dc597e1452cf"
      },
      "execution_count": null,
      "outputs": [
        {
          "output_type": "stream",
          "name": "stdout",
          "text": [
            "No. of feature_words:  500000\n"
          ]
        }
      ]
    },
    {
      "cell_type": "code",
      "source": [
        "X_train = vectorizer.transform(X_train)\n",
        "X_test = vectorizer.transform(X_test)"
      ],
      "metadata": {
        "id": "XZ4o2gh3MovZ"
      },
      "execution_count": null,
      "outputs": []
    },
    {
      "cell_type": "code",
      "source": [
        "def model_Evaluate(model):\n",
        "  # Predykcja danych na danych testowych\n",
        "  y_pred = model.predict(X_test)\n",
        "\n",
        "  # Wyświetlenie metryk ewaluacji na podstawie predykcji i ground truth (faktycznych etykiet)\n",
        "  print(classification_report(y_test, y_pred))\n",
        "\n",
        "  # Obliczamy i wyświetlamy confusion matrix\n",
        "  cf_matrix = confusion_matrix(y_test, y_pred)\n",
        "  categories = ['Negative','Positive']\n",
        "  group_names = ['True Neg','False Pos', 'False Neg','True Pos']\n",
        "  group_percentages = ['{0:.2%}'.format(value) for value in cf_matrix.flatten() / np.sum(cf_matrix)]\n",
        "  labels = [f'{v1}n{v2}' for v1, v2 in zip(group_names, group_percentages)]\n",
        "  labels = np.asarray(labels).reshape(2,2)\n",
        "  sns.heatmap(cf_matrix, annot = labels, cmap = 'Blues',fmt = '',\n",
        "  xticklabels = categories, yticklabels = categories)\n",
        "  plt.xlabel(\"Predicted values\", fontdict = {'size':14}, labelpad = 10)\n",
        "  plt.ylabel(\"Actual values\" , fontdict = {'size':14}, labelpad = 10)\n",
        "  plt.title (\"Confusion Matrix\", fontdict = {'size':18}, pad = 20)"
      ],
      "metadata": {
        "id": "-qeNbOczMs87"
      },
      "execution_count": null,
      "outputs": []
    },
    {
      "cell_type": "markdown",
      "source": [
        "### Naive Bayes - Bernoulli (dla klasyfikacji binarnej)"
      ],
      "metadata": {
        "id": "yMr8Pb_ePsFD"
      }
    },
    {
      "cell_type": "code",
      "source": [
        "BNBmodel = BernoulliNB()\n",
        "BNBmodel.fit(X_train, y_train)\n",
        "model_Evaluate(BNBmodel)\n",
        "y_pred1 = BNBmodel.predict(X_test)"
      ],
      "metadata": {
        "colab": {
          "base_uri": "https://localhost:8080/",
          "height": 476
        },
        "id": "KGN1AVEWOsMm",
        "outputId": "1d161625-4914-447a-b0f9-f50121dfb057"
      },
      "execution_count": null,
      "outputs": [
        {
          "output_type": "stream",
          "name": "stdout",
          "text": [
            "              precision    recall  f1-score   support\n",
            "\n",
            "           0       0.92      0.94      0.93     19722\n",
            "           1       0.87      0.84      0.86     10221\n",
            "\n",
            "    accuracy                           0.90     29943\n",
            "   macro avg       0.90      0.89      0.89     29943\n",
            "weighted avg       0.90      0.90      0.90     29943\n",
            "\n"
          ]
        },
        {
          "output_type": "display_data",
          "data": {
            "image/png": "[encoded data removed]",
            "text/plain": [
              "<Figure size 432x288 with 2 Axes>"
            ]
          },
          "metadata": {
            "needs_background": "light"
          }
        }
      ]
    },
    {
      "cell_type": "code",
      "source": [
        "from sklearn.metrics import roc_curve, auc\n",
        "\n",
        "fpr, tpr, thresholds = roc_curve(y_test, y_pred1)\n",
        "roc_auc = auc(fpr, tpr)\n",
        "plt.figure()\n",
        "plt.plot(fpr, tpr, color='darkorange', lw=1, label='ROC curve (area = %0.2f)' % roc_auc)\n",
        "plt.xlim([0.0, 1.0])\n",
        "plt.ylim([0.0, 1.05])\n",
        "plt.xlabel('False Positive Rate')\n",
        "plt.ylabel('True Positive Rate')\n",
        "plt.title('ROC CURVE')\n",
        "plt.legend(loc=\"lower right\")\n",
        "plt.show()"
      ],
      "metadata": {
        "colab": {
          "base_uri": "https://localhost:8080/",
          "height": 295
        },
        "id": "wJSCKiZbOyg2",
        "outputId": "c2335b6c-e5ca-4804-d4c7-a1d798bf38b4"
      },
      "execution_count": null,
      "outputs": [
        {
          "output_type": "display_data",
          "data": {
            "image/png": "[encoded data removed]",
            "text/plain": [
              "<Figure size 432x288 with 1 Axes>"
            ]
          },
          "metadata": {
            "needs_background": "light"
          }
        }
      ]
    },
    {
      "cell_type": "markdown",
      "source": [
        "### Linear Suppor Vector"
      ],
      "metadata": {
        "id": "CQo_UB48P3gc"
      }
    },
    {
      "cell_type": "code",
      "source": [
        "SVCmodel = LinearSVC()\n",
        "SVCmodel.fit(X_train, y_train)\n",
        "model_Evaluate(SVCmodel)\n",
        "y_pred2 = SVCmodel.predict(X_test)"
      ],
      "metadata": {
        "colab": {
          "base_uri": "https://localhost:8080/",
          "height": 476
        },
        "id": "4Dj3qBC2O396",
        "outputId": "5f5c5d30-9469-4250-d528-6206a1792d18"
      },
      "execution_count": null,
      "outputs": [
        {
          "output_type": "stream",
          "name": "stdout",
          "text": [
            "              precision    recall  f1-score   support\n",
            "\n",
            "           0       0.96      0.96      0.96     19722\n",
            "           1       0.93      0.91      0.92     10221\n",
            "\n",
            "    accuracy                           0.95     29943\n",
            "   macro avg       0.94      0.94      0.94     29943\n",
            "weighted avg       0.95      0.95      0.95     29943\n",
            "\n"
          ]
        },
        {
          "output_type": "display_data",
          "data": {
            "image/png": "[encoded data removed]",
            "text/plain": [
              "<Figure size 432x288 with 2 Axes>"
            ]
          },
          "metadata": {
            "needs_background": "light"
          }
        }
      ]
    },
    {
      "cell_type": "code",
      "source": [
        "fpr, tpr, thresholds = roc_curve(y_test, y_pred2)\n",
        "roc_auc = auc(fpr, tpr)\n",
        "plt.figure()\n",
        "plt.plot(fpr, tpr, color='darkorange', lw=1, label='ROC curve (area = %0.2f)' % roc_auc)\n",
        "plt.xlim([0.0, 1.0])\n",
        "plt.ylim([0.0, 1.05])\n",
        "plt.xlabel('False Positive Rate')\n",
        "plt.ylabel('True Positive Rate')\n",
        "plt.title('ROC CURVE')\n",
        "plt.legend(loc=\"lower right\")\n",
        "plt.show()"
      ],
      "metadata": {
        "colab": {
          "base_uri": "https://localhost:8080/",
          "height": 295
        },
        "id": "_SjakT7pPBlJ",
        "outputId": "7573fc02-f38d-41f2-da08-5c4ff2938778"
      },
      "execution_count": null,
      "outputs": [
        {
          "output_type": "display_data",
          "data": {
            "image/png": "[encoded data removed]",
            "text/plain": [
              "<Figure size 432x288 with 1 Axes>"
            ]
          },
          "metadata": {
            "needs_background": "light"
          }
        }
      ]
    },
    {
      "cell_type": "markdown",
      "source": [
        "###Logistic Regression"
      ],
      "metadata": {
        "id": "gbBaVn2uQXQg"
      }
    },
    {
      "cell_type": "code",
      "source": [
        "LRmodel = LogisticRegression(max_iter = 1000)\n",
        "LRmodel.fit(X_train, y_train)\n",
        "model_Evaluate(LRmodel)\n",
        "y_pred3 = LRmodel.predict(X_test)"
      ],
      "metadata": {
        "colab": {
          "base_uri": "https://localhost:8080/",
          "height": 476
        },
        "id": "NzeO9mW3PC_3",
        "outputId": "7465ccad-dac2-4b2c-dcb7-d7f49c29e3f9"
      },
      "execution_count": null,
      "outputs": [
        {
          "output_type": "stream",
          "name": "stdout",
          "text": [
            "              precision    recall  f1-score   support\n",
            "\n",
            "           0       0.94      0.96      0.95     19722\n",
            "           1       0.93      0.88      0.90     10221\n",
            "\n",
            "    accuracy                           0.94     29943\n",
            "   macro avg       0.93      0.92      0.93     29943\n",
            "weighted avg       0.94      0.94      0.93     29943\n",
            "\n"
          ]
        },
        {
          "output_type": "display_data",
          "data": {
            "image/png": "[encoded data removed]",
            "text/plain": [
              "<Figure size 432x288 with 2 Axes>"
            ]
          },
          "metadata": {
            "needs_background": "light"
          }
        }
      ]
    },
    {
      "cell_type": "code",
      "source": [
        "fpr, tpr, thresholds = roc_curve(y_test, y_pred3)\n",
        "roc_auc = auc(fpr, tpr)\n",
        "plt.figure()\n",
        "plt.plot(fpr, tpr, color='darkorange', lw=1, label='ROC curve (area = %0.2f)' % roc_auc)\n",
        "plt.xlim([0.0, 1.0])\n",
        "plt.ylim([0.0, 1.05])\n",
        "plt.xlabel('False Positive Rate')\n",
        "plt.ylabel('True Positive Rate')\n",
        "plt.title('ROC CURVE')\n",
        "plt.legend(loc=\"lower right\")\n",
        "plt.show()"
      ],
      "metadata": {
        "colab": {
          "base_uri": "https://localhost:8080/",
          "height": 295
        },
        "id": "g8TH2S5GPG2Q",
        "outputId": "c96909ec-d808-4a90-8455-0aa7421dd2f1"
      },
      "execution_count": null,
      "outputs": [
        {
          "output_type": "display_data",
          "data": {
            "image/png": "[encoded data removed]",
            "text/plain": [
              "<Figure size 432x288 with 1 Axes>"
            ]
          },
          "metadata": {
            "needs_background": "light"
          }
        }
      ]
    }
  ]
}