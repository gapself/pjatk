{
  "cells": [
    {
      "cell_type": "markdown",
      "metadata": {
        "id": "view-in-github",
        "colab_type": "text"
      },
      "source": [
        "<a href=\"https://colab.research.google.com/github/gapself/pjatk/blob/main/WUM_Optymalizator%2C_funkcja_straty_i_early_stopping.ipynb\" target=\"_parent\"><img src=\"https://colab.research.google.com/assets/colab-badge.svg\" alt=\"Open In Colab\"/></a>"
      ]
    },
    {
      "cell_type": "markdown",
      "metadata": {
        "id": "7W8u8FZFIL2m"
      },
      "source": [
        "# Data Science z Python 3.10. Optymalizator, funkcja straty i early stopping\n",
        "## 🇬🇧 Data Science with Python 3.10. Optimizer, loss function and early stopping\n",
        "#### 👨‍🏫 PhD Wojciech Oronowicz-Jaśkowiak\n",
        "#### 🤖 https://github.com/aipogodzinach"
      ]
    },
    {
      "cell_type": "markdown",
      "metadata": {
        "id": "Mn_XRemkR6fM"
      },
      "source": [
        "Poniżej przedstawiony jest kod znany z poprzednich zajęć. Tym razem wprowadzimy do niego \"ulepszenia\" i zastanowimy się nad właściwym optymalizatorem i funkcją straty. Wprowadzimy również do naszego modelu podstawowy Early Stopping, który będzie zapobiegać przeuczeniu się naszego modelu."
      ]
    },
    {
      "cell_type": "markdown",
      "metadata": {
        "id": "gchK-2kPR6fM"
      },
      "source": [
        "### 1. Import bibliotek\n",
        "#### 🇬🇧 Import libraries\n",
        "W tym miejscu importujemy biblioteki, które będą nam potrzebne do wytrenowania sieci neuronowej. Jeżeli w tym miejscu widoczny będzie błąd, to konieczne jest zainstalowanie biblioteki w danym środowisku. W takim wypadku wchodzimy w terminal, aktywujemy środowisko pracy, instalujemy biblioteki (pip install X)."
      ]
    },
    {
      "cell_type": "code",
      "execution_count": 1,
      "metadata": {
        "colab": {
          "base_uri": "https://localhost:8080/"
        },
        "id": "0hk22wZDYbVQ",
        "outputId": "27ae546b-cfad-44d4-e19a-8522a0ae0014"
      },
      "outputs": [
        {
          "output_type": "stream",
          "name": "stdout",
          "text": [
            "Collecting mnist\n",
            "  Downloading mnist-0.2.2-py2.py3-none-any.whl (3.5 kB)\n",
            "Requirement already satisfied: numpy in /usr/local/lib/python3.7/dist-packages (from mnist) (1.21.6)\n",
            "Installing collected packages: mnist\n",
            "Successfully installed mnist-0.2.2\n"
          ]
        }
      ],
      "source": [
        "!pip install mnist\n",
        "\n",
        "import tensorflow as tf\n",
        "import numpy as np\n",
        "import mnist\n",
        "\n",
        "from keras.models import Sequential\n",
        "from keras.layers import Dense\n",
        "from keras.layers import Dropout\n",
        "from keras.callbacks import EarlyStopping\n",
        "from keras.callbacks import ModelCheckpoint\n",
        "from keras.models import load_model\n",
        "from matplotlib import pyplot\n",
        "from tensorflow.keras.utils import to_categorical\n",
        "\n",
        "from tensorflow import keras\n",
        "from tensorflow.keras import backend as K\n",
        "\n",
        "# Rozpoczynamy od importu potrzebnych nam bibliotek, nowością jest EarlyStopping"
      ]
    },
    {
      "cell_type": "markdown",
      "metadata": {
        "id": "APpHwz_fR6fN"
      },
      "source": [
        "### 2. Przygotowanie danych do analizy\n",
        "#### 🇬🇧 Data preparation"
      ]
    },
    {
      "cell_type": "code",
      "execution_count": 2,
      "metadata": {
        "id": "2CPZuB2vsqBS"
      },
      "outputs": [],
      "source": [
        "train_images = mnist.train_images()\n",
        "train_labels = mnist.train_labels()\n",
        "test_images = mnist.test_images()\n",
        "test_labels = mnist.test_labels()\n",
        "\n",
        "train_images = (train_images / 255) - 0.5\n",
        "test_images = (test_images / 255) - 0.5\n",
        "\n",
        "train_images = train_images.reshape((-1, 784))\n",
        "test_images = test_images.reshape((-1, 784))\n",
        "\n",
        "model = Sequential([\n",
        "  Dense(64, activation='relu', input_shape=(784,)),\n",
        "  Dense(64, activation='relu'),\n",
        "  Dense(10, activation='softmax'),\n",
        "])"
      ]
    },
    {
      "cell_type": "markdown",
      "metadata": {
        "id": "iLsO0jydsqtG"
      },
      "source": [
        "Zatrzymajmy się na chwilę w tym miejscu. Na ostatnich zajęciach modyfikowaliśmy architekturę sieci neuronowej. Teraz przyszedł czas na wybór odpowiedniego optymalizatora, metryk oraz funkcji straty."
      ]
    },
    {
      "cell_type": "code",
      "execution_count": 3,
      "metadata": {
        "id": "T-nhhMPgV6VD"
      },
      "outputs": [],
      "source": [
        "model.compile(\n",
        "  optimizer='adam',\n",
        "  loss=\"categorical_crossentropy\",\n",
        "  metrics=['accuracy'],\n",
        ")"
      ]
    },
    {
      "cell_type": "markdown",
      "metadata": {
        "id": "2TyGYkqBR6fO"
      },
      "source": [
        "### 3. Trenowanie modelu\n",
        "#### 🇬🇧 Model training"
      ]
    },
    {
      "cell_type": "markdown",
      "metadata": {
        "id": "li4Y1654R6fP"
      },
      "source": [
        "### 📚 Zadanie 1.\n",
        "##### Przeprowadź proces uczenia się z wykorzystaniem early stopping, wykonaj poniższe kroki."
      ]
    },
    {
      "cell_type": "markdown",
      "metadata": {
        "id": "8InTZwPRCfJy"
      },
      "source": [
        "1. Stwórz nową zmienną, którą nazwiesz f1, odwołaj się do early stopping, wprowadź odpowiednie wartości do parametrów takich jak monitor, mode, verbose oraz patience.\n",
        "2. Stwórz nową zmienną, którą nazwiesz f2, odwołaj się do ModelCheckpoint, wprowadź nazwę dla swojego modelu oraz odpowiednie wartości dla parametru monitor, mode, verbose oraz save_best_only.\n",
        "3. Stwórz nową zmienną, którą nazwiesz history. Zmienna ta powinna zawierać stworzone w poprzednim kroku dane treningowe (x), etykiety danych trningowych (y), dane testowe (a), etykiedy danych testowych (b) oraz odpowiednie wartości parametrów epochs oraz verbose.\n",
        "4. Stwórz nową zmienną, którą nazwiesz trained_model, załaduj model używając nazwy modelu z punktu drugiego.\n",
        "5. Stwórz nową zmienną, którą nazwiesz trai _accuracy, odwołaj się do trained_model.evaluate, użyj danych treningowych (x) oraz etykiet danych treningowych (y).\n",
        "6. Stwórz nową zmienną, którą nazwiesz test_accuracy, odwołaj się do trained_model.evaluate, użyj danych testowych (a) oraz etykiet danych testowych (b).\n",
        "7. Przeprowadź uczenie sieci dla liczby epok wynoszącej 100 przy wartości parametru patience wynoszącej 10. Po której epoce proces trenowania sieci się zatrzyma?\n",
        "\n",
        "8. Wyświetl informacje dotyczące dokładności klasyfikacji na materiale treningowym oraz testowym.\n",
        "\n",
        "\n",
        "\n",
        "\n",
        "\n",
        "\n"
      ]
    },
    {
      "cell_type": "markdown",
      "source": [
        "\n",
        "\n",
        "```\n",
        "Proces trenowania zatrzymał się na 17 epoce, patience, to liczba epok \n",
        "bez poprawy, po których trening zostaje przerwany. \n",
        "Accuracy modelu wyniosło na danych treningowych ~ 0.98. \n",
        "Na danych testowych ~0.97.\n",
        "```\n",
        "\n"
      ],
      "metadata": {
        "id": "PrwuW8D-qtQl"
      }
    },
    {
      "cell_type": "code",
      "source": [
        "train_labels = to_categorical(train_labels)\n",
        "test_labels = to_categorical(test_labels)"
      ],
      "metadata": {
        "id": "Oj-3N3VtoEev"
      },
      "execution_count": 4,
      "outputs": []
    },
    {
      "cell_type": "code",
      "execution_count": 5,
      "metadata": {
        "id": "OhIvq1x3R6fO",
        "colab": {
          "base_uri": "https://localhost:8080/"
        },
        "outputId": "e276c15f-3bcb-4631-862f-07a5d3c721e2"
      },
      "outputs": [
        {
          "output_type": "stream",
          "name": "stdout",
          "text": [
            "Epoch 1/100\n",
            "1869/1875 [============================>.] - ETA: 0s - loss: 0.3657 - accuracy: 0.8888\n",
            "Epoch 1: val_loss improved from inf to 0.21777, saving model to Model1\n",
            "INFO:tensorflow:Assets written to: Model1/assets\n",
            "1875/1875 [==============================] - 13s 5ms/step - loss: 0.3650 - accuracy: 0.8890 - val_loss: 0.2178 - val_accuracy: 0.9363\n",
            "Epoch 2/100\n",
            "1872/1875 [============================>.] - ETA: 0s - loss: 0.1898 - accuracy: 0.9424\n",
            "Epoch 2: val_loss improved from 0.21777 to 0.15583, saving model to Model1\n",
            "INFO:tensorflow:Assets written to: Model1/assets\n",
            "1875/1875 [==============================] - 7s 4ms/step - loss: 0.1899 - accuracy: 0.9424 - val_loss: 0.1558 - val_accuracy: 0.9529\n",
            "Epoch 3/100\n",
            "1864/1875 [============================>.] - ETA: 0s - loss: 0.1449 - accuracy: 0.9543\n",
            "Epoch 3: val_loss improved from 0.15583 to 0.11954, saving model to Model1\n",
            "INFO:tensorflow:Assets written to: Model1/assets\n",
            "1875/1875 [==============================] - 7s 4ms/step - loss: 0.1448 - accuracy: 0.9544 - val_loss: 0.1195 - val_accuracy: 0.9638\n",
            "Epoch 4/100\n",
            "1866/1875 [============================>.] - ETA: 0s - loss: 0.1178 - accuracy: 0.9638\n",
            "Epoch 4: val_loss improved from 0.11954 to 0.11831, saving model to Model1\n",
            "INFO:tensorflow:Assets written to: Model1/assets\n",
            "1875/1875 [==============================] - 5s 3ms/step - loss: 0.1181 - accuracy: 0.9637 - val_loss: 0.1183 - val_accuracy: 0.9627\n",
            "Epoch 5/100\n",
            "1855/1875 [============================>.] - ETA: 0s - loss: 0.1020 - accuracy: 0.9677\n",
            "Epoch 5: val_loss did not improve from 0.11831\n",
            "1875/1875 [==============================] - 5s 3ms/step - loss: 0.1020 - accuracy: 0.9677 - val_loss: 0.1201 - val_accuracy: 0.9634\n",
            "Epoch 6/100\n",
            "1873/1875 [============================>.] - ETA: 0s - loss: 0.0914 - accuracy: 0.9708\n",
            "Epoch 6: val_loss improved from 0.11831 to 0.09737, saving model to Model1\n",
            "INFO:tensorflow:Assets written to: Model1/assets\n",
            "1875/1875 [==============================] - 6s 3ms/step - loss: 0.0914 - accuracy: 0.9707 - val_loss: 0.0974 - val_accuracy: 0.9696\n",
            "Epoch 7/100\n",
            "1875/1875 [==============================] - ETA: 0s - loss: 0.0828 - accuracy: 0.9734\n",
            "Epoch 7: val_loss improved from 0.09737 to 0.09049, saving model to Model1\n",
            "INFO:tensorflow:Assets written to: Model1/assets\n",
            "1875/1875 [==============================] - 5s 3ms/step - loss: 0.0828 - accuracy: 0.9734 - val_loss: 0.0905 - val_accuracy: 0.9725\n",
            "Epoch 8/100\n",
            "1854/1875 [============================>.] - ETA: 0s - loss: 0.0765 - accuracy: 0.9755\n",
            "Epoch 8: val_loss did not improve from 0.09049\n",
            "1875/1875 [==============================] - 5s 3ms/step - loss: 0.0768 - accuracy: 0.9754 - val_loss: 0.1491 - val_accuracy: 0.9534\n",
            "Epoch 9/100\n",
            "1853/1875 [============================>.] - ETA: 0s - loss: 0.0702 - accuracy: 0.9777\n",
            "Epoch 9: val_loss did not improve from 0.09049\n",
            "1875/1875 [==============================] - 5s 3ms/step - loss: 0.0704 - accuracy: 0.9776 - val_loss: 0.0966 - val_accuracy: 0.9727\n",
            "Epoch 10/100\n",
            "1856/1875 [============================>.] - ETA: 0s - loss: 0.0652 - accuracy: 0.9787\n",
            "Epoch 10: val_loss did not improve from 0.09049\n",
            "1875/1875 [==============================] - 5s 3ms/step - loss: 0.0655 - accuracy: 0.9786 - val_loss: 0.0975 - val_accuracy: 0.9710\n",
            "Epoch 11/100\n",
            "1856/1875 [============================>.] - ETA: 0s - loss: 0.0625 - accuracy: 0.9795\n",
            "Epoch 11: val_loss did not improve from 0.09049\n",
            "1875/1875 [==============================] - 5s 3ms/step - loss: 0.0626 - accuracy: 0.9795 - val_loss: 0.1030 - val_accuracy: 0.9706\n",
            "Epoch 12/100\n",
            "1860/1875 [============================>.] - ETA: 0s - loss: 0.0583 - accuracy: 0.9811\n",
            "Epoch 12: val_loss did not improve from 0.09049\n",
            "1875/1875 [==============================] - 5s 3ms/step - loss: 0.0584 - accuracy: 0.9811 - val_loss: 0.1067 - val_accuracy: 0.9712\n",
            "Epoch 13/100\n",
            "1862/1875 [============================>.] - ETA: 0s - loss: 0.0541 - accuracy: 0.9822\n",
            "Epoch 13: val_loss did not improve from 0.09049\n",
            "1875/1875 [==============================] - 5s 3ms/step - loss: 0.0541 - accuracy: 0.9821 - val_loss: 0.0970 - val_accuracy: 0.9749\n",
            "Epoch 14/100\n",
            "1862/1875 [============================>.] - ETA: 0s - loss: 0.0519 - accuracy: 0.9833\n",
            "Epoch 14: val_loss did not improve from 0.09049\n",
            "1875/1875 [==============================] - 5s 3ms/step - loss: 0.0521 - accuracy: 0.9832 - val_loss: 0.1114 - val_accuracy: 0.9692\n",
            "Epoch 15/100\n",
            "1868/1875 [============================>.] - ETA: 0s - loss: 0.0493 - accuracy: 0.9838\n",
            "Epoch 15: val_loss did not improve from 0.09049\n",
            "1875/1875 [==============================] - 5s 3ms/step - loss: 0.0493 - accuracy: 0.9838 - val_loss: 0.0907 - val_accuracy: 0.9743\n",
            "Epoch 16/100\n",
            "1854/1875 [============================>.] - ETA: 0s - loss: 0.0464 - accuracy: 0.9847\n",
            "Epoch 16: val_loss did not improve from 0.09049\n",
            "1875/1875 [==============================] - 5s 3ms/step - loss: 0.0463 - accuracy: 0.9847 - val_loss: 0.0964 - val_accuracy: 0.9739\n",
            "Epoch 17/100\n",
            "1874/1875 [============================>.] - ETA: 0s - loss: 0.0438 - accuracy: 0.9857\n",
            "Epoch 17: val_loss did not improve from 0.09049\n",
            "1875/1875 [==============================] - 5s 3ms/step - loss: 0.0438 - accuracy: 0.9858 - val_loss: 0.1147 - val_accuracy: 0.9692\n",
            "Epoch 17: early stopping\n"
          ]
        }
      ],
      "source": [
        "#1\n",
        "f1 = EarlyStopping(monitor='val_loss', mode='min', verbose=1, patience=10)\n",
        "\n",
        "#2\n",
        "f2 = ModelCheckpoint(\"Model1\", mode=\"auto\", monitor=\"val_loss\", save_best_only=True, verbose=1)\n",
        "\n",
        "#3\n",
        "history = model.fit(train_images, train_labels, batch_size = None, validation_data = (test_images, test_labels)\n",
        ", callbacks = [f1,f2], epochs=100,  verbose=1)"
      ]
    },
    {
      "cell_type": "code",
      "source": [
        "# #4\n",
        "trained_model = load_model(\"Model1\")\n",
        "\n",
        "# #5\n",
        "train_accuracy = trained_model.evaluate(train_images, train_labels)\n",
        "\n",
        "# #6\n",
        "test_accuracy = trained_model.evaluate(test_images, test_labels)\n",
        "\n",
        "# #7\n",
        "print(train_accuracy + test_accuracy)"
      ],
      "metadata": {
        "colab": {
          "base_uri": "https://localhost:8080/"
        },
        "id": "ABa38pTnZJ7G",
        "outputId": "2e25454c-484d-4ec0-dd15-065ac840cb5a"
      },
      "execution_count": 6,
      "outputs": [
        {
          "output_type": "stream",
          "name": "stdout",
          "text": [
            "1875/1875 [==============================] - 4s 2ms/step - loss: 0.0597 - accuracy: 0.9810\n",
            "313/313 [==============================] - 1s 3ms/step - loss: 0.0905 - accuracy: 0.9725\n",
            "[0.059737056493759155, 0.9810000061988831, 0.09049393236637115, 0.9725000262260437]\n"
          ]
        }
      ]
    },
    {
      "cell_type": "markdown",
      "metadata": {
        "id": "9-vMmyrGR6fP"
      },
      "source": [
        "### 📚 Zadanie 2.\n",
        "##### Uruchom ponownie proces treningu sieci, tym razem wprowadzając zmianę związaną z funkcją straty oraz optymalizatora."
      ]
    },
    {
      "cell_type": "markdown",
      "metadata": {
        "id": "hpxxzs6sR6fQ"
      },
      "source": [
        "1. Wypróbuj inną funkcję straty (rozkład Poisona). Czy w przypadku naszego zbioru danych taka funkcja ma sens?\n",
        "\n",
        "\n",
        "```\n",
        "W tym przypadku rozkład Poisona pozytywnie wpłynął na wyniki, accuracy się polepszyło o 0.1 w porównaniu do Model1. \n",
        "Accuracy Model1:\n",
        "na danych treningowych ~ 0.98, \n",
        "na danych testowych ~0.97,\n",
        "\n",
        "Accuracy Model2:\n",
        "na danych treningowych ~ 0.99, \n",
        "na danych testowych ~0.97,\n",
        "\n",
        "Poza tym przy Poisonie proces uczenia zatrzymał się na epoce 11. W przypadku funkcji straty \"categorical_crossentropy\" na 17stej.\n",
        "```"
      ]
    },
    {
      "cell_type": "code",
      "execution_count": 7,
      "metadata": {
        "id": "2xiPZFscR6fQ",
        "colab": {
          "base_uri": "https://localhost:8080/"
        },
        "outputId": "76667fae-1aef-4c99-81e0-7d57e034e7e5"
      },
      "outputs": [
        {
          "output_type": "stream",
          "name": "stdout",
          "text": [
            "Epoch 1/100\n",
            "1857/1875 [============================>.] - ETA: 0s - loss: 0.1042 - accuracy: 0.9858\n",
            "Epoch 1: val_loss improved from inf to 0.11009, saving model to Model2\n",
            "INFO:tensorflow:Assets written to: Model2/assets\n",
            "1875/1875 [==============================] - 6s 3ms/step - loss: 0.1042 - accuracy: 0.9858 - val_loss: 0.1101 - val_accuracy: 0.9737\n",
            "Epoch 2/100\n",
            "1868/1875 [============================>.] - ETA: 0s - loss: 0.1040 - accuracy: 0.9868\n",
            "Epoch 2: val_loss did not improve from 0.11009\n",
            "1875/1875 [==============================] - 5s 3ms/step - loss: 0.1040 - accuracy: 0.9868 - val_loss: 0.1112 - val_accuracy: 0.9708\n",
            "Epoch 3/100\n",
            "1859/1875 [============================>.] - ETA: 0s - loss: 0.1039 - accuracy: 0.9873\n",
            "Epoch 3: val_loss did not improve from 0.11009\n",
            "1875/1875 [==============================] - 5s 2ms/step - loss: 0.1039 - accuracy: 0.9872 - val_loss: 0.1114 - val_accuracy: 0.9718\n",
            "Epoch 4/100\n",
            "1855/1875 [============================>.] - ETA: 0s - loss: 0.1035 - accuracy: 0.9878\n",
            "Epoch 4: val_loss did not improve from 0.11009\n",
            "1875/1875 [==============================] - 4s 2ms/step - loss: 0.1036 - accuracy: 0.9878 - val_loss: 0.1117 - val_accuracy: 0.9699\n",
            "Epoch 5/100\n",
            "1857/1875 [============================>.] - ETA: 0s - loss: 0.1036 - accuracy: 0.9874\n",
            "Epoch 5: val_loss did not improve from 0.11009\n",
            "1875/1875 [==============================] - 5s 2ms/step - loss: 0.1036 - accuracy: 0.9873 - val_loss: 0.1117 - val_accuracy: 0.9721\n",
            "Epoch 6/100\n",
            "1870/1875 [============================>.] - ETA: 0s - loss: 0.1033 - accuracy: 0.9890\n",
            "Epoch 6: val_loss did not improve from 0.11009\n",
            "1875/1875 [==============================] - 5s 2ms/step - loss: 0.1033 - accuracy: 0.9889 - val_loss: 0.1136 - val_accuracy: 0.9666\n",
            "Epoch 7/100\n",
            "1872/1875 [============================>.] - ETA: 0s - loss: 0.1032 - accuracy: 0.9890\n",
            "Epoch 7: val_loss did not improve from 0.11009\n",
            "1875/1875 [==============================] - 5s 2ms/step - loss: 0.1032 - accuracy: 0.9890 - val_loss: 0.1102 - val_accuracy: 0.9771\n",
            "Epoch 8/100\n",
            "1855/1875 [============================>.] - ETA: 0s - loss: 0.1031 - accuracy: 0.9898\n",
            "Epoch 8: val_loss did not improve from 0.11009\n",
            "1875/1875 [==============================] - 5s 2ms/step - loss: 0.1031 - accuracy: 0.9898 - val_loss: 0.1138 - val_accuracy: 0.9668\n",
            "Epoch 9/100\n",
            "1868/1875 [============================>.] - ETA: 0s - loss: 0.1031 - accuracy: 0.9896\n",
            "Epoch 9: val_loss did not improve from 0.11009\n",
            "1875/1875 [==============================] - 5s 2ms/step - loss: 0.1031 - accuracy: 0.9897 - val_loss: 0.1124 - val_accuracy: 0.9739\n",
            "Epoch 10/100\n",
            "1854/1875 [============================>.] - ETA: 0s - loss: 0.1029 - accuracy: 0.9906\n",
            "Epoch 10: val_loss did not improve from 0.11009\n",
            "1875/1875 [==============================] - 5s 2ms/step - loss: 0.1029 - accuracy: 0.9906 - val_loss: 0.1133 - val_accuracy: 0.9720\n",
            "Epoch 11/100\n",
            "1866/1875 [============================>.] - ETA: 0s - loss: 0.1030 - accuracy: 0.9900\n",
            "Epoch 11: val_loss did not improve from 0.11009\n",
            "1875/1875 [==============================] - 5s 2ms/step - loss: 0.1030 - accuracy: 0.9901 - val_loss: 0.1118 - val_accuracy: 0.9730\n",
            "Epoch 11: early stopping\n"
          ]
        }
      ],
      "source": [
        "model.compile(\n",
        "  optimizer='adam',\n",
        "  loss='Poisson',\n",
        "  metrics=['accuracy'],\n",
        ")\n",
        "\n",
        "#1\n",
        "f1 = EarlyStopping(monitor='val_loss', mode='min', verbose=1, patience=10)\n",
        "\n",
        "#2\n",
        "f2 = ModelCheckpoint(\"Model2\", mode=\"auto\", monitor=\"val_loss\", save_best_only=True, verbose=1)\n",
        "\n",
        "#3\n",
        "history = model.fit(train_images, train_labels, batch_size = None, validation_data = (test_images, test_labels)\n",
        ", callbacks = [f1,f2], epochs=100,  verbose=1)"
      ]
    },
    {
      "cell_type": "code",
      "source": [
        "# #4\n",
        "trained_model = load_model(\"Model2\")\n",
        "\n",
        "# #5\n",
        "train_accuracy = trained_model.evaluate(train_images, train_labels)\n",
        "\n",
        "# #6\n",
        "test_accuracy = trained_model.evaluate(test_images, test_labels)\n",
        "\n",
        "# #7\n",
        "print(train_accuracy + test_accuracy)"
      ],
      "metadata": {
        "colab": {
          "base_uri": "https://localhost:8080/"
        },
        "id": "WzZ5Ymkmiu4y",
        "outputId": "971db065-0df9-4cef-b294-c61040cf0675"
      },
      "execution_count": 8,
      "outputs": [
        {
          "output_type": "stream",
          "name": "stdout",
          "text": [
            "1875/1875 [==============================] - 4s 2ms/step - loss: 0.1035 - accuracy: 0.9880\n",
            "313/313 [==============================] - 1s 2ms/step - loss: 0.1101 - accuracy: 0.9737\n",
            "[0.10353159159421921, 0.9880333542823792, 0.11009445786476135, 0.9736999869346619]\n"
          ]
        }
      ]
    },
    {
      "cell_type": "markdown",
      "source": [
        "2. Wypróbuj inny optymalizator (z wykorzystaniem algorytmu Adadelta). Czy obserwujesz jakieś zmiany w procesie uczenia się w porównaniu do algorytmu wykorzystanego w tutorialu (adam)? Gdzie może leżeć przyczyna tych różnic? (zob. https://keras.io/api/optimizers/adadelta).\n",
        "\n",
        "\n",
        "\n",
        "\n",
        "\n"
      ],
      "metadata": {
        "id": "FcurUNIroTU7"
      }
    },
    {
      "cell_type": "markdown",
      "source": [
        "\n",
        "\n",
        "```\n",
        "Optymalizatory to algorytmy lub metody używane do zmiany atrybutów \n",
        "sieci neuronowej, takich jak wagi i szybkość uczenia się, \n",
        "w celu zmniejszenia strat.\n",
        "\n",
        "Przy zmianie samego optimizer='adadelta' proces uczenia uzyskuje accuracy lepsze od Model1 o 0.02 i od Model2 o 0.01. Natomiast postępuje dużo wolniej kończąc na ostatniej wskazanej epoce, czyli na 100tnej. \n",
        "\n",
        "Accuracy Model1:\n",
        "na danych treningowych ~ 0.98, \n",
        "na danych testowych ~0.97,\n",
        "\n",
        "Accuracy Model2:\n",
        "na danych treningowych ~ 0.99, \n",
        "na danych testowych ~0.97,\n",
        "\n",
        "Accuracy Model3:\n",
        "na danych treningowych ~ 1, \n",
        "na danych testowych ~0.98,\n",
        "\n",
        "optimizer='adam' jest używany do przyspieszenia algorytmu opadania \n",
        "gradientu poprzez uwzględnienie „wykładniczo ważonej średniej” gradientów. \n",
        "Użycie średnich sprawia, że ​​algorytm zbliża się do minimów w szybkim \n",
        "tempie. Jeśli chce się szkolić sieć neuronową w krótszym czasie to należy wybrać alg Adam. \n",
        "```\n",
        "\n"
      ],
      "metadata": {
        "id": "UjBWc87Wrt_y"
      }
    },
    {
      "cell_type": "code",
      "execution_count": 9,
      "metadata": {
        "id": "O64C8u3vR6fQ"
      },
      "outputs": [],
      "source": [
        "model.compile(\n",
        "  optimizer='adadelta',\n",
        "  loss=\"categorical_crossentropy\",\n",
        "  metrics=['accuracy'],\n",
        ")"
      ]
    },
    {
      "cell_type": "code",
      "source": [
        "#1\n",
        "f1 = EarlyStopping(monitor='val_loss', mode='min', verbose=1, patience=10)\n",
        "#2\n",
        "f2 = ModelCheckpoint(\"Model3\", mode=\"auto\", monitor=\"val_loss\", save_best_only=True, verbose=1)\n",
        "#3\n",
        "history = model.fit(train_images, train_labels, batch_size = None, validation_data = (test_images, test_labels)\n",
        ", callbacks = [f1,f2], epochs=100,  verbose=1)"
      ],
      "metadata": {
        "colab": {
          "base_uri": "https://localhost:8080/"
        },
        "id": "6Eeo5r4Totyg",
        "outputId": "d9152b08-96fe-4744-bbef-f19b760a642c"
      },
      "execution_count": 10,
      "outputs": [
        {
          "output_type": "stream",
          "name": "stdout",
          "text": [
            "Epoch 1/100\n",
            "1865/1875 [============================>.] - ETA: 0s - loss: 0.0257 - accuracy: 0.9910\n",
            "Epoch 1: val_loss improved from inf to 0.11759, saving model to Model3\n",
            "INFO:tensorflow:Assets written to: Model3/assets\n",
            "1875/1875 [==============================] - 6s 3ms/step - loss: 0.0256 - accuracy: 0.9910 - val_loss: 0.1176 - val_accuracy: 0.9737\n",
            "Epoch 2/100\n",
            "1869/1875 [============================>.] - ETA: 0s - loss: 0.0236 - accuracy: 0.9918\n",
            "Epoch 2: val_loss improved from 0.11759 to 0.11519, saving model to Model3\n",
            "INFO:tensorflow:Assets written to: Model3/assets\n",
            "1875/1875 [==============================] - 5s 3ms/step - loss: 0.0236 - accuracy: 0.9918 - val_loss: 0.1152 - val_accuracy: 0.9741\n",
            "Epoch 3/100\n",
            "1874/1875 [============================>.] - ETA: 0s - loss: 0.0219 - accuracy: 0.9925\n",
            "Epoch 3: val_loss improved from 0.11519 to 0.11316, saving model to Model3\n",
            "INFO:tensorflow:Assets written to: Model3/assets\n",
            "1875/1875 [==============================] - 5s 3ms/step - loss: 0.0219 - accuracy: 0.9925 - val_loss: 0.1132 - val_accuracy: 0.9750\n",
            "Epoch 4/100\n",
            "1861/1875 [============================>.] - ETA: 0s - loss: 0.0204 - accuracy: 0.9930\n",
            "Epoch 4: val_loss improved from 0.11316 to 0.11147, saving model to Model3\n",
            "INFO:tensorflow:Assets written to: Model3/assets\n",
            "1875/1875 [==============================] - 5s 3ms/step - loss: 0.0204 - accuracy: 0.9930 - val_loss: 0.1115 - val_accuracy: 0.9755\n",
            "Epoch 5/100\n",
            "1863/1875 [============================>.] - ETA: 0s - loss: 0.0193 - accuracy: 0.9933\n",
            "Epoch 5: val_loss improved from 0.11147 to 0.11001, saving model to Model3\n",
            "INFO:tensorflow:Assets written to: Model3/assets\n",
            "1875/1875 [==============================] - 5s 3ms/step - loss: 0.0192 - accuracy: 0.9933 - val_loss: 0.1100 - val_accuracy: 0.9761\n",
            "Epoch 6/100\n",
            "1871/1875 [============================>.] - ETA: 0s - loss: 0.0182 - accuracy: 0.9936\n",
            "Epoch 6: val_loss improved from 0.11001 to 0.10870, saving model to Model3\n",
            "INFO:tensorflow:Assets written to: Model3/assets\n",
            "1875/1875 [==============================] - 5s 3ms/step - loss: 0.0182 - accuracy: 0.9936 - val_loss: 0.1087 - val_accuracy: 0.9764\n",
            "Epoch 7/100\n",
            "1869/1875 [============================>.] - ETA: 0s - loss: 0.0172 - accuracy: 0.9940\n",
            "Epoch 7: val_loss improved from 0.10870 to 0.10755, saving model to Model3\n",
            "INFO:tensorflow:Assets written to: Model3/assets\n",
            "1875/1875 [==============================] - 5s 3ms/step - loss: 0.0172 - accuracy: 0.9940 - val_loss: 0.1075 - val_accuracy: 0.9766\n",
            "Epoch 8/100\n",
            "1859/1875 [============================>.] - ETA: 0s - loss: 0.0162 - accuracy: 0.9944\n",
            "Epoch 8: val_loss improved from 0.10755 to 0.10655, saving model to Model3\n",
            "INFO:tensorflow:Assets written to: Model3/assets\n",
            "1875/1875 [==============================] - 5s 3ms/step - loss: 0.0164 - accuracy: 0.9943 - val_loss: 0.1065 - val_accuracy: 0.9770\n",
            "Epoch 9/100\n",
            "1868/1875 [============================>.] - ETA: 0s - loss: 0.0157 - accuracy: 0.9946\n",
            "Epoch 9: val_loss improved from 0.10655 to 0.10564, saving model to Model3\n",
            "INFO:tensorflow:Assets written to: Model3/assets\n",
            "1875/1875 [==============================] - 5s 3ms/step - loss: 0.0157 - accuracy: 0.9947 - val_loss: 0.1056 - val_accuracy: 0.9768\n",
            "Epoch 10/100\n",
            "1853/1875 [============================>.] - ETA: 0s - loss: 0.0150 - accuracy: 0.9949\n",
            "Epoch 10: val_loss improved from 0.10564 to 0.10483, saving model to Model3\n",
            "INFO:tensorflow:Assets written to: Model3/assets\n",
            "1875/1875 [==============================] - 5s 3ms/step - loss: 0.0150 - accuracy: 0.9949 - val_loss: 0.1048 - val_accuracy: 0.9771\n",
            "Epoch 11/100\n",
            "1859/1875 [============================>.] - ETA: 0s - loss: 0.0144 - accuracy: 0.9950\n",
            "Epoch 11: val_loss improved from 0.10483 to 0.10411, saving model to Model3\n",
            "INFO:tensorflow:Assets written to: Model3/assets\n",
            "1875/1875 [==============================] - 5s 3ms/step - loss: 0.0145 - accuracy: 0.9951 - val_loss: 0.1041 - val_accuracy: 0.9771\n",
            "Epoch 12/100\n",
            "1869/1875 [============================>.] - ETA: 0s - loss: 0.0139 - accuracy: 0.9953\n",
            "Epoch 12: val_loss improved from 0.10411 to 0.10344, saving model to Model3\n",
            "INFO:tensorflow:Assets written to: Model3/assets\n",
            "1875/1875 [==============================] - 5s 3ms/step - loss: 0.0139 - accuracy: 0.9953 - val_loss: 0.1034 - val_accuracy: 0.9774\n",
            "Epoch 13/100\n",
            "1874/1875 [============================>.] - ETA: 0s - loss: 0.0134 - accuracy: 0.9954\n",
            "Epoch 13: val_loss improved from 0.10344 to 0.10285, saving model to Model3\n",
            "INFO:tensorflow:Assets written to: Model3/assets\n",
            "1875/1875 [==============================] - 5s 3ms/step - loss: 0.0135 - accuracy: 0.9954 - val_loss: 0.1028 - val_accuracy: 0.9775\n",
            "Epoch 14/100\n",
            "1873/1875 [============================>.] - ETA: 0s - loss: 0.0130 - accuracy: 0.9956\n",
            "Epoch 14: val_loss improved from 0.10285 to 0.10232, saving model to Model3\n",
            "INFO:tensorflow:Assets written to: Model3/assets\n",
            "1875/1875 [==============================] - 5s 3ms/step - loss: 0.0130 - accuracy: 0.9956 - val_loss: 0.1023 - val_accuracy: 0.9774\n",
            "Epoch 15/100\n",
            "1874/1875 [============================>.] - ETA: 0s - loss: 0.0126 - accuracy: 0.9957\n",
            "Epoch 15: val_loss improved from 0.10232 to 0.10184, saving model to Model3\n",
            "INFO:tensorflow:Assets written to: Model3/assets\n",
            "1875/1875 [==============================] - 5s 3ms/step - loss: 0.0126 - accuracy: 0.9957 - val_loss: 0.1018 - val_accuracy: 0.9773\n",
            "Epoch 16/100\n",
            "1867/1875 [============================>.] - ETA: 0s - loss: 0.0123 - accuracy: 0.9959\n",
            "Epoch 16: val_loss improved from 0.10184 to 0.10143, saving model to Model3\n",
            "INFO:tensorflow:Assets written to: Model3/assets\n",
            "1875/1875 [==============================] - 5s 3ms/step - loss: 0.0123 - accuracy: 0.9959 - val_loss: 0.1014 - val_accuracy: 0.9778\n",
            "Epoch 17/100\n",
            "1866/1875 [============================>.] - ETA: 0s - loss: 0.0120 - accuracy: 0.9960\n",
            "Epoch 17: val_loss improved from 0.10143 to 0.10107, saving model to Model3\n",
            "INFO:tensorflow:Assets written to: Model3/assets\n",
            "1875/1875 [==============================] - 5s 3ms/step - loss: 0.0120 - accuracy: 0.9960 - val_loss: 0.1011 - val_accuracy: 0.9779\n",
            "Epoch 18/100\n",
            "1854/1875 [============================>.] - ETA: 0s - loss: 0.0117 - accuracy: 0.9961\n",
            "Epoch 18: val_loss improved from 0.10107 to 0.10072, saving model to Model3\n",
            "INFO:tensorflow:Assets written to: Model3/assets\n",
            "1875/1875 [==============================] - 5s 3ms/step - loss: 0.0117 - accuracy: 0.9961 - val_loss: 0.1007 - val_accuracy: 0.9779\n",
            "Epoch 19/100\n",
            "1870/1875 [============================>.] - ETA: 0s - loss: 0.0114 - accuracy: 0.9962\n",
            "Epoch 19: val_loss improved from 0.10072 to 0.10041, saving model to Model3\n",
            "INFO:tensorflow:Assets written to: Model3/assets\n",
            "1875/1875 [==============================] - 5s 3ms/step - loss: 0.0114 - accuracy: 0.9962 - val_loss: 0.1004 - val_accuracy: 0.9779\n",
            "Epoch 20/100\n",
            "1855/1875 [============================>.] - ETA: 0s - loss: 0.0111 - accuracy: 0.9963\n",
            "Epoch 20: val_loss improved from 0.10041 to 0.10012, saving model to Model3\n",
            "INFO:tensorflow:Assets written to: Model3/assets\n",
            "1875/1875 [==============================] - 5s 3ms/step - loss: 0.0111 - accuracy: 0.9963 - val_loss: 0.1001 - val_accuracy: 0.9781\n",
            "Epoch 21/100\n",
            "1875/1875 [==============================] - ETA: 0s - loss: 0.0109 - accuracy: 0.9964\n",
            "Epoch 21: val_loss improved from 0.10012 to 0.09985, saving model to Model3\n",
            "INFO:tensorflow:Assets written to: Model3/assets\n",
            "1875/1875 [==============================] - 5s 3ms/step - loss: 0.0109 - accuracy: 0.9964 - val_loss: 0.0998 - val_accuracy: 0.9781\n",
            "Epoch 22/100\n",
            "1862/1875 [============================>.] - ETA: 0s - loss: 0.0107 - accuracy: 0.9965\n",
            "Epoch 22: val_loss improved from 0.09985 to 0.09959, saving model to Model3\n",
            "INFO:tensorflow:Assets written to: Model3/assets\n",
            "1875/1875 [==============================] - 5s 3ms/step - loss: 0.0106 - accuracy: 0.9965 - val_loss: 0.0996 - val_accuracy: 0.9781\n",
            "Epoch 23/100\n",
            "1855/1875 [============================>.] - ETA: 0s - loss: 0.0105 - accuracy: 0.9967\n",
            "Epoch 23: val_loss improved from 0.09959 to 0.09935, saving model to Model3\n",
            "INFO:tensorflow:Assets written to: Model3/assets\n",
            "1875/1875 [==============================] - 5s 3ms/step - loss: 0.0104 - accuracy: 0.9967 - val_loss: 0.0994 - val_accuracy: 0.9786\n",
            "Epoch 24/100\n",
            "1861/1875 [============================>.] - ETA: 0s - loss: 0.0102 - accuracy: 0.9969\n",
            "Epoch 24: val_loss improved from 0.09935 to 0.09913, saving model to Model3\n",
            "INFO:tensorflow:Assets written to: Model3/assets\n",
            "1875/1875 [==============================] - 5s 3ms/step - loss: 0.0102 - accuracy: 0.9969 - val_loss: 0.0991 - val_accuracy: 0.9787\n",
            "Epoch 25/100\n",
            "1870/1875 [============================>.] - ETA: 0s - loss: 0.0101 - accuracy: 0.9970\n",
            "Epoch 25: val_loss improved from 0.09913 to 0.09893, saving model to Model3\n",
            "INFO:tensorflow:Assets written to: Model3/assets\n",
            "1875/1875 [==============================] - 6s 3ms/step - loss: 0.0101 - accuracy: 0.9970 - val_loss: 0.0989 - val_accuracy: 0.9788\n",
            "Epoch 26/100\n",
            "1860/1875 [============================>.] - ETA: 0s - loss: 0.0099 - accuracy: 0.9970\n",
            "Epoch 26: val_loss improved from 0.09893 to 0.09874, saving model to Model3\n",
            "INFO:tensorflow:Assets written to: Model3/assets\n",
            "1875/1875 [==============================] - 6s 3ms/step - loss: 0.0099 - accuracy: 0.9971 - val_loss: 0.0987 - val_accuracy: 0.9791\n",
            "Epoch 27/100\n",
            "1855/1875 [============================>.] - ETA: 0s - loss: 0.0098 - accuracy: 0.9971\n",
            "Epoch 27: val_loss improved from 0.09874 to 0.09856, saving model to Model3\n",
            "INFO:tensorflow:Assets written to: Model3/assets\n",
            "1875/1875 [==============================] - 5s 3ms/step - loss: 0.0097 - accuracy: 0.9971 - val_loss: 0.0986 - val_accuracy: 0.9792\n",
            "Epoch 28/100\n",
            "1854/1875 [============================>.] - ETA: 0s - loss: 0.0095 - accuracy: 0.9972\n",
            "Epoch 28: val_loss improved from 0.09856 to 0.09838, saving model to Model3\n",
            "INFO:tensorflow:Assets written to: Model3/assets\n",
            "1875/1875 [==============================] - 5s 3ms/step - loss: 0.0095 - accuracy: 0.9972 - val_loss: 0.0984 - val_accuracy: 0.9792\n",
            "Epoch 29/100\n",
            "1852/1875 [============================>.] - ETA: 0s - loss: 0.0094 - accuracy: 0.9972\n",
            "Epoch 29: val_loss improved from 0.09838 to 0.09822, saving model to Model3\n",
            "INFO:tensorflow:Assets written to: Model3/assets\n",
            "1875/1875 [==============================] - 5s 3ms/step - loss: 0.0094 - accuracy: 0.9972 - val_loss: 0.0982 - val_accuracy: 0.9792\n",
            "Epoch 30/100\n",
            "1862/1875 [============================>.] - ETA: 0s - loss: 0.0092 - accuracy: 0.9973\n",
            "Epoch 30: val_loss improved from 0.09822 to 0.09808, saving model to Model3\n",
            "INFO:tensorflow:Assets written to: Model3/assets\n",
            "1875/1875 [==============================] - 5s 3ms/step - loss: 0.0093 - accuracy: 0.9973 - val_loss: 0.0981 - val_accuracy: 0.9793\n",
            "Epoch 31/100\n",
            "1864/1875 [============================>.] - ETA: 0s - loss: 0.0091 - accuracy: 0.9975\n",
            "Epoch 31: val_loss improved from 0.09808 to 0.09794, saving model to Model3\n",
            "INFO:tensorflow:Assets written to: Model3/assets\n",
            "1875/1875 [==============================] - 5s 3ms/step - loss: 0.0091 - accuracy: 0.9975 - val_loss: 0.0979 - val_accuracy: 0.9792\n",
            "Epoch 32/100\n",
            "1867/1875 [============================>.] - ETA: 0s - loss: 0.0090 - accuracy: 0.9975\n",
            "Epoch 32: val_loss improved from 0.09794 to 0.09782, saving model to Model3\n",
            "INFO:tensorflow:Assets written to: Model3/assets\n",
            "1875/1875 [==============================] - 5s 3ms/step - loss: 0.0090 - accuracy: 0.9975 - val_loss: 0.0978 - val_accuracy: 0.9792\n",
            "Epoch 33/100\n",
            "1856/1875 [============================>.] - ETA: 0s - loss: 0.0089 - accuracy: 0.9975\n",
            "Epoch 33: val_loss improved from 0.09782 to 0.09770, saving model to Model3\n",
            "INFO:tensorflow:Assets written to: Model3/assets\n",
            "1875/1875 [==============================] - 5s 3ms/step - loss: 0.0089 - accuracy: 0.9975 - val_loss: 0.0977 - val_accuracy: 0.9793\n",
            "Epoch 34/100\n",
            "1865/1875 [============================>.] - ETA: 0s - loss: 0.0088 - accuracy: 0.9976\n",
            "Epoch 34: val_loss improved from 0.09770 to 0.09759, saving model to Model3\n",
            "INFO:tensorflow:Assets written to: Model3/assets\n",
            "1875/1875 [==============================] - 5s 3ms/step - loss: 0.0088 - accuracy: 0.9976 - val_loss: 0.0976 - val_accuracy: 0.9792\n",
            "Epoch 35/100\n",
            "1871/1875 [============================>.] - ETA: 0s - loss: 0.0086 - accuracy: 0.9976\n",
            "Epoch 35: val_loss improved from 0.09759 to 0.09747, saving model to Model3\n",
            "INFO:tensorflow:Assets written to: Model3/assets\n",
            "1875/1875 [==============================] - 5s 3ms/step - loss: 0.0087 - accuracy: 0.9976 - val_loss: 0.0975 - val_accuracy: 0.9791\n",
            "Epoch 36/100\n",
            "1871/1875 [============================>.] - ETA: 0s - loss: 0.0086 - accuracy: 0.9976\n",
            "Epoch 36: val_loss improved from 0.09747 to 0.09735, saving model to Model3\n",
            "INFO:tensorflow:Assets written to: Model3/assets\n",
            "1875/1875 [==============================] - 6s 3ms/step - loss: 0.0086 - accuracy: 0.9976 - val_loss: 0.0974 - val_accuracy: 0.9793\n",
            "Epoch 37/100\n",
            "1862/1875 [============================>.] - ETA: 0s - loss: 0.0085 - accuracy: 0.9977\n",
            "Epoch 37: val_loss improved from 0.09735 to 0.09725, saving model to Model3\n",
            "INFO:tensorflow:Assets written to: Model3/assets\n",
            "1875/1875 [==============================] - 5s 3ms/step - loss: 0.0085 - accuracy: 0.9977 - val_loss: 0.0973 - val_accuracy: 0.9794\n",
            "Epoch 38/100\n",
            "1866/1875 [============================>.] - ETA: 0s - loss: 0.0084 - accuracy: 0.9977\n",
            "Epoch 38: val_loss improved from 0.09725 to 0.09716, saving model to Model3\n",
            "INFO:tensorflow:Assets written to: Model3/assets\n",
            "1875/1875 [==============================] - 5s 3ms/step - loss: 0.0084 - accuracy: 0.9977 - val_loss: 0.0972 - val_accuracy: 0.9794\n",
            "Epoch 39/100\n",
            "1874/1875 [============================>.] - ETA: 0s - loss: 0.0083 - accuracy: 0.9978\n",
            "Epoch 39: val_loss improved from 0.09716 to 0.09706, saving model to Model3\n",
            "INFO:tensorflow:Assets written to: Model3/assets\n",
            "1875/1875 [==============================] - 5s 3ms/step - loss: 0.0083 - accuracy: 0.9978 - val_loss: 0.0971 - val_accuracy: 0.9794\n",
            "Epoch 40/100\n",
            "1864/1875 [============================>.] - ETA: 0s - loss: 0.0082 - accuracy: 0.9978\n",
            "Epoch 40: val_loss improved from 0.09706 to 0.09697, saving model to Model3\n",
            "INFO:tensorflow:Assets written to: Model3/assets\n",
            "1875/1875 [==============================] - 5s 3ms/step - loss: 0.0082 - accuracy: 0.9978 - val_loss: 0.0970 - val_accuracy: 0.9795\n",
            "Epoch 41/100\n",
            "1862/1875 [============================>.] - ETA: 0s - loss: 0.0082 - accuracy: 0.9979\n",
            "Epoch 41: val_loss improved from 0.09697 to 0.09688, saving model to Model3\n",
            "INFO:tensorflow:Assets written to: Model3/assets\n",
            "1875/1875 [==============================] - 5s 3ms/step - loss: 0.0081 - accuracy: 0.9979 - val_loss: 0.0969 - val_accuracy: 0.9795\n",
            "Epoch 42/100\n",
            "1870/1875 [============================>.] - ETA: 0s - loss: 0.0080 - accuracy: 0.9979\n",
            "Epoch 42: val_loss improved from 0.09688 to 0.09679, saving model to Model3\n",
            "INFO:tensorflow:Assets written to: Model3/assets\n",
            "1875/1875 [==============================] - 5s 3ms/step - loss: 0.0080 - accuracy: 0.9979 - val_loss: 0.0968 - val_accuracy: 0.9795\n",
            "Epoch 43/100\n",
            "1871/1875 [============================>.] - ETA: 0s - loss: 0.0080 - accuracy: 0.9979\n",
            "Epoch 43: val_loss improved from 0.09679 to 0.09671, saving model to Model3\n",
            "INFO:tensorflow:Assets written to: Model3/assets\n",
            "1875/1875 [==============================] - 5s 3ms/step - loss: 0.0080 - accuracy: 0.9979 - val_loss: 0.0967 - val_accuracy: 0.9795\n",
            "Epoch 44/100\n",
            "1863/1875 [============================>.] - ETA: 0s - loss: 0.0079 - accuracy: 0.9979\n",
            "Epoch 44: val_loss improved from 0.09671 to 0.09662, saving model to Model3\n",
            "INFO:tensorflow:Assets written to: Model3/assets\n",
            "1875/1875 [==============================] - 5s 3ms/step - loss: 0.0079 - accuracy: 0.9979 - val_loss: 0.0966 - val_accuracy: 0.9794\n",
            "Epoch 45/100\n",
            "1857/1875 [============================>.] - ETA: 0s - loss: 0.0078 - accuracy: 0.9979\n",
            "Epoch 45: val_loss improved from 0.09662 to 0.09655, saving model to Model3\n",
            "INFO:tensorflow:Assets written to: Model3/assets\n",
            "1875/1875 [==============================] - 5s 3ms/step - loss: 0.0078 - accuracy: 0.9979 - val_loss: 0.0966 - val_accuracy: 0.9794\n",
            "Epoch 46/100\n",
            "1857/1875 [============================>.] - ETA: 0s - loss: 0.0078 - accuracy: 0.9980\n",
            "Epoch 46: val_loss improved from 0.09655 to 0.09649, saving model to Model3\n",
            "INFO:tensorflow:Assets written to: Model3/assets\n",
            "1875/1875 [==============================] - 5s 3ms/step - loss: 0.0078 - accuracy: 0.9980 - val_loss: 0.0965 - val_accuracy: 0.9794\n",
            "Epoch 47/100\n",
            "1874/1875 [============================>.] - ETA: 0s - loss: 0.0077 - accuracy: 0.9980\n",
            "Epoch 47: val_loss improved from 0.09649 to 0.09643, saving model to Model3\n",
            "INFO:tensorflow:Assets written to: Model3/assets\n",
            "1875/1875 [==============================] - 6s 3ms/step - loss: 0.0077 - accuracy: 0.9980 - val_loss: 0.0964 - val_accuracy: 0.9796\n",
            "Epoch 48/100\n",
            "1863/1875 [============================>.] - ETA: 0s - loss: 0.0076 - accuracy: 0.9981\n",
            "Epoch 48: val_loss improved from 0.09643 to 0.09636, saving model to Model3\n",
            "INFO:tensorflow:Assets written to: Model3/assets\n",
            "1875/1875 [==============================] - 5s 3ms/step - loss: 0.0076 - accuracy: 0.9981 - val_loss: 0.0964 - val_accuracy: 0.9796\n",
            "Epoch 49/100\n",
            "1856/1875 [============================>.] - ETA: 0s - loss: 0.0076 - accuracy: 0.9981\n",
            "Epoch 49: val_loss improved from 0.09636 to 0.09630, saving model to Model3\n",
            "INFO:tensorflow:Assets written to: Model3/assets\n",
            "1875/1875 [==============================] - 5s 3ms/step - loss: 0.0076 - accuracy: 0.9981 - val_loss: 0.0963 - val_accuracy: 0.9796\n",
            "Epoch 50/100\n",
            "1874/1875 [============================>.] - ETA: 0s - loss: 0.0075 - accuracy: 0.9981\n",
            "Epoch 50: val_loss improved from 0.09630 to 0.09624, saving model to Model3\n",
            "INFO:tensorflow:Assets written to: Model3/assets\n",
            "1875/1875 [==============================] - 6s 3ms/step - loss: 0.0075 - accuracy: 0.9981 - val_loss: 0.0962 - val_accuracy: 0.9797\n",
            "Epoch 51/100\n",
            "1875/1875 [==============================] - ETA: 0s - loss: 0.0075 - accuracy: 0.9982\n",
            "Epoch 51: val_loss improved from 0.09624 to 0.09619, saving model to Model3\n",
            "INFO:tensorflow:Assets written to: Model3/assets\n",
            "1875/1875 [==============================] - 5s 3ms/step - loss: 0.0075 - accuracy: 0.9982 - val_loss: 0.0962 - val_accuracy: 0.9798\n",
            "Epoch 52/100\n",
            "1873/1875 [============================>.] - ETA: 0s - loss: 0.0074 - accuracy: 0.9982\n",
            "Epoch 52: val_loss improved from 0.09619 to 0.09614, saving model to Model3\n",
            "INFO:tensorflow:Assets written to: Model3/assets\n",
            "1875/1875 [==============================] - 5s 3ms/step - loss: 0.0074 - accuracy: 0.9982 - val_loss: 0.0961 - val_accuracy: 0.9798\n",
            "Epoch 53/100\n",
            "1866/1875 [============================>.] - ETA: 0s - loss: 0.0074 - accuracy: 0.9982\n",
            "Epoch 53: val_loss improved from 0.09614 to 0.09610, saving model to Model3\n",
            "INFO:tensorflow:Assets written to: Model3/assets\n",
            "1875/1875 [==============================] - 5s 3ms/step - loss: 0.0074 - accuracy: 0.9982 - val_loss: 0.0961 - val_accuracy: 0.9800\n",
            "Epoch 54/100\n",
            "1860/1875 [============================>.] - ETA: 0s - loss: 0.0073 - accuracy: 0.9983\n",
            "Epoch 54: val_loss improved from 0.09610 to 0.09604, saving model to Model3\n",
            "INFO:tensorflow:Assets written to: Model3/assets\n",
            "1875/1875 [==============================] - 5s 3ms/step - loss: 0.0073 - accuracy: 0.9983 - val_loss: 0.0960 - val_accuracy: 0.9800\n",
            "Epoch 55/100\n",
            "1855/1875 [============================>.] - ETA: 0s - loss: 0.0071 - accuracy: 0.9983\n",
            "Epoch 55: val_loss improved from 0.09604 to 0.09599, saving model to Model3\n",
            "INFO:tensorflow:Assets written to: Model3/assets\n",
            "1875/1875 [==============================] - 5s 3ms/step - loss: 0.0073 - accuracy: 0.9983 - val_loss: 0.0960 - val_accuracy: 0.9800\n",
            "Epoch 56/100\n",
            "1858/1875 [============================>.] - ETA: 0s - loss: 0.0070 - accuracy: 0.9984\n",
            "Epoch 56: val_loss improved from 0.09599 to 0.09596, saving model to Model3\n",
            "INFO:tensorflow:Assets written to: Model3/assets\n",
            "1875/1875 [==============================] - 5s 3ms/step - loss: 0.0072 - accuracy: 0.9983 - val_loss: 0.0960 - val_accuracy: 0.9802\n",
            "Epoch 57/100\n",
            "1872/1875 [============================>.] - ETA: 0s - loss: 0.0071 - accuracy: 0.9983\n",
            "Epoch 57: val_loss improved from 0.09596 to 0.09592, saving model to Model3\n",
            "INFO:tensorflow:Assets written to: Model3/assets\n",
            "1875/1875 [==============================] - 5s 3ms/step - loss: 0.0072 - accuracy: 0.9983 - val_loss: 0.0959 - val_accuracy: 0.9801\n",
            "Epoch 58/100\n",
            "1857/1875 [============================>.] - ETA: 0s - loss: 0.0071 - accuracy: 0.9983\n",
            "Epoch 58: val_loss improved from 0.09592 to 0.09589, saving model to Model3\n",
            "INFO:tensorflow:Assets written to: Model3/assets\n",
            "1875/1875 [==============================] - 6s 3ms/step - loss: 0.0071 - accuracy: 0.9983 - val_loss: 0.0959 - val_accuracy: 0.9801\n",
            "Epoch 59/100\n",
            "1855/1875 [============================>.] - ETA: 0s - loss: 0.0071 - accuracy: 0.9983\n",
            "Epoch 59: val_loss improved from 0.09589 to 0.09586, saving model to Model3\n",
            "INFO:tensorflow:Assets written to: Model3/assets\n",
            "1875/1875 [==============================] - 5s 3ms/step - loss: 0.0071 - accuracy: 0.9983 - val_loss: 0.0959 - val_accuracy: 0.9801\n",
            "Epoch 60/100\n",
            "1869/1875 [============================>.] - ETA: 0s - loss: 0.0071 - accuracy: 0.9983\n",
            "Epoch 60: val_loss improved from 0.09586 to 0.09583, saving model to Model3\n",
            "INFO:tensorflow:Assets written to: Model3/assets\n",
            "1875/1875 [==============================] - 5s 3ms/step - loss: 0.0070 - accuracy: 0.9983 - val_loss: 0.0958 - val_accuracy: 0.9802\n",
            "Epoch 61/100\n",
            "1857/1875 [============================>.] - ETA: 0s - loss: 0.0070 - accuracy: 0.9984\n",
            "Epoch 61: val_loss improved from 0.09583 to 0.09580, saving model to Model3\n",
            "INFO:tensorflow:Assets written to: Model3/assets\n",
            "1875/1875 [==============================] - 5s 3ms/step - loss: 0.0070 - accuracy: 0.9984 - val_loss: 0.0958 - val_accuracy: 0.9802\n",
            "Epoch 62/100\n",
            "1872/1875 [============================>.] - ETA: 0s - loss: 0.0070 - accuracy: 0.9984\n",
            "Epoch 62: val_loss improved from 0.09580 to 0.09577, saving model to Model3\n",
            "INFO:tensorflow:Assets written to: Model3/assets\n",
            "1875/1875 [==============================] - 5s 3ms/step - loss: 0.0070 - accuracy: 0.9984 - val_loss: 0.0958 - val_accuracy: 0.9802\n",
            "Epoch 63/100\n",
            "1860/1875 [============================>.] - ETA: 0s - loss: 0.0069 - accuracy: 0.9984\n",
            "Epoch 63: val_loss improved from 0.09577 to 0.09574, saving model to Model3\n",
            "INFO:tensorflow:Assets written to: Model3/assets\n",
            "1875/1875 [==============================] - 5s 3ms/step - loss: 0.0069 - accuracy: 0.9984 - val_loss: 0.0957 - val_accuracy: 0.9802\n",
            "Epoch 64/100\n",
            "1857/1875 [============================>.] - ETA: 0s - loss: 0.0069 - accuracy: 0.9985\n",
            "Epoch 64: val_loss improved from 0.09574 to 0.09572, saving model to Model3\n",
            "INFO:tensorflow:Assets written to: Model3/assets\n",
            "1875/1875 [==============================] - 5s 3ms/step - loss: 0.0069 - accuracy: 0.9984 - val_loss: 0.0957 - val_accuracy: 0.9801\n",
            "Epoch 65/100\n",
            "1865/1875 [============================>.] - ETA: 0s - loss: 0.0064 - accuracy: 0.9985\n",
            "Epoch 65: val_loss improved from 0.09572 to 0.09569, saving model to Model3\n",
            "INFO:tensorflow:Assets written to: Model3/assets\n",
            "1875/1875 [==============================] - 5s 3ms/step - loss: 0.0068 - accuracy: 0.9984 - val_loss: 0.0957 - val_accuracy: 0.9801\n",
            "Epoch 66/100\n",
            "1854/1875 [============================>.] - ETA: 0s - loss: 0.0066 - accuracy: 0.9985\n",
            "Epoch 66: val_loss improved from 0.09569 to 0.09568, saving model to Model3\n",
            "INFO:tensorflow:Assets written to: Model3/assets\n",
            "1875/1875 [==============================] - 5s 3ms/step - loss: 0.0068 - accuracy: 0.9984 - val_loss: 0.0957 - val_accuracy: 0.9801\n",
            "Epoch 67/100\n",
            "1857/1875 [============================>.] - ETA: 0s - loss: 0.0068 - accuracy: 0.9985\n",
            "Epoch 67: val_loss improved from 0.09568 to 0.09565, saving model to Model3\n",
            "INFO:tensorflow:Assets written to: Model3/assets\n",
            "1875/1875 [==============================] - 5s 3ms/step - loss: 0.0068 - accuracy: 0.9984 - val_loss: 0.0957 - val_accuracy: 0.9799\n",
            "Epoch 68/100\n",
            "1859/1875 [============================>.] - ETA: 0s - loss: 0.0067 - accuracy: 0.9985\n",
            "Epoch 68: val_loss improved from 0.09565 to 0.09563, saving model to Model3\n",
            "INFO:tensorflow:Assets written to: Model3/assets\n",
            "1875/1875 [==============================] - 5s 3ms/step - loss: 0.0067 - accuracy: 0.9984 - val_loss: 0.0956 - val_accuracy: 0.9800\n",
            "Epoch 69/100\n",
            "1873/1875 [============================>.] - ETA: 0s - loss: 0.0067 - accuracy: 0.9984\n",
            "Epoch 69: val_loss improved from 0.09563 to 0.09562, saving model to Model3\n",
            "INFO:tensorflow:Assets written to: Model3/assets\n",
            "1875/1875 [==============================] - 6s 3ms/step - loss: 0.0067 - accuracy: 0.9984 - val_loss: 0.0956 - val_accuracy: 0.9801\n",
            "Epoch 70/100\n",
            "1854/1875 [============================>.] - ETA: 0s - loss: 0.0067 - accuracy: 0.9985\n",
            "Epoch 70: val_loss improved from 0.09562 to 0.09561, saving model to Model3\n",
            "INFO:tensorflow:Assets written to: Model3/assets\n",
            "1875/1875 [==============================] - 5s 3ms/step - loss: 0.0067 - accuracy: 0.9985 - val_loss: 0.0956 - val_accuracy: 0.9801\n",
            "Epoch 71/100\n",
            "1869/1875 [============================>.] - ETA: 0s - loss: 0.0067 - accuracy: 0.9984\n",
            "Epoch 71: val_loss improved from 0.09561 to 0.09561, saving model to Model3\n",
            "INFO:tensorflow:Assets written to: Model3/assets\n",
            "1875/1875 [==============================] - 5s 3ms/step - loss: 0.0067 - accuracy: 0.9984 - val_loss: 0.0956 - val_accuracy: 0.9801\n",
            "Epoch 72/100\n",
            "1867/1875 [============================>.] - ETA: 0s - loss: 0.0066 - accuracy: 0.9985\n",
            "Epoch 72: val_loss improved from 0.09561 to 0.09559, saving model to Model3\n",
            "INFO:tensorflow:Assets written to: Model3/assets\n",
            "1875/1875 [==============================] - 5s 3ms/step - loss: 0.0066 - accuracy: 0.9985 - val_loss: 0.0956 - val_accuracy: 0.9801\n",
            "Epoch 73/100\n",
            "1860/1875 [============================>.] - ETA: 0s - loss: 0.0066 - accuracy: 0.9985\n",
            "Epoch 73: val_loss improved from 0.09559 to 0.09559, saving model to Model3\n",
            "INFO:tensorflow:Assets written to: Model3/assets\n",
            "1875/1875 [==============================] - 5s 3ms/step - loss: 0.0066 - accuracy: 0.9985 - val_loss: 0.0956 - val_accuracy: 0.9801\n",
            "Epoch 74/100\n",
            "1857/1875 [============================>.] - ETA: 0s - loss: 0.0066 - accuracy: 0.9985\n",
            "Epoch 74: val_loss improved from 0.09559 to 0.09557, saving model to Model3\n",
            "INFO:tensorflow:Assets written to: Model3/assets\n",
            "1875/1875 [==============================] - 5s 3ms/step - loss: 0.0066 - accuracy: 0.9985 - val_loss: 0.0956 - val_accuracy: 0.9801\n",
            "Epoch 75/100\n",
            "1856/1875 [============================>.] - ETA: 0s - loss: 0.0066 - accuracy: 0.9985\n",
            "Epoch 75: val_loss improved from 0.09557 to 0.09557, saving model to Model3\n",
            "INFO:tensorflow:Assets written to: Model3/assets\n",
            "1875/1875 [==============================] - 5s 3ms/step - loss: 0.0065 - accuracy: 0.9985 - val_loss: 0.0956 - val_accuracy: 0.9801\n",
            "Epoch 76/100\n",
            "1853/1875 [============================>.] - ETA: 0s - loss: 0.0065 - accuracy: 0.9985\n",
            "Epoch 76: val_loss improved from 0.09557 to 0.09556, saving model to Model3\n",
            "INFO:tensorflow:Assets written to: Model3/assets\n",
            "1875/1875 [==============================] - 5s 3ms/step - loss: 0.0065 - accuracy: 0.9985 - val_loss: 0.0956 - val_accuracy: 0.9802\n",
            "Epoch 77/100\n",
            "1870/1875 [============================>.] - ETA: 0s - loss: 0.0065 - accuracy: 0.9985\n",
            "Epoch 77: val_loss improved from 0.09556 to 0.09555, saving model to Model3\n",
            "INFO:tensorflow:Assets written to: Model3/assets\n",
            "1875/1875 [==============================] - 5s 3ms/step - loss: 0.0065 - accuracy: 0.9985 - val_loss: 0.0955 - val_accuracy: 0.9802\n",
            "Epoch 78/100\n",
            "1861/1875 [============================>.] - ETA: 0s - loss: 0.0065 - accuracy: 0.9985\n",
            "Epoch 78: val_loss improved from 0.09555 to 0.09553, saving model to Model3\n",
            "INFO:tensorflow:Assets written to: Model3/assets\n",
            "1875/1875 [==============================] - 5s 3ms/step - loss: 0.0065 - accuracy: 0.9985 - val_loss: 0.0955 - val_accuracy: 0.9802\n",
            "Epoch 79/100\n",
            "1860/1875 [============================>.] - ETA: 0s - loss: 0.0065 - accuracy: 0.9985\n",
            "Epoch 79: val_loss improved from 0.09553 to 0.09553, saving model to Model3\n",
            "INFO:tensorflow:Assets written to: Model3/assets\n",
            "1875/1875 [==============================] - 5s 3ms/step - loss: 0.0064 - accuracy: 0.9985 - val_loss: 0.0955 - val_accuracy: 0.9802\n",
            "Epoch 80/100\n",
            "1860/1875 [============================>.] - ETA: 0s - loss: 0.0064 - accuracy: 0.9986\n",
            "Epoch 80: val_loss improved from 0.09553 to 0.09552, saving model to Model3\n",
            "INFO:tensorflow:Assets written to: Model3/assets\n",
            "1875/1875 [==============================] - 6s 3ms/step - loss: 0.0064 - accuracy: 0.9985 - val_loss: 0.0955 - val_accuracy: 0.9802\n",
            "Epoch 81/100\n",
            "1865/1875 [============================>.] - ETA: 0s - loss: 0.0063 - accuracy: 0.9986\n",
            "Epoch 81: val_loss did not improve from 0.09552\n",
            "1875/1875 [==============================] - 5s 3ms/step - loss: 0.0064 - accuracy: 0.9985 - val_loss: 0.0955 - val_accuracy: 0.9802\n",
            "Epoch 82/100\n",
            "1872/1875 [============================>.] - ETA: 0s - loss: 0.0064 - accuracy: 0.9986\n",
            "Epoch 82: val_loss improved from 0.09552 to 0.09551, saving model to Model3\n",
            "INFO:tensorflow:Assets written to: Model3/assets\n",
            "1875/1875 [==============================] - 5s 3ms/step - loss: 0.0064 - accuracy: 0.9985 - val_loss: 0.0955 - val_accuracy: 0.9802\n",
            "Epoch 83/100\n",
            "1856/1875 [============================>.] - ETA: 0s - loss: 0.0064 - accuracy: 0.9985\n",
            "Epoch 83: val_loss improved from 0.09551 to 0.09550, saving model to Model3\n",
            "INFO:tensorflow:Assets written to: Model3/assets\n",
            "1875/1875 [==============================] - 6s 3ms/step - loss: 0.0064 - accuracy: 0.9985 - val_loss: 0.0955 - val_accuracy: 0.9803\n",
            "Epoch 84/100\n",
            "1863/1875 [============================>.] - ETA: 0s - loss: 0.0063 - accuracy: 0.9985\n",
            "Epoch 84: val_loss improved from 0.09550 to 0.09549, saving model to Model3\n",
            "INFO:tensorflow:Assets written to: Model3/assets\n",
            "1875/1875 [==============================] - 6s 3ms/step - loss: 0.0063 - accuracy: 0.9985 - val_loss: 0.0955 - val_accuracy: 0.9803\n",
            "Epoch 85/100\n",
            "1869/1875 [============================>.] - ETA: 0s - loss: 0.0063 - accuracy: 0.9985\n",
            "Epoch 85: val_loss improved from 0.09549 to 0.09549, saving model to Model3\n",
            "INFO:tensorflow:Assets written to: Model3/assets\n",
            "1875/1875 [==============================] - 6s 3ms/step - loss: 0.0063 - accuracy: 0.9985 - val_loss: 0.0955 - val_accuracy: 0.9802\n",
            "Epoch 86/100\n",
            "1872/1875 [============================>.] - ETA: 0s - loss: 0.0063 - accuracy: 0.9985\n",
            "Epoch 86: val_loss improved from 0.09549 to 0.09548, saving model to Model3\n",
            "INFO:tensorflow:Assets written to: Model3/assets\n",
            "1875/1875 [==============================] - 6s 3ms/step - loss: 0.0063 - accuracy: 0.9985 - val_loss: 0.0955 - val_accuracy: 0.9802\n",
            "Epoch 87/100\n",
            "1864/1875 [============================>.] - ETA: 0s - loss: 0.0063 - accuracy: 0.9986\n",
            "Epoch 87: val_loss improved from 0.09548 to 0.09548, saving model to Model3\n",
            "INFO:tensorflow:Assets written to: Model3/assets\n",
            "1875/1875 [==============================] - 5s 3ms/step - loss: 0.0063 - accuracy: 0.9986 - val_loss: 0.0955 - val_accuracy: 0.9802\n",
            "Epoch 88/100\n",
            "1856/1875 [============================>.] - ETA: 0s - loss: 0.0063 - accuracy: 0.9986\n",
            "Epoch 88: val_loss improved from 0.09548 to 0.09547, saving model to Model3\n",
            "INFO:tensorflow:Assets written to: Model3/assets\n",
            "1875/1875 [==============================] - 5s 3ms/step - loss: 0.0062 - accuracy: 0.9986 - val_loss: 0.0955 - val_accuracy: 0.9802\n",
            "Epoch 89/100\n",
            "1859/1875 [============================>.] - ETA: 0s - loss: 0.0062 - accuracy: 0.9986\n",
            "Epoch 89: val_loss did not improve from 0.09547\n",
            "1875/1875 [==============================] - 5s 3ms/step - loss: 0.0062 - accuracy: 0.9986 - val_loss: 0.0955 - val_accuracy: 0.9801\n",
            "Epoch 90/100\n",
            "1854/1875 [============================>.] - ETA: 0s - loss: 0.0063 - accuracy: 0.9986\n",
            "Epoch 90: val_loss did not improve from 0.09547\n",
            "1875/1875 [==============================] - 5s 3ms/step - loss: 0.0062 - accuracy: 0.9986 - val_loss: 0.0955 - val_accuracy: 0.9802\n",
            "Epoch 91/100\n",
            "1870/1875 [============================>.] - ETA: 0s - loss: 0.0062 - accuracy: 0.9986\n",
            "Epoch 91: val_loss improved from 0.09547 to 0.09547, saving model to Model3\n",
            "INFO:tensorflow:Assets written to: Model3/assets\n",
            "1875/1875 [==============================] - 5s 3ms/step - loss: 0.0062 - accuracy: 0.9986 - val_loss: 0.0955 - val_accuracy: 0.9802\n",
            "Epoch 92/100\n",
            "1858/1875 [============================>.] - ETA: 0s - loss: 0.0062 - accuracy: 0.9986\n",
            "Epoch 92: val_loss did not improve from 0.09547\n",
            "1875/1875 [==============================] - 5s 3ms/step - loss: 0.0062 - accuracy: 0.9986 - val_loss: 0.0955 - val_accuracy: 0.9802\n",
            "Epoch 93/100\n",
            "1870/1875 [============================>.] - ETA: 0s - loss: 0.0062 - accuracy: 0.9986\n",
            "Epoch 93: val_loss improved from 0.09547 to 0.09546, saving model to Model3\n",
            "INFO:tensorflow:Assets written to: Model3/assets\n",
            "1875/1875 [==============================] - 5s 3ms/step - loss: 0.0062 - accuracy: 0.9986 - val_loss: 0.0955 - val_accuracy: 0.9803\n",
            "Epoch 94/100\n",
            "1875/1875 [==============================] - ETA: 0s - loss: 0.0061 - accuracy: 0.9986\n",
            "Epoch 94: val_loss improved from 0.09546 to 0.09546, saving model to Model3\n",
            "INFO:tensorflow:Assets written to: Model3/assets\n",
            "1875/1875 [==============================] - 6s 3ms/step - loss: 0.0061 - accuracy: 0.9986 - val_loss: 0.0955 - val_accuracy: 0.9803\n",
            "Epoch 95/100\n",
            "1869/1875 [============================>.] - ETA: 0s - loss: 0.0061 - accuracy: 0.9986\n",
            "Epoch 95: val_loss improved from 0.09546 to 0.09546, saving model to Model3\n",
            "INFO:tensorflow:Assets written to: Model3/assets\n",
            "1875/1875 [==============================] - 6s 3ms/step - loss: 0.0061 - accuracy: 0.9986 - val_loss: 0.0955 - val_accuracy: 0.9802\n",
            "Epoch 96/100\n",
            "1859/1875 [============================>.] - ETA: 0s - loss: 0.0061 - accuracy: 0.9986\n",
            "Epoch 96: val_loss improved from 0.09546 to 0.09545, saving model to Model3\n",
            "INFO:tensorflow:Assets written to: Model3/assets\n",
            "1875/1875 [==============================] - 5s 3ms/step - loss: 0.0061 - accuracy: 0.9986 - val_loss: 0.0955 - val_accuracy: 0.9802\n",
            "Epoch 97/100\n",
            "1855/1875 [============================>.] - ETA: 0s - loss: 0.0061 - accuracy: 0.9986\n",
            "Epoch 97: val_loss did not improve from 0.09545\n",
            "1875/1875 [==============================] - 5s 3ms/step - loss: 0.0061 - accuracy: 0.9986 - val_loss: 0.0955 - val_accuracy: 0.9804\n",
            "Epoch 98/100\n",
            "1872/1875 [============================>.] - ETA: 0s - loss: 0.0061 - accuracy: 0.9986\n",
            "Epoch 98: val_loss improved from 0.09545 to 0.09545, saving model to Model3\n",
            "INFO:tensorflow:Assets written to: Model3/assets\n",
            "1875/1875 [==============================] - 7s 4ms/step - loss: 0.0061 - accuracy: 0.9986 - val_loss: 0.0954 - val_accuracy: 0.9804\n",
            "Epoch 99/100\n",
            "1872/1875 [============================>.] - ETA: 0s - loss: 0.0061 - accuracy: 0.9986\n",
            "Epoch 99: val_loss did not improve from 0.09545\n",
            "1875/1875 [==============================] - 6s 3ms/step - loss: 0.0061 - accuracy: 0.9986 - val_loss: 0.0955 - val_accuracy: 0.9804\n",
            "Epoch 100/100\n",
            "1866/1875 [============================>.] - ETA: 0s - loss: 0.0060 - accuracy: 0.9986\n",
            "Epoch 100: val_loss did not improve from 0.09545\n",
            "1875/1875 [==============================] - 5s 3ms/step - loss: 0.0060 - accuracy: 0.9986 - val_loss: 0.0955 - val_accuracy: 0.9804\n"
          ]
        }
      ]
    },
    {
      "cell_type": "code",
      "source": [
        "# #4\n",
        "trained_model = load_model(\"Model3\")\n",
        "# #5\n",
        "train_accuracy = trained_model.evaluate(train_images, train_labels)\n",
        "# #6\n",
        "test_accuracy = trained_model.evaluate(test_images, test_labels)\n",
        "# #7\n",
        "print(train_accuracy + test_accuracy)"
      ],
      "metadata": {
        "colab": {
          "base_uri": "https://localhost:8080/"
        },
        "id": "1MdJqJVCoh9S",
        "outputId": "4a6a6f41-c773-4507-a8c1-17b2e33f9196"
      },
      "execution_count": 11,
      "outputs": [
        {
          "output_type": "stream",
          "name": "stdout",
          "text": [
            "1875/1875 [==============================] - 4s 2ms/step - loss: 0.0061 - accuracy: 0.9986\n",
            "313/313 [==============================] - 1s 3ms/step - loss: 0.0954 - accuracy: 0.9804\n",
            "[0.006052340846508741, 0.9986166954040527, 0.09544965624809265, 0.980400025844574]\n"
          ]
        }
      ]
    },
    {
      "cell_type": "markdown",
      "metadata": {
        "id": "x61bwRH5R6fR"
      },
      "source": [
        "### 📚 Zadanie 3.\n",
        "##### Niekiedy przydaje nam się możliwość wprowadzenia modyfikacji do funkcji straty lub zbudowania własnej funkcji straty od postaw. W Keras/Tensorflow jest to dosyć prosta rzecz, którą możemy zrealizować za pomocą podstawowych operacji."
      ]
    },
    {
      "cell_type": "markdown",
      "metadata": {
        "id": "Xjpqs_zRR6fR"
      },
      "source": [
        "Poniższy przykład ilustruje w jaki sposób możemy skorzystać z funkcji straty Root Mean Square Error (RMSE) dla dwóch zmiennych (y_true i y_pred)."
      ]
    },
    {
      "cell_type": "code",
      "execution_count": 12,
      "metadata": {
        "id": "XSF0qsNyR6fR"
      },
      "outputs": [],
      "source": [
        "y_true = 43.2\n",
        "y_pred = 4.2"
      ]
    },
    {
      "cell_type": "code",
      "execution_count": 13,
      "metadata": {
        "id": "i5kU6V0IR6fR",
        "colab": {
          "base_uri": "https://localhost:8080/"
        },
        "outputId": "03f66118-cae0-4d74-dfc2-ca1b95e24950"
      },
      "outputs": [
        {
          "output_type": "execute_result",
          "data": {
            "text/plain": [
              "39.0"
            ]
          },
          "metadata": {},
          "execution_count": 13
        }
      ],
      "source": [
        "x = tf.keras.metrics.RootMeanSquaredError()\n",
        "x(y_true, y_pred).numpy()"
      ]
    },
    {
      "cell_type": "markdown",
      "metadata": {
        "id": "Gc5btaV4R6fS"
      },
      "source": [
        "Czasami jednak możemy chcieć stworzyć naszą własną funkcję straty (podajemy przy tym dwa argumenty, tj. y_true oraz y_pred)."
      ]
    },
    {
      "cell_type": "markdown",
      "metadata": {
        "id": "6YSGpIQuR6fS"
      },
      "source": [
        "Odtwórz wskazaną wcześniej funkcję straty Root Mean Squared Error tworząc od podstaw nową funkcję."
      ]
    },
    {
      "cell_type": "markdown",
      "metadata": {
        "id": "cj4DgCl2UmaC"
      },
      "source": [
        "![2fae41d2-cda7-466c-b672-f909e745e126.png](data:image/png;base64,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)"
      ]
    },
    {
      "cell_type": "code",
      "execution_count": 18,
      "metadata": {
        "id": "dZa95_oER6fS",
        "colab": {
          "base_uri": "https://localhost:8080/"
        },
        "outputId": "3e5ad224-09bf-43e5-be16-e2ad6891b562"
      },
      "outputs": [
        {
          "output_type": "stream",
          "name": "stdout",
          "text": [
            "Wynik z przykładowymi danymi:  0.816496580927726\n",
            "39.0\n"
          ]
        }
      ],
      "source": [
        "import math\n",
        "\n",
        "def custom_loss_function(y_true, y_pred):\n",
        "  mse = np.square(np.subtract(y_true,y_pred)).mean() \n",
        "  rmse = math.sqrt(mse)\n",
        "  return rmse\n",
        "\n",
        "print(\"Wynik z przykładowymi danymi: \", custom_loss_function([1,2,3],[1,3,4]))\n",
        "print(custom_loss_function(y_true, y_pred))"
      ]
    }
  ],
  "metadata": {
    "accelerator": "GPU",
    "colab": {
      "collapsed_sections": [],
      "name": "Optymalizator,_funkcja_straty_i_early_stopping.ipynb",
      "provenance": [],
      "include_colab_link": true
    },
    "kernelspec": {
      "display_name": "Python 3 (ipykernel)",
      "language": "python",
      "name": "python3"
    },
    "language_info": {
      "codemirror_mode": {
        "name": "ipython",
        "version": 3
      },
      "file_extension": ".py",
      "mimetype": "text/x-python",
      "name": "python",
      "nbconvert_exporter": "python",
      "pygments_lexer": "ipython3",
      "version": "3.8.13"
    }
  },
  "nbformat": 4,
  "nbformat_minor": 0
}