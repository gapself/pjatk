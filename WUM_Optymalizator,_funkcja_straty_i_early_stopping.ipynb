{
  "cells": [
    {
      "cell_type": "markdown",
      "metadata": {
        "id": "view-in-github",
        "colab_type": "text"
      },
      "source": [
        "<a href=\"https://colab.research.google.com/github/gapself/pjatk/blob/main/WUM_Optymalizator%2C_funkcja_straty_i_early_stopping.ipynb\" target=\"_parent\"><img src=\"https://colab.research.google.com/assets/colab-badge.svg\" alt=\"Open In Colab\"/></a>"
      ]
    },
    {
      "cell_type": "markdown",
      "metadata": {
        "id": "7W8u8FZFIL2m"
      },
      "source": [
        "# Data Science z Python 3.10. Optymalizator, funkcja straty i early stopping\n",
        "## 🇬🇧 Data Science with Python 3.10. Optimizer, loss function and early stopping\n",
        "#### 👨‍🏫 PhD Wojciech Oronowicz-Jaśkowiak\n",
        "#### 🤖 https://github.com/aipogodzinach"
      ]
    },
    {
      "cell_type": "markdown",
      "metadata": {
        "id": "Mn_XRemkR6fM"
      },
      "source": [
        "Poniżej przedstawiony jest kod znany z poprzednich zajęć. Tym razem wprowadzimy do niego \"ulepszenia\" i zastanowimy się nad właściwym optymalizatorem i funkcją straty. Wprowadzimy również do naszego modelu podstawowy Early Stopping, który będzie zapobiegać przeuczeniu się naszego modelu."
      ]
    },
    {
      "cell_type": "markdown",
      "metadata": {
        "id": "gchK-2kPR6fM"
      },
      "source": [
        "### 1. Import bibliotek\n",
        "#### 🇬🇧 Import libraries\n",
        "W tym miejscu importujemy biblioteki, które będą nam potrzebne do wytrenowania sieci neuronowej. Jeżeli w tym miejscu widoczny będzie błąd, to konieczne jest zainstalowanie biblioteki w danym środowisku. W takim wypadku wchodzimy w terminal, aktywujemy środowisko pracy, instalujemy biblioteki (pip install X)."
      ]
    },
    {
      "cell_type": "code",
      "execution_count": null,
      "metadata": {
        "colab": {
          "base_uri": "https://localhost:8080/"
        },
        "id": "0hk22wZDYbVQ",
        "outputId": "114b276b-0605-460e-a2b6-d6b5c678f61e"
      },
      "outputs": [
        {
          "output_type": "stream",
          "name": "stdout",
          "text": [
            "Requirement already satisfied: mnist in /usr/local/lib/python3.7/dist-packages (0.2.2)\n",
            "Requirement already satisfied: numpy in /usr/local/lib/python3.7/dist-packages (from mnist) (1.21.6)\n"
          ]
        }
      ],
      "source": [
        "!pip install mnist\n",
        "\n",
        "import tensorflow as tf\n",
        "import numpy as np\n",
        "import mnist\n",
        "\n",
        "from keras.models import Sequential\n",
        "from keras.layers import Dense\n",
        "from keras.layers import Dropout\n",
        "from keras.callbacks import EarlyStopping\n",
        "from keras.callbacks import ModelCheckpoint\n",
        "from keras.models import load_model\n",
        "from matplotlib import pyplot\n",
        "from tensorflow.keras.utils import to_categorical\n",
        "\n",
        "from tensorflow import keras\n",
        "from tensorflow.keras import backend as K\n",
        "\n",
        "# Rozpoczynamy od importu potrzebnych nam bibliotek, nowością jest EarlyStopping"
      ]
    },
    {
      "cell_type": "markdown",
      "metadata": {
        "id": "APpHwz_fR6fN"
      },
      "source": [
        "### 2. Przygotowanie danych do analizy\n",
        "#### 🇬🇧 Data preparation"
      ]
    },
    {
      "cell_type": "code",
      "execution_count": null,
      "metadata": {
        "id": "2CPZuB2vsqBS"
      },
      "outputs": [],
      "source": [
        "train_images = mnist.train_images()\n",
        "train_labels = mnist.train_labels()\n",
        "test_images = mnist.test_images()\n",
        "test_labels = mnist.test_labels()\n",
        "\n",
        "train_images = (train_images / 255) - 0.5\n",
        "test_images = (test_images / 255) - 0.5\n",
        "\n",
        "train_images = train_images.reshape((-1, 784))\n",
        "test_images = test_images.reshape((-1, 784))\n",
        "\n",
        "model = Sequential([\n",
        "  Dense(64, activation='relu', input_shape=(784,)),\n",
        "  Dense(64, activation='relu'),\n",
        "  Dense(10, activation='softmax'),\n",
        "])"
      ]
    },
    {
      "cell_type": "markdown",
      "metadata": {
        "id": "iLsO0jydsqtG"
      },
      "source": [
        "Zatrzymajmy się na chwilę w tym miejscu. Na ostatnich zajęciach modyfikowaliśmy architekturę sieci neuronowej. Teraz przyszedł czas na wybór odpowiedniego optymalizatora, metryk oraz funkcji straty."
      ]
    },
    {
      "cell_type": "code",
      "execution_count": 51,
      "metadata": {
        "id": "T-nhhMPgV6VD"
      },
      "outputs": [],
      "source": [
        "model.compile(\n",
        "  optimizer='adam',\n",
        "  loss=tf.keras.losses.SparseCategoricalCrossentropy(from_logits=True),\n",
        "  metrics=['accuracy'],\n",
        ")"
      ]
    },
    {
      "cell_type": "markdown",
      "metadata": {
        "id": "2TyGYkqBR6fO"
      },
      "source": [
        "### 3. Trenowanie modelu\n",
        "#### 🇬🇧 Model training"
      ]
    },
    {
      "cell_type": "markdown",
      "metadata": {
        "id": "li4Y1654R6fP"
      },
      "source": [
        "### 📚 Zadanie 1.\n",
        "##### Przeprowadź proces uczenia się z wykorzystaniem early stopping, wykonaj poniższe kroki."
      ]
    },
    {
      "cell_type": "markdown",
      "metadata": {
        "id": "8InTZwPRCfJy"
      },
      "source": [
        "1. Stwórz nową zmienną, którą nazwiesz f1, odwołaj się do early stopping, wprowadź odpowiednie wartości do parametrów takich jak monitor, mode, verbose oraz patience.\n",
        "2. Stwórz nową zmienną, którą nazwiesz f2, odwołaj się do ModelCheckpoint, wprowadź nazwę dla swojego modelu oraz odpowiednie wartości dla parametru monitor, mode, verbose oraz save_best_only.\n",
        "3. Stwórz nową zmienną, którą nazwiesz history. Zmienna ta powinna zawierać stworzone w poprzednim kroku dane treningowe (x), etykiety danych trningowych (y), dane testowe (a), etykiedy danych testowych (b) oraz odpowiednie wartości parametrów epochs oraz verbose.\n",
        "4. Stwórz nową zmienną, którą nazwiesz trained_model, załaduj model używając nazwy modelu z punktu drugiego.\n",
        "5. Stwórz nową zmienną, którą nazwiesz trai _accuracy, odwołaj się do trained_model.evaluate, użyj danych treningowych (x) oraz etykiet danych treningowych (y).\n",
        "6. Stwórz nową zmienną, którą nazwiesz test_accuracy, odwołaj się do trained_model.evaluate, użyj danych testowych (a) oraz etykiet danych testowych (b).\n",
        "7. Przeprowadź uczenie sieci dla liczby epok wynoszącej 100 przy wartości parametru patience wynoszącej 10. Po której epoce proces trenowania sieci się zatrzyma?\n",
        "\n",
        "\n",
        "```\n",
        "Proces trenowania zatrzymał się na 11 epoce, gdyż patience, to liczba epok bez poprawy, po których trening zostaje przerwany.\n",
        "\n",
        "```\n",
        "\n",
        "\n",
        "8. Wyświetl informacje dotyczące dokładności klasyfikacji na materiale treningowym oraz testowym."
      ]
    },
    {
      "cell_type": "code",
      "execution_count": 63,
      "metadata": {
        "id": "OhIvq1x3R6fO",
        "colab": {
          "base_uri": "https://localhost:8080/"
        },
        "outputId": "bdbe6bd1-0bb2-403a-d3d4-9703dac7ffa6"
      },
      "outputs": [
        {
          "output_type": "stream",
          "name": "stdout",
          "text": [
            "Epoch 1/100\n",
            "1870/1875 [============================>.] - ETA: 0s - loss: 0.0336 - accuracy: 0.9887\n",
            "Epoch 1: val_loss improved from inf to 0.11060, saving model to Model2\n",
            "INFO:tensorflow:Assets written to: Model2/assets\n",
            "1875/1875 [==============================] - 7s 3ms/step - loss: 0.0335 - accuracy: 0.9887 - val_loss: 0.1106 - val_accuracy: 0.9734\n",
            "Epoch 2/100\n",
            "1867/1875 [============================>.] - ETA: 0s - loss: 0.0335 - accuracy: 0.9879\n",
            "Epoch 2: val_loss did not improve from 0.11060\n",
            "1875/1875 [==============================] - 6s 3ms/step - loss: 0.0338 - accuracy: 0.9878 - val_loss: 0.1155 - val_accuracy: 0.9743\n",
            "Epoch 3/100\n",
            "1865/1875 [============================>.] - ETA: 0s - loss: 0.0317 - accuracy: 0.9892\n",
            "Epoch 3: val_loss did not improve from 0.11060\n",
            "1875/1875 [==============================] - 6s 3ms/step - loss: 0.0319 - accuracy: 0.9892 - val_loss: 0.1194 - val_accuracy: 0.9708\n",
            "Epoch 4/100\n",
            "1859/1875 [============================>.] - ETA: 0s - loss: 0.0311 - accuracy: 0.9888\n",
            "Epoch 4: val_loss did not improve from 0.11060\n",
            "1875/1875 [==============================] - 6s 3ms/step - loss: 0.0314 - accuracy: 0.9887 - val_loss: 0.1208 - val_accuracy: 0.9719\n",
            "Epoch 5/100\n",
            "1868/1875 [============================>.] - ETA: 0s - loss: 0.0301 - accuracy: 0.9897\n",
            "Epoch 5: val_loss did not improve from 0.11060\n",
            "1875/1875 [==============================] - 7s 3ms/step - loss: 0.0300 - accuracy: 0.9897 - val_loss: 0.1279 - val_accuracy: 0.9693\n",
            "Epoch 6/100\n",
            "1859/1875 [============================>.] - ETA: 0s - loss: 0.0279 - accuracy: 0.9903\n",
            "Epoch 6: val_loss did not improve from 0.11060\n",
            "1875/1875 [==============================] - 7s 3ms/step - loss: 0.0280 - accuracy: 0.9903 - val_loss: 0.1150 - val_accuracy: 0.9758\n",
            "Epoch 7/100\n",
            "1870/1875 [============================>.] - ETA: 0s - loss: 0.0265 - accuracy: 0.9908\n",
            "Epoch 7: val_loss did not improve from 0.11060\n",
            "1875/1875 [==============================] - 6s 3ms/step - loss: 0.0266 - accuracy: 0.9908 - val_loss: 0.1257 - val_accuracy: 0.9721\n",
            "Epoch 8/100\n",
            "1858/1875 [============================>.] - ETA: 0s - loss: 0.0282 - accuracy: 0.9903\n",
            "Epoch 8: val_loss did not improve from 0.11060\n",
            "1875/1875 [==============================] - 7s 3ms/step - loss: 0.0283 - accuracy: 0.9902 - val_loss: 0.1191 - val_accuracy: 0.9746\n",
            "Epoch 9/100\n",
            "1859/1875 [============================>.] - ETA: 0s - loss: 0.0266 - accuracy: 0.9906\n",
            "Epoch 9: val_loss did not improve from 0.11060\n",
            "1875/1875 [==============================] - 6s 3ms/step - loss: 0.0266 - accuracy: 0.9905 - val_loss: 0.1123 - val_accuracy: 0.9740\n",
            "Epoch 10/100\n",
            "1868/1875 [============================>.] - ETA: 0s - loss: 0.0235 - accuracy: 0.9917\n",
            "Epoch 10: val_loss did not improve from 0.11060\n",
            "1875/1875 [==============================] - 6s 3ms/step - loss: 0.0234 - accuracy: 0.9918 - val_loss: 0.1361 - val_accuracy: 0.9720\n",
            "Epoch 11/100\n",
            "1867/1875 [============================>.] - ETA: 0s - loss: 0.0288 - accuracy: 0.9902\n",
            "Epoch 11: val_loss did not improve from 0.11060\n",
            "1875/1875 [==============================] - 6s 3ms/step - loss: 0.0287 - accuracy: 0.9902 - val_loss: 0.1378 - val_accuracy: 0.9706\n",
            "Epoch 11: early stopping\n"
          ]
        }
      ],
      "source": [
        "#1\n",
        "f1 = EarlyStopping(monitor='val_loss', mode='min', verbose=1, patience=10)\n",
        "\n",
        "#2\n",
        "f2 = ModelCheckpoint(\"Model2\", mode=\"auto\", monitor=\"val_loss\", save_best_only=True, verbose=1)\n",
        "\n",
        "#3\n",
        "history = model.fit(train_images, train_labels, batch_size = None, validation_data = (test_images, test_labels)\n",
        ", callbacks = [f1,f2], epochs=100,  verbose=1)"
      ]
    },
    {
      "cell_type": "code",
      "source": [
        "# #4\n",
        "trained_model = load_model(\"Model2\")\n",
        "\n",
        "# #5\n",
        "train_accuracy = trained_model.evaluate(train_images, train_labels)\n",
        "\n",
        "# #6\n",
        "test_accuracy = trained_model.evaluate(test_images, test_labels)\n",
        "\n",
        "# #7\n",
        "print(train_accuracy + test_accuracy)"
      ],
      "metadata": {
        "colab": {
          "base_uri": "https://localhost:8080/"
        },
        "id": "ABa38pTnZJ7G",
        "outputId": "43ded592-2d06-4c04-cbf7-87ed20ce9c83"
      },
      "execution_count": 64,
      "outputs": [
        {
          "output_type": "stream",
          "name": "stdout",
          "text": [
            "  38/1875 [..............................] - ETA: 5s - loss: 0.0404 - accuracy: 0.9868"
          ]
        },
        {
          "output_type": "stream",
          "name": "stderr",
          "text": [
            "/usr/local/lib/python3.7/dist-packages/tensorflow/python/util/dispatch.py:1082: UserWarning: \"`sparse_categorical_crossentropy` received `from_logits=True`, but the `output` argument was produced by a sigmoid or softmax activation and thus does not represent logits. Was this intended?\"\n",
            "  return dispatch_target(*args, **kwargs)\n"
          ]
        },
        {
          "output_type": "stream",
          "name": "stdout",
          "text": [
            "1875/1875 [==============================] - 5s 2ms/step - loss: 0.0300 - accuracy: 0.9895\n",
            "313/313 [==============================] - 1s 3ms/step - loss: 0.1106 - accuracy: 0.9734\n",
            "[0.03002731315791607, 0.9894833564758301, 0.11059843748807907, 0.9733999967575073]\n"
          ]
        }
      ]
    },
    {
      "cell_type": "markdown",
      "metadata": {
        "id": "9-vMmyrGR6fP"
      },
      "source": [
        "### 📚 Zadanie 2.\n",
        "##### Uruchom ponownie proces treningu sieci, tym razem wprowadzając zmianę związaną z funkcją straty oraz optymalizatora."
      ]
    },
    {
      "cell_type": "markdown",
      "metadata": {
        "id": "hpxxzs6sR6fQ"
      },
      "source": [
        "1. Wypróbuj inną funkcję straty (rozkład Poisona). Czy w przypadku naszego zbioru danych taka funkcja ma sens?\n",
        "\n",
        "\n",
        "```\n",
        "W tym przypadku rozkład Poisona negatywnie wpłynął na wyniki, accuracy się znacznie pogorszyło spadło do ~ 0.1. Na epokach minimalnie się poprawił wynik i zakończył naukę na 18stej.\n",
        "```"
      ]
    },
    {
      "cell_type": "code",
      "execution_count": 67,
      "metadata": {
        "id": "2xiPZFscR6fQ",
        "colab": {
          "base_uri": "https://localhost:8080/"
        },
        "outputId": "51e6be5b-e214-4870-b203-a3eb663838c3"
      },
      "outputs": [
        {
          "output_type": "stream",
          "name": "stdout",
          "text": [
            "Epoch 1/100\n",
            "1868/1875 [============================>.] - ETA: 0s - loss: 10.3523 - accuracy: 0.0912\n",
            "Epoch 1: val_loss improved from inf to 10.33136, saving model to Model2\n",
            "INFO:tensorflow:Assets written to: Model2/assets\n",
            "1875/1875 [==============================] - 7s 4ms/step - loss: 10.3559 - accuracy: 0.0912 - val_loss: 10.3314 - val_accuracy: 0.0904\n",
            "Epoch 2/100\n",
            "1870/1875 [============================>.] - ETA: 0s - loss: 10.3558 - accuracy: 0.0905\n",
            "Epoch 2: val_loss improved from 10.33136 to 10.33131, saving model to Model2\n",
            "INFO:tensorflow:Assets written to: Model2/assets\n",
            "1875/1875 [==============================] - 7s 3ms/step - loss: 10.3557 - accuracy: 0.0905 - val_loss: 10.3313 - val_accuracy: 0.0881\n",
            "Epoch 3/100\n",
            "1859/1875 [============================>.] - ETA: 0s - loss: 10.3586 - accuracy: 0.0919\n",
            "Epoch 3: val_loss improved from 10.33131 to 10.33131, saving model to Model2\n",
            "INFO:tensorflow:Assets written to: Model2/assets\n",
            "1875/1875 [==============================] - 7s 3ms/step - loss: 10.3556 - accuracy: 0.0920 - val_loss: 10.3313 - val_accuracy: 0.1025\n",
            "Epoch 4/100\n",
            "1873/1875 [============================>.] - ETA: 0s - loss: 10.3560 - accuracy: 0.1016\n",
            "Epoch 4: val_loss improved from 10.33131 to 10.33130, saving model to Model2\n",
            "INFO:tensorflow:Assets written to: Model2/assets\n",
            "1875/1875 [==============================] - 7s 4ms/step - loss: 10.3556 - accuracy: 0.1016 - val_loss: 10.3313 - val_accuracy: 0.1122\n",
            "Epoch 5/100\n",
            "1867/1875 [============================>.] - ETA: 0s - loss: 10.3569 - accuracy: 0.1107\n",
            "Epoch 5: val_loss did not improve from 10.33130\n",
            "1875/1875 [==============================] - 6s 3ms/step - loss: 10.3556 - accuracy: 0.1107 - val_loss: 10.3313 - val_accuracy: 0.1313\n",
            "Epoch 6/100\n",
            "1861/1875 [============================>.] - ETA: 0s - loss: 10.3585 - accuracy: 0.1091\n",
            "Epoch 6: val_loss did not improve from 10.33130\n",
            "1875/1875 [==============================] - 7s 4ms/step - loss: 10.3556 - accuracy: 0.1094 - val_loss: 10.3313 - val_accuracy: 0.0972\n",
            "Epoch 7/100\n",
            "1875/1875 [==============================] - ETA: 0s - loss: 10.3555 - accuracy: 0.1042\n",
            "Epoch 7: val_loss did not improve from 10.33130\n",
            "1875/1875 [==============================] - 7s 4ms/step - loss: 10.3555 - accuracy: 0.1042 - val_loss: 10.3313 - val_accuracy: 0.1007\n",
            "Epoch 8/100\n",
            "1866/1875 [============================>.] - ETA: 0s - loss: 10.3568 - accuracy: 0.1016\n",
            "Epoch 8: val_loss improved from 10.33130 to 10.33130, saving model to Model2\n",
            "INFO:tensorflow:Assets written to: Model2/assets\n",
            "1875/1875 [==============================] - 7s 4ms/step - loss: 10.3556 - accuracy: 0.1015 - val_loss: 10.3313 - val_accuracy: 0.1177\n",
            "Epoch 9/100\n",
            "1868/1875 [============================>.] - ETA: 0s - loss: 10.3549 - accuracy: 0.1001\n",
            "Epoch 9: val_loss did not improve from 10.33130\n",
            "1875/1875 [==============================] - 7s 4ms/step - loss: 10.3555 - accuracy: 0.1001 - val_loss: 10.3313 - val_accuracy: 0.0889\n",
            "Epoch 10/100\n",
            "1867/1875 [============================>.] - ETA: 0s - loss: 10.3520 - accuracy: 0.1004\n",
            "Epoch 10: val_loss did not improve from 10.33130\n",
            "1875/1875 [==============================] - 7s 3ms/step - loss: 10.3556 - accuracy: 0.1004 - val_loss: 10.3313 - val_accuracy: 0.1064\n",
            "Epoch 11/100\n",
            "1875/1875 [==============================] - ETA: 0s - loss: 10.3555 - accuracy: 0.0967\n",
            "Epoch 11: val_loss did not improve from 10.33130\n",
            "1875/1875 [==============================] - 6s 3ms/step - loss: 10.3555 - accuracy: 0.0967 - val_loss: 10.3313 - val_accuracy: 0.1062\n",
            "Epoch 12/100\n",
            "1861/1875 [============================>.] - ETA: 0s - loss: 10.3526 - accuracy: 0.0982\n",
            "Epoch 12: val_loss did not improve from 10.33130\n",
            "1875/1875 [==============================] - 6s 3ms/step - loss: 10.3556 - accuracy: 0.0982 - val_loss: 10.3313 - val_accuracy: 0.1028\n",
            "Epoch 13/100\n",
            "1870/1875 [============================>.] - ETA: 0s - loss: 10.3574 - accuracy: 0.0981\n",
            "Epoch 13: val_loss did not improve from 10.33130\n",
            "1875/1875 [==============================] - 7s 3ms/step - loss: 10.3556 - accuracy: 0.0981 - val_loss: 10.3313 - val_accuracy: 0.1135\n",
            "Epoch 14/100\n",
            "1870/1875 [============================>.] - ETA: 0s - loss: 10.3577 - accuracy: 0.0983\n",
            "Epoch 14: val_loss did not improve from 10.33130\n",
            "1875/1875 [==============================] - 7s 4ms/step - loss: 10.3556 - accuracy: 0.0983 - val_loss: 10.3313 - val_accuracy: 0.1160\n",
            "Epoch 15/100\n",
            "1871/1875 [============================>.] - ETA: 0s - loss: 10.3566 - accuracy: 0.1002\n",
            "Epoch 15: val_loss did not improve from 10.33130\n",
            "1875/1875 [==============================] - 7s 3ms/step - loss: 10.3556 - accuracy: 0.1002 - val_loss: 10.3313 - val_accuracy: 0.0980\n",
            "Epoch 16/100\n",
            "1860/1875 [============================>.] - ETA: 0s - loss: 10.3533 - accuracy: 0.1034\n",
            "Epoch 16: val_loss did not improve from 10.33130\n",
            "1875/1875 [==============================] - 6s 3ms/step - loss: 10.3556 - accuracy: 0.1033 - val_loss: 10.3313 - val_accuracy: 0.1028\n",
            "Epoch 17/100\n",
            "1859/1875 [============================>.] - ETA: 0s - loss: 10.3544 - accuracy: 0.1017\n",
            "Epoch 17: val_loss did not improve from 10.33130\n",
            "1875/1875 [==============================] - 7s 3ms/step - loss: 10.3556 - accuracy: 0.1018 - val_loss: 10.3313 - val_accuracy: 0.1135\n",
            "Epoch 18/100\n",
            "1869/1875 [============================>.] - ETA: 0s - loss: 10.3544 - accuracy: 0.1016\n",
            "Epoch 18: val_loss did not improve from 10.33130\n",
            "1875/1875 [==============================] - 7s 4ms/step - loss: 10.3556 - accuracy: 0.1016 - val_loss: 10.3313 - val_accuracy: 0.1010\n",
            "Epoch 18: early stopping\n"
          ]
        }
      ],
      "source": [
        "model.compile(\n",
        "  optimizer='adam',\n",
        "  loss='Poisson',\n",
        "  metrics=['accuracy'],\n",
        ")\n",
        "\n",
        "#1\n",
        "f1 = EarlyStopping(monitor='val_loss', mode='min', verbose=1, patience=10)\n",
        "\n",
        "#2\n",
        "f2 = ModelCheckpoint(\"Model2\", mode=\"auto\", monitor=\"val_loss\", save_best_only=True, verbose=1)\n",
        "\n",
        "#3\n",
        "history = model.fit(train_images, train_labels, batch_size = None, validation_data = (test_images, test_labels)\n",
        ", callbacks = [f1,f2], epochs=100,  verbose=1)"
      ]
    },
    {
      "cell_type": "code",
      "source": [
        "# #4\n",
        "trained_model = load_model(\"Model2\")\n",
        "\n",
        "# #5\n",
        "train_accuracy = trained_model.evaluate(train_images, train_labels)\n",
        "\n",
        "# #6\n",
        "test_accuracy = trained_model.evaluate(test_images, test_labels)\n",
        "\n",
        "# #7\n",
        "print(train_accuracy + test_accuracy)"
      ],
      "metadata": {
        "colab": {
          "base_uri": "https://localhost:8080/"
        },
        "id": "WzZ5Ymkmiu4y",
        "outputId": "63133a2e-327d-4771-fa4c-d15405d026ec"
      },
      "execution_count": 68,
      "outputs": [
        {
          "output_type": "stream",
          "name": "stdout",
          "text": [
            "1875/1875 [==============================] - 5s 2ms/step - loss: 10.3556 - accuracy: 0.1176\n",
            "313/313 [==============================] - 1s 3ms/step - loss: 10.3313 - accuracy: 0.1177\n",
            "[10.355558395385742, 0.11756666749715805, 10.331303596496582, 0.1177000030875206]\n"
          ]
        }
      ]
    },
    {
      "cell_type": "markdown",
      "source": [
        "2. Wypróbuj inny optymalizator (z wykorzystaniem algorytmu Adadelta). Czy obserwujesz jakieś zmiany w procesie uczenia się w porównaniu do algorytmu wykorzystanego w tutorialu (adam)? Gdzie może leżeć przyczyna tych różnic? (zob. https://keras.io/api/optimizers/adadelta).\n",
        "\n",
        "\n",
        "\n",
        "  > Optymalizatory to algorytmy lub metody używane do zmiany atrybutów sieci neuronowej, takich jak wagi i szybkość uczenia się, w celu zmniejszenia strat.\n",
        "\n",
        "  > Przy użyciu optimizer='adadelta' proces uczenia postępuje z poprawą straty o 0,0001 na każdej epoce. Proces się przez to dłuży a poprawa jest nieznaczna. Poza tym nie wpływa to w praktycznie żaden sposób na accuracy, które stoi w miejscu i wynosi ~ 0.1.\n",
        "\n",
        "  >  optimizer='adam' jest używany do przyspieszenia algorytmu opadania gradientu poprzez uwzględnienie „wykładniczo ważonej średniej” gradientów. Użycie średnich sprawia, że ​​algorytm zbliża się do minimów w szybszym tempie. Jeśli chce się szkolić sieć neuronową w krótszym czasie i bardziej efektywnie to należy wybrać alg Adam.\n",
        "\n",
        "\n",
        "\n",
        "\n"
      ],
      "metadata": {
        "id": "FcurUNIroTU7"
      }
    },
    {
      "cell_type": "code",
      "execution_count": 76,
      "metadata": {
        "id": "O64C8u3vR6fQ"
      },
      "outputs": [],
      "source": [
        "model.compile(\n",
        "  optimizer='adadelta',\n",
        "  loss=tf.keras.losses.SparseCategoricalCrossentropy(from_logits=True),\n",
        "  metrics=['accuracy'],\n",
        ")"
      ]
    },
    {
      "cell_type": "code",
      "source": [
        "#1\n",
        "f1 = EarlyStopping(monitor='val_loss', mode='min', verbose=1, patience=10)\n",
        "#2\n",
        "f2 = ModelCheckpoint(\"Model3\", mode=\"auto\", monitor=\"val_loss\", save_best_only=True, verbose=1)\n",
        "#3\n",
        "history = model.fit(train_images, train_labels, batch_size = None, validation_data = (test_images, test_labels)\n",
        ", callbacks = [f1,f2], epochs=100,  verbose=1)"
      ],
      "metadata": {
        "colab": {
          "base_uri": "https://localhost:8080/"
        },
        "id": "6Eeo5r4Totyg",
        "outputId": "91da74c5-2cdd-4146-d4cc-3e6ca6872b1a"
      },
      "execution_count": 77,
      "outputs": [
        {
          "output_type": "stream",
          "name": "stdout",
          "text": [
            "Epoch 1/100\n"
          ]
        },
        {
          "output_type": "stream",
          "name": "stderr",
          "text": [
            "/usr/local/lib/python3.7/dist-packages/tensorflow/python/util/dispatch.py:1082: UserWarning: \"`sparse_categorical_crossentropy` received `from_logits=True`, but the `output` argument was produced by a sigmoid or softmax activation and thus does not represent logits. Was this intended?\"\n",
            "  return dispatch_target(*args, **kwargs)\n"
          ]
        },
        {
          "output_type": "stream",
          "name": "stdout",
          "text": [
            "1863/1875 [============================>.] - ETA: 0s - loss: 2.3026 - accuracy: 0.1069\n",
            "Epoch 1: val_loss improved from inf to 2.30257, saving model to Model3\n",
            "INFO:tensorflow:Assets written to: Model3/assets\n",
            "1875/1875 [==============================] - 8s 4ms/step - loss: 2.3026 - accuracy: 0.1069 - val_loss: 2.3026 - val_accuracy: 0.1135\n",
            "Epoch 2/100\n",
            "1873/1875 [============================>.] - ETA: 0s - loss: 2.3026 - accuracy: 0.1124\n",
            "Epoch 2: val_loss improved from 2.30257 to 2.30256, saving model to Model3\n",
            "INFO:tensorflow:Assets written to: Model3/assets\n",
            "1875/1875 [==============================] - 7s 4ms/step - loss: 2.3026 - accuracy: 0.1124 - val_loss: 2.3026 - val_accuracy: 0.1135\n",
            "Epoch 3/100\n",
            "1863/1875 [============================>.] - ETA: 0s - loss: 2.3026 - accuracy: 0.1123\n",
            "Epoch 3: val_loss improved from 2.30256 to 2.30255, saving model to Model3\n",
            "INFO:tensorflow:Assets written to: Model3/assets\n",
            "1875/1875 [==============================] - 8s 4ms/step - loss: 2.3026 - accuracy: 0.1124 - val_loss: 2.3026 - val_accuracy: 0.1135\n",
            "Epoch 4/100\n",
            "1859/1875 [============================>.] - ETA: 0s - loss: 2.3025 - accuracy: 0.1123\n",
            "Epoch 4: val_loss improved from 2.30255 to 2.30254, saving model to Model3\n",
            "INFO:tensorflow:Assets written to: Model3/assets\n",
            "1875/1875 [==============================] - 16s 9ms/step - loss: 2.3025 - accuracy: 0.1124 - val_loss: 2.3025 - val_accuracy: 0.1135\n",
            "Epoch 5/100\n",
            "1861/1875 [============================>.] - ETA: 0s - loss: 2.3025 - accuracy: 0.1125\n",
            "Epoch 5: val_loss improved from 2.30254 to 2.30253, saving model to Model3\n",
            "INFO:tensorflow:Assets written to: Model3/assets\n",
            "1875/1875 [==============================] - 7s 4ms/step - loss: 2.3025 - accuracy: 0.1124 - val_loss: 2.3025 - val_accuracy: 0.1135\n",
            "Epoch 6/100\n",
            "1863/1875 [============================>.] - ETA: 0s - loss: 2.3025 - accuracy: 0.1126\n",
            "Epoch 6: val_loss improved from 2.30253 to 2.30252, saving model to Model3\n",
            "INFO:tensorflow:Assets written to: Model3/assets\n",
            "1875/1875 [==============================] - 7s 3ms/step - loss: 2.3025 - accuracy: 0.1124 - val_loss: 2.3025 - val_accuracy: 0.1135\n",
            "Epoch 7/100\n",
            "1874/1875 [============================>.] - ETA: 0s - loss: 2.3025 - accuracy: 0.1124\n",
            "Epoch 7: val_loss improved from 2.30252 to 2.30251, saving model to Model3\n",
            "INFO:tensorflow:Assets written to: Model3/assets\n",
            "1875/1875 [==============================] - 7s 4ms/step - loss: 2.3025 - accuracy: 0.1124 - val_loss: 2.3025 - val_accuracy: 0.1135\n",
            "Epoch 8/100\n",
            "1868/1875 [============================>.] - ETA: 0s - loss: 2.3025 - accuracy: 0.1125\n",
            "Epoch 8: val_loss improved from 2.30251 to 2.30249, saving model to Model3\n",
            "INFO:tensorflow:Assets written to: Model3/assets\n",
            "1875/1875 [==============================] - 7s 4ms/step - loss: 2.3025 - accuracy: 0.1124 - val_loss: 2.3025 - val_accuracy: 0.1135\n",
            "Epoch 9/100\n",
            "1868/1875 [============================>.] - ETA: 0s - loss: 2.3025 - accuracy: 0.1123\n",
            "Epoch 9: val_loss improved from 2.30249 to 2.30248, saving model to Model3\n",
            "INFO:tensorflow:Assets written to: Model3/assets\n",
            "1875/1875 [==============================] - 7s 4ms/step - loss: 2.3025 - accuracy: 0.1124 - val_loss: 2.3025 - val_accuracy: 0.1135\n",
            "Epoch 10/100\n",
            "1875/1875 [==============================] - ETA: 0s - loss: 2.3025 - accuracy: 0.1124\n",
            "Epoch 10: val_loss improved from 2.30248 to 2.30247, saving model to Model3\n",
            "INFO:tensorflow:Assets written to: Model3/assets\n",
            "1875/1875 [==============================] - 7s 4ms/step - loss: 2.3025 - accuracy: 0.1124 - val_loss: 2.3025 - val_accuracy: 0.1135\n",
            "Epoch 11/100\n",
            "1871/1875 [============================>.] - ETA: 0s - loss: 2.3025 - accuracy: 0.1123\n",
            "Epoch 11: val_loss improved from 2.30247 to 2.30246, saving model to Model3\n",
            "INFO:tensorflow:Assets written to: Model3/assets\n",
            "1875/1875 [==============================] - 7s 4ms/step - loss: 2.3025 - accuracy: 0.1124 - val_loss: 2.3025 - val_accuracy: 0.1135\n",
            "Epoch 12/100\n",
            "1875/1875 [==============================] - ETA: 0s - loss: 2.3025 - accuracy: 0.1124\n",
            "Epoch 12: val_loss improved from 2.30246 to 2.30245, saving model to Model3\n",
            "INFO:tensorflow:Assets written to: Model3/assets\n",
            "1875/1875 [==============================] - 7s 4ms/step - loss: 2.3025 - accuracy: 0.1124 - val_loss: 2.3025 - val_accuracy: 0.1135\n",
            "Epoch 13/100\n",
            "1869/1875 [============================>.] - ETA: 0s - loss: 2.3025 - accuracy: 0.1123\n",
            "Epoch 13: val_loss improved from 2.30245 to 2.30244, saving model to Model3\n",
            "INFO:tensorflow:Assets written to: Model3/assets\n",
            "1875/1875 [==============================] - 7s 4ms/step - loss: 2.3025 - accuracy: 0.1124 - val_loss: 2.3024 - val_accuracy: 0.1135\n",
            "Epoch 14/100\n",
            "1864/1875 [============================>.] - ETA: 0s - loss: 2.3024 - accuracy: 0.1123\n",
            "Epoch 14: val_loss improved from 2.30244 to 2.30243, saving model to Model3\n",
            "INFO:tensorflow:Assets written to: Model3/assets\n",
            "1875/1875 [==============================] - 7s 4ms/step - loss: 2.3024 - accuracy: 0.1124 - val_loss: 2.3024 - val_accuracy: 0.1135\n",
            "Epoch 15/100\n",
            "1872/1875 [============================>.] - ETA: 0s - loss: 2.3024 - accuracy: 0.1124\n",
            "Epoch 15: val_loss improved from 2.30243 to 2.30242, saving model to Model3\n",
            "INFO:tensorflow:Assets written to: Model3/assets\n",
            "1875/1875 [==============================] - 7s 4ms/step - loss: 2.3024 - accuracy: 0.1124 - val_loss: 2.3024 - val_accuracy: 0.1135\n",
            "Epoch 16/100\n",
            "1860/1875 [============================>.] - ETA: 0s - loss: 2.3024 - accuracy: 0.1124\n",
            "Epoch 16: val_loss improved from 2.30242 to 2.30241, saving model to Model3\n",
            "INFO:tensorflow:Assets written to: Model3/assets\n",
            "1875/1875 [==============================] - 7s 4ms/step - loss: 2.3024 - accuracy: 0.1124 - val_loss: 2.3024 - val_accuracy: 0.1135\n",
            "Epoch 17/100\n",
            "1858/1875 [============================>.] - ETA: 0s - loss: 2.3024 - accuracy: 0.1125\n",
            "Epoch 17: val_loss improved from 2.30241 to 2.30240, saving model to Model3\n",
            "INFO:tensorflow:Assets written to: Model3/assets\n",
            "1875/1875 [==============================] - 7s 3ms/step - loss: 2.3024 - accuracy: 0.1124 - val_loss: 2.3024 - val_accuracy: 0.1135\n",
            "Epoch 18/100\n",
            "1873/1875 [============================>.] - ETA: 0s - loss: 2.3024 - accuracy: 0.1124\n",
            "Epoch 18: val_loss improved from 2.30240 to 2.30239, saving model to Model3\n",
            "INFO:tensorflow:Assets written to: Model3/assets\n",
            "1875/1875 [==============================] - 7s 4ms/step - loss: 2.3024 - accuracy: 0.1124 - val_loss: 2.3024 - val_accuracy: 0.1135\n",
            "Epoch 19/100\n",
            "1874/1875 [============================>.] - ETA: 0s - loss: 2.3024 - accuracy: 0.1124\n",
            "Epoch 19: val_loss improved from 2.30239 to 2.30238, saving model to Model3\n",
            "INFO:tensorflow:Assets written to: Model3/assets\n",
            "1875/1875 [==============================] - 7s 4ms/step - loss: 2.3024 - accuracy: 0.1124 - val_loss: 2.3024 - val_accuracy: 0.1135\n",
            "Epoch 20/100\n",
            "1875/1875 [==============================] - ETA: 0s - loss: 2.3024 - accuracy: 0.1124\n",
            "Epoch 20: val_loss improved from 2.30238 to 2.30237, saving model to Model3\n",
            "INFO:tensorflow:Assets written to: Model3/assets\n",
            "1875/1875 [==============================] - 7s 4ms/step - loss: 2.3024 - accuracy: 0.1124 - val_loss: 2.3024 - val_accuracy: 0.1135\n",
            "Epoch 21/100\n",
            "1866/1875 [============================>.] - ETA: 0s - loss: 2.3024 - accuracy: 0.1124\n",
            "Epoch 21: val_loss improved from 2.30237 to 2.30236, saving model to Model3\n",
            "INFO:tensorflow:Assets written to: Model3/assets\n",
            "1875/1875 [==============================] - 7s 4ms/step - loss: 2.3024 - accuracy: 0.1124 - val_loss: 2.3024 - val_accuracy: 0.1135\n",
            "Epoch 22/100\n",
            "1864/1875 [============================>.] - ETA: 0s - loss: 2.3024 - accuracy: 0.1124\n",
            "Epoch 22: val_loss improved from 2.30236 to 2.30235, saving model to Model3\n",
            "INFO:tensorflow:Assets written to: Model3/assets\n",
            "1875/1875 [==============================] - 7s 4ms/step - loss: 2.3024 - accuracy: 0.1124 - val_loss: 2.3024 - val_accuracy: 0.1135\n",
            "Epoch 23/100\n",
            "1861/1875 [============================>.] - ETA: 0s - loss: 2.3024 - accuracy: 0.1124\n",
            "Epoch 23: val_loss improved from 2.30235 to 2.30234, saving model to Model3\n",
            "INFO:tensorflow:Assets written to: Model3/assets\n",
            "1875/1875 [==============================] - 7s 4ms/step - loss: 2.3024 - accuracy: 0.1124 - val_loss: 2.3023 - val_accuracy: 0.1135\n",
            "Epoch 24/100\n",
            "1861/1875 [============================>.] - ETA: 0s - loss: 2.3023 - accuracy: 0.1124\n",
            "Epoch 24: val_loss improved from 2.30234 to 2.30233, saving model to Model3\n",
            "INFO:tensorflow:Assets written to: Model3/assets\n",
            "1875/1875 [==============================] - 7s 4ms/step - loss: 2.3023 - accuracy: 0.1124 - val_loss: 2.3023 - val_accuracy: 0.1135\n",
            "Epoch 25/100\n",
            "1873/1875 [============================>.] - ETA: 0s - loss: 2.3023 - accuracy: 0.1124\n",
            "Epoch 25: val_loss improved from 2.30233 to 2.30232, saving model to Model3\n",
            "INFO:tensorflow:Assets written to: Model3/assets\n",
            "1875/1875 [==============================] - 7s 4ms/step - loss: 2.3023 - accuracy: 0.1124 - val_loss: 2.3023 - val_accuracy: 0.1135\n",
            "Epoch 26/100\n",
            "1865/1875 [============================>.] - ETA: 0s - loss: 2.3023 - accuracy: 0.1124\n",
            "Epoch 26: val_loss improved from 2.30232 to 2.30231, saving model to Model3\n",
            "INFO:tensorflow:Assets written to: Model3/assets\n",
            "1875/1875 [==============================] - 7s 4ms/step - loss: 2.3023 - accuracy: 0.1124 - val_loss: 2.3023 - val_accuracy: 0.1135\n",
            "Epoch 27/100\n",
            "1864/1875 [============================>.] - ETA: 0s - loss: 2.3023 - accuracy: 0.1123\n",
            "Epoch 27: val_loss improved from 2.30231 to 2.30230, saving model to Model3\n",
            "INFO:tensorflow:Assets written to: Model3/assets\n",
            "1875/1875 [==============================] - 7s 4ms/step - loss: 2.3023 - accuracy: 0.1124 - val_loss: 2.3023 - val_accuracy: 0.1135\n",
            "Epoch 28/100\n",
            "1867/1875 [============================>.] - ETA: 0s - loss: 2.3023 - accuracy: 0.1122\n",
            "Epoch 28: val_loss improved from 2.30230 to 2.30229, saving model to Model3\n",
            "INFO:tensorflow:Assets written to: Model3/assets\n",
            "1875/1875 [==============================] - 8s 4ms/step - loss: 2.3023 - accuracy: 0.1124 - val_loss: 2.3023 - val_accuracy: 0.1135\n",
            "Epoch 29/100\n",
            "1864/1875 [============================>.] - ETA: 0s - loss: 2.3023 - accuracy: 0.1124\n",
            "Epoch 29: val_loss improved from 2.30229 to 2.30228, saving model to Model3\n",
            "INFO:tensorflow:Assets written to: Model3/assets\n",
            "1875/1875 [==============================] - 7s 4ms/step - loss: 2.3023 - accuracy: 0.1124 - val_loss: 2.3023 - val_accuracy: 0.1135\n",
            "Epoch 30/100\n",
            "1860/1875 [============================>.] - ETA: 0s - loss: 2.3023 - accuracy: 0.1123\n",
            "Epoch 30: val_loss improved from 2.30228 to 2.30228, saving model to Model3\n",
            "INFO:tensorflow:Assets written to: Model3/assets\n",
            "1875/1875 [==============================] - 7s 4ms/step - loss: 2.3023 - accuracy: 0.1124 - val_loss: 2.3023 - val_accuracy: 0.1135\n",
            "Epoch 31/100\n",
            "1862/1875 [============================>.] - ETA: 0s - loss: 2.3023 - accuracy: 0.1124\n",
            "Epoch 31: val_loss improved from 2.30228 to 2.30227, saving model to Model3\n",
            "INFO:tensorflow:Assets written to: Model3/assets\n",
            "1875/1875 [==============================] - 7s 4ms/step - loss: 2.3023 - accuracy: 0.1124 - val_loss: 2.3023 - val_accuracy: 0.1135\n",
            "Epoch 32/100\n",
            "1872/1875 [============================>.] - ETA: 0s - loss: 2.3023 - accuracy: 0.1124\n",
            "Epoch 32: val_loss improved from 2.30227 to 2.30226, saving model to Model3\n",
            "INFO:tensorflow:Assets written to: Model3/assets\n",
            "1875/1875 [==============================] - 7s 4ms/step - loss: 2.3023 - accuracy: 0.1124 - val_loss: 2.3023 - val_accuracy: 0.1135\n",
            "Epoch 33/100\n",
            "1870/1875 [============================>.] - ETA: 0s - loss: 2.3023 - accuracy: 0.1124\n",
            "Epoch 33: val_loss improved from 2.30226 to 2.30225, saving model to Model3\n",
            "INFO:tensorflow:Assets written to: Model3/assets\n",
            "1875/1875 [==============================] - 7s 4ms/step - loss: 2.3023 - accuracy: 0.1124 - val_loss: 2.3022 - val_accuracy: 0.1135\n",
            "Epoch 34/100\n",
            "1858/1875 [============================>.] - ETA: 0s - loss: 2.3023 - accuracy: 0.1123\n",
            "Epoch 34: val_loss improved from 2.30225 to 2.30224, saving model to Model3\n",
            "INFO:tensorflow:Assets written to: Model3/assets\n",
            "1875/1875 [==============================] - 7s 4ms/step - loss: 2.3023 - accuracy: 0.1124 - val_loss: 2.3022 - val_accuracy: 0.1135\n",
            "Epoch 35/100\n",
            "1868/1875 [============================>.] - ETA: 0s - loss: 2.3023 - accuracy: 0.1122\n",
            "Epoch 35: val_loss improved from 2.30224 to 2.30223, saving model to Model3\n",
            "INFO:tensorflow:Assets written to: Model3/assets\n",
            "1875/1875 [==============================] - 7s 4ms/step - loss: 2.3023 - accuracy: 0.1124 - val_loss: 2.3022 - val_accuracy: 0.1135\n",
            "Epoch 36/100\n",
            "1858/1875 [============================>.] - ETA: 0s - loss: 2.3022 - accuracy: 0.1124\n",
            "Epoch 36: val_loss improved from 2.30223 to 2.30222, saving model to Model3\n",
            "INFO:tensorflow:Assets written to: Model3/assets\n",
            "1875/1875 [==============================] - 7s 4ms/step - loss: 2.3022 - accuracy: 0.1124 - val_loss: 2.3022 - val_accuracy: 0.1135\n",
            "Epoch 37/100\n",
            "1867/1875 [============================>.] - ETA: 0s - loss: 2.3022 - accuracy: 0.1124\n",
            "Epoch 37: val_loss improved from 2.30222 to 2.30221, saving model to Model3\n",
            "INFO:tensorflow:Assets written to: Model3/assets\n",
            "1875/1875 [==============================] - 7s 4ms/step - loss: 2.3022 - accuracy: 0.1124 - val_loss: 2.3022 - val_accuracy: 0.1135\n",
            "Epoch 38/100\n",
            "1874/1875 [============================>.] - ETA: 0s - loss: 2.3022 - accuracy: 0.1124\n",
            "Epoch 38: val_loss improved from 2.30221 to 2.30221, saving model to Model3\n",
            "INFO:tensorflow:Assets written to: Model3/assets\n",
            "1875/1875 [==============================] - 7s 4ms/step - loss: 2.3022 - accuracy: 0.1124 - val_loss: 2.3022 - val_accuracy: 0.1135\n",
            "Epoch 39/100\n",
            "1859/1875 [============================>.] - ETA: 0s - loss: 2.3022 - accuracy: 0.1124\n",
            "Epoch 39: val_loss improved from 2.30221 to 2.30220, saving model to Model3\n",
            "INFO:tensorflow:Assets written to: Model3/assets\n",
            "1875/1875 [==============================] - 8s 4ms/step - loss: 2.3022 - accuracy: 0.1124 - val_loss: 2.3022 - val_accuracy: 0.1135\n",
            "Epoch 40/100\n",
            "1874/1875 [============================>.] - ETA: 0s - loss: 2.3022 - accuracy: 0.1124\n",
            "Epoch 40: val_loss improved from 2.30220 to 2.30219, saving model to Model3\n",
            "INFO:tensorflow:Assets written to: Model3/assets\n",
            "1875/1875 [==============================] - 7s 4ms/step - loss: 2.3022 - accuracy: 0.1124 - val_loss: 2.3022 - val_accuracy: 0.1135\n",
            "Epoch 41/100\n",
            "1859/1875 [============================>.] - ETA: 0s - loss: 2.3022 - accuracy: 0.1122\n",
            "Epoch 41: val_loss improved from 2.30219 to 2.30218, saving model to Model3\n",
            "INFO:tensorflow:Assets written to: Model3/assets\n",
            "1875/1875 [==============================] - 7s 4ms/step - loss: 2.3022 - accuracy: 0.1124 - val_loss: 2.3022 - val_accuracy: 0.1135\n",
            "Epoch 42/100\n",
            "1858/1875 [============================>.] - ETA: 0s - loss: 2.3022 - accuracy: 0.1122\n",
            "Epoch 42: val_loss improved from 2.30218 to 2.30217, saving model to Model3\n",
            "INFO:tensorflow:Assets written to: Model3/assets\n",
            "1875/1875 [==============================] - 7s 4ms/step - loss: 2.3022 - accuracy: 0.1124 - val_loss: 2.3022 - val_accuracy: 0.1135\n",
            "Epoch 43/100\n",
            "1866/1875 [============================>.] - ETA: 0s - loss: 2.3022 - accuracy: 0.1125\n",
            "Epoch 43: val_loss improved from 2.30217 to 2.30216, saving model to Model3\n",
            "INFO:tensorflow:Assets written to: Model3/assets\n",
            "1875/1875 [==============================] - 7s 4ms/step - loss: 2.3022 - accuracy: 0.1124 - val_loss: 2.3022 - val_accuracy: 0.1135\n",
            "Epoch 44/100\n",
            "1872/1875 [============================>.] - ETA: 0s - loss: 2.3022 - accuracy: 0.1123\n",
            "Epoch 44: val_loss improved from 2.30216 to 2.30215, saving model to Model3\n",
            "INFO:tensorflow:Assets written to: Model3/assets\n",
            "1875/1875 [==============================] - 7s 4ms/step - loss: 2.3022 - accuracy: 0.1124 - val_loss: 2.3022 - val_accuracy: 0.1135\n",
            "Epoch 45/100\n",
            "1863/1875 [============================>.] - ETA: 0s - loss: 2.3022 - accuracy: 0.1123\n",
            "Epoch 45: val_loss improved from 2.30215 to 2.30215, saving model to Model3\n",
            "INFO:tensorflow:Assets written to: Model3/assets\n",
            "1875/1875 [==============================] - 7s 4ms/step - loss: 2.3022 - accuracy: 0.1124 - val_loss: 2.3021 - val_accuracy: 0.1135\n",
            "Epoch 46/100\n",
            "1872/1875 [============================>.] - ETA: 0s - loss: 2.3022 - accuracy: 0.1123\n",
            "Epoch 46: val_loss improved from 2.30215 to 2.30214, saving model to Model3\n",
            "INFO:tensorflow:Assets written to: Model3/assets\n",
            "1875/1875 [==============================] - 7s 4ms/step - loss: 2.3022 - accuracy: 0.1124 - val_loss: 2.3021 - val_accuracy: 0.1135\n",
            "Epoch 47/100\n",
            "1868/1875 [============================>.] - ETA: 0s - loss: 2.3022 - accuracy: 0.1124\n",
            "Epoch 47: val_loss improved from 2.30214 to 2.30213, saving model to Model3\n",
            "INFO:tensorflow:Assets written to: Model3/assets\n",
            "1875/1875 [==============================] - 7s 4ms/step - loss: 2.3022 - accuracy: 0.1124 - val_loss: 2.3021 - val_accuracy: 0.1135\n",
            "Epoch 48/100\n",
            "1863/1875 [============================>.] - ETA: 0s - loss: 2.3022 - accuracy: 0.1123\n",
            "Epoch 48: val_loss improved from 2.30213 to 2.30212, saving model to Model3\n",
            "INFO:tensorflow:Assets written to: Model3/assets\n",
            "1875/1875 [==============================] - 7s 4ms/step - loss: 2.3021 - accuracy: 0.1124 - val_loss: 2.3021 - val_accuracy: 0.1135\n",
            "Epoch 49/100\n",
            "1874/1875 [============================>.] - ETA: 0s - loss: 2.3021 - accuracy: 0.1124\n",
            "Epoch 49: val_loss improved from 2.30212 to 2.30211, saving model to Model3\n",
            "INFO:tensorflow:Assets written to: Model3/assets\n",
            "1875/1875 [==============================] - 7s 4ms/step - loss: 2.3021 - accuracy: 0.1124 - val_loss: 2.3021 - val_accuracy: 0.1135\n",
            "Epoch 50/100\n",
            "1862/1875 [============================>.] - ETA: 0s - loss: 2.3021 - accuracy: 0.1124\n",
            "Epoch 50: val_loss improved from 2.30211 to 2.30211, saving model to Model3\n",
            "INFO:tensorflow:Assets written to: Model3/assets\n",
            "1875/1875 [==============================] - 7s 4ms/step - loss: 2.3021 - accuracy: 0.1124 - val_loss: 2.3021 - val_accuracy: 0.1135\n",
            "Epoch 51/100\n",
            "1874/1875 [============================>.] - ETA: 0s - loss: 2.3021 - accuracy: 0.1123\n",
            "Epoch 51: val_loss improved from 2.30211 to 2.30210, saving model to Model3\n",
            "INFO:tensorflow:Assets written to: Model3/assets\n",
            "1875/1875 [==============================] - 7s 4ms/step - loss: 2.3021 - accuracy: 0.1124 - val_loss: 2.3021 - val_accuracy: 0.1135\n",
            "Epoch 52/100\n",
            "1874/1875 [============================>.] - ETA: 0s - loss: 2.3021 - accuracy: 0.1124\n",
            "Epoch 52: val_loss improved from 2.30210 to 2.30209, saving model to Model3\n",
            "INFO:tensorflow:Assets written to: Model3/assets\n",
            "1875/1875 [==============================] - 7s 4ms/step - loss: 2.3021 - accuracy: 0.1124 - val_loss: 2.3021 - val_accuracy: 0.1135\n",
            "Epoch 53/100\n",
            "1859/1875 [============================>.] - ETA: 0s - loss: 2.3021 - accuracy: 0.1124\n",
            "Epoch 53: val_loss improved from 2.30209 to 2.30208, saving model to Model3\n",
            "INFO:tensorflow:Assets written to: Model3/assets\n",
            "1875/1875 [==============================] - 7s 4ms/step - loss: 2.3021 - accuracy: 0.1124 - val_loss: 2.3021 - val_accuracy: 0.1135\n",
            "Epoch 54/100\n",
            "1859/1875 [============================>.] - ETA: 0s - loss: 2.3021 - accuracy: 0.1125\n",
            "Epoch 54: val_loss improved from 2.30208 to 2.30207, saving model to Model3\n",
            "INFO:tensorflow:Assets written to: Model3/assets\n",
            "1875/1875 [==============================] - 7s 4ms/step - loss: 2.3021 - accuracy: 0.1124 - val_loss: 2.3021 - val_accuracy: 0.1135\n",
            "Epoch 55/100\n",
            "1863/1875 [============================>.] - ETA: 0s - loss: 2.3021 - accuracy: 0.1124\n",
            "Epoch 55: val_loss improved from 2.30207 to 2.30207, saving model to Model3\n",
            "INFO:tensorflow:Assets written to: Model3/assets\n",
            "1875/1875 [==============================] - 7s 4ms/step - loss: 2.3021 - accuracy: 0.1124 - val_loss: 2.3021 - val_accuracy: 0.1135\n",
            "Epoch 56/100\n",
            "1860/1875 [============================>.] - ETA: 0s - loss: 2.3021 - accuracy: 0.1124\n",
            "Epoch 56: val_loss improved from 2.30207 to 2.30206, saving model to Model3\n",
            "INFO:tensorflow:Assets written to: Model3/assets\n",
            "1875/1875 [==============================] - 7s 4ms/step - loss: 2.3021 - accuracy: 0.1124 - val_loss: 2.3021 - val_accuracy: 0.1135\n",
            "Epoch 57/100\n",
            "1873/1875 [============================>.] - ETA: 0s - loss: 2.3021 - accuracy: 0.1124\n",
            "Epoch 57: val_loss improved from 2.30206 to 2.30205, saving model to Model3\n",
            "INFO:tensorflow:Assets written to: Model3/assets\n",
            "1875/1875 [==============================] - 7s 4ms/step - loss: 2.3021 - accuracy: 0.1124 - val_loss: 2.3021 - val_accuracy: 0.1135\n",
            "Epoch 58/100\n",
            "1869/1875 [============================>.] - ETA: 0s - loss: 2.3021 - accuracy: 0.1124\n",
            "Epoch 58: val_loss improved from 2.30205 to 2.30204, saving model to Model3\n",
            "INFO:tensorflow:Assets written to: Model3/assets\n",
            "1875/1875 [==============================] - 7s 4ms/step - loss: 2.3021 - accuracy: 0.1124 - val_loss: 2.3020 - val_accuracy: 0.1135\n",
            "Epoch 59/100\n",
            "1873/1875 [============================>.] - ETA: 0s - loss: 2.3021 - accuracy: 0.1124\n",
            "Epoch 59: val_loss improved from 2.30204 to 2.30204, saving model to Model3\n",
            "INFO:tensorflow:Assets written to: Model3/assets\n",
            "1875/1875 [==============================] - 7s 4ms/step - loss: 2.3021 - accuracy: 0.1124 - val_loss: 2.3020 - val_accuracy: 0.1135\n",
            "Epoch 60/100\n",
            "1858/1875 [============================>.] - ETA: 0s - loss: 2.3021 - accuracy: 0.1124\n",
            "Epoch 60: val_loss improved from 2.30204 to 2.30203, saving model to Model3\n",
            "INFO:tensorflow:Assets written to: Model3/assets\n",
            "1875/1875 [==============================] - 7s 4ms/step - loss: 2.3021 - accuracy: 0.1124 - val_loss: 2.3020 - val_accuracy: 0.1135\n",
            "Epoch 61/100\n",
            "1872/1875 [============================>.] - ETA: 0s - loss: 2.3021 - accuracy: 0.1124\n",
            "Epoch 61: val_loss improved from 2.30203 to 2.30202, saving model to Model3\n",
            "INFO:tensorflow:Assets written to: Model3/assets\n",
            "1875/1875 [==============================] - 7s 4ms/step - loss: 2.3021 - accuracy: 0.1124 - val_loss: 2.3020 - val_accuracy: 0.1135\n",
            "Epoch 62/100\n",
            "1864/1875 [============================>.] - ETA: 0s - loss: 2.3020 - accuracy: 0.1123\n",
            "Epoch 62: val_loss improved from 2.30202 to 2.30201, saving model to Model3\n",
            "INFO:tensorflow:Assets written to: Model3/assets\n",
            "1875/1875 [==============================] - 8s 4ms/step - loss: 2.3020 - accuracy: 0.1124 - val_loss: 2.3020 - val_accuracy: 0.1135\n",
            "Epoch 63/100\n",
            "1869/1875 [============================>.] - ETA: 0s - loss: 2.3020 - accuracy: 0.1124\n",
            "Epoch 63: val_loss improved from 2.30201 to 2.30201, saving model to Model3\n",
            "INFO:tensorflow:Assets written to: Model3/assets\n",
            "1875/1875 [==============================] - 7s 4ms/step - loss: 2.3020 - accuracy: 0.1124 - val_loss: 2.3020 - val_accuracy: 0.1135\n",
            "Epoch 64/100\n",
            "1872/1875 [============================>.] - ETA: 0s - loss: 2.3020 - accuracy: 0.1123\n",
            "Epoch 64: val_loss improved from 2.30201 to 2.30200, saving model to Model3\n",
            "INFO:tensorflow:Assets written to: Model3/assets\n",
            "1875/1875 [==============================] - 7s 4ms/step - loss: 2.3020 - accuracy: 0.1124 - val_loss: 2.3020 - val_accuracy: 0.1135\n",
            "Epoch 65/100\n",
            "1865/1875 [============================>.] - ETA: 0s - loss: 2.3020 - accuracy: 0.1123\n",
            "Epoch 65: val_loss improved from 2.30200 to 2.30199, saving model to Model3\n",
            "INFO:tensorflow:Assets written to: Model3/assets\n",
            "1875/1875 [==============================] - 7s 4ms/step - loss: 2.3020 - accuracy: 0.1124 - val_loss: 2.3020 - val_accuracy: 0.1135\n",
            "Epoch 66/100\n",
            "1870/1875 [============================>.] - ETA: 0s - loss: 2.3020 - accuracy: 0.1124\n",
            "Epoch 66: val_loss improved from 2.30199 to 2.30199, saving model to Model3\n",
            "INFO:tensorflow:Assets written to: Model3/assets\n",
            "1875/1875 [==============================] - 7s 4ms/step - loss: 2.3020 - accuracy: 0.1124 - val_loss: 2.3020 - val_accuracy: 0.1135\n",
            "Epoch 67/100\n",
            "1865/1875 [============================>.] - ETA: 0s - loss: 2.3020 - accuracy: 0.1123\n",
            "Epoch 67: val_loss improved from 2.30199 to 2.30198, saving model to Model3\n",
            "INFO:tensorflow:Assets written to: Model3/assets\n",
            "1875/1875 [==============================] - 7s 4ms/step - loss: 2.3020 - accuracy: 0.1124 - val_loss: 2.3020 - val_accuracy: 0.1135\n",
            "Epoch 68/100\n",
            "1861/1875 [============================>.] - ETA: 0s - loss: 2.3020 - accuracy: 0.1123\n",
            "Epoch 68: val_loss improved from 2.30198 to 2.30197, saving model to Model3\n",
            "INFO:tensorflow:Assets written to: Model3/assets\n",
            "1875/1875 [==============================] - 7s 4ms/step - loss: 2.3020 - accuracy: 0.1124 - val_loss: 2.3020 - val_accuracy: 0.1135\n",
            "Epoch 69/100\n",
            "1859/1875 [============================>.] - ETA: 0s - loss: 2.3020 - accuracy: 0.1125\n",
            "Epoch 69: val_loss improved from 2.30197 to 2.30196, saving model to Model3\n",
            "INFO:tensorflow:Assets written to: Model3/assets\n",
            "1875/1875 [==============================] - 7s 4ms/step - loss: 2.3020 - accuracy: 0.1124 - val_loss: 2.3020 - val_accuracy: 0.1135\n",
            "Epoch 70/100\n",
            "1872/1875 [============================>.] - ETA: 0s - loss: 2.3020 - accuracy: 0.1124\n",
            "Epoch 70: val_loss improved from 2.30196 to 2.30196, saving model to Model3\n",
            "INFO:tensorflow:Assets written to: Model3/assets\n",
            "1875/1875 [==============================] - 7s 4ms/step - loss: 2.3020 - accuracy: 0.1124 - val_loss: 2.3020 - val_accuracy: 0.1135\n",
            "Epoch 71/100\n",
            "1865/1875 [============================>.] - ETA: 0s - loss: 2.3020 - accuracy: 0.1126\n",
            "Epoch 71: val_loss improved from 2.30196 to 2.30195, saving model to Model3\n",
            "INFO:tensorflow:Assets written to: Model3/assets\n",
            "1875/1875 [==============================] - 7s 4ms/step - loss: 2.3020 - accuracy: 0.1124 - val_loss: 2.3020 - val_accuracy: 0.1135\n",
            "Epoch 72/100\n",
            "1868/1875 [============================>.] - ETA: 0s - loss: 2.3020 - accuracy: 0.1124\n",
            "Epoch 72: val_loss improved from 2.30195 to 2.30194, saving model to Model3\n",
            "INFO:tensorflow:Assets written to: Model3/assets\n",
            "1875/1875 [==============================] - 7s 4ms/step - loss: 2.3020 - accuracy: 0.1124 - val_loss: 2.3019 - val_accuracy: 0.1135\n",
            "Epoch 73/100\n",
            "1865/1875 [============================>.] - ETA: 0s - loss: 2.3020 - accuracy: 0.1124\n",
            "Epoch 73: val_loss improved from 2.30194 to 2.30194, saving model to Model3\n",
            "INFO:tensorflow:Assets written to: Model3/assets\n",
            "1875/1875 [==============================] - 7s 4ms/step - loss: 2.3020 - accuracy: 0.1124 - val_loss: 2.3019 - val_accuracy: 0.1135\n",
            "Epoch 74/100\n",
            "1863/1875 [============================>.] - ETA: 0s - loss: 2.3020 - accuracy: 0.1125\n",
            "Epoch 74: val_loss improved from 2.30194 to 2.30193, saving model to Model3\n",
            "INFO:tensorflow:Assets written to: Model3/assets\n",
            "1875/1875 [==============================] - 7s 4ms/step - loss: 2.3020 - accuracy: 0.1124 - val_loss: 2.3019 - val_accuracy: 0.1135\n",
            "Epoch 75/100\n",
            "1866/1875 [============================>.] - ETA: 0s - loss: 2.3020 - accuracy: 0.1123\n",
            "Epoch 75: val_loss improved from 2.30193 to 2.30192, saving model to Model3\n",
            "INFO:tensorflow:Assets written to: Model3/assets\n",
            "1875/1875 [==============================] - 7s 4ms/step - loss: 2.3020 - accuracy: 0.1124 - val_loss: 2.3019 - val_accuracy: 0.1135\n",
            "Epoch 76/100\n",
            "1872/1875 [============================>.] - ETA: 0s - loss: 2.3020 - accuracy: 0.1124\n",
            "Epoch 76: val_loss improved from 2.30192 to 2.30192, saving model to Model3\n",
            "INFO:tensorflow:Assets written to: Model3/assets\n",
            "1875/1875 [==============================] - 7s 4ms/step - loss: 2.3020 - accuracy: 0.1124 - val_loss: 2.3019 - val_accuracy: 0.1135\n",
            "Epoch 77/100\n",
            "1875/1875 [==============================] - ETA: 0s - loss: 2.3019 - accuracy: 0.1124\n",
            "Epoch 77: val_loss improved from 2.30192 to 2.30191, saving model to Model3\n",
            "INFO:tensorflow:Assets written to: Model3/assets\n",
            "1875/1875 [==============================] - 7s 4ms/step - loss: 2.3019 - accuracy: 0.1124 - val_loss: 2.3019 - val_accuracy: 0.1135\n",
            "Epoch 78/100\n",
            "1860/1875 [============================>.] - ETA: 0s - loss: 2.3019 - accuracy: 0.1125\n",
            "Epoch 78: val_loss improved from 2.30191 to 2.30190, saving model to Model3\n",
            "INFO:tensorflow:Assets written to: Model3/assets\n",
            "1875/1875 [==============================] - 7s 4ms/step - loss: 2.3019 - accuracy: 0.1124 - val_loss: 2.3019 - val_accuracy: 0.1135\n",
            "Epoch 79/100\n",
            "1866/1875 [============================>.] - ETA: 0s - loss: 2.3019 - accuracy: 0.1125\n",
            "Epoch 79: val_loss improved from 2.30190 to 2.30190, saving model to Model3\n",
            "INFO:tensorflow:Assets written to: Model3/assets\n",
            "1875/1875 [==============================] - 7s 4ms/step - loss: 2.3019 - accuracy: 0.1124 - val_loss: 2.3019 - val_accuracy: 0.1135\n",
            "Epoch 80/100\n",
            "1860/1875 [============================>.] - ETA: 0s - loss: 2.3019 - accuracy: 0.1122\n",
            "Epoch 80: val_loss improved from 2.30190 to 2.30189, saving model to Model3\n",
            "INFO:tensorflow:Assets written to: Model3/assets\n",
            "1875/1875 [==============================] - 7s 4ms/step - loss: 2.3019 - accuracy: 0.1124 - val_loss: 2.3019 - val_accuracy: 0.1135\n",
            "Epoch 81/100\n",
            "1859/1875 [============================>.] - ETA: 0s - loss: 2.3019 - accuracy: 0.1124\n",
            "Epoch 81: val_loss improved from 2.30189 to 2.30189, saving model to Model3\n",
            "INFO:tensorflow:Assets written to: Model3/assets\n",
            "1875/1875 [==============================] - 7s 4ms/step - loss: 2.3019 - accuracy: 0.1124 - val_loss: 2.3019 - val_accuracy: 0.1135\n",
            "Epoch 82/100\n",
            "1864/1875 [============================>.] - ETA: 0s - loss: 2.3019 - accuracy: 0.1124\n",
            "Epoch 82: val_loss improved from 2.30189 to 2.30188, saving model to Model3\n",
            "INFO:tensorflow:Assets written to: Model3/assets\n",
            "1875/1875 [==============================] - 7s 4ms/step - loss: 2.3019 - accuracy: 0.1124 - val_loss: 2.3019 - val_accuracy: 0.1135\n",
            "Epoch 83/100\n",
            "1866/1875 [============================>.] - ETA: 0s - loss: 2.3019 - accuracy: 0.1123\n",
            "Epoch 83: val_loss improved from 2.30188 to 2.30187, saving model to Model3\n",
            "INFO:tensorflow:Assets written to: Model3/assets\n",
            "1875/1875 [==============================] - 7s 4ms/step - loss: 2.3019 - accuracy: 0.1124 - val_loss: 2.3019 - val_accuracy: 0.1135\n",
            "Epoch 84/100\n",
            "1861/1875 [============================>.] - ETA: 0s - loss: 2.3019 - accuracy: 0.1125\n",
            "Epoch 84: val_loss improved from 2.30187 to 2.30187, saving model to Model3\n",
            "INFO:tensorflow:Assets written to: Model3/assets\n",
            "1875/1875 [==============================] - 7s 4ms/step - loss: 2.3019 - accuracy: 0.1124 - val_loss: 2.3019 - val_accuracy: 0.1135\n",
            "Epoch 85/100\n",
            "1875/1875 [==============================] - ETA: 0s - loss: 2.3019 - accuracy: 0.1124\n",
            "Epoch 85: val_loss improved from 2.30187 to 2.30186, saving model to Model3\n",
            "INFO:tensorflow:Assets written to: Model3/assets\n",
            "1875/1875 [==============================] - 7s 4ms/step - loss: 2.3019 - accuracy: 0.1124 - val_loss: 2.3019 - val_accuracy: 0.1135\n",
            "Epoch 86/100\n",
            "1869/1875 [============================>.] - ETA: 0s - loss: 2.3019 - accuracy: 0.1124\n",
            "Epoch 86: val_loss improved from 2.30186 to 2.30186, saving model to Model3\n",
            "INFO:tensorflow:Assets written to: Model3/assets\n",
            "1875/1875 [==============================] - 8s 4ms/step - loss: 2.3019 - accuracy: 0.1124 - val_loss: 2.3019 - val_accuracy: 0.1135\n",
            "Epoch 87/100\n",
            "1871/1875 [============================>.] - ETA: 0s - loss: 2.3019 - accuracy: 0.1123\n",
            "Epoch 87: val_loss improved from 2.30186 to 2.30185, saving model to Model3\n",
            "INFO:tensorflow:Assets written to: Model3/assets\n",
            "1875/1875 [==============================] - 7s 4ms/step - loss: 2.3019 - accuracy: 0.1124 - val_loss: 2.3018 - val_accuracy: 0.1135\n",
            "Epoch 88/100\n",
            "1873/1875 [============================>.] - ETA: 0s - loss: 2.3019 - accuracy: 0.1124\n",
            "Epoch 88: val_loss improved from 2.30185 to 2.30184, saving model to Model3\n",
            "INFO:tensorflow:Assets written to: Model3/assets\n",
            "1875/1875 [==============================] - 7s 4ms/step - loss: 2.3019 - accuracy: 0.1124 - val_loss: 2.3018 - val_accuracy: 0.1135\n",
            "Epoch 89/100\n",
            "1865/1875 [============================>.] - ETA: 0s - loss: 2.3019 - accuracy: 0.1124\n",
            "Epoch 89: val_loss improved from 2.30184 to 2.30184, saving model to Model3\n",
            "INFO:tensorflow:Assets written to: Model3/assets\n",
            "1875/1875 [==============================] - 7s 4ms/step - loss: 2.3019 - accuracy: 0.1124 - val_loss: 2.3018 - val_accuracy: 0.1135\n",
            "Epoch 90/100\n",
            "1864/1875 [============================>.] - ETA: 0s - loss: 2.3019 - accuracy: 0.1122\n",
            "Epoch 90: val_loss improved from 2.30184 to 2.30183, saving model to Model3\n",
            "INFO:tensorflow:Assets written to: Model3/assets\n",
            "1875/1875 [==============================] - 7s 4ms/step - loss: 2.3019 - accuracy: 0.1124 - val_loss: 2.3018 - val_accuracy: 0.1135\n",
            "Epoch 91/100\n",
            "1861/1875 [============================>.] - ETA: 0s - loss: 2.3019 - accuracy: 0.1122\n",
            "Epoch 91: val_loss improved from 2.30183 to 2.30182, saving model to Model3\n",
            "INFO:tensorflow:Assets written to: Model3/assets\n",
            "1875/1875 [==============================] - 8s 4ms/step - loss: 2.3019 - accuracy: 0.1124 - val_loss: 2.3018 - val_accuracy: 0.1135\n",
            "Epoch 92/100\n",
            "1863/1875 [============================>.] - ETA: 0s - loss: 2.3019 - accuracy: 0.1122\n",
            "Epoch 92: val_loss improved from 2.30182 to 2.30182, saving model to Model3\n",
            "INFO:tensorflow:Assets written to: Model3/assets\n",
            "1875/1875 [==============================] - 7s 4ms/step - loss: 2.3019 - accuracy: 0.1124 - val_loss: 2.3018 - val_accuracy: 0.1135\n",
            "Epoch 93/100\n",
            "1866/1875 [============================>.] - ETA: 0s - loss: 2.3019 - accuracy: 0.1123\n",
            "Epoch 93: val_loss improved from 2.30182 to 2.30181, saving model to Model3\n",
            "INFO:tensorflow:Assets written to: Model3/assets\n",
            "1875/1875 [==============================] - 8s 4ms/step - loss: 2.3019 - accuracy: 0.1124 - val_loss: 2.3018 - val_accuracy: 0.1135\n",
            "Epoch 94/100\n",
            "1863/1875 [============================>.] - ETA: 0s - loss: 2.3019 - accuracy: 0.1125\n",
            "Epoch 94: val_loss improved from 2.30181 to 2.30181, saving model to Model3\n",
            "INFO:tensorflow:Assets written to: Model3/assets\n",
            "1875/1875 [==============================] - 8s 4ms/step - loss: 2.3019 - accuracy: 0.1124 - val_loss: 2.3018 - val_accuracy: 0.1135\n",
            "Epoch 95/100\n",
            "1863/1875 [============================>.] - ETA: 0s - loss: 2.3019 - accuracy: 0.1124\n",
            "Epoch 95: val_loss improved from 2.30181 to 2.30180, saving model to Model3\n",
            "INFO:tensorflow:Assets written to: Model3/assets\n",
            "1875/1875 [==============================] - 7s 4ms/step - loss: 2.3018 - accuracy: 0.1124 - val_loss: 2.3018 - val_accuracy: 0.1135\n",
            "Epoch 96/100\n",
            "1861/1875 [============================>.] - ETA: 0s - loss: 2.3018 - accuracy: 0.1123\n",
            "Epoch 96: val_loss improved from 2.30180 to 2.30180, saving model to Model3\n",
            "INFO:tensorflow:Assets written to: Model3/assets\n",
            "1875/1875 [==============================] - 8s 4ms/step - loss: 2.3018 - accuracy: 0.1124 - val_loss: 2.3018 - val_accuracy: 0.1135\n",
            "Epoch 97/100\n",
            "1864/1875 [============================>.] - ETA: 0s - loss: 2.3018 - accuracy: 0.1123\n",
            "Epoch 97: val_loss improved from 2.30180 to 2.30179, saving model to Model3\n",
            "INFO:tensorflow:Assets written to: Model3/assets\n",
            "1875/1875 [==============================] - 8s 4ms/step - loss: 2.3018 - accuracy: 0.1124 - val_loss: 2.3018 - val_accuracy: 0.1135\n",
            "Epoch 98/100\n",
            "1862/1875 [============================>.] - ETA: 0s - loss: 2.3018 - accuracy: 0.1123\n",
            "Epoch 98: val_loss improved from 2.30179 to 2.30179, saving model to Model3\n",
            "INFO:tensorflow:Assets written to: Model3/assets\n",
            "1875/1875 [==============================] - 8s 4ms/step - loss: 2.3018 - accuracy: 0.1124 - val_loss: 2.3018 - val_accuracy: 0.1135\n",
            "Epoch 99/100\n",
            "1865/1875 [============================>.] - ETA: 0s - loss: 2.3018 - accuracy: 0.1122\n",
            "Epoch 99: val_loss improved from 2.30179 to 2.30178, saving model to Model3\n",
            "INFO:tensorflow:Assets written to: Model3/assets\n",
            "1875/1875 [==============================] - 7s 4ms/step - loss: 2.3018 - accuracy: 0.1124 - val_loss: 2.3018 - val_accuracy: 0.1135\n",
            "Epoch 100/100\n",
            "1865/1875 [============================>.] - ETA: 0s - loss: 2.3018 - accuracy: 0.1123\n",
            "Epoch 100: val_loss improved from 2.30178 to 2.30177, saving model to Model3\n",
            "INFO:tensorflow:Assets written to: Model3/assets\n",
            "1875/1875 [==============================] - 7s 4ms/step - loss: 2.3018 - accuracy: 0.1124 - val_loss: 2.3018 - val_accuracy: 0.1135\n"
          ]
        }
      ]
    },
    {
      "cell_type": "code",
      "source": [
        "# #4\n",
        "trained_model = load_model(\"Model3\")\n",
        "# #5\n",
        "train_accuracy = trained_model.evaluate(train_images, train_labels)\n",
        "# #6\n",
        "test_accuracy = trained_model.evaluate(test_images, test_labels)\n",
        "# #7\n",
        "print(train_accuracy + test_accuracy)"
      ],
      "metadata": {
        "colab": {
          "base_uri": "https://localhost:8080/"
        },
        "id": "1MdJqJVCoh9S",
        "outputId": "0cb3d05b-48b0-471b-9b05-3602bf61d284"
      },
      "execution_count": 78,
      "outputs": [
        {
          "output_type": "stream",
          "name": "stdout",
          "text": [
            "  44/1875 [..............................] - ETA: 4s - loss: 2.3015 - accuracy: 0.1151"
          ]
        },
        {
          "output_type": "stream",
          "name": "stderr",
          "text": [
            "/usr/local/lib/python3.7/dist-packages/tensorflow/python/util/dispatch.py:1082: UserWarning: \"`sparse_categorical_crossentropy` received `from_logits=True`, but the `output` argument was produced by a sigmoid or softmax activation and thus does not represent logits. Was this intended?\"\n",
            "  return dispatch_target(*args, **kwargs)\n"
          ]
        },
        {
          "output_type": "stream",
          "name": "stdout",
          "text": [
            "1875/1875 [==============================] - 5s 2ms/step - loss: 2.3018 - accuracy: 0.1124\n",
            "313/313 [==============================] - 1s 3ms/step - loss: 2.3018 - accuracy: 0.1135\n",
            "[2.3018200397491455, 0.11236666887998581, 2.301774501800537, 0.11349999904632568]\n"
          ]
        }
      ]
    },
    {
      "cell_type": "markdown",
      "metadata": {
        "id": "x61bwRH5R6fR"
      },
      "source": [
        "### 📚 Zadanie 3.\n",
        "##### Niekiedy przydaje nam się możliwość wprowadzenia modyfikacji do funkcji straty lub zbudowania własnej funkcji straty od postaw. W Keras/Tensorflow jest to dosyć prosta rzecz, którą możemy zrealizować za pomocą podstawowych operacji."
      ]
    },
    {
      "cell_type": "markdown",
      "metadata": {
        "id": "Xjpqs_zRR6fR"
      },
      "source": [
        "Poniższy przykład ilustruje w jaki sposób możemy skorzystać z funkcji straty Root Mean Square Error (RMSE) dla dwóch zmiennych (y_true i y_pred)."
      ]
    },
    {
      "cell_type": "code",
      "execution_count": 79,
      "metadata": {
        "id": "XSF0qsNyR6fR"
      },
      "outputs": [],
      "source": [
        "y_true = 43.2\n",
        "y_pred = 4.2"
      ]
    },
    {
      "cell_type": "code",
      "execution_count": 80,
      "metadata": {
        "id": "i5kU6V0IR6fR",
        "colab": {
          "base_uri": "https://localhost:8080/"
        },
        "outputId": "818b74c1-e168-4e86-ee58-f38833158590"
      },
      "outputs": [
        {
          "output_type": "execute_result",
          "data": {
            "text/plain": [
              "39.0"
            ]
          },
          "metadata": {},
          "execution_count": 80
        }
      ],
      "source": [
        "x = tf.keras.metrics.RootMeanSquaredError()\n",
        "x(y_true, y_pred).numpy()"
      ]
    },
    {
      "cell_type": "markdown",
      "metadata": {
        "id": "Gc5btaV4R6fS"
      },
      "source": [
        "Czasami jednak możemy chcieć stworzyć naszą własną funkcję straty (podajemy przy tym dwa argumenty, tj. y_true oraz y_pred)."
      ]
    },
    {
      "cell_type": "markdown",
      "metadata": {
        "id": "6YSGpIQuR6fS"
      },
      "source": [
        "Odtwórz wskazaną wcześniej funkcję straty Root Mean Squared Error tworząc od podstaw nową funkcję."
      ]
    },
    {
      "cell_type": "markdown",
      "metadata": {
        "id": "cj4DgCl2UmaC"
      },
      "source": [
        "![2fae41d2-cda7-466c-b672-f909e745e126.png](data:image/png;base64,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)"
      ]
    },
    {
      "cell_type": "code",
      "execution_count": 92,
      "metadata": {
        "id": "dZa95_oER6fS",
        "colab": {
          "base_uri": "https://localhost:8080/"
        },
        "outputId": "05b36902-375c-4140-e19f-88dc8cd88eca"
      },
      "outputs": [
        {
          "output_type": "stream",
          "name": "stdout",
          "text": [
            "0.816496580927726\n"
          ]
        }
      ],
      "source": [
        "import math\n",
        "\n",
        "def custom_loss_function(y_true, y_pred):\n",
        "  mse = np.square(np.subtract(y_true,y_pred)).mean() \n",
        "  rmse = math.sqrt(mse)\n",
        "  return rmse\n",
        "\n",
        "print(custom_loss_function([1,2,3],[1,3,4]))"
      ]
    }
  ],
  "metadata": {
    "accelerator": "GPU",
    "colab": {
      "collapsed_sections": [],
      "name": "Optymalizator,_funkcja_straty_i_early_stopping.ipynb",
      "provenance": [],
      "include_colab_link": true
    },
    "kernelspec": {
      "display_name": "Python 3 (ipykernel)",
      "language": "python",
      "name": "python3"
    },
    "language_info": {
      "codemirror_mode": {
        "name": "ipython",
        "version": 3
      },
      "file_extension": ".py",
      "mimetype": "text/x-python",
      "name": "python",
      "nbconvert_exporter": "python",
      "pygments_lexer": "ipython3",
      "version": "3.8.13"
    }
  },
  "nbformat": 4,
  "nbformat_minor": 0
}