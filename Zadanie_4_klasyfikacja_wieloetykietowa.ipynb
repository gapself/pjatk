{
  "nbformat": 4,
  "nbformat_minor": 0,
  "metadata": {
    "colab": {
      "name": "Zadanie_4_klasyfikacja_wieloetykietowa.ipynb",
      "provenance": [],
      "collapsed_sections": [],
      "include_colab_link": true
    },
    "kernelspec": {
      "name": "python3",
      "display_name": "Python 3"
    },
    "accelerator": "GPU"
  },
  "cells": [
    {
      "cell_type": "markdown",
      "metadata": {
        "id": "view-in-github",
        "colab_type": "text"
      },
      "source": [
        "<a href=\"https://colab.research.google.com/github/gapself/pjatk/blob/main/Zadanie_4_klasyfikacja_wieloetykietowa.ipynb\" target=\"_parent\"><img src=\"https://colab.research.google.com/assets/colab-badge.svg\" alt=\"Open In Colab\"/></a>"
      ]
    },
    {
      "cell_type": "code",
      "source": [
        "from sklearn.model_selection import LeaveOneOut\n",
        "from sklearn.model_selection import StratifiedKFold\n",
        "from statistics import stdev\n",
        "from sklearn import metrics\n",
        "\n",
        "from sklearn.linear_model import LinearRegression\n",
        "from sklearn.gaussian_process import GaussianProcessClassifier\n",
        "from sklearn.naive_bayes import GaussianNB\n",
        "from sklearn.neural_network import MLPClassifier\n",
        "from sklearn.svm import SVC\n",
        "from sklearn.neighbors import KNeighborsClassifier\n",
        "from sklearn.linear_model import SGDClassifier\n",
        "\n",
        "from sklearn.multiclass import OneVsRestClassifier\n",
        "\n",
        "from sklearn.preprocessing import label_binarize\n",
        "\n",
        "from sklearn.model_selection import KFold"
      ],
      "metadata": {
        "id": "yUibpw52GYzc"
      },
      "execution_count": 22,
      "outputs": []
    },
    {
      "cell_type": "markdown",
      "metadata": {
        "id": "yIIrmjGE-Fee"
      },
      "source": [
        "# Podział zbioru treningowego i miary jakości\n",
        "\n",
        "#### Danijel Koržinek <danijel@pja.edu.pl>\n",
        "\n",
        "Uruchom poniższy blok:"
      ]
    },
    {
      "cell_type": "code",
      "metadata": {
        "id": "6I9j1MNC60uY",
        "colab": {
          "base_uri": "https://localhost:8080/"
        },
        "outputId": "5857187a-08bc-4f4e-b8ec-f18e85990653"
      },
      "source": [
        "import warnings\n",
        "warnings.filterwarnings(\"ignore\", category=FutureWarning) \n",
        "warnings.filterwarnings(\"ignore\", category=RuntimeWarning)  \n",
        "%pylab inline"
      ],
      "execution_count": 2,
      "outputs": [
        {
          "output_type": "stream",
          "name": "stdout",
          "text": [
            "Populating the interactive namespace from numpy and matplotlib\n"
          ]
        }
      ]
    },
    {
      "cell_type": "markdown",
      "metadata": {
        "id": "HmARYkEC-Cj_"
      },
      "source": [
        "Zacznijmy od wczytania zbioru danych z biblioteki `sklearn.datasets`. Zapisz wynik funkcji `load_breast_cancer` do zmiennej:"
      ]
    },
    {
      "cell_type": "code",
      "metadata": {
        "id": "Ntz-Nng9Oi0p"
      },
      "source": [
        "from sklearn.datasets import load_breast_cancer\n",
        "breast_cancer_dataset = load_breast_cancer()"
      ],
      "execution_count": 3,
      "outputs": []
    },
    {
      "cell_type": "markdown",
      "metadata": {
        "id": "2ehB8jor-kf2"
      },
      "source": [
        "Wypisz wszystkie składowe `keys()` otrzymanego zbioru:"
      ]
    },
    {
      "cell_type": "code",
      "metadata": {
        "id": "Nt6oOEYRPGkQ",
        "colab": {
          "base_uri": "https://localhost:8080/"
        },
        "outputId": "161ff655-8574-4e25-8939-2ea4b5b8b857"
      },
      "source": [
        "print(breast_cancer_dataset.keys())"
      ],
      "execution_count": 4,
      "outputs": [
        {
          "output_type": "stream",
          "name": "stdout",
          "text": [
            "dict_keys(['data', 'target', 'frame', 'target_names', 'DESCR', 'feature_names', 'filename', 'data_module'])\n"
          ]
        }
      ]
    },
    {
      "cell_type": "markdown",
      "metadata": {
        "id": "VNrE4rE_-r5l"
      },
      "source": [
        "Zobaczmy składową `DESCR`:"
      ]
    },
    {
      "cell_type": "code",
      "metadata": {
        "id": "u9LwcsQ_PHPi",
        "colab": {
          "base_uri": "https://localhost:8080/"
        },
        "outputId": "13b6d48e-9f0c-4985-f4be-2dfb38b9fd42"
      },
      "source": [
        "print(breast_cancer_dataset[\"DESCR\"])"
      ],
      "execution_count": 5,
      "outputs": [
        {
          "output_type": "stream",
          "name": "stdout",
          "text": [
            ".. _breast_cancer_dataset:\n",
            "\n",
            "Breast cancer wisconsin (diagnostic) dataset\n",
            "--------------------------------------------\n",
            "\n",
            "**Data Set Characteristics:**\n",
            "\n",
            "    :Number of Instances: 569\n",
            "\n",
            "    :Number of Attributes: 30 numeric, predictive attributes and the class\n",
            "\n",
            "    :Attribute Information:\n",
            "        - radius (mean of distances from center to points on the perimeter)\n",
            "        - texture (standard deviation of gray-scale values)\n",
            "        - perimeter\n",
            "        - area\n",
            "        - smoothness (local variation in radius lengths)\n",
            "        - compactness (perimeter^2 / area - 1.0)\n",
            "        - concavity (severity of concave portions of the contour)\n",
            "        - concave points (number of concave portions of the contour)\n",
            "        - symmetry\n",
            "        - fractal dimension (\"coastline approximation\" - 1)\n",
            "\n",
            "        The mean, standard error, and \"worst\" or largest (mean of the three\n",
            "        worst/largest values) of these features were computed for each image,\n",
            "        resulting in 30 features.  For instance, field 0 is Mean Radius, field\n",
            "        10 is Radius SE, field 20 is Worst Radius.\n",
            "\n",
            "        - class:\n",
            "                - WDBC-Malignant\n",
            "                - WDBC-Benign\n",
            "\n",
            "    :Summary Statistics:\n",
            "\n",
            "    ===================================== ====== ======\n",
            "                                           Min    Max\n",
            "    ===================================== ====== ======\n",
            "    radius (mean):                        6.981  28.11\n",
            "    texture (mean):                       9.71   39.28\n",
            "    perimeter (mean):                     43.79  188.5\n",
            "    area (mean):                          143.5  2501.0\n",
            "    smoothness (mean):                    0.053  0.163\n",
            "    compactness (mean):                   0.019  0.345\n",
            "    concavity (mean):                     0.0    0.427\n",
            "    concave points (mean):                0.0    0.201\n",
            "    symmetry (mean):                      0.106  0.304\n",
            "    fractal dimension (mean):             0.05   0.097\n",
            "    radius (standard error):              0.112  2.873\n",
            "    texture (standard error):             0.36   4.885\n",
            "    perimeter (standard error):           0.757  21.98\n",
            "    area (standard error):                6.802  542.2\n",
            "    smoothness (standard error):          0.002  0.031\n",
            "    compactness (standard error):         0.002  0.135\n",
            "    concavity (standard error):           0.0    0.396\n",
            "    concave points (standard error):      0.0    0.053\n",
            "    symmetry (standard error):            0.008  0.079\n",
            "    fractal dimension (standard error):   0.001  0.03\n",
            "    radius (worst):                       7.93   36.04\n",
            "    texture (worst):                      12.02  49.54\n",
            "    perimeter (worst):                    50.41  251.2\n",
            "    area (worst):                         185.2  4254.0\n",
            "    smoothness (worst):                   0.071  0.223\n",
            "    compactness (worst):                  0.027  1.058\n",
            "    concavity (worst):                    0.0    1.252\n",
            "    concave points (worst):               0.0    0.291\n",
            "    symmetry (worst):                     0.156  0.664\n",
            "    fractal dimension (worst):            0.055  0.208\n",
            "    ===================================== ====== ======\n",
            "\n",
            "    :Missing Attribute Values: None\n",
            "\n",
            "    :Class Distribution: 212 - Malignant, 357 - Benign\n",
            "\n",
            "    :Creator:  Dr. William H. Wolberg, W. Nick Street, Olvi L. Mangasarian\n",
            "\n",
            "    :Donor: Nick Street\n",
            "\n",
            "    :Date: November, 1995\n",
            "\n",
            "This is a copy of UCI ML Breast Cancer Wisconsin (Diagnostic) datasets.\n",
            "https://goo.gl/U2Uwz2\n",
            "\n",
            "Features are computed from a digitized image of a fine needle\n",
            "aspirate (FNA) of a breast mass.  They describe\n",
            "characteristics of the cell nuclei present in the image.\n",
            "\n",
            "Separating plane described above was obtained using\n",
            "Multisurface Method-Tree (MSM-T) [K. P. Bennett, \"Decision Tree\n",
            "Construction Via Linear Programming.\" Proceedings of the 4th\n",
            "Midwest Artificial Intelligence and Cognitive Science Society,\n",
            "pp. 97-101, 1992], a classification method which uses linear\n",
            "programming to construct a decision tree.  Relevant features\n",
            "were selected using an exhaustive search in the space of 1-4\n",
            "features and 1-3 separating planes.\n",
            "\n",
            "The actual linear program used to obtain the separating plane\n",
            "in the 3-dimensional space is that described in:\n",
            "[K. P. Bennett and O. L. Mangasarian: \"Robust Linear\n",
            "Programming Discrimination of Two Linearly Inseparable Sets\",\n",
            "Optimization Methods and Software 1, 1992, 23-34].\n",
            "\n",
            "This database is also available through the UW CS ftp server:\n",
            "\n",
            "ftp ftp.cs.wisc.edu\n",
            "cd math-prog/cpo-dataset/machine-learn/WDBC/\n",
            "\n",
            ".. topic:: References\n",
            "\n",
            "   - W.N. Street, W.H. Wolberg and O.L. Mangasarian. Nuclear feature extraction \n",
            "     for breast tumor diagnosis. IS&T/SPIE 1993 International Symposium on \n",
            "     Electronic Imaging: Science and Technology, volume 1905, pages 861-870,\n",
            "     San Jose, CA, 1993.\n",
            "   - O.L. Mangasarian, W.N. Street and W.H. Wolberg. Breast cancer diagnosis and \n",
            "     prognosis via linear programming. Operations Research, 43(4), pages 570-577, \n",
            "     July-August 1995.\n",
            "   - W.H. Wolberg, W.N. Street, and O.L. Mangasarian. Machine learning techniques\n",
            "     to diagnose breast cancer from fine-needle aspirates. Cancer Letters 77 (1994) \n",
            "     163-171.\n"
          ]
        }
      ]
    },
    {
      "cell_type": "markdown",
      "metadata": {
        "id": "x20SpfQW-yC6"
      },
      "source": [
        "Jest to zbiór przeznaczony do binarnej klasyfikacji rzeczywistych danych liczbowych. Wypisz nazwy cech (`feature_names`) i klas (`target_names`):"
      ]
    },
    {
      "cell_type": "code",
      "metadata": {
        "id": "Xdobxsx4PWfk",
        "colab": {
          "base_uri": "https://localhost:8080/"
        },
        "outputId": "ade2ded6-87f8-4355-c36e-26658c8ac578"
      },
      "source": [
        "print(breast_cancer_dataset[\"feature_names\"])\n",
        "print(breast_cancer_dataset[\"target_names\"])"
      ],
      "execution_count": 6,
      "outputs": [
        {
          "output_type": "stream",
          "name": "stdout",
          "text": [
            "['mean radius' 'mean texture' 'mean perimeter' 'mean area'\n",
            " 'mean smoothness' 'mean compactness' 'mean concavity'\n",
            " 'mean concave points' 'mean symmetry' 'mean fractal dimension'\n",
            " 'radius error' 'texture error' 'perimeter error' 'area error'\n",
            " 'smoothness error' 'compactness error' 'concavity error'\n",
            " 'concave points error' 'symmetry error' 'fractal dimension error'\n",
            " 'worst radius' 'worst texture' 'worst perimeter' 'worst area'\n",
            " 'worst smoothness' 'worst compactness' 'worst concavity'\n",
            " 'worst concave points' 'worst symmetry' 'worst fractal dimension']\n",
            "['malignant' 'benign']\n"
          ]
        }
      ]
    },
    {
      "cell_type": "markdown",
      "metadata": {
        "id": "5RT6lDh5-_qA"
      },
      "source": [
        "Wypisz rozmiary tablic danych (`data`) i klas (`target`):"
      ]
    },
    {
      "cell_type": "code",
      "metadata": {
        "id": "WEf9j0pg2y_n",
        "colab": {
          "base_uri": "https://localhost:8080/"
        },
        "outputId": "f257a711-3e31-4e7e-94fe-df7fac9d9a59"
      },
      "source": [
        "print(breast_cancer_dataset[\"data\"].size)\n",
        "print(breast_cancer_dataset[\"target\"].size)"
      ],
      "execution_count": 7,
      "outputs": [
        {
          "output_type": "stream",
          "name": "stdout",
          "text": [
            "17070\n",
            "569\n"
          ]
        }
      ]
    },
    {
      "cell_type": "markdown",
      "metadata": {
        "id": "5ykrQRQD_mT8"
      },
      "source": [
        "## Podział danych\n",
        "\n",
        "Użyj metody `train_test_split` z modułu `sklearn.model_selection` żeby podzielić zbiór na część treningową (90%) i testową (10%). Użyj straktyfikacji w podziale danych:"
      ]
    },
    {
      "cell_type": "code",
      "metadata": {
        "id": "uo9XsNShP2pG"
      },
      "source": [
        "from sklearn.model_selection import train_test_split\n",
        "X, y = breast_cancer_dataset[\"data\"], breast_cancer_dataset[\"target\"]\n",
        "X_train, X_test, y_train, y_test = train_test_split(X, y, test_size=0.1, random_state=42, stratify=y)"
      ],
      "execution_count": 8,
      "outputs": []
    },
    {
      "cell_type": "markdown",
      "metadata": {
        "id": "ZRJ8VIfhAAiI"
      },
      "source": [
        "Wczytaj następujące klasyfikatory:\n",
        "\n",
        "```\n",
        "from sklearn.linear_model import LinearRegression\n",
        "from sklearn.gaussian_process import GaussianProcessClassifier\n",
        "from sklearn.naive_bayes import GaussianNB\n",
        "from sklearn.neural_network import MLPClassifier\n",
        "from sklearn.svm import SVC\n",
        "from sklearn.neighbors import KNeighborsClassifier\n",
        "from sklearn.linear_model import SGDClassifier\n",
        "```"
      ]
    },
    {
      "cell_type": "markdown",
      "metadata": {
        "id": "3IZAQAAgALnD"
      },
      "source": [
        "Dla każdego klasyfikatora (skonstruowanego domyślnymi parametrami) zastosuj odpowiednio metody `fit` na danych treningowych i `score` na danych testowych żeby otrzymać jego dokładność. Zaleca się zrobić słownik poszczególnych modeli i uruchomić wszystko w pętli `for`. Co się stanie jak zmienimy podział danych (użyjemy metody split ponownie)?"
      ]
    },
    {
      "cell_type": "markdown",
      "source": [
        "\n",
        "> ***Gdy użyjemy splita ponownie =  nieznacznie zmienią się wyniki dla: MLPClassifier, SGDClassifier***\n"
      ],
      "metadata": {
        "id": "KKsQIf4mGMdz"
      }
    },
    {
      "cell_type": "code",
      "source": [
        "classifiers = {\"LinearRegression\" : LinearRegression(),\n",
        "               \"GaussianProcessClassifier\" : GaussianProcessClassifier(),\n",
        "               \"GaussianNB\" : GaussianNB(),\n",
        "               \"SVC\" : SVC(),\n",
        "               \"MLPClassifier\" : MLPClassifier(),\n",
        "               \"KNeighborsClassifier\" : KNeighborsClassifier(),\n",
        "               \"SGDClassifier\" : SGDClassifier()}"
      ],
      "metadata": {
        "id": "YWGqs5_w3sfP"
      },
      "execution_count": 9,
      "outputs": []
    },
    {
      "cell_type": "code",
      "source": [
        "for classifier in classifiers.keys():\n",
        "  classifiers[classifier].fit(X_train, y_train)\n",
        "  accuracy = classifiers[classifier].score(X_test, y_test) # dokładność mojego modelu\n",
        "  print(classifiers[classifier], \"\\n\", accuracy)"
      ],
      "metadata": {
        "colab": {
          "base_uri": "https://localhost:8080/"
        },
        "id": "lvGMpuUl4Srr",
        "outputId": "0f187d9f-46ed-47c4-d6fd-3eeb669165f3"
      },
      "execution_count": 10,
      "outputs": [
        {
          "output_type": "stream",
          "name": "stdout",
          "text": [
            "LinearRegression() \n",
            " 0.6970003216389806\n",
            "GaussianProcessClassifier() \n",
            " 0.9298245614035088\n",
            "GaussianNB() \n",
            " 0.9824561403508771\n",
            "SVC() \n",
            " 0.9298245614035088\n",
            "MLPClassifier() \n",
            " 0.8947368421052632\n",
            "KNeighborsClassifier() \n",
            " 0.9122807017543859\n",
            "SGDClassifier() \n",
            " 0.8070175438596491\n"
          ]
        }
      ]
    },
    {
      "cell_type": "code",
      "source": [
        "X_train, X_test, y_train, y_test = train_test_split(X, y, test_size=0.1, random_state=42, stratify=y)\n",
        "for classifier in classifiers:\n",
        "  classifiers[classifier].fit(X_train, y_train)\n",
        "  accuracy = classifiers[classifier].score(X_test, y_test) \n",
        "  print(classifiers[classifier], \"\\n\", accuracy)"
      ],
      "metadata": {
        "colab": {
          "base_uri": "https://localhost:8080/"
        },
        "id": "RsQCE-yb-Erd",
        "outputId": "9a27efa9-4b90-444d-eb85-d060c300ec90"
      },
      "execution_count": 11,
      "outputs": [
        {
          "output_type": "stream",
          "name": "stdout",
          "text": [
            "LinearRegression() \n",
            " 0.6970003216389806\n",
            "GaussianProcessClassifier() \n",
            " 0.9298245614035088\n",
            "GaussianNB() \n",
            " 0.9824561403508771\n",
            "SVC() \n",
            " 0.9298245614035088\n",
            "MLPClassifier() \n",
            " 0.8947368421052632\n",
            "KNeighborsClassifier() \n",
            " 0.9122807017543859\n",
            "SGDClassifier() \n",
            " 0.8771929824561403\n"
          ]
        }
      ]
    },
    {
      "cell_type": "markdown",
      "metadata": {
        "id": "oTu04IqeAdde"
      },
      "source": [
        "## Walidacja krzyżowa\n",
        "\n",
        "Przy niewielkim zbiorze danych, ciężko jest wydzielić reprezentatywny zbiór testowy. Jeden ze sposobów jest uruchomić cały proces kilka razy i raportować średnie i odchylenia uzyskanych wyników.\n",
        "\n",
        "Lepszym sposobem jest podzielić cały zbiór danych na `K` paczek i iteracyjnie użyć każdej paczki jako dane testowe, a wszystkie inne (w każdej iteracji) jako dane treningowe.\n",
        "\n",
        "Użyj klasy `StratifiedKFold` z modułu `sklearn.model_selection` żeby podzielić zbiór na 5 części i powtórz poprzedni eksperyment do liczenia dokładności modeli. Jako wynik podaj wartość średnią i odchylenie standardowe dla wsyzstkich podziałów danego modelu."
      ]
    },
    {
      "cell_type": "code",
      "metadata": {
        "id": "X19cYwSUY6yi",
        "colab": {
          "base_uri": "https://localhost:8080/"
        },
        "outputId": "22348c63-1e5b-4ae4-b1fb-081204a7b3d2"
      },
      "source": [
        "skf = StratifiedKFold(n_splits=5)\n",
        "\n",
        "for classifier in classifiers:\n",
        "  acc_for_classifier = []\n",
        "  n_split = 0\n",
        "\n",
        "  for train_index, test_index in skf.split(X, y):\n",
        "    # print(\"TRAIN:\", train_index, \"TEST:\", test_index)\n",
        "    X_train, X_test = X[train_index], X[test_index]\n",
        "    y_train, y_test = y[train_index], y[test_index]\n",
        "\n",
        "    model_fit = classifiers[classifier].fit(X_train, y_train)\n",
        "    accuracy = model_fit.score(X_test, y_test) # dokładność mojego modelu\n",
        "    acc_for_classifier.append(accuracy)\n",
        "    n_split += 1\n",
        "    # print(\"accuracy for split NUM: \", n_split,\" \", accuracy, \"  \", classifier)\n",
        "\n",
        "  print(\"--------CLASSIFIER------------\", classifiers[classifier])\n",
        "  print(\"MEAN acc\", sum(acc_for_classifier)/5)\n",
        "  print(\"STDEV acc\", stdev(acc_for_classifier))\n",
        "  print(\"\")"
      ],
      "execution_count": 12,
      "outputs": [
        {
          "output_type": "stream",
          "name": "stdout",
          "text": [
            "--------CLASSIFIER------------ LinearRegression()\n",
            "MEAN acc 0.7408173313601685\n",
            "STDEV acc 0.029987826576265544\n",
            "\n",
            "--------CLASSIFIER------------ GaussianProcessClassifier()\n",
            "MEAN acc 0.9068622884645242\n",
            "STDEV acc 0.021973671290398487\n",
            "\n",
            "--------CLASSIFIER------------ GaussianNB()\n",
            "MEAN acc 0.9385188635305075\n",
            "STDEV acc 0.016307637526154637\n",
            "\n",
            "--------CLASSIFIER------------ SVC()\n",
            "MEAN acc 0.9121720229777983\n",
            "STDEV acc 0.03962723267191617\n",
            "\n",
            "--------CLASSIFIER------------ MLPClassifier()\n",
            "MEAN acc 0.9401800962583449\n",
            "STDEV acc 0.02962565248989548\n",
            "\n",
            "--------CLASSIFIER------------ KNeighborsClassifier()\n",
            "MEAN acc 0.9279459711224964\n",
            "STDEV acc 0.024331509914315864\n",
            "\n",
            "--------CLASSIFIER------------ SGDClassifier()\n",
            "MEAN acc 0.871696941468716\n",
            "STDEV acc 0.03434529553490896\n",
            "\n"
          ]
        }
      ]
    },
    {
      "cell_type": "markdown",
      "metadata": {
        "id": "Nkd_xpDxBBXV"
      },
      "source": [
        "Naturalnym pytaniem jest jaką wartość wybrać dla parametru `K`. Im więcej paczek użyjemy, tym większa wariancja w wynikach. Dużo paczek oznacza mniejsze ryzyko biasu w eksperymentach, ale testy są robione na mniejszej ilości danych i przez to są bardziej chaotyczne. Mniej paczek oznacza bardziej dokładne wyniki testów, ale jest ryzyko że dane w ustalonych podziałach będa mniej reprezentatywne dla ogółu problemu. W skrajnym przypadku możemy użyć tyle paczek ile jest próbek - ta metoda nazywa się Leave-One-Out.\n",
        "\n",
        "Powtórz te same eksperymenty co poprzednio używając klasy `LeaveOneOut`, ale dla osczędności czasu użyj tylko jednego klasyfikatora (np SVC):"
      ]
    },
    {
      "cell_type": "code",
      "source": [
        "loo = LeaveOneOut()\n",
        "\n",
        "acc_for_classifier = []\n",
        "for train_index, test_index in loo.split(X, y):\n",
        "  # print(\"TRAIN:\", train_index, \"TEST:\", test_index)\n",
        "  X_train, X_test = X[train_index], X[test_index]\n",
        "  y_train, y_test = y[train_index], y[test_index]\n",
        "  svm = SVC().fit(X_train, y_train)\n",
        "  acc = svm.score(X_test, y_test)\n",
        "  acc_for_classifier.append(acc)\n",
        "\n",
        "print(\"MEAN acc for classifier SVC is\", sum(acc_for_classifier)/len(X))\n",
        "print(\"STD acc for classifier SVC is\", stdev(acc_for_classifier))"
      ],
      "metadata": {
        "colab": {
          "base_uri": "https://localhost:8080/"
        },
        "id": "uogGbPkefBof",
        "outputId": "0d08849c-db4c-488f-e1c9-1bd8b5f1ab53"
      },
      "execution_count": 13,
      "outputs": [
        {
          "output_type": "stream",
          "name": "stdout",
          "text": [
            "MEAN acc for classifier SVC is 0.9121265377855887\n",
            "STD acc for classifier SVC is 0.2833598931225475\n"
          ]
        }
      ]
    },
    {
      "cell_type": "markdown",
      "metadata": {
        "id": "GG36TOpFBVRl"
      },
      "source": [
        "## Miary jakości modelu\n",
        "\n",
        "Wczytaj następujące metody:\n",
        "```\n",
        "from sklearn.metrics import precision_recall_fscore_support, accuracy_score, confusion_matrix, roc_curve, roc_auc_score, classification_report\n",
        "```\n",
        "\n",
        "Zrób zwykły podział train/test 90/10. Dla wszystkich modeli oprócz regresji liniowej, zastosuj odpowiednio metody `fit` na danych treningowych i `predict` na danych testowych. Potem policz odpowiednio dokładność (`accuracy_score`), precyzję (`precision`), czułóść (`recall`), f-score i macierz konfuzji dla poszczególnych klasyfikatorów. Użyj też metody `classification_report` żeby zobaczyć ogólny raport:"
      ]
    },
    {
      "cell_type": "code",
      "metadata": {
        "id": "12-EfRooc8VY"
      },
      "source": [
        "from sklearn.metrics import precision_recall_fscore_support, accuracy_score, confusion_matrix, roc_curve, roc_auc_score, classification_report, precision_score, recall_score, f1_score\n",
        "X, y = breast_cancer_dataset[\"data\"], breast_cancer_dataset[\"target\"]\n",
        "X_train, X_test, y_train, y_test = train_test_split(X, y, test_size=0.1, random_state=42, stratify=y)"
      ],
      "execution_count": 14,
      "outputs": []
    },
    {
      "cell_type": "code",
      "source": [
        "classifiers = [ GaussianProcessClassifier(),\n",
        "                GaussianNB(),\n",
        "                SVC(),\n",
        "                MLPClassifier(),\n",
        "                KNeighborsClassifier(),\n",
        "                SGDClassifier()]"
      ],
      "metadata": {
        "id": "uO1HVUMd5__g"
      },
      "execution_count": 15,
      "outputs": []
    },
    {
      "cell_type": "code",
      "source": [
        "for classifier in classifiers:\n",
        "  classifier.fit(X_train, y_train)\n",
        "  y_pred = classifier.predict(X_test)\n",
        "  train_accuracy_score = accuracy_score(y_test, y_pred)\n",
        "\n",
        "  precision = precision_score(y_test, y_pred)\n",
        "  recall = recall_score(y_test, y_pred)\n",
        "  f1 = f1_score(y_test, y_pred)\n",
        "\n",
        "  print(classifier,\n",
        "        \"\\n   accuracy_score: \", train_accuracy_score,\n",
        "        \"\\n   precision: \", precision,\n",
        "        \"\\n   recall: \", recall,\n",
        "        \"\\n   f1: \", f1,\n",
        "        \"\\n   classification_report: \", classification_report(y_test, y_pred)\n",
        "        )"
      ],
      "metadata": {
        "id": "Mjt6ZX23Cxde",
        "colab": {
          "base_uri": "https://localhost:8080/"
        },
        "outputId": "b18bb568-0f63-4deb-cab4-8f29c643f703"
      },
      "execution_count": 16,
      "outputs": [
        {
          "output_type": "stream",
          "name": "stdout",
          "text": [
            "GaussianProcessClassifier() \n",
            "   accuracy_score:  0.9298245614035088 \n",
            "   precision:  0.9444444444444444 \n",
            "   recall:  0.9444444444444444 \n",
            "   f1:  0.9444444444444444 \n",
            "   classification_report:                precision    recall  f1-score   support\n",
            "\n",
            "           0       0.90      0.90      0.90        21\n",
            "           1       0.94      0.94      0.94        36\n",
            "\n",
            "    accuracy                           0.93        57\n",
            "   macro avg       0.92      0.92      0.92        57\n",
            "weighted avg       0.93      0.93      0.93        57\n",
            "\n",
            "GaussianNB() \n",
            "   accuracy_score:  0.9824561403508771 \n",
            "   precision:  0.972972972972973 \n",
            "   recall:  1.0 \n",
            "   f1:  0.9863013698630138 \n",
            "   classification_report:                precision    recall  f1-score   support\n",
            "\n",
            "           0       1.00      0.95      0.98        21\n",
            "           1       0.97      1.00      0.99        36\n",
            "\n",
            "    accuracy                           0.98        57\n",
            "   macro avg       0.99      0.98      0.98        57\n",
            "weighted avg       0.98      0.98      0.98        57\n",
            "\n",
            "SVC() \n",
            "   accuracy_score:  0.9298245614035088 \n",
            "   precision:  0.9210526315789473 \n",
            "   recall:  0.9722222222222222 \n",
            "   f1:  0.9459459459459458 \n",
            "   classification_report:                precision    recall  f1-score   support\n",
            "\n",
            "           0       0.95      0.86      0.90        21\n",
            "           1       0.92      0.97      0.95        36\n",
            "\n",
            "    accuracy                           0.93        57\n",
            "   macro avg       0.93      0.91      0.92        57\n",
            "weighted avg       0.93      0.93      0.93        57\n",
            "\n",
            "MLPClassifier() \n",
            "   accuracy_score:  0.9298245614035088 \n",
            "   precision:  0.9 \n",
            "   recall:  1.0 \n",
            "   f1:  0.9473684210526316 \n",
            "   classification_report:                precision    recall  f1-score   support\n",
            "\n",
            "           0       1.00      0.81      0.89        21\n",
            "           1       0.90      1.00      0.95        36\n",
            "\n",
            "    accuracy                           0.93        57\n",
            "   macro avg       0.95      0.90      0.92        57\n",
            "weighted avg       0.94      0.93      0.93        57\n",
            "\n",
            "KNeighborsClassifier() \n",
            "   accuracy_score:  0.9122807017543859 \n",
            "   precision:  0.9428571428571428 \n",
            "   recall:  0.9166666666666666 \n",
            "   f1:  0.9295774647887323 \n",
            "   classification_report:                precision    recall  f1-score   support\n",
            "\n",
            "           0       0.86      0.90      0.88        21\n",
            "           1       0.94      0.92      0.93        36\n",
            "\n",
            "    accuracy                           0.91        57\n",
            "   macro avg       0.90      0.91      0.91        57\n",
            "weighted avg       0.91      0.91      0.91        57\n",
            "\n",
            "SGDClassifier() \n",
            "   accuracy_score:  0.7192982456140351 \n",
            "   precision:  0.9166666666666666 \n",
            "   recall:  0.6111111111111112 \n",
            "   f1:  0.7333333333333334 \n",
            "   classification_report:                precision    recall  f1-score   support\n",
            "\n",
            "           0       0.58      0.90      0.70        21\n",
            "           1       0.92      0.61      0.73        36\n",
            "\n",
            "    accuracy                           0.72        57\n",
            "   macro avg       0.75      0.76      0.72        57\n",
            "weighted avg       0.79      0.72      0.72        57\n",
            "\n"
          ]
        }
      ]
    },
    {
      "cell_type": "markdown",
      "metadata": {
        "id": "6KJRuISZCUpf"
      },
      "source": [
        "## ROC i AUC\n",
        "\n",
        "Użyj wszystkich modeli oprócz regresji liniowej i GPC, a dla SVC dodaj parametr `probability=True`. Użyj walidacji krzyżowej żeby wytrenować każdy z modeli i policzyć `predict_proba` dla całego zbioru. Potem policz `roc_curve` i `auc_score` dla wszystkich modeli i narysuj na wykresie. \n",
        "\n",
        "Najpierw użyj tych poleceń żeby otrzymać pusty wykres ROC:\n",
        "\n",
        "```\n",
        "figure(figsize=(5,5))\n",
        "plot([0,1],[0,1],color='black',lw=2,linestyle='--')\n",
        "xlabel('1 - specificity')\n",
        "ylabel('sensitivity')\n",
        "title('ROC')\n",
        "```\n",
        "\n",
        "Dla każdego klasyfikatora użyj metody `plot` żeby narysować wartości `x=fpr` i `y=tpr` z metody `roc_curve`, a jako `label` ustaw nazwę modelu i jego `AUC`. Na końcu uruchom metodę `legend(loc='lower right')` żeby narysować legendę w dolnym prawym rogu wykresu."
      ]
    },
    {
      "cell_type": "code",
      "source": [
        "classifiers = [ GaussianNB(),\n",
        "                SVC(probability=True),\n",
        "                MLPClassifier(),\n",
        "                KNeighborsClassifier(),\n",
        "                SGDClassifier(loss='modified_huber')]"
      ],
      "metadata": {
        "id": "3piLMQvUz9dP"
      },
      "execution_count": 17,
      "outputs": []
    },
    {
      "cell_type": "markdown",
      "source": [
        "https://machinelearningmastery.com/roc-curves-and-precision-recall-curves-for-classification-in-python/"
      ],
      "metadata": {
        "id": "Z3ogVijyPTd1"
      }
    },
    {
      "cell_type": "code",
      "metadata": {
        "id": "q4tc6lh_dUmH",
        "colab": {
          "base_uri": "https://localhost:8080/",
          "height": 1000
        },
        "outputId": "81740a7d-2c9c-420c-a0ea-36b8e7b6b613"
      },
      "source": [
        "skf = StratifiedKFold(n_splits=5)\n",
        "\n",
        "for classifier in classifiers:\n",
        "  acc_for_classifier = []\n",
        "  auc_list = []\n",
        "\n",
        "  for train_index, test_index in skf.split(X, y):\n",
        "    X_train, X_test = X[train_index], X[test_index]\n",
        "    y_train, y_test = y[train_index], y[test_index]\n",
        "    classifier.fit(X_train, y_train)\n",
        "\n",
        "    accuracy = classifier.score(X_test, y_test)\n",
        "    acc_for_classifier.append(accuracy)\n",
        "\n",
        "    predY = classifier.predict_proba(X_test)\n",
        "    fpr, tpr, thresh = metrics.roc_curve(y_test, predY[:,1])\n",
        "    auc = metrics.auc(fpr, tpr)\n",
        "    auc_list.append(auc)\n",
        "\n",
        "  predict_proba = sum(acc_for_classifier)/5\n",
        "\n",
        "  print(\"--------PODSUMOWANIE DLA KLASYFIKATORA------------\", classifier,)\n",
        "  print(\"MEAN acc\", predict_proba)\n",
        "  print(\"STD acc\", stdev(acc_for_classifier))\n",
        "  print(\"AUC:\", sum(auc_list)/5)\n",
        "  print(X_train.shape, X_test.shape, y_train.shape, y_test.shape)\n",
        "  plt.plot(fpr, tpr, label='AUC (area = %.2f)' %auc)\n",
        "  plt.plot([0, 1], [0, 1], linestyle='--', lw=2, color='r', label='Random guess')\n",
        "  plt.title('AUC')\n",
        "  plt.xlabel('False Positive Rate')\n",
        "  plt.ylabel('True Positive Rate')\n",
        "  plt.legend(loc='lower right')\n",
        "  plt.grid()\n",
        "  plt.legend()\n",
        "  plt.show()\n",
        "  print(\"\")"
      ],
      "execution_count": 18,
      "outputs": [
        {
          "output_type": "stream",
          "name": "stdout",
          "text": [
            "--------PODSUMOWANIE DLA KLASYFIKATORA------------ GaussianNB()\n",
            "MEAN acc 0.9385188635305075\n",
            "STD acc 0.016307637526154637\n",
            "AUC: 0.9873683530987822\n",
            "(456, 30) (113, 30) (456,) (113,)\n"
          ]
        },
        {
          "output_type": "display_data",
          "data": {
            "text/plain": [
              "<Figure size 432x288 with 1 Axes>"
            ],
            "image/png": "[encoded data removed]"
          },
          "metadata": {
            "needs_background": "light"
          }
        },
        {
          "output_type": "stream",
          "name": "stdout",
          "text": [
            "\n",
            "--------PODSUMOWANIE DLA KLASYFIKATORA------------ SVC(probability=True)\n",
            "MEAN acc 0.9121720229777983\n",
            "STD acc 0.03962723267191617\n",
            "AUC: 0.973961923998773\n",
            "(456, 30) (113, 30) (456,) (113,)\n"
          ]
        },
        {
          "output_type": "display_data",
          "data": {
            "text/plain": [
              "<Figure size 432x288 with 1 Axes>"
            ],
            "image/png": "[encoded data removed]"
          },
          "metadata": {
            "needs_background": "light"
          }
        },
        {
          "output_type": "stream",
          "name": "stdout",
          "text": [
            "\n",
            "--------PODSUMOWANIE DLA KLASYFIKATORA------------ MLPClassifier()\n",
            "MEAN acc 0.9244527247321844\n",
            "STD acc 0.031931764402258145\n",
            "AUC: 0.9778600110568666\n",
            "(456, 30) (113, 30) (456,) (113,)\n"
          ]
        },
        {
          "output_type": "display_data",
          "data": {
            "text/plain": [
              "<Figure size 432x288 with 1 Axes>"
            ],
            "image/png": "[encoded data removed]"
          },
          "metadata": {
            "needs_background": "light"
          }
        },
        {
          "output_type": "stream",
          "name": "stdout",
          "text": [
            "\n",
            "--------PODSUMOWANIE DLA KLASYFIKATORA------------ KNeighborsClassifier()\n",
            "MEAN acc 0.9279459711224964\n",
            "STD acc 0.024331509914315864\n",
            "AUC: 0.9596258645759136\n",
            "(456, 30) (113, 30) (456,) (113,)\n"
          ]
        },
        {
          "output_type": "display_data",
          "data": {
            "text/plain": [
              "<Figure size 432x288 with 1 Axes>"
            ],
            "image/png": "[encoded data removed]"
          },
          "metadata": {
            "needs_background": "light"
          }
        },
        {
          "output_type": "stream",
          "name": "stdout",
          "text": [
            "\n",
            "--------PODSUMOWANIE DLA KLASYFIKATORA------------ SGDClassifier(loss='modified_huber')\n",
            "MEAN acc 0.8524452724732186\n",
            "STD acc 0.12964882255675025\n",
            "AUC: 0.8560483053358912\n",
            "(456, 30) (113, 30) (456,) (113,)\n"
          ]
        },
        {
          "output_type": "display_data",
          "data": {
            "text/plain": [
              "<Figure size 432x288 with 1 Axes>"
            ],
            "image/png": "[encoded data removed]"
          },
          "metadata": {
            "needs_background": "light"
          }
        },
        {
          "output_type": "stream",
          "name": "stdout",
          "text": [
            "\n"
          ]
        }
      ]
    },
    {
      "cell_type": "markdown",
      "metadata": {
        "id": "k23B89bxYaLp"
      },
      "source": [
        "# Zadanie 1. -- Klasyfikacja wieloetykietowa\n",
        "\n",
        "Powtórz powyższe zadania na zbiorze danych win uzyskanego metodą `load_wine` z modułu `sklearn.datasets`. Warto zwrócić uwagę, że ten zbiór definiuje 3 różne klasy.\n",
        "\n",
        "Użyj `sklearn.multiclass.OneVsRestClassifier` żeby zastosować poprzednie klasyfikatory na nowych danych.\n",
        "\n",
        "Przy liczeniu krzywy ROC i wartości AUC użyj `sklearn.preprocessing.label_binarize` na referncji i metody `ravel()` na macierzach wyjściowych przed narysowaniem."
      ]
    },
    {
      "cell_type": "markdown",
      "source": [
        "https://rasbt.github.io/mlxtend/user_guide/data/wine_data/"
      ],
      "metadata": {
        "id": "id3SdaruW1Lq"
      }
    },
    {
      "cell_type": "code",
      "metadata": {
        "id": "1nSoMv9QZy2q",
        "colab": {
          "base_uri": "https://localhost:8080/"
        },
        "outputId": "b78b0974-7dc5-45cb-aab2-d4094d6ea129"
      },
      "source": [
        "from sklearn.datasets import load_wine\n",
        "from sklearn.metrics import auc\n",
        "\n",
        "wide_dataset = load_wine()\n",
        "\n",
        "print(wide_dataset.keys())\n",
        "\n",
        "X, y = wide_dataset[\"data\"], wide_dataset[\"target\"]\n",
        "print(wide_dataset[\"data\"].size)\n",
        "print(wide_dataset[\"target\"].size)\n",
        "\n",
        "print(wide_dataset[\"feature_names\"])\n",
        "print(wide_dataset[\"target_names\"])"
      ],
      "execution_count": 19,
      "outputs": [
        {
          "output_type": "stream",
          "name": "stdout",
          "text": [
            "dict_keys(['data', 'target', 'frame', 'target_names', 'DESCR', 'feature_names'])\n",
            "2314\n",
            "178\n",
            "['alcohol', 'malic_acid', 'ash', 'alcalinity_of_ash', 'magnesium', 'total_phenols', 'flavanoids', 'nonflavanoid_phenols', 'proanthocyanins', 'color_intensity', 'hue', 'od280/od315_of_diluted_wines', 'proline']\n",
            "['class_0' 'class_1' 'class_2']\n"
          ]
        }
      ]
    },
    {
      "cell_type": "code",
      "source": [
        "classifiers = [ GaussianNB(),\n",
        "                SVC(probability=True),\n",
        "                MLPClassifier(max_iter=3000),\n",
        "                KNeighborsClassifier(),\n",
        "                SGDClassifier(loss='log')]"
      ],
      "metadata": {
        "id": "oLohqxRKYAi9"
      },
      "execution_count": 20,
      "outputs": []
    },
    {
      "cell_type": "markdown",
      "source": [
        "https://scikit-learn.org/stable/auto_examples/model_selection/plot_roc.html"
      ],
      "metadata": {
        "id": "zniWu4lPHLLi"
      }
    },
    {
      "cell_type": "code",
      "source": [
        "skf = StratifiedKFold(n_splits=5)\n",
        "\n",
        "plt.figure()\n",
        "plt.plot([0, 1], [0, 1], color=\"navy\", lw=2, linestyle=\"--\")\n",
        "plt.xlabel(\"False Positive Rate\")\n",
        "plt.ylabel(\"True Positive Rate\")\n",
        "plt.title(\"Wykres klasyfikacji wieloetykietowej\")\n",
        "\n",
        "for classifier in classifiers:\n",
        "  # acc_for_classifier = []\n",
        "  # auc_list = []\n",
        "  for train_index, test_index in skf.split(X, y):\n",
        "    X_train, X_test = X[train_index], X[test_index]\n",
        "    y_train, y_test = y[train_index], y[test_index]\n",
        "    model = OneVsRestClassifier(classifier)\n",
        "    model.fit(X_train, y_train)\n",
        "\n",
        "    accuracy = model.score(X_test, y_test)\n",
        "\n",
        "  y_predict = model.predict(X_test)\n",
        "  y_test_binarize = label_binarize(y_test, classes=[0,1,2])\n",
        "  y_pred_binarize = label_binarize(y_predict, classes=[0,1,2])\n",
        "\n",
        "  fpr = dict()\n",
        "  tpr = dict()\n",
        "  roc_auc = dict()\n",
        "\n",
        "  fpr, tpr, roc_auc = {}, {}, {}\n",
        "\n",
        "  # Compute micro-average ROC curve and ROC area\n",
        "  fpr[\"micro\"], tpr[\"micro\"], _ = roc_curve(y_test_binarize.ravel(), y_pred_binarize.ravel())\n",
        "  roc_auc[\"micro\"] = auc(fpr[\"micro\"], tpr[\"micro\"])\n",
        "\n",
        "  plt.plot(fpr[\"micro\"], tpr[\"micro\"], label='{}'.format(classifier) + ' (AUC = {:0.2f})'.format(roc_auc[\"micro\"]))\n",
        "\n",
        "plt.legend(loc=\"lower right\")\n",
        "plt.show()"
      ],
      "metadata": {
        "colab": {
          "base_uri": "https://localhost:8080/",
          "height": 295
        },
        "id": "1Ma1TaC_ZO8j",
        "outputId": "b5b17665-602b-432c-a3fe-26887c8c12e0"
      },
      "execution_count": 21,
      "outputs": [
        {
          "output_type": "display_data",
          "data": {
            "text/plain": [
              "<Figure size 432x288 with 1 Axes>"
            ],
            "image/png": "[encoded data removed]"
          },
          "metadata": {
            "needs_background": "light"
          }
        }
      ]
    },
    {
      "cell_type": "markdown",
      "source": [
        "# Zadanie 2. -- Optymalizacja hiperparametru\n",
        "\n",
        "Użyj podwójnej walidacji krzyżowej żeby znaleźć średnią skuteczność klasyfikatora SVC (na danych `load_breast_cancer`) dla optymalnego parametru `C`.\n",
        "\n",
        "Należy użyć podwójnej metody K-Fold: najpierw dzielimy zbiór na train/test, a potem w każdej iteracji zbiór train dodatowko dzielimy na train/dev kolejną pętlą walidacji krzyżowej. Za pomocą podziału train/dev szukamy jaki parametr `C` daje najlepszy wynik (załóżmy że przetestujemy ~10 różnych wartości równomiernie rozłożonych od 0.2 do 2 ), a potem użyjemy tą optymalną wartość żeby dokonać eksperymentu na zbiorze test."
      ],
      "metadata": {
        "id": "GCpAekshhd7S"
      }
    },
    {
      "cell_type": "code",
      "source": [
        "breast_cancer_dataset = load_breast_cancer()\n",
        "print(breast_cancer_dataset[\"data\"].size)\n",
        "print(breast_cancer_dataset[\"target\"].size)\n",
        "\n",
        "X, y = breast_cancer_dataset[\"data\"], breast_cancer_dataset[\"target\"]\n",
        "X_train, X_test, y_train, y_test = train_test_split(X, y, test_size=0.1, random_state=42, stratify=y)"
      ],
      "metadata": {
        "id": "IAXdcebjhcBw",
        "colab": {
          "base_uri": "https://localhost:8080/"
        },
        "outputId": "acb72832-4d5a-4ae4-abb9-d15f74661b8d"
      },
      "execution_count": 24,
      "outputs": [
        {
          "output_type": "stream",
          "name": "stdout",
          "text": [
            "17070\n",
            "569\n"
          ]
        }
      ]
    },
    {
      "cell_type": "code",
      "source": [
        "KF_1_iteration = KFold(n_splits=5)\n",
        "KF_2_iteration = KFold(n_splits=5)\n",
        "\n",
        "test_values = list(range(2, 22, 2))\n",
        "test_values = [i/10 for i in test_values]\n",
        "# test_values.reverse()\n",
        "# best_c_arr = []\n",
        "print(test_values)"
      ],
      "metadata": {
        "colab": {
          "base_uri": "https://localhost:8080/"
        },
        "id": "ToHLBdgnIntA",
        "outputId": "1d44c91a-ee6b-435a-c8c6-77aa77a2fcd7"
      },
      "execution_count": 84,
      "outputs": [
        {
          "output_type": "stream",
          "name": "stdout",
          "text": [
            "[0.2, 0.4, 0.6, 0.8, 1.0, 1.2, 1.4, 1.6, 1.8, 2.0]\n"
          ]
        }
      ]
    },
    {
      "cell_type": "code",
      "source": [
        "accuracy_all = []\n",
        "test_val_acc = {}\n",
        "\n",
        "for train_index_1, test_index_1 in KF_1_iteration.split(X, y):\n",
        "  X_train, X_test = X[train_index_1], X[test_index_1]\n",
        "  y_train, y_test = y[train_index_1], y[test_index_1]\n",
        "  \n",
        "  for train_index_2, test_index_2 in KF_2_iteration.split(X, y):\n",
        "    X_train_2, X_test_2 = X[train_index_2], X[test_index_2]\n",
        "    y_train_2, y_test_2 = y[train_index_2], y[test_index_2]\n",
        "\n",
        "    # parameters_dict = {key: None for key in test_values}\n",
        "    for test_val in test_values:\n",
        "      model = SVC(C=test_val)\n",
        "      model.fit(X_train_2, y_train_2)\n",
        "      y_predict = model.predict(X_test_2)\n",
        "      accuracy = accuracy_score(y_test_2, y_predict)\n",
        "    \n",
        "      test_val_acc[test_val] = accuracy\n",
        "\n",
        "    c_best = max(test_val_acc, key=test_val_acc.get)\n",
        "        \n",
        "  model = SVC(C=c_best)\n",
        "  model.fit(X_train, y_train)\n",
        "  y_predict = model.predict(X_test)\n",
        "  accuracy = accuracy_score(y_test, y_predict)\n",
        "  accuracy_all.append(accuracy)\n",
        "  \n",
        "  print(\"BEST C=\", c_best, \"acc=\", accuracy.round(2))"
      ],
      "metadata": {
        "colab": {
          "base_uri": "https://localhost:8080/"
        },
        "id": "7LkNzcXNIwU_",
        "outputId": "ade51715-0a75-4f93-dcee-e130ebe69602"
      },
      "execution_count": 113,
      "outputs": [
        {
          "output_type": "stream",
          "name": "stdout",
          "text": [
            "BEST C= 1.2 acc= 0.77\n",
            "BEST C= 1.2 acc= 0.9\n",
            "BEST C= 1.2 acc= 0.97\n",
            "BEST C= 1.2 acc= 0.95\n",
            "BEST C= 1.2 acc= 0.96\n"
          ]
        }
      ]
    },
    {
      "cell_type": "code",
      "source": [
        "#notki\n",
        "stats = {'a': 1, 'b': 3000, 'c': 0}\n",
        "max(stats, key=stats.get)"
      ],
      "metadata": {
        "colab": {
          "base_uri": "https://localhost:8080/",
          "height": 35
        },
        "id": "nxMqIXawgBhd",
        "outputId": "06c8bf31-6b2c-454e-fb9d-a72d83136f4b"
      },
      "execution_count": 103,
      "outputs": [
        {
          "output_type": "execute_result",
          "data": {
            "text/plain": [
              "'b'"
            ],
            "application/vnd.google.colaboratory.intrinsic+json": {
              "type": "string"
            }
          },
          "metadata": {},
          "execution_count": 103
        }
      ]
    }
  ]
}