{
  "nbformat": 4,
  "nbformat_minor": 0,
  "metadata": {
    "colab": {
      "name": "ZUM-zadanie-img-3.ipynb",
      "provenance": [],
      "collapsed_sections": [],
      "authorship_tag": "ABX9TyNR53NEx5koyC6OsJezVj99",
      "include_colab_link": true
    },
    "kernelspec": {
      "name": "python3",
      "display_name": "Python 3"
    },
    "language_info": {
      "name": "python"
    },
    "accelerator": "GPU"
  },
  "cells": [
    {
      "cell_type": "markdown",
      "metadata": {
        "id": "view-in-github",
        "colab_type": "text"
      },
      "source": [
        "<a href=\"https://colab.research.google.com/github/gapself/pjatk/blob/main/ZUM_zadanie_img_3.ipynb\" target=\"_parent\"><img src=\"https://colab.research.google.com/assets/colab-badge.svg\" alt=\"Open In Colab\"/></a>"
      ]
    },
    {
      "cell_type": "markdown",
      "source": [
        "# s23917 - GABRIELA PASZKIEWICZ // PROJEKT ZUM 3"
      ],
      "metadata": {
        "id": "3JBkWI8B5n-R"
      }
    },
    {
      "cell_type": "code",
      "execution_count": 1,
      "metadata": {
        "id": "YNYQAivXGh7U"
      },
      "outputs": [],
      "source": [
        "from keras.datasets import cifar10 as dataset\n",
        "import numpy as np"
      ]
    },
    {
      "cell_type": "code",
      "source": [
        "(X_train, y_train), (X_test, y_test) = dataset.load_data()"
      ],
      "metadata": {
        "id": "8-xo9lxLKhux"
      },
      "execution_count": 2,
      "outputs": []
    },
    {
      "cell_type": "code",
      "source": [
        "print(\"X_train: {}, y_train: {}\", X_train.shape, y_train.shape)\n",
        "print(\"X_test: {}, y_test: {}\", X_test.shape, y_test.shape)"
      ],
      "metadata": {
        "colab": {
          "base_uri": "https://localhost:8080/"
        },
        "id": "tIUGLg1oPatg",
        "outputId": "dc59948c-b48d-4a0c-e150-57edda714608"
      },
      "execution_count": 3,
      "outputs": [
        {
          "output_type": "stream",
          "name": "stdout",
          "text": [
            "X_train: {}, y_train: {} (50000, 32, 32, 3) (50000, 1)\n",
            "X_test: {}, y_test: {} (10000, 32, 32, 3) (10000, 1)\n"
          ]
        }
      ]
    },
    {
      "cell_type": "code",
      "source": [
        "import matplotlib.pyplot as plt\n",
        "plt.imshow(X_train[5])"
      ],
      "metadata": {
        "colab": {
          "base_uri": "https://localhost:8080/",
          "height": 283
        },
        "id": "N_M2xZQaUI_A",
        "outputId": "7e989c00-e178-4ec2-b37b-6fee72355782"
      },
      "execution_count": 24,
      "outputs": [
        {
          "output_type": "execute_result",
          "data": {
            "text/plain": [
              "<matplotlib.image.AxesImage at 0x7fd886183850>"
            ]
          },
          "metadata": {},
          "execution_count": 24
        },
        {
          "output_type": "display_data",
          "data": {
            "image/png": "[encoded data removed]",
            "text/plain": [
              "<Figure size 432x288 with 1 Axes>"
            ]
          },
          "metadata": {
            "needs_background": "light"
          }
        }
      ]
    },
    {
      "cell_type": "code",
      "source": [
        "image_slice = X_train[5][0:16,0:16]\n",
        "print(image_slice)\n",
        "plt.imshow(image_slice)"
      ],
      "metadata": {
        "colab": {
          "base_uri": "https://localhost:8080/",
          "height": 1000
        },
        "id": "Ghq1Pgc9UtlN",
        "outputId": "a39026f8-0c24-4391-c7d6-a1b99a3dc5a8"
      },
      "execution_count": 25,
      "outputs": [
        {
          "output_type": "stream",
          "name": "stdout",
          "text": [
            "[[[159 102 101]\n",
            "  [150  91  95]\n",
            "  [153  95  97]\n",
            "  [154 124 122]\n",
            "  [138 134 131]\n",
            "  [184 149 137]\n",
            "  [154 103  88]\n",
            "  [ 77  46  40]\n",
            "  [ 61  39  35]\n",
            "  [ 64  42  37]\n",
            "  [ 65  43  38]\n",
            "  [ 70  50  46]\n",
            "  [ 88  71  66]\n",
            "  [102  80  68]\n",
            "  [139 110  89]\n",
            "  [203 169 143]]\n",
            "\n",
            " [[142  75  68]\n",
            "  [146  72  66]\n",
            "  [155  76  65]\n",
            "  [128  94  90]\n",
            "  [ 91  85  85]\n",
            "  [184 126 119]\n",
            "  [152  97  81]\n",
            "  [100  66  60]\n",
            "  [ 86  57  55]\n",
            "  [ 86  57  54]\n",
            "  [ 87  58  55]\n",
            "  [ 77  51  48]\n",
            "  [ 73  53  49]\n",
            "  [ 76  54  46]\n",
            "  [ 95  72  59]\n",
            "  [186 160 144]]\n",
            "\n",
            " [[109  67  75]\n",
            "  [ 99  58  60]\n",
            "  [105  59  52]\n",
            "  [105  73  80]\n",
            "  [ 93  74  86]\n",
            "  [164  95  96]\n",
            "  [101  69  53]\n",
            "  [ 60  44  36]\n",
            "  [ 59  37  32]\n",
            "  [ 60  38  33]\n",
            "  [ 68  46  41]\n",
            "  [ 63  42  38]\n",
            "  [ 63  44  40]\n",
            "  [ 71  53  47]\n",
            "  [ 79  63  57]\n",
            "  [132 115 107]]\n",
            "\n",
            " [[100  70  76]\n",
            "  [ 81  60  57]\n",
            "  [ 82  57  45]\n",
            "  [101  77  84]\n",
            "  [105  91 103]\n",
            "  [156  84  88]\n",
            "  [ 85  56  46]\n",
            "  [ 46  36  31]\n",
            "  [ 45  38  28]\n",
            "  [ 42  35  25]\n",
            "  [ 45  38  28]\n",
            "  [ 49  38  30]\n",
            "  [ 49  33  29]\n",
            "  [ 52  38  33]\n",
            "  [ 64  52  46]\n",
            "  [ 78  68  61]]\n",
            "\n",
            " [[107  71  58]\n",
            "  [106  70  53]\n",
            "  [122  70  50]\n",
            "  [140  94  93]\n",
            "  [107  93  90]\n",
            "  [167  93  86]\n",
            "  [ 92  57  45]\n",
            "  [ 56  37  35]\n",
            "  [ 51  49  38]\n",
            "  [ 46  45  33]\n",
            "  [ 38  38  26]\n",
            "  [ 42  38  30]\n",
            "  [ 51  43  39]\n",
            "  [ 58  50  44]\n",
            "  [ 88  81  71]\n",
            "  [114 109 100]]\n",
            "\n",
            " [[113  82  62]\n",
            "  [147  95  80]\n",
            "  [180  94  84]\n",
            "  [195 100 101]\n",
            "  [140  85  73]\n",
            "  [177 101  80]\n",
            "  [ 81  63  35]\n",
            "  [ 54  42  32]\n",
            "  [103  97  85]\n",
            "  [126 119 107]\n",
            "  [ 92  83  71]\n",
            "  [ 63  53  44]\n",
            "  [ 65  56  49]\n",
            "  [ 64  52  41]\n",
            "  [ 96  83  68]\n",
            "  [171 164 150]]\n",
            "\n",
            " [[101  76  67]\n",
            "  [162  98  91]\n",
            "  [175  78  74]\n",
            "  [166  62  57]\n",
            "  [200 109  97]\n",
            "  [191 103  86]\n",
            "  [108  61  35]\n",
            "  [ 89  52  31]\n",
            "  [159 113  96]\n",
            "  [201 140 127]\n",
            "  [191 117 106]\n",
            "  [171  90  78]\n",
            "  [161  75  61]\n",
            "  [158  69  49]\n",
            "  [162  77  55]\n",
            "  [202 134 117]]\n",
            "\n",
            " [[122  79  75]\n",
            "  [189  98  94]\n",
            "  [203  92  87]\n",
            "  [155  61  46]\n",
            "  [183 102  82]\n",
            "  [214 126 107]\n",
            "  [192  81  68]\n",
            "  [197  67  57]\n",
            "  [216  76  68]\n",
            "  [223  78  71]\n",
            "  [220  76  66]\n",
            "  [223  77  66]\n",
            "  [228  72  62]\n",
            "  [230  73  57]\n",
            "  [227  78  62]\n",
            "  [220  80  67]]\n",
            "\n",
            " [[162  92  85]\n",
            "  [200  79  74]\n",
            "  [206  81  72]\n",
            "  [193  89  74]\n",
            "  [180  79  61]\n",
            "  [214 101  83]\n",
            "  [219  82  67]\n",
            "  [229  73  58]\n",
            "  [232  66  50]\n",
            "  [233  64  49]\n",
            "  [227  64  49]\n",
            "  [220  66  51]\n",
            "  [223  72  58]\n",
            "  [228  72  56]\n",
            "  [231  74  60]\n",
            "  [232  76  62]]\n",
            "\n",
            " [[144  66  51]\n",
            "  [193  62  52]\n",
            "  [191  65  50]\n",
            "  [181  80  62]\n",
            "  [189  69  56]\n",
            "  [206  60  48]\n",
            "  [211  63  45]\n",
            "  [215  74  49]\n",
            "  [217  69  43]\n",
            "  [224  62  41]\n",
            "  [225  62  49]\n",
            "  [216  63  52]\n",
            "  [217  70  56]\n",
            "  [222  75  61]\n",
            "  [221  75  61]\n",
            "  [220  76  62]]\n",
            "\n",
            " [[125  54  35]\n",
            "  [164  43  27]\n",
            "  [160  41  23]\n",
            "  [166  66  47]\n",
            "  [191  83  67]\n",
            "  [187  60  43]\n",
            "  [211  66  50]\n",
            "  [224  66  52]\n",
            "  [221  52  38]\n",
            "  [217  46  33]\n",
            "  [217  66  61]\n",
            "  [227 104  97]\n",
            "  [219 100  85]\n",
            "  [210  80  71]\n",
            "  [217  78  72]\n",
            "  [220  71  65]]\n",
            "\n",
            " [[108  46  27]\n",
            "  [140  33  15]\n",
            "  [135  19   4]\n",
            "  [155  64  44]\n",
            "  [190 112  89]\n",
            "  [194 100  80]\n",
            "  [218  86  76]\n",
            "  [228  60  55]\n",
            "  [218  40  28]\n",
            "  [205  40  26]\n",
            "  [202  78  70]\n",
            "  [222 135 127]\n",
            "  [223 136 124]\n",
            "  [221 116 114]\n",
            "  [216  78  84]\n",
            "  [215  65  67]]\n",
            "\n",
            " [[137  75  55]\n",
            "  [142  42  28]\n",
            "  [144  24  15]\n",
            "  [152  58  43]\n",
            "  [197 113  94]\n",
            "  [180  89  75]\n",
            "  [136  57  47]\n",
            "  [162  49  34]\n",
            "  [202  40  19]\n",
            "  [195  34  14]\n",
            "  [186  51  43]\n",
            "  [196  85  85]\n",
            "  [187  85  84]\n",
            "  [188 112 111]\n",
            "  [180 116 108]\n",
            "  [170 112  94]]\n",
            "\n",
            " [[161 101  78]\n",
            "  [148  48  35]\n",
            "  [158  41  29]\n",
            "  [158  59  50]\n",
            "  [202 115  95]\n",
            "  [155  69  56]\n",
            "  [ 36  10   4]\n",
            "  [ 75  29  16]\n",
            "  [185  37  27]\n",
            "  [195  36  19]\n",
            "  [185  40  31]\n",
            "  [178  40  43]\n",
            "  [160  61  58]\n",
            "  [126  78  73]\n",
            "  [120  78  72]\n",
            "  [146 116  98]]\n",
            "\n",
            " [[146  98  61]\n",
            "  [150  47  20]\n",
            "  [163  45  24]\n",
            "  [157  62  49]\n",
            "  [186 111  86]\n",
            "  [137  60  55]\n",
            "  [ 32   9   8]\n",
            "  [ 61  34  25]\n",
            "  [158  42  37]\n",
            "  [174  41  23]\n",
            "  [168  43  27]\n",
            "  [167  42  36]\n",
            "  [145  59  48]\n",
            "  [ 98  56  47]\n",
            "  [112  58  55]\n",
            "  [129  87  72]]\n",
            "\n",
            " [[152  97  59]\n",
            "  [156  45  15]\n",
            "  [183  47  25]\n",
            "  [177  65  45]\n",
            "  [190 106  80]\n",
            "  [127  52  53]\n",
            "  [ 59  30  29]\n",
            "  [ 89  67  58]\n",
            "  [131  55  49]\n",
            "  [158  54  36]\n",
            "  [164  62  41]\n",
            "  [165  58  45]\n",
            "  [139  57  41]\n",
            "  [123  75  61]\n",
            "  [127  71  61]\n",
            "  [115  66  48]]]\n"
          ]
        },
        {
          "output_type": "execute_result",
          "data": {
            "text/plain": [
              "<matplotlib.image.AxesImage at 0x7fd886109290>"
            ]
          },
          "metadata": {},
          "execution_count": 25
        },
        {
          "output_type": "display_data",
          "data": {
            "image/png": "[encoded data removed]",
            "text/plain": [
              "<Figure size 432x288 with 1 Axes>"
            ]
          },
          "metadata": {
            "needs_background": "light"
          }
        }
      ]
    },
    {
      "cell_type": "code",
      "source": [
        "for i in range(9):\n",
        "  plt.subplot(3, 3, i+1)\n",
        "  plt.imshow(X_train[i])\n",
        "  plt.title(y_train[i])\n",
        "plt.show()\n",
        "\n",
        "for i in range(9):\n",
        "  plt.subplot(3, 3, i+1)\n",
        "  plt.title(y_test[i])\n",
        "  plt.imshow(X_test[i])\n",
        "plt.show()"
      ],
      "metadata": {
        "colab": {
          "base_uri": "https://localhost:8080/",
          "height": 600
        },
        "id": "kCUQnFKsVkRz",
        "outputId": "ea77b031-98c0-46c9-d6dd-cbc738182ae8"
      },
      "execution_count": 26,
      "outputs": [
        {
          "output_type": "stream",
          "name": "stderr",
          "text": [
            "/usr/local/lib/python3.7/dist-packages/matplotlib/text.py:1165: FutureWarning: elementwise comparison failed; returning scalar instead, but in the future will perform elementwise comparison\n",
            "  if s != self._text:\n"
          ]
        },
        {
          "output_type": "display_data",
          "data": {
            "image/png": "[encoded data removed]",
            "text/plain": [
              "<Figure size 432x288 with 9 Axes>"
            ]
          },
          "metadata": {
            "needs_background": "light"
          }
        },
        {
          "output_type": "display_data",
          "data": {
            "image/png": "[encoded data removed]",
            "text/plain": [
              "<Figure size 432x288 with 9 Axes>"
            ]
          },
          "metadata": {
            "needs_background": "light"
          }
        }
      ]
    },
    {
      "cell_type": "markdown",
      "source": [
        "#SVM"
      ],
      "metadata": {
        "id": "jkUUp6owWN0w"
      }
    },
    {
      "cell_type": "code",
      "source": [
        "train_count = 10000\n",
        "X_train = X_train[0:train_count]\n",
        "y_train = y_train[0:train_count]\n",
        "\n",
        "np.unique(y_train, return_counts=True)"
      ],
      "metadata": {
        "colab": {
          "base_uri": "https://localhost:8080/"
        },
        "id": "lBEVxQF0WCOL",
        "outputId": "8f241588-1b17-4f1b-e459-c3d47cd532dc"
      },
      "execution_count": 27,
      "outputs": [
        {
          "output_type": "execute_result",
          "data": {
            "text/plain": [
              "(array([0, 1, 2, 3, 4, 5, 6, 7, 8, 9], dtype=uint8),\n",
              " array([1005,  974, 1032, 1016,  999,  937, 1030, 1001, 1025,  981]))"
            ]
          },
          "metadata": {},
          "execution_count": 27
        }
      ]
    },
    {
      "cell_type": "code",
      "source": [
        "from sklearn import svm\n",
        "classifier = svm.SVC(kernel='poly', gamma=0.1)\n",
        "classifier.fit(X_train.reshape(X_train.shape[0], 32*32*3), y_train)"
      ],
      "metadata": {
        "colab": {
          "base_uri": "https://localhost:8080/"
        },
        "id": "rWLvzPSeqrjm",
        "outputId": "1205f88c-b491-4146-df66-b76ac717c236"
      },
      "execution_count": 28,
      "outputs": [
        {
          "output_type": "stream",
          "name": "stderr",
          "text": [
            "/usr/local/lib/python3.7/dist-packages/sklearn/utils/validation.py:993: DataConversionWarning: A column-vector y was passed when a 1d array was expected. Please change the shape of y to (n_samples, ), for example using ravel().\n",
            "  y = column_or_1d(y, warn=True)\n"
          ]
        },
        {
          "output_type": "execute_result",
          "data": {
            "text/plain": [
              "SVC(gamma=0.1, kernel='poly')"
            ]
          },
          "metadata": {},
          "execution_count": 28
        }
      ]
    },
    {
      "cell_type": "code",
      "source": [
        "y_pred = classifier.predict(X_test.reshape(X_test.shape[0], 32*32*3))"
      ],
      "metadata": {
        "id": "B1ux8iQ6q6aC"
      },
      "execution_count": 29,
      "outputs": []
    },
    {
      "cell_type": "code",
      "source": [
        "from sklearn.metrics import accuracy_score, confusion_matrix\n",
        "print(accuracy_score(y_pred, y_test))\n",
        "print(confusion_matrix(y_pred, y_test))"
      ],
      "metadata": {
        "colab": {
          "base_uri": "https://localhost:8080/"
        },
        "id": "uhAFcu0trV5R",
        "outputId": "78074e31-3dc9-447a-c0fc-0b573ac79171"
      },
      "execution_count": 30,
      "outputs": [
        {
          "output_type": "stream",
          "name": "stdout",
          "text": [
            "0.4166\n",
            "[[504  84  98  42  61  37  30  64 130  80]\n",
            " [ 37 488  14  32  27  14  17  39  85 216]\n",
            " [ 86  33 355 147 191 122 140  87  39  15]\n",
            " [ 35  47  95 295  95 216 152  83  32  43]\n",
            " [ 44  27 141  70 371  87 140 107  32  26]\n",
            " [ 22  33  84 180  63 326  56  87  22  31]\n",
            " [ 18  19  95 103  85  66 402  30   9  24]\n",
            " [ 34  25  71  51  70  75  28 443  21  58]\n",
            " [173  82  30  40  27  35  15  17 576 101]\n",
            " [ 47 162  17  40  10  22  20  43  54 406]]\n"
          ]
        }
      ]
    },
    {
      "cell_type": "markdown",
      "source": [
        "#KLASYFIKACJA CNN"
      ],
      "metadata": {
        "id": "DQ2PY6fdrjJ4"
      }
    },
    {
      "cell_type": "code",
      "source": [
        "from keras.datasets import cifar10 as dataset\n",
        "import numpy as np\n",
        "(X_train, y_train), (X_test, y_test) = dataset.load_data()"
      ],
      "metadata": {
        "id": "WhJwAgo7rm4q"
      },
      "execution_count": 31,
      "outputs": []
    },
    {
      "cell_type": "code",
      "source": [
        "print(\"X_train: {}, y_train: {}\", X_train.shape, y_train.shape)\n",
        "print(\"X_test: {}, y_test: {}\", X_test.shape, y_test.shape)\n",
        "\n",
        "print(type(X_train[0]))\n",
        "print(type(X_train[0][0]))\n",
        "print(type(X_train[0][0][0]))"
      ],
      "metadata": {
        "colab": {
          "base_uri": "https://localhost:8080/"
        },
        "id": "xolPCbOdrssF",
        "outputId": "ade02be5-9f97-4a92-e2e0-38d223f09836"
      },
      "execution_count": 32,
      "outputs": [
        {
          "output_type": "stream",
          "name": "stdout",
          "text": [
            "X_train: {}, y_train: {} (50000, 32, 32, 3) (50000, 1)\n",
            "X_test: {}, y_test: {} (10000, 32, 32, 3) (10000, 1)\n",
            "<class 'numpy.ndarray'>\n",
            "<class 'numpy.ndarray'>\n",
            "<class 'numpy.ndarray'>\n"
          ]
        }
      ]
    },
    {
      "cell_type": "code",
      "source": [
        "X_train = X_train / 255.0\n",
        "X_test = X_test / 255.0"
      ],
      "metadata": {
        "id": "MUKfhYETr2Zl"
      },
      "execution_count": 33,
      "outputs": []
    },
    {
      "cell_type": "code",
      "source": [
        "print(type(X_train[0][0][0][0]))\n",
        "X_train = X_train.astype('float32')\n",
        "X_test = X_test.astype('float32')\n",
        "print(type(X_train[0][0][0][0]))"
      ],
      "metadata": {
        "colab": {
          "base_uri": "https://localhost:8080/"
        },
        "id": "pDoAsXmQr8Pk",
        "outputId": "ddb8af1c-52a4-4907-f582-29f0e4441b0a"
      },
      "execution_count": 34,
      "outputs": [
        {
          "output_type": "stream",
          "name": "stdout",
          "text": [
            "<class 'numpy.float64'>\n",
            "<class 'numpy.float32'>\n"
          ]
        }
      ]
    },
    {
      "cell_type": "markdown",
      "source": [
        "##### kolejny krok - przygotowanie etykiet.\n",
        "##### ćwicząc SVM mieliśmy 10 różnych klas. SVM podzielił przestrzeń wielowymiarową (wymiary=atrybuty) aby móc coś oddzielić od siebie np obiekty należące do 2 klas (np. cukrzyk lub nie). te przestrzenie dzielimy sobie jedną kreską/krzwą, gdy pojawia się wiele klas trzeba troszkę kombinować :D aby móc więcej klas sklasyfikować a nie tylko 2.\n",
        "tyle ile będzie klas = na końcu neuronów będzie tyle samo.\n",
        "np 2 klasy = 2 neurony (kazdy ze swoim scorem)\n",
        "####input >> hidden layer >> output layer\n",
        "żeby zdecydować do jakiej klasy należy wrzucone przez nas do sieci neuronowej zdjęcie - trzeba bedzie spojrzać na output ostatnich neuronów. neuron z wysokim scorem - wygrywa (on stwierdzi za jaką pewnością np. 1 to 1)\n",
        "##### output zdjęcia: [0.1 0.2 0.4 ... 0.7 0.1] gdzie len=10 --> max score = 0.7 , więc zwycięzca to cyfra 8, bo to przedostatni neuron, który odpowiada 8semce.\n",
        "##### [1000] --> score dla cyfry 0, poprawne klasy 1, niepop 0\n",
        "### przekonwertowanie: etykieta >>> wektor, porównanie wektor + wynik\n",
        "#### beznadziejna sieć, gdy [100000] a wynik [0.1 0.2 0.3 ... 0.8]"
      ],
      "metadata": {
        "id": "MeCOrcT2whzH"
      }
    },
    {
      "cell_type": "code",
      "source": [
        "from keras.utils import np_utils\n",
        "Y_train = np_utils.to_categorical(y_train) #wektor macierzy a nie wektor liczby\n",
        "Y_test = np_utils.to_categorical(y_test)"
      ],
      "metadata": {
        "id": "PQby4v89sAa_"
      },
      "execution_count": 35,
      "outputs": []
    },
    {
      "cell_type": "markdown",
      "source": [
        "##### dane w postaci obrazków 3wymiar(nie 2wuwymiarowych)\n",
        "##### 2 x 2 px ==> rgb rgb rgb rgb ---> 2 x 2 x 3 / rrrr gggg bbbb"
      ],
      "metadata": {
        "id": "XjkMsej0102q"
      }
    },
    {
      "cell_type": "code",
      "source": [
        "from keras import backend as K\n",
        "if K.image_data_format() == 'channels_first':\n",
        "    X_train = X_train.reshape(X_train.shape[0], 3, 32, 32)\n",
        "    X_test = X_test.reshape(X_test.shape[0], 3, 32, 32)\n",
        "    input_shape = (3, 32, 32)\n",
        "else: # channels_last\n",
        "    X_train = X_train.reshape(X_train.shape[0], 32, 32, 3)\n",
        "    X_test = X_test.reshape(X_test.shape[0], 32, 32, 3)\n",
        "    input_shape = (32, 32, 3)"
      ],
      "metadata": {
        "id": "UyGDSTwz10GT"
      },
      "execution_count": 36,
      "outputs": []
    },
    {
      "cell_type": "markdown",
      "source": [
        "## Przygotowanie sieci"
      ],
      "metadata": {
        "id": "2N-ASNUv2hVd"
      }
    },
    {
      "cell_type": "code",
      "source": [
        "Y_train[0:10]"
      ],
      "metadata": {
        "colab": {
          "base_uri": "https://localhost:8080/"
        },
        "id": "1O7QYMxk8TkB",
        "outputId": "7e91d55e-cacd-4fb7-a6bc-bc5df65b72ad"
      },
      "execution_count": 37,
      "outputs": [
        {
          "output_type": "execute_result",
          "data": {
            "text/plain": [
              "array([[0., 0., 0., 0., 0., 0., 1., 0., 0., 0.],\n",
              "       [0., 0., 0., 0., 0., 0., 0., 0., 0., 1.],\n",
              "       [0., 0., 0., 0., 0., 0., 0., 0., 0., 1.],\n",
              "       [0., 0., 0., 0., 1., 0., 0., 0., 0., 0.],\n",
              "       [0., 1., 0., 0., 0., 0., 0., 0., 0., 0.],\n",
              "       [0., 1., 0., 0., 0., 0., 0., 0., 0., 0.],\n",
              "       [0., 0., 1., 0., 0., 0., 0., 0., 0., 0.],\n",
              "       [0., 0., 0., 0., 0., 0., 0., 1., 0., 0.],\n",
              "       [0., 0., 0., 0., 0., 0., 0., 0., 1., 0.],\n",
              "       [0., 0., 0., 1., 0., 0., 0., 0., 0., 0.]], dtype=float32)"
            ]
          },
          "metadata": {},
          "execution_count": 37
        }
      ]
    },
    {
      "cell_type": "code",
      "source": [
        "from keras.models import Sequential\n",
        "from keras.layers import Dense, Flatten\n",
        "from keras.layers.convolutional import Conv2D, MaxPooling2D\n",
        "# 1wszy arg = liczba filtrów: 32, wielkość filtra: 3x3 (domyślnie ogarnie 3x3x32)\n",
        "# funkcja aktywacji ReLu\n",
        "# input_shape = (wyżej zaanotowaliśmy) =np (3, 32, 32)\n",
        "model = Sequential([\n",
        "  Conv2D(32, kernel_size=(3, 3), activation='relu', input_shape=input_shape),\n",
        "  MaxPooling2D(pool_size=(2,2)), #zbieramy obszary 2x2 i konwertujemy je na pojedynczy px\n",
        "  Conv2D(32, kernel_size=(3,3), activation='relu'),\n",
        "  MaxPooling2D(pool_size=(2,2)), #robiąc 2 razy MaxPooling = 2x pomniejszamy obrazek\n",
        "  Flatten(), # tutaj 2-wymiarowe, wielo kanalowe 'obrazki' staja sie wektorem (atrybutów) = zamiast px mamy dane tabelkowe\n",
        "  Dense(128, activation='relu'),\n",
        "  Dense(10, activation='softmax')\n",
        "])"
      ],
      "metadata": {
        "id": "dgJSHsFuwc8c"
      },
      "execution_count": 38,
      "outputs": []
    },
    {
      "cell_type": "code",
      "source": [
        "model.compile(loss='categorical_crossentropy', optimizer='adam', metrics=['accuracy'])"
      ],
      "metadata": {
        "id": "Srowzyqx8ima"
      },
      "execution_count": 39,
      "outputs": []
    },
    {
      "cell_type": "markdown",
      "source": [
        "##Trening"
      ],
      "metadata": {
        "id": "AhAw_2488sf2"
      }
    },
    {
      "cell_type": "code",
      "source": [
        "model.fit(X_train, Y_train, epochs=20, batch_size=256)"
      ],
      "metadata": {
        "colab": {
          "base_uri": "https://localhost:8080/"
        },
        "id": "zbBzRQ888vVp",
        "outputId": "d206ec44-048d-4e17-8322-92619c5cdbc1"
      },
      "execution_count": 40,
      "outputs": [
        {
          "output_type": "stream",
          "name": "stdout",
          "text": [
            "Epoch 1/20\n",
            "196/196 [==============================] - 2s 7ms/step - loss: 1.6806 - accuracy: 0.3946\n",
            "Epoch 2/20\n",
            "196/196 [==============================] - 1s 7ms/step - loss: 1.3751 - accuracy: 0.5078\n",
            "Epoch 3/20\n",
            "196/196 [==============================] - 1s 7ms/step - loss: 1.2500 - accuracy: 0.5580\n",
            "Epoch 4/20\n",
            "196/196 [==============================] - 1s 7ms/step - loss: 1.1634 - accuracy: 0.5899\n",
            "Epoch 5/20\n",
            "196/196 [==============================] - 1s 7ms/step - loss: 1.1019 - accuracy: 0.6142\n",
            "Epoch 6/20\n",
            "196/196 [==============================] - 1s 7ms/step - loss: 1.0377 - accuracy: 0.6373\n",
            "Epoch 7/20\n",
            "196/196 [==============================] - 1s 7ms/step - loss: 0.9947 - accuracy: 0.6531\n",
            "Epoch 8/20\n",
            "196/196 [==============================] - 1s 7ms/step - loss: 0.9507 - accuracy: 0.6687\n",
            "Epoch 9/20\n",
            "196/196 [==============================] - 1s 7ms/step - loss: 0.9177 - accuracy: 0.6795\n",
            "Epoch 10/20\n",
            "196/196 [==============================] - 1s 7ms/step - loss: 0.8778 - accuracy: 0.6939\n",
            "Epoch 11/20\n",
            "196/196 [==============================] - 1s 7ms/step - loss: 0.8564 - accuracy: 0.7032\n",
            "Epoch 12/20\n",
            "196/196 [==============================] - 1s 7ms/step - loss: 0.8262 - accuracy: 0.7125\n",
            "Epoch 13/20\n",
            "196/196 [==============================] - 1s 7ms/step - loss: 0.8038 - accuracy: 0.7207\n",
            "Epoch 14/20\n",
            "196/196 [==============================] - 1s 7ms/step - loss: 0.7694 - accuracy: 0.7334\n",
            "Epoch 15/20\n",
            "196/196 [==============================] - 1s 7ms/step - loss: 0.7528 - accuracy: 0.7399\n",
            "Epoch 16/20\n",
            "196/196 [==============================] - 1s 7ms/step - loss: 0.7202 - accuracy: 0.7529\n",
            "Epoch 17/20\n",
            "196/196 [==============================] - 1s 7ms/step - loss: 0.7026 - accuracy: 0.7579\n",
            "Epoch 18/20\n",
            "196/196 [==============================] - 1s 7ms/step - loss: 0.6824 - accuracy: 0.7635\n",
            "Epoch 19/20\n",
            "196/196 [==============================] - 1s 7ms/step - loss: 0.6637 - accuracy: 0.7701\n",
            "Epoch 20/20\n",
            "196/196 [==============================] - 1s 7ms/step - loss: 0.6361 - accuracy: 0.7781\n"
          ]
        },
        {
          "output_type": "execute_result",
          "data": {
            "text/plain": [
              "<keras.callbacks.History at 0x7fd75bf9b650>"
            ]
          },
          "metadata": {},
          "execution_count": 40
        }
      ]
    },
    {
      "cell_type": "markdown",
      "source": [
        "## Ewaluacja"
      ],
      "metadata": {
        "id": "H-jT2-uwAQO7"
      }
    },
    {
      "cell_type": "code",
      "source": [
        "scores = model.evaluate(X_test, Y_test)"
      ],
      "metadata": {
        "colab": {
          "base_uri": "https://localhost:8080/"
        },
        "id": "WKG8p88_AShs",
        "outputId": "526add09-e44d-45d4-df58-33e2b569529f"
      },
      "execution_count": 41,
      "outputs": [
        {
          "output_type": "stream",
          "name": "stdout",
          "text": [
            "313/313 [==============================] - 1s 3ms/step - loss: 0.9079 - accuracy: 0.6922\n"
          ]
        }
      ]
    },
    {
      "cell_type": "code",
      "source": [
        "print(scores[1])"
      ],
      "metadata": {
        "colab": {
          "base_uri": "https://localhost:8080/"
        },
        "id": "wqHHGccfAENT",
        "outputId": "30f59db6-8d17-4e22-d342-b2d4e82c5912"
      },
      "execution_count": 42,
      "outputs": [
        {
          "output_type": "stream",
          "name": "stdout",
          "text": [
            "0.6922000050544739\n"
          ]
        }
      ]
    },
    {
      "cell_type": "code",
      "source": [
        "# model.predict (_classes), zapiszmy sobie do wektora y_pred\n",
        "y_pred = model.predict(X_test) #wektory dla wszystkich neuronów, kazdy teraz dostaje 10 wejsc\n",
        "y_pred = np.argmax(y_pred, axis=1) #wybieramy te, ktore maja najwieksza wartosc\n",
        "print(y_pred[:20])\n",
        "print(y_test[:20].T)"
      ],
      "metadata": {
        "colab": {
          "base_uri": "https://localhost:8080/"
        },
        "id": "gGLMqCBAAcpb",
        "outputId": "260a3ac1-7e88-427d-cbbc-0b45506a29b6"
      },
      "execution_count": 43,
      "outputs": [
        {
          "output_type": "stream",
          "name": "stdout",
          "text": [
            "[3 8 1 0 6 6 1 6 3 1 4 9 5 7 9 8 5 4 8 6]\n",
            "[[3 8 8 0 6 6 1 6 3 1 0 9 5 7 9 8 5 7 8 6]]\n"
          ]
        }
      ]
    },
    {
      "cell_type": "code",
      "source": [
        "#spr konkret instancje\n",
        "false_pred = np.nonzero(y_pred != y_test)[1]\n",
        "print(false_pred[0:10])"
      ],
      "metadata": {
        "colab": {
          "base_uri": "https://localhost:8080/"
        },
        "id": "CCItzigwA06n",
        "outputId": "06645b29-3ce6-4712-9284-cb98d078ccda"
      },
      "execution_count": 44,
      "outputs": [
        {
          "output_type": "stream",
          "name": "stdout",
          "text": [
            "[ 1  2  3  4  5  6  7  9 10 11]\n"
          ]
        }
      ]
    },
    {
      "cell_type": "code",
      "source": [
        "#rysujemy instancje, gdzie sobie nie poradził\n",
        "import matplotlib.pyplot as plt\n",
        "\n",
        "for i in range(9):\n",
        "  instance_index = false_pred[i] # indeks instancji do narysowania\n",
        "  plt.subplot(3, 3, i + 1)\n",
        "  plt.tight_layout()\n",
        "  plt.imshow(X_test[instance_index].reshape(32, 32, 3))\n",
        "  plt.title(\"l:{} p:{}\".format(y_test[instance_index], y_pred[instance_index]))"
      ],
      "metadata": {
        "colab": {
          "base_uri": "https://localhost:8080/",
          "height": 297
        },
        "id": "0HCFrugSBzmf",
        "outputId": "9cd08a25-711c-465f-cecd-6db48b557463"
      },
      "execution_count": 45,
      "outputs": [
        {
          "output_type": "display_data",
          "data": {
            "image/png": "[encoded data removed]",
            "text/plain": [
              "<Figure size 432x288 with 9 Axes>"
            ]
          },
          "metadata": {
            "needs_background": "light"
          }
        }
      ]
    },
    {
      "cell_type": "markdown",
      "source": [
        "## Zbiór walidacyjny + early stopping "
      ],
      "metadata": {
        "id": "laNj7Q2MDURR"
      }
    },
    {
      "cell_type": "code",
      "source": [
        "from keras.callbacks import EarlyStopping\n",
        "from keras.datasets import cifar10 as dataset\n",
        "import numpy as np"
      ],
      "metadata": {
        "id": "YzAEUcp4B-oh"
      },
      "execution_count": 4,
      "outputs": []
    },
    {
      "cell_type": "code",
      "source": [
        "(X_train, y_train), (X_test, y_test) = dataset.load_data()\n",
        "X_train = X_train / 255.0\n",
        "X_test = X_test / 255.0"
      ],
      "metadata": {
        "id": "cUchCOHYFTiT"
      },
      "execution_count": 5,
      "outputs": []
    },
    {
      "cell_type": "code",
      "source": [
        "from keras.utils import np_utils\n",
        "Y_train = np_utils.to_categorical(y_train, 10)\n",
        "Y_test = np_utils.to_categorical(y_test, 10)"
      ],
      "metadata": {
        "id": "zk5IH2EBGOoD"
      },
      "execution_count": 6,
      "outputs": []
    },
    {
      "cell_type": "code",
      "source": [
        "from keras import backend as K\n",
        "if K.image_data_format() == 'channels_first':\n",
        "    X_train = X_train.reshape(X_train.shape[0], 3, 32, 32)\n",
        "    X_test = X_test.reshape(X_test.shape[0], 3, 32, 32)\n",
        "    input_shape = (3, 32, 32)\n",
        "else:\n",
        "    X_train = X_train.reshape(X_train.shape[0], 32, 32, 3)\n",
        "    X_test = X_test.reshape(X_test.shape[0], 32, 32, 3)\n",
        "    input_shape = (32, 32, 3)"
      ],
      "metadata": {
        "id": "zhujU7lOH93S"
      },
      "execution_count": 7,
      "outputs": []
    },
    {
      "cell_type": "code",
      "source": [
        "from keras.models import Sequential\n",
        "from keras.layers import Dense, Flatten\n",
        "from keras.layers.convolutional import Conv2D, MaxPooling2D\n",
        "\n",
        "model = Sequential([\n",
        "  Conv2D(32, kernel_size=(3, 3), activation='relu', input_shape=input_shape),\n",
        "  MaxPooling2D(pool_size=(2,2)), \n",
        "  Conv2D(32, kernel_size=(3,3), activation='relu'),\n",
        "  MaxPooling2D(pool_size=(2,2)), \n",
        "  Flatten(),\n",
        "  Dense(128, activation='relu'),\n",
        "  Dense(10, activation='softmax')\n",
        "])"
      ],
      "metadata": {
        "id": "g6DSJ3czIEpS"
      },
      "execution_count": 50,
      "outputs": []
    },
    {
      "cell_type": "code",
      "source": [
        "monitor = EarlyStopping(monitor='val_loss', mode='min', patience=5)"
      ],
      "metadata": {
        "id": "FlqetTIVILoP"
      },
      "execution_count": 12,
      "outputs": []
    },
    {
      "cell_type": "code",
      "source": [
        "model.compile(loss='categorical_crossentropy', optimizer='adam', metrics=['accuracy'])"
      ],
      "metadata": {
        "id": "YaGk-PeSJmoq"
      },
      "execution_count": 52,
      "outputs": []
    },
    {
      "cell_type": "code",
      "source": [
        "model.fit(X_train, Y_train, epochs=20, batch_size=256, callbacks=[monitor], validation_split=0.1)"
      ],
      "metadata": {
        "colab": {
          "base_uri": "https://localhost:8080/"
        },
        "id": "MGHFa3lYKB22",
        "outputId": "1c152a22-d321-4bbe-cdd9-77fe069c1da0"
      },
      "execution_count": 53,
      "outputs": [
        {
          "output_type": "stream",
          "name": "stdout",
          "text": [
            "Epoch 1/20\n",
            "176/176 [==============================] - 2s 10ms/step - loss: 1.7241 - accuracy: 0.3782 - val_loss: 1.4786 - val_accuracy: 0.4890\n",
            "Epoch 2/20\n",
            "176/176 [==============================] - 1s 8ms/step - loss: 1.3941 - accuracy: 0.5012 - val_loss: 1.2936 - val_accuracy: 0.5468\n",
            "Epoch 3/20\n",
            "176/176 [==============================] - 1s 7ms/step - loss: 1.2593 - accuracy: 0.5538 - val_loss: 1.2060 - val_accuracy: 0.5772\n",
            "Epoch 4/20\n",
            "176/176 [==============================] - 1s 8ms/step - loss: 1.1718 - accuracy: 0.5882 - val_loss: 1.1455 - val_accuracy: 0.6058\n",
            "Epoch 5/20\n",
            "176/176 [==============================] - 1s 8ms/step - loss: 1.0987 - accuracy: 0.6127 - val_loss: 1.1014 - val_accuracy: 0.6182\n",
            "Epoch 6/20\n",
            "176/176 [==============================] - 1s 8ms/step - loss: 1.0556 - accuracy: 0.6325 - val_loss: 1.0330 - val_accuracy: 0.6438\n",
            "Epoch 7/20\n",
            "176/176 [==============================] - 1s 7ms/step - loss: 1.0048 - accuracy: 0.6506 - val_loss: 1.0075 - val_accuracy: 0.6572\n",
            "Epoch 8/20\n",
            "176/176 [==============================] - 1s 7ms/step - loss: 0.9672 - accuracy: 0.6625 - val_loss: 0.9890 - val_accuracy: 0.6592\n",
            "Epoch 9/20\n",
            "176/176 [==============================] - 1s 7ms/step - loss: 0.9331 - accuracy: 0.6734 - val_loss: 1.0140 - val_accuracy: 0.6480\n",
            "Epoch 10/20\n",
            "176/176 [==============================] - 1s 7ms/step - loss: 0.9025 - accuracy: 0.6860 - val_loss: 0.9689 - val_accuracy: 0.6708\n",
            "Epoch 11/20\n",
            "176/176 [==============================] - 1s 7ms/step - loss: 0.8744 - accuracy: 0.6945 - val_loss: 0.9333 - val_accuracy: 0.6830\n",
            "Epoch 12/20\n",
            "176/176 [==============================] - 1s 8ms/step - loss: 0.8516 - accuracy: 0.7032 - val_loss: 0.9136 - val_accuracy: 0.6942\n",
            "Epoch 13/20\n",
            "176/176 [==============================] - 1s 8ms/step - loss: 0.8324 - accuracy: 0.7075 - val_loss: 0.9303 - val_accuracy: 0.6840\n",
            "Epoch 14/20\n",
            "176/176 [==============================] - 1s 7ms/step - loss: 0.7979 - accuracy: 0.7229 - val_loss: 0.9219 - val_accuracy: 0.6914\n",
            "Epoch 15/20\n",
            "176/176 [==============================] - 1s 8ms/step - loss: 0.7804 - accuracy: 0.7291 - val_loss: 0.9013 - val_accuracy: 0.6966\n",
            "Epoch 16/20\n",
            "176/176 [==============================] - 2s 9ms/step - loss: 0.7627 - accuracy: 0.7371 - val_loss: 0.8909 - val_accuracy: 0.7066\n",
            "Epoch 17/20\n",
            "176/176 [==============================] - 1s 7ms/step - loss: 0.7358 - accuracy: 0.7437 - val_loss: 0.9027 - val_accuracy: 0.6976\n",
            "Epoch 18/20\n",
            "176/176 [==============================] - 1s 7ms/step - loss: 0.7197 - accuracy: 0.7512 - val_loss: 0.9012 - val_accuracy: 0.6962\n",
            "Epoch 19/20\n",
            "176/176 [==============================] - 1s 8ms/step - loss: 0.6999 - accuracy: 0.7577 - val_loss: 0.9084 - val_accuracy: 0.7044\n",
            "Epoch 20/20\n",
            "176/176 [==============================] - 1s 7ms/step - loss: 0.6782 - accuracy: 0.7646 - val_loss: 0.8772 - val_accuracy: 0.7074\n"
          ]
        },
        {
          "output_type": "execute_result",
          "data": {
            "text/plain": [
              "<keras.callbacks.History at 0x7fd83149ff90>"
            ]
          },
          "metadata": {},
          "execution_count": 53
        }
      ]
    },
    {
      "cell_type": "code",
      "source": [
        "scores = model.evaluate(X_test, Y_test)"
      ],
      "metadata": {
        "colab": {
          "base_uri": "https://localhost:8080/"
        },
        "id": "Ue4uo-VOWPtb",
        "outputId": "bf763adf-7ad8-42ce-856f-225710a98557"
      },
      "execution_count": 54,
      "outputs": [
        {
          "output_type": "stream",
          "name": "stdout",
          "text": [
            "313/313 [==============================] - 1s 3ms/step - loss: 0.9142 - accuracy: 0.6910\n"
          ]
        }
      ]
    },
    {
      "cell_type": "code",
      "source": [
        "print(scores[1])"
      ],
      "metadata": {
        "colab": {
          "base_uri": "https://localhost:8080/"
        },
        "id": "4-R7oM19M9dC",
        "outputId": "57359344-c7a5-47fa-d6a9-c3c695e5250e"
      },
      "execution_count": 55,
      "outputs": [
        {
          "output_type": "stream",
          "name": "stdout",
          "text": [
            "0.6909999847412109\n"
          ]
        }
      ]
    },
    {
      "cell_type": "markdown",
      "source": [
        "#### Kolejnym krokiem jest próba poprawienia wyniku. Spróbuj wprowadzić modyfikacje (np. dodawanie, usuwanie lub modyfikacja warstw Conv2D, Dense, Pooling, dodanie Dropoutu, modyfikacja hiperparametrów, itd.) do sieci, które mogłyby poprawić jej skuteczność. Stwórz co najmniej 3 takie sieci i opisz wprowadzone w nich zmiany."
      ],
      "metadata": {
        "id": "frYt3hIiWsNE"
      }
    },
    {
      "cell_type": "markdown",
      "source": [
        "# 1 poprawa wyników"
      ],
      "metadata": {
        "id": "E7V0Jb0xNkSZ"
      }
    },
    {
      "cell_type": "code",
      "source": [
        "from keras.models import Sequential\n",
        "from keras.layers import Dense, Flatten\n",
        "from keras.layers import Dropout\n",
        "from keras.layers.convolutional import Conv2D, MaxPooling2D\n",
        "\n",
        "model_1 = Sequential([\n",
        "  Conv2D(32, kernel_size=(3, 3), activation='relu', input_shape=input_shape),\n",
        "  MaxPooling2D(pool_size=(2,2)), \n",
        "  Conv2D(32, kernel_size=(3,3), activation='relu'),\n",
        "  MaxPooling2D(pool_size=(2,2)),\n",
        "  Dropout(0.5),\n",
        "  Flatten(),  # this converts our 3D feature maps to 1D feature vectors\n",
        "  Dense(128, activation='relu'),\n",
        "  Dense(10, activation='softmax')\n",
        "])"
      ],
      "metadata": {
        "id": "5pV-WrJiPAna"
      },
      "execution_count": 56,
      "outputs": []
    },
    {
      "cell_type": "code",
      "source": [
        "# monitor = EarlyStopping(monitor='val_loss', min_delta=1e-3, patience=5, restore_best_weights=True, verbose=1, mode=\"auto\")\n",
        "monitor = EarlyStopping(monitor='val_loss', mode='min', patience=5)"
      ],
      "metadata": {
        "id": "DqL409HMUgSs"
      },
      "execution_count": 57,
      "outputs": []
    },
    {
      "cell_type": "code",
      "source": [
        "model_1.compile(loss='categorical_crossentropy', optimizer='adam', metrics=['accuracy'])"
      ],
      "metadata": {
        "id": "XK779hccU43y"
      },
      "execution_count": 58,
      "outputs": []
    },
    {
      "cell_type": "code",
      "source": [
        "model_1.fit(X_train, Y_train, epochs=20, batch_size=256, callbacks=[monitor], validation_split=0.1)"
      ],
      "metadata": {
        "colab": {
          "base_uri": "https://localhost:8080/"
        },
        "id": "IYLe_BK6Qnsn",
        "outputId": "8ef16136-5b9d-4589-9d5d-79be645c3a01"
      },
      "execution_count": 59,
      "outputs": [
        {
          "output_type": "stream",
          "name": "stdout",
          "text": [
            "Epoch 1/20\n",
            "176/176 [==============================] - 2s 9ms/step - loss: 1.7636 - accuracy: 0.3594 - val_loss: 1.4522 - val_accuracy: 0.4782\n",
            "Epoch 2/20\n",
            "176/176 [==============================] - 1s 7ms/step - loss: 1.4339 - accuracy: 0.4859 - val_loss: 1.2972 - val_accuracy: 0.5414\n",
            "Epoch 3/20\n",
            "176/176 [==============================] - 1s 7ms/step - loss: 1.3248 - accuracy: 0.5275 - val_loss: 1.2018 - val_accuracy: 0.5782\n",
            "Epoch 4/20\n",
            "176/176 [==============================] - 1s 7ms/step - loss: 1.2541 - accuracy: 0.5555 - val_loss: 1.1542 - val_accuracy: 0.6000\n",
            "Epoch 5/20\n",
            "176/176 [==============================] - 1s 8ms/step - loss: 1.2073 - accuracy: 0.5739 - val_loss: 1.0974 - val_accuracy: 0.6222\n",
            "Epoch 6/20\n",
            "176/176 [==============================] - 1s 7ms/step - loss: 1.1591 - accuracy: 0.5936 - val_loss: 1.0497 - val_accuracy: 0.6408\n",
            "Epoch 7/20\n",
            "176/176 [==============================] - 1s 8ms/step - loss: 1.1244 - accuracy: 0.6043 - val_loss: 1.0297 - val_accuracy: 0.6412\n",
            "Epoch 8/20\n",
            "176/176 [==============================] - 1s 8ms/step - loss: 1.0815 - accuracy: 0.6186 - val_loss: 1.0070 - val_accuracy: 0.6512\n",
            "Epoch 9/20\n",
            "176/176 [==============================] - 1s 7ms/step - loss: 1.0569 - accuracy: 0.6294 - val_loss: 0.9596 - val_accuracy: 0.6696\n",
            "Epoch 10/20\n",
            "176/176 [==============================] - 1s 8ms/step - loss: 1.0306 - accuracy: 0.6394 - val_loss: 0.9594 - val_accuracy: 0.6646\n",
            "Epoch 11/20\n",
            "176/176 [==============================] - 1s 7ms/step - loss: 1.0211 - accuracy: 0.6426 - val_loss: 0.9358 - val_accuracy: 0.6740\n",
            "Epoch 12/20\n",
            "176/176 [==============================] - 2s 10ms/step - loss: 0.9902 - accuracy: 0.6515 - val_loss: 0.9181 - val_accuracy: 0.6878\n",
            "Epoch 13/20\n",
            "176/176 [==============================] - 1s 8ms/step - loss: 0.9654 - accuracy: 0.6629 - val_loss: 0.8938 - val_accuracy: 0.6926\n",
            "Epoch 14/20\n",
            "176/176 [==============================] - 1s 8ms/step - loss: 0.9437 - accuracy: 0.6706 - val_loss: 0.8760 - val_accuracy: 0.6928\n",
            "Epoch 15/20\n",
            "176/176 [==============================] - 2s 9ms/step - loss: 0.9350 - accuracy: 0.6721 - val_loss: 0.8718 - val_accuracy: 0.7024\n",
            "Epoch 16/20\n",
            "176/176 [==============================] - 2s 10ms/step - loss: 0.9218 - accuracy: 0.6808 - val_loss: 0.8428 - val_accuracy: 0.7144\n",
            "Epoch 17/20\n",
            "176/176 [==============================] - 1s 8ms/step - loss: 0.9009 - accuracy: 0.6846 - val_loss: 0.8901 - val_accuracy: 0.6894\n",
            "Epoch 18/20\n",
            "176/176 [==============================] - 2s 9ms/step - loss: 0.8855 - accuracy: 0.6909 - val_loss: 0.8244 - val_accuracy: 0.7156\n",
            "Epoch 19/20\n",
            "176/176 [==============================] - 2s 10ms/step - loss: 0.8678 - accuracy: 0.6967 - val_loss: 0.8672 - val_accuracy: 0.6972\n",
            "Epoch 20/20\n",
            "176/176 [==============================] - 2s 9ms/step - loss: 0.8549 - accuracy: 0.6992 - val_loss: 0.8329 - val_accuracy: 0.7086\n"
          ]
        },
        {
          "output_type": "execute_result",
          "data": {
            "text/plain": [
              "<keras.callbacks.History at 0x7fd8312d8cd0>"
            ]
          },
          "metadata": {},
          "execution_count": 59
        }
      ]
    },
    {
      "cell_type": "code",
      "source": [
        "scores = model_1.evaluate(X_test, Y_test)"
      ],
      "metadata": {
        "colab": {
          "base_uri": "https://localhost:8080/"
        },
        "id": "H--LMwcxWT9C",
        "outputId": "91465050-60bc-47f8-c635-5cd721e02ada"
      },
      "execution_count": 60,
      "outputs": [
        {
          "output_type": "stream",
          "name": "stdout",
          "text": [
            "313/313 [==============================] - 1s 3ms/step - loss: 0.8605 - accuracy: 0.7052\n"
          ]
        }
      ]
    },
    {
      "cell_type": "code",
      "source": [
        "print(scores[1])"
      ],
      "metadata": {
        "colab": {
          "base_uri": "https://localhost:8080/"
        },
        "id": "q7AXuPxDVExz",
        "outputId": "3e3daa82-b490-4a90-b81f-9e50956d75a1"
      },
      "execution_count": 61,
      "outputs": [
        {
          "output_type": "stream",
          "name": "stdout",
          "text": [
            "0.7052000164985657\n"
          ]
        }
      ]
    },
    {
      "cell_type": "markdown",
      "source": [
        "#### Wynik zmienił się z ~0.69 na ~0.71"
      ],
      "metadata": {
        "id": "RNFGD9MJ4GyN"
      }
    },
    {
      "cell_type": "markdown",
      "source": [
        "#### W tej konfiguracji użyłam Droputu. Zastosowanie dropout w praktyce prowadzi do sytuacji, w której architektura sieci zmienia się dynamicznie i otrzymujemy model, w którym jeden zbiór danych został wykorzystany do nauczenia wielu sieci o różniących się architekturach, a następnie został przetestowany na zbiorze testowym z uśrednionymi wartościami wag. Użycie dropout w Keras sprowadza się do dodania kolejnej warstwy o nazwie Dropout(rate), której hiperparametrem jest prawdopodobieństwo, z jakim neuron zostanie usunięty z sieci.\n",
        "\n"
      ],
      "metadata": {
        "id": "fFL7MwKG1HYl"
      }
    },
    {
      "cell_type": "markdown",
      "source": [
        "# 2 poprawa wyników"
      ],
      "metadata": {
        "id": "kxEiHU7CNsC7"
      }
    },
    {
      "cell_type": "code",
      "source": [
        "from keras.models import Sequential\n",
        "from keras.layers import Dense, Flatten, Dropout, BatchNormalization\n",
        "from keras.layers.convolutional import Conv2D, MaxPooling2D\n",
        "\n",
        "model_2 = Sequential([\n",
        "  Conv2D(32, kernel_size=(3, 3), activation='relu', input_shape=input_shape),\n",
        "  BatchNormalization(),\n",
        "  Conv2D(32, kernel_size=(3,3), activation='relu'),\n",
        "  BatchNormalization(),\n",
        "  MaxPooling2D(pool_size=(2,2)),\n",
        "\n",
        "  Conv2D(32, kernel_size=(3, 3), activation='relu', input_shape=input_shape),\n",
        "  BatchNormalization(),\n",
        "  Conv2D(32, kernel_size=(3,3), activation='relu'),\n",
        "  BatchNormalization(),\n",
        "  MaxPooling2D(pool_size=(2,2)),\n",
        "\n",
        "  Flatten(),\n",
        "  Dense(128, activation='relu'),\n",
        "  Dropout(0.15),\n",
        "  Dense(10, activation='softmax')\n",
        "])"
      ],
      "metadata": {
        "id": "sA9lBO7e4cjY"
      },
      "execution_count": 62,
      "outputs": []
    },
    {
      "cell_type": "code",
      "source": [
        "model_2.compile(loss='categorical_crossentropy', optimizer='adam', metrics=['accuracy'])"
      ],
      "metadata": {
        "id": "nlG5wIWf4l_g"
      },
      "execution_count": 63,
      "outputs": []
    },
    {
      "cell_type": "code",
      "source": [
        "model_2.fit(X_train, Y_train, epochs=20, batch_size=256, callbacks=[monitor], validation_split=0.1)"
      ],
      "metadata": {
        "colab": {
          "base_uri": "https://localhost:8080/"
        },
        "id": "XKUNrtMa4zGR",
        "outputId": "abf4837c-e1f1-46db-ee93-aa03d9889ef0"
      },
      "execution_count": 64,
      "outputs": [
        {
          "output_type": "stream",
          "name": "stdout",
          "text": [
            "Epoch 1/20\n",
            "176/176 [==============================] - 4s 19ms/step - loss: 1.5368 - accuracy: 0.4472 - val_loss: 2.6225 - val_accuracy: 0.2066\n",
            "Epoch 2/20\n",
            "176/176 [==============================] - 3s 18ms/step - loss: 1.1229 - accuracy: 0.6016 - val_loss: 2.4723 - val_accuracy: 0.2982\n",
            "Epoch 3/20\n",
            "176/176 [==============================] - 3s 16ms/step - loss: 0.9388 - accuracy: 0.6707 - val_loss: 1.3366 - val_accuracy: 0.5450\n",
            "Epoch 4/20\n",
            "176/176 [==============================] - 3s 16ms/step - loss: 0.8264 - accuracy: 0.7097 - val_loss: 0.8900 - val_accuracy: 0.6892\n",
            "Epoch 5/20\n",
            "176/176 [==============================] - 3s 16ms/step - loss: 0.7378 - accuracy: 0.7424 - val_loss: 0.8719 - val_accuracy: 0.6984\n",
            "Epoch 6/20\n",
            "176/176 [==============================] - 3s 16ms/step - loss: 0.6698 - accuracy: 0.7648 - val_loss: 0.7847 - val_accuracy: 0.7330\n",
            "Epoch 7/20\n",
            "176/176 [==============================] - 3s 16ms/step - loss: 0.6153 - accuracy: 0.7845 - val_loss: 0.7782 - val_accuracy: 0.7314\n",
            "Epoch 8/20\n",
            "176/176 [==============================] - 3s 18ms/step - loss: 0.5623 - accuracy: 0.8022 - val_loss: 0.8770 - val_accuracy: 0.7086\n",
            "Epoch 9/20\n",
            "176/176 [==============================] - 3s 16ms/step - loss: 0.5179 - accuracy: 0.8169 - val_loss: 0.7594 - val_accuracy: 0.7418\n",
            "Epoch 10/20\n",
            "176/176 [==============================] - 3s 16ms/step - loss: 0.4774 - accuracy: 0.8316 - val_loss: 0.8023 - val_accuracy: 0.7356\n",
            "Epoch 11/20\n",
            "176/176 [==============================] - 3s 16ms/step - loss: 0.4435 - accuracy: 0.8424 - val_loss: 0.8016 - val_accuracy: 0.7336\n",
            "Epoch 12/20\n",
            "176/176 [==============================] - 3s 16ms/step - loss: 0.4072 - accuracy: 0.8541 - val_loss: 0.8374 - val_accuracy: 0.7394\n",
            "Epoch 13/20\n",
            "176/176 [==============================] - 3s 18ms/step - loss: 0.3759 - accuracy: 0.8648 - val_loss: 0.8353 - val_accuracy: 0.7412\n",
            "Epoch 14/20\n",
            "176/176 [==============================] - 4s 21ms/step - loss: 0.3516 - accuracy: 0.8750 - val_loss: 0.8267 - val_accuracy: 0.7488\n"
          ]
        },
        {
          "output_type": "execute_result",
          "data": {
            "text/plain": [
              "<keras.callbacks.History at 0x7fd83112e090>"
            ]
          },
          "metadata": {},
          "execution_count": 64
        }
      ]
    },
    {
      "cell_type": "code",
      "source": [
        "scores = model_2.evaluate(X_test, Y_test)"
      ],
      "metadata": {
        "colab": {
          "base_uri": "https://localhost:8080/"
        },
        "id": "JSM7_DnY4pIE",
        "outputId": "4d9ba770-14a5-4441-d4ee-ec3c68e17425"
      },
      "execution_count": 65,
      "outputs": [
        {
          "output_type": "stream",
          "name": "stdout",
          "text": [
            "313/313 [==============================] - 1s 4ms/step - loss: 0.8906 - accuracy: 0.7380\n"
          ]
        }
      ]
    },
    {
      "cell_type": "code",
      "source": [
        "print(scores[1])"
      ],
      "metadata": {
        "colab": {
          "base_uri": "https://localhost:8080/"
        },
        "id": "Gco_Mc-n45Si",
        "outputId": "56a20274-9412-4b79-ff54-40424d6d560d"
      },
      "execution_count": 66,
      "outputs": [
        {
          "output_type": "stream",
          "name": "stdout",
          "text": [
            "0.7379999756813049\n"
          ]
        }
      ]
    },
    {
      "cell_type": "markdown",
      "source": [
        "###Wynik zmienił się z ~0.69 na ~0.74"
      ],
      "metadata": {
        "id": "me8oB4pADQRz"
      }
    },
    {
      "cell_type": "markdown",
      "source": [
        "### Tym razem w warstwie konwolucyjnej zastosowałam dodatkowo normalizację batchową. Przy okazji podwoiłam warstwy Conv2D, BatchNormalization() i Pooling.\n",
        "\n"
      ],
      "metadata": {
        "id": "hAMQZMBMDEsp"
      }
    },
    {
      "cell_type": "markdown",
      "source": [
        "#3 poprawa wyników"
      ],
      "metadata": {
        "id": "qNeYuGCONtVZ"
      }
    },
    {
      "cell_type": "code",
      "source": [
        "from keras.models import Sequential\n",
        "from keras.layers import Dense, Flatten, Dropout, BatchNormalization\n",
        "from keras.layers.convolutional import Conv2D, MaxPooling2D\n",
        "from keras import regularizers\n",
        "\n",
        "model_3 = Sequential([    \n",
        "  Conv2D(32, kernel_size=(3, 3), padding=\"same\", activation='relu', input_shape=input_shape),\n",
        "  MaxPooling2D(pool_size=(2,2)),\n",
        "\n",
        "  Conv2D(32, kernel_size=(3,3), padding=\"same\", activation='relu'),\n",
        "  MaxPooling2D(pool_size=(2,2)),\n",
        "\n",
        "  Conv2D(64, kernel_size=(3, 3), padding=\"same\", activation=\"relu\"),\n",
        "  MaxPooling2D(pool_size=(2,2)),\n",
        "  Dropout(0.4),\n",
        "\n",
        "  Flatten(),  # this converts our 3D feature maps to 1D feature vectors\n",
        "  Dense(128, activation='relu'),\n",
        "  Dense(10, activation='softmax', kernel_regularizer=regularizers.l2(0.01))\n",
        "])"
      ],
      "metadata": {
        "id": "UFelRuF-4s_s"
      },
      "execution_count": 79,
      "outputs": []
    },
    {
      "cell_type": "code",
      "source": [
        "model_3.compile(loss='categorical_crossentropy', optimizer='adam', metrics=['accuracy'])"
      ],
      "metadata": {
        "id": "Ap4NU1bg4rQ_"
      },
      "execution_count": 80,
      "outputs": []
    },
    {
      "cell_type": "code",
      "source": [
        "model_3.fit(X_train, Y_train, epochs=20, batch_size=256, callbacks=[monitor], validation_split=0.1)"
      ],
      "metadata": {
        "colab": {
          "base_uri": "https://localhost:8080/"
        },
        "id": "j5z4H-Al41Sq",
        "outputId": "c46a85ed-1b0d-47e0-8dc0-e8712455202b"
      },
      "execution_count": 81,
      "outputs": [
        {
          "output_type": "stream",
          "name": "stdout",
          "text": [
            "Epoch 1/20\n",
            "176/176 [==============================] - 2s 10ms/step - loss: 1.8430 - accuracy: 0.3684 - val_loss: 1.5238 - val_accuracy: 0.4706\n",
            "Epoch 2/20\n",
            "176/176 [==============================] - 1s 8ms/step - loss: 1.4776 - accuracy: 0.4893 - val_loss: 1.3676 - val_accuracy: 0.5268\n",
            "Epoch 3/20\n",
            "176/176 [==============================] - 2s 9ms/step - loss: 1.3515 - accuracy: 0.5358 - val_loss: 1.2467 - val_accuracy: 0.5824\n",
            "Epoch 4/20\n",
            "176/176 [==============================] - 2s 9ms/step - loss: 1.2702 - accuracy: 0.5635 - val_loss: 1.1680 - val_accuracy: 0.6176\n",
            "Epoch 5/20\n",
            "176/176 [==============================] - 2s 9ms/step - loss: 1.2026 - accuracy: 0.5888 - val_loss: 1.1209 - val_accuracy: 0.6202\n",
            "Epoch 6/20\n",
            "176/176 [==============================] - 1s 8ms/step - loss: 1.1564 - accuracy: 0.6064 - val_loss: 1.0981 - val_accuracy: 0.6308\n",
            "Epoch 7/20\n",
            "176/176 [==============================] - 1s 8ms/step - loss: 1.1084 - accuracy: 0.6213 - val_loss: 1.0434 - val_accuracy: 0.6530\n",
            "Epoch 8/20\n",
            "176/176 [==============================] - 1s 8ms/step - loss: 1.0620 - accuracy: 0.6384 - val_loss: 1.0231 - val_accuracy: 0.6570\n",
            "Epoch 9/20\n",
            "176/176 [==============================] - 1s 8ms/step - loss: 1.0264 - accuracy: 0.6512 - val_loss: 0.9545 - val_accuracy: 0.6882\n",
            "Epoch 10/20\n",
            "176/176 [==============================] - 2s 9ms/step - loss: 0.9983 - accuracy: 0.6637 - val_loss: 0.9262 - val_accuracy: 0.6988\n",
            "Epoch 11/20\n",
            "176/176 [==============================] - 1s 8ms/step - loss: 0.9724 - accuracy: 0.6708 - val_loss: 0.9278 - val_accuracy: 0.6948\n",
            "Epoch 12/20\n",
            "176/176 [==============================] - 2s 9ms/step - loss: 0.9446 - accuracy: 0.6822 - val_loss: 0.8716 - val_accuracy: 0.7174\n",
            "Epoch 13/20\n",
            "176/176 [==============================] - 2s 9ms/step - loss: 0.9284 - accuracy: 0.6886 - val_loss: 0.8742 - val_accuracy: 0.7138\n",
            "Epoch 14/20\n",
            "176/176 [==============================] - 2s 12ms/step - loss: 0.8935 - accuracy: 0.6991 - val_loss: 0.8589 - val_accuracy: 0.7198\n",
            "Epoch 15/20\n",
            "176/176 [==============================] - 2s 10ms/step - loss: 0.8831 - accuracy: 0.7024 - val_loss: 0.8477 - val_accuracy: 0.7238\n",
            "Epoch 16/20\n",
            "176/176 [==============================] - 1s 8ms/step - loss: 0.8601 - accuracy: 0.7090 - val_loss: 0.8171 - val_accuracy: 0.7288\n",
            "Epoch 17/20\n",
            "176/176 [==============================] - 1s 8ms/step - loss: 0.8401 - accuracy: 0.7146 - val_loss: 0.8076 - val_accuracy: 0.7374\n",
            "Epoch 18/20\n",
            "176/176 [==============================] - 2s 9ms/step - loss: 0.8290 - accuracy: 0.7206 - val_loss: 0.7958 - val_accuracy: 0.7382\n",
            "Epoch 19/20\n",
            "176/176 [==============================] - 1s 8ms/step - loss: 0.8121 - accuracy: 0.7273 - val_loss: 0.7754 - val_accuracy: 0.7512\n",
            "Epoch 20/20\n",
            "176/176 [==============================] - 2s 9ms/step - loss: 0.7981 - accuracy: 0.7318 - val_loss: 0.7777 - val_accuracy: 0.7462\n"
          ]
        },
        {
          "output_type": "execute_result",
          "data": {
            "text/plain": [
              "<keras.callbacks.History at 0x7fce317d4110>"
            ]
          },
          "metadata": {},
          "execution_count": 81
        }
      ]
    },
    {
      "cell_type": "code",
      "source": [
        "scores = model_3.evaluate(X_test, Y_test)"
      ],
      "metadata": {
        "colab": {
          "base_uri": "https://localhost:8080/"
        },
        "id": "mttxKprS4qBw",
        "outputId": "e7ce7ea4-db73-48ae-8fc6-64bcb7d17175"
      },
      "execution_count": 82,
      "outputs": [
        {
          "output_type": "stream",
          "name": "stdout",
          "text": [
            "313/313 [==============================] - 1s 3ms/step - loss: 0.8131 - accuracy: 0.7311\n"
          ]
        }
      ]
    },
    {
      "cell_type": "code",
      "source": [
        "print(scores[1])"
      ],
      "metadata": {
        "colab": {
          "base_uri": "https://localhost:8080/"
        },
        "id": "sSJzPQPG46Hx",
        "outputId": "788c2f4b-0a3f-444f-b63c-6fa2afe79254"
      },
      "execution_count": 83,
      "outputs": [
        {
          "output_type": "stream",
          "name": "stdout",
          "text": [
            "0.7311000227928162\n"
          ]
        }
      ]
    },
    {
      "cell_type": "markdown",
      "source": [
        "###Wynik zmienił się z ~0.69 na ~0.73"
      ],
      "metadata": {
        "id": "FdPwjBRrC_N3"
      }
    },
    {
      "cell_type": "markdown",
      "source": [
        "###Tym razem użyłam regularyzacji wag normą L2 do warstwy gęstej tj. do warstwy \"karę\", aby ich wartości były mniejsze.\n",
        "\n",
        "### Użyłam 3 Convolutional layers (w tym z filtrem = 64), po których następują warstwy MaxPooling. Warstwa dropout jest tym razem dodana po 3. operacji maxpool, aby uniknąć nadmiernego dopasowania.\n"
      ],
      "metadata": {
        "id": "6E55bX7eVIpC"
      }
    }
  ]
}